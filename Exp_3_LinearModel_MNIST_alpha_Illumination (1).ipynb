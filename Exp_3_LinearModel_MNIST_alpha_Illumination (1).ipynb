{
  "nbformat": 4,
  "nbformat_minor": 0,
  "metadata": {
    "colab": {
      "name": "Exp#3_LinearModel_MNIST_alpha_Illumination.ipynb",
      "provenance": [],
      "collapsed_sections": []
    },
    "kernelspec": {
      "name": "python3",
      "display_name": "Python 3"
    },
    "accelerator": "GPU"
  },
  "cells": [
    {
      "cell_type": "code",
      "metadata": {
        "id": "wv6f1pjrYHm8",
        "colab_type": "code",
        "colab": {}
      },
      "source": [
        "# Let MNIST(alpha) be MNIST with Gaussian noise of SD alpha added to the pixels.\n",
        "# Group any five classes to be the positive class and the rest to be the negative class.\n",
        "# Add a 3x3 patch on the left/right based on whether the image is positive or negative. Let's call these modified datasets as MNIST_bin_patch(alpha).\n",
        "# Also define the patchless versions of these datasets as MNIST_bin(alpha).\n",
        "# Train a linear model on these datasets for an appropriate range of alpha values. Only select architectures that have good training and testing performance on the \n",
        "# patchless version of the dataset (this is to rule out really bad architectures and really bad datasets).\n",
        "\n",
        "# Test all these models (trained on the patched version of the data) on the test set of MNIST_bin_patch(alpha), MNIST_bin(alpha), i.e. the model is tested on the data \n",
        "# with which it is trained, and also the patchless version. Choose the model/dataset for which the difference between the two is greatest. \n",
        "# (The accuracy on the patched data is much higher than the accuracy on the data without patches). \n",
        "# Now the goal is to train a model with the same architecture of the chosen model that does well on both the patched data and the patchless data. \n",
        "\n",
        "\n",
        "\n",
        "# Model learns beter when trained on the dat awith partches than eithout patches!\n",
        "# In case of training on no patches, \n",
        "# for 1 classifier, loss starts with \n",
        "# for 2 classifiers with lambda = 0, loss starts from 612...Training and test loss (on patchless data) is around 89%\n",
        "# for 2 classifiers with lambda = 1, loss starts from 636...Training and test loss (on patchless data) is around 89%\n",
        "\n",
        "# In case of training with patches (28*4)\n",
        "# for 2 classifier, with lambda = 1, loss starts from 10.7...training accuracy is 100%, test acc on path data is 100 and that on patchless is around 80%\n",
        "\n",
        "# In case of training with patches (3*3)\n",
        "#######################\n",
        "# For 2 classifiers with 0 lambda, model clearly learns patches as apparent from the weight vector images\n",
        "\n",
        "#######################\n",
        "# for 2 classifier, with lambda = 1, loss starts from 10.7...training accuracy is 100%, test acc on path data is 100 and that on patchless is around 80%\n",
        "\n",
        "# The test accuracy on patchless data is highest when trained on patch less data (89% for both test and train).\n",
        "# As the size of patch grows, train accuracy grows to 100%, while test accuracy on patchless data reduces. Test accuracy on data with patches is 100%.\n",
        "# So as the patch size grows, the model begins to primrily learn the left-right patch rather than odd-even\n",
        "# Even the newly added dot product loss doesn't seem to make the 2 classifiers learn different tasks\n",
        "\n",
        "# Even the fancy dot product loss seems to learn both the tasks for both models\n",
        "# It tries to make the vectors orthogonal in the parts except the patches\n",
        "\n",
        "\n",
        "# data type matters because conversion to float and again to int gives the same results as no conversion..."
      ],
      "execution_count": 0,
      "outputs": []
    },
    {
      "cell_type": "code",
      "metadata": {
        "id": "xmt58uKbbmtD",
        "colab_type": "code",
        "colab": {}
      },
      "source": [
        "# For improving the model expeiments, alpha = 150. Test accuracy on patchless data falls from 82% to 63% for a 3*3 patch"
      ],
      "execution_count": 0,
      "outputs": []
    },
    {
      "cell_type": "code",
      "metadata": {
        "id": "W_xa5d_95ea2",
        "colab_type": "code",
        "colab": {}
      },
      "source": [
        "# Training 16 models\n",
        "# The train and test acc. is 98%. The visualization of weight vectors reveals that the left and right patches are not as prominent as they used to be for 2 models\n",
        "\n",
        "# Training 10 models\n",
        "# The train and test acc. is 98%. The visualization of weight vectors reveals that the left and right patches are not as prominent as they used to be for 2 models\n",
        "# With fancy inner product, train and test on patches has 99% accuracy; max patchless acc. among all models is 62%\n",
        "\n",
        "### Training multiple models (on patched version) by forcing orthogonality has lesser accuracy (on patchless version) as compared to training a single model \n",
        "# sigma = 0.01, 1 (not good) with lambda = 50 and 20 epochs around 60% acc\n",
        "# sigma = 1, lambda = 50 and 25 epochs "
      ],
      "execution_count": 0,
      "outputs": []
    },
    {
      "cell_type": "code",
      "metadata": {
        "id": "DT38WGdcao27",
        "colab_type": "code",
        "colab": {}
      },
      "source": [
        "alpha = 100 # taking 150 because visually makes more sense for human eye\n",
        "\n",
        "import numpy as np\n",
        "import matplotlib.pyplot as plt\n",
        "import torch\n",
        "import torchvision\n",
        "import torchvision.transforms as transforms"
      ],
      "execution_count": 0,
      "outputs": []
    },
    {
      "cell_type": "code",
      "metadata": {
        "id": "pOpkqh9oat1v",
        "colab_type": "code",
        "colab": {}
      },
      "source": [
        "\n",
        "transform = transforms.Compose([transforms.ToTensor(), transforms.Normalize((0.5, ), (0.5, ))])\n",
        "\n",
        "trainset = torchvision.datasets.MNIST(root = './data', train = True, download = True, transform = transform)\n",
        "\n",
        "testset = torchvision.datasets.MNIST(root = './data', train = False, download = True, transform = transform)\n",
        "\n",
        "trainset_forpatch = torchvision.datasets.MNIST(root = './data', train = True, download = True, transform = transform)\n",
        "\n",
        "testset_forpatch = torchvision.datasets.MNIST(root = './data', train = False, download = True, transform = transform)"
      ],
      "execution_count": 0,
      "outputs": []
    },
    {
      "cell_type": "code",
      "metadata": {
        "id": "2NRzqeQH7tPP",
        "colab_type": "code",
        "colab": {}
      },
      "source": [
        "# Odd (1) v even (0) labels\n",
        "trainset.targets[np.where(trainset.targets %2 != 0)[0].tolist()] = 1\n",
        "trainset.targets[np.where(trainset.targets %2 == 0)[0].tolist()] = 0\n",
        "\n",
        "testset.targets[np.where(testset.targets %2 != 0)[0].tolist()] = 1\n",
        "testset.targets[np.where(testset.targets %2 == 0)[0].tolist()] = 0\n",
        "\n",
        "trainset_forpatch.targets[np.where(trainset_forpatch.targets %2 != 0)[0].tolist()] = 1\n",
        "trainset_forpatch.targets[np.where(trainset_forpatch.targets %2 == 0)[0].tolist()] = 0\n",
        "\n",
        "testset_forpatch.targets[np.where(testset_forpatch.targets %2 != 0)[0].tolist()] = 1\n",
        "testset_forpatch.targets[np.where(testset_forpatch.targets %2 == 0)[0].tolist()] = 0"
      ],
      "execution_count": 0,
      "outputs": []
    },
    {
      "cell_type": "code",
      "metadata": {
        "id": "STF8bVQuKjI7",
        "colab_type": "code",
        "colab": {}
      },
      "source": [
        "# Converting the data type to float in order to be able to add Gaussian noise\n",
        "trainset.data = trainset.data.type(torch.float64)\n",
        "testset.data = testset.data.type(torch.float64)\n",
        "trainset_forpatch.data = trainset_forpatch.data.type(torch.float64)\n",
        "testset_forpatch.data = testset_forpatch.data.type(torch.float64)"
      ],
      "execution_count": 0,
      "outputs": []
    },
    {
      "cell_type": "code",
      "metadata": {
        "id": "7rkXDiSha1CQ",
        "colab_type": "code",
        "colab": {}
      },
      "source": [
        "# Generating MNIST_bin(alpha)\n",
        "def GaussianNoise_alpha(trainset1, testset1, alpha):\n",
        "  for im in range(len(trainset1)):\n",
        "#     trainset1.data[im] = torch.tensor(trainset1.data[im], dtype = torch.float64) + torch.tensor(np.random.normal(scale = alpha, size = (28, 28)), dtype = torch.float64)\n",
        "    trainset1.data[im] = trainset1.data[im] + torch.tensor(np.random.normal(scale = alpha, size = (28, 28)), dtype = torch.float64)\n",
        "    trainset1.data[im] = np.clip(trainset1.data[im], 0, 255)\n",
        "  for jm in range(len(testset1)):\n",
        "#     testset1.data[jm] = torch.tensor(testset1.data[jm], dtype = torch.float64) + torch.tensor(np.random.normal(scale = alpha, size = (28, 28)), dtype = torch.float64)\n",
        "    testset1.data[jm] = testset1.data[jm] + torch.tensor(np.random.normal(scale = alpha, size = (28, 28)), dtype = torch.float64)\n",
        "    testset1.data[jm] = np.clip(testset1.data[jm], 0, 255)\n",
        "  return trainset1, testset1\n",
        "\n",
        "# Generating MNIST_bin_patch(alpha)\n",
        "def GaussianNoise_alpha_patch(trainset1, testset1): # Feed in the data with gaussian noise already added\n",
        "# Left patch for   \n",
        "  for im in range(len(trainset1)):\n",
        "    if trainset1.targets[im] == 0:\n",
        "      for p1 in range(3):\n",
        "        for p2 in range(3):\n",
        "          trainset1.data[im][p1, p2] = 255\n",
        "    else:\n",
        "      for p1 in range(3):\n",
        "        for p2 in range(25, 28):\n",
        "          trainset1.data[im][p1, p2] = 255\n",
        "\n",
        "  for im in range(len(testset1)):\n",
        "    if testset1.targets[im] == 0:\n",
        "      for p1 in range(3):\n",
        "        for p2 in range(3):\n",
        "          testset1.data[im][p1, p2] = 255\n",
        "    else:\n",
        "      for p1 in range(3):\n",
        "        for p2 in range(25, 28):\n",
        "          testset1.data[im][p1, p2] = 255\n",
        "          \n",
        "  return trainset1, testset1 \n",
        "\n",
        "# Increase the illumination level for label = 0\n",
        "def ChangeIllumination(trainset1, testset1):\n",
        "  for im in range(len(trainset1)):\n",
        "    if trainset1.targets[im] == 0:\n",
        "      xx = np.clip(trainset1.data[im] + 150 * torch.ones((28, 28)), 0, 254)\n",
        "      trainset1.data[im] = xx\n",
        "  for im in range(len(testset1)):\n",
        "    if testset1.targets[im] == 0:\n",
        "      xx = np.clip(testset1.data[im] + 150 * torch.ones((28, 28)), 0, 254)\n",
        "      testset1.data[im]  = xx\n",
        "  return trainset1, testset1"
      ],
      "execution_count": 0,
      "outputs": []
    },
    {
      "cell_type": "code",
      "metadata": {
        "id": "zQVUKDAQ4aSL",
        "colab_type": "code",
        "colab": {}
      },
      "source": [
        "# Creating the bin data\n",
        "train_bin, test_bin = GaussianNoise_alpha(trainset, testset, alpha)\n",
        "\n",
        "# # Creating the bin data with patches\n",
        "train_inter, test_inter = GaussianNoise_alpha(trainset_forpatch, testset_forpatch, alpha)\n",
        "train_bin_patch, test_bin_patch = ChangeIllumination(train_inter, test_inter)"
      ],
      "execution_count": 0,
      "outputs": []
    },
    {
      "cell_type": "code",
      "metadata": {
        "id": "dfGja5ChUVv6",
        "colab_type": "code",
        "colab": {}
      },
      "source": [
        "im4 = train_bin_patch.data[1]"
      ],
      "execution_count": 0,
      "outputs": []
    },
    {
      "cell_type": "code",
      "metadata": {
        "id": "Ls73doFxR15H",
        "colab_type": "code",
        "colab": {}
      },
      "source": [
        "# im3 = train_bin_patch.data[1]"
      ],
      "execution_count": 0,
      "outputs": []
    },
    {
      "cell_type": "code",
      "metadata": {
        "id": "qmZ63k4PTu5d",
        "colab_type": "code",
        "colab": {}
      },
      "source": [
        "# im1 = train_bin_patch.data[1]\n",
        "im2 = train_bin.data[1]"
      ],
      "execution_count": 0,
      "outputs": []
    },
    {
      "cell_type": "code",
      "metadata": {
        "id": "JQKXKsK-TwOL",
        "colab_type": "code",
        "outputId": "d8b5f9ee-06da-4c47-b6f7-6027784f6b22",
        "colab": {
          "base_uri": "https://localhost:8080/",
          "height": 269
        }
      },
      "source": [
        "plt.imshow(im2, cmap='gray', vmin=0, vmax=255)\n",
        "plt.xticks([])\n",
        "plt.yticks([])"
      ],
      "execution_count": 0,
      "outputs": [
        {
          "output_type": "execute_result",
          "data": {
            "text/plain": [
              "([], <a list of 0 Text yticklabel objects>)"
            ]
          },
          "metadata": {
            "tags": []
          },
          "execution_count": 38
        },
        {
          "output_type": "display_data",
          "data": {
            "image/png": "[encoded data removed]",
            "text/plain": [
              "<Figure size 432x288 with 1 Axes>"
            ]
          },
          "metadata": {
            "tags": []
          }
        }
      ]
    },
    {
      "cell_type": "code",
      "metadata": {
        "id": "DnnmXNmHVTl1",
        "colab_type": "code",
        "outputId": "a2c66050-980f-45c3-9e47-5685a55e82a7",
        "colab": {
          "base_uri": "https://localhost:8080/",
          "height": 249
        }
      },
      "source": [
        "plt.figure(figsize = (15,10))\n",
        "\n",
        "plt.subplot(141)\n",
        "plt.imshow(im2, cmap='gray', vmin=0, vmax=255)\n",
        "plt.title('I = 0')\n",
        "plt.xticks([])\n",
        "plt.yticks([])\n",
        "\n",
        "plt.subplot(142)\n",
        "plt.imshow(im4, cmap='gray', vmin=0, vmax=255)\n",
        "plt.title('I = 50')\n",
        "plt.xticks([])\n",
        "plt.yticks([])\n",
        "\n",
        "plt.subplot(143)\n",
        "plt.imshow(im3, cmap='gray', vmin=0, vmax=255)\n",
        "plt.title('I = 100')\n",
        "plt.xticks([])\n",
        "plt.yticks([])\n",
        "\n",
        "plt.subplot(144)\n",
        "plt.imshow(im1, cmap='gray', vmin=0, vmax=255)\n",
        "plt.title('I = 150')\n",
        "plt.xticks([])\n",
        "plt.yticks([])\n"
      ],
      "execution_count": 0,
      "outputs": [
        {
          "output_type": "execute_result",
          "data": {
            "text/plain": [
              "([], <a list of 0 Text yticklabel objects>)"
            ]
          },
          "metadata": {
            "tags": []
          },
          "execution_count": 39
        },
        {
          "output_type": "display_data",
          "data": {
            "image/png": "[encoded data removed]",
            "text/plain": [
              "<Figure size 1080x720 with 4 Axes>"
            ]
          },
          "metadata": {
            "tags": []
          }
        }
      ]
    },
    {
      "cell_type": "code",
      "metadata": {
        "id": "8XOkrJ83c1Zf",
        "colab_type": "code",
        "colab": {}
      },
      "source": [
        "# Converting the data type back to unit8...\n",
        "train_bin.data = train_bin.data.type(torch.uint8)\n",
        "test_bin.data = test_bin.data.type(torch.uint8)\n",
        "train_bin_patch.data = train_bin_patch.data.type(torch.uint8)\n",
        "test_bin_patch.data = test_bin_patch.data.type(torch.uint8)"
      ],
      "execution_count": 0,
      "outputs": []
    },
    {
      "cell_type": "code",
      "metadata": {
        "id": "o03ncuhl_xdr",
        "colab_type": "code",
        "outputId": "d571540c-cc10-4074-f158-7425dd061918",
        "colab": {
          "base_uri": "https://localhost:8080/",
          "height": 957
        }
      },
      "source": [
        "# Plot random train and test images\n",
        "# Training images\n",
        "fig, axes = plt.subplots(2, 3, figsize=(9, 4),\n",
        "                         subplot_kw={'xticks':[], 'yticks':[]},\n",
        "                         gridspec_kw=dict(hspace=0.1, wspace=0.1))\n",
        "for i, ax in zip([1, 115, 460, 212, 130, 10020], axes.flat):\n",
        "    ax.imshow(train_bin.data[i], cmap='gray', vmin=0, vmax=255)\n",
        "#Test images without patch \n",
        "fig, axes = plt.subplots(2, 3, figsize=(9, 4),\n",
        "                         subplot_kw={'xticks':[], 'yticks':[]},\n",
        "                         gridspec_kw=dict(hspace=0.1, wspace=0.1))\n",
        "for i, ax in zip([201, 115, 1500, 212, 130, 122], axes.flat):\n",
        "    ax.imshow(test_bin.data[i], cmap='gray', vmin=0, vmax=255)\n",
        "    \n",
        "# Training images\n",
        "fig, axes = plt.subplots(2, 3, figsize=(9, 4),\n",
        "                         subplot_kw={'xticks':[], 'yticks':[]},\n",
        "                         gridspec_kw=dict(hspace=0.1, wspace=0.1))\n",
        "for i, ax in zip([1, 115, 460, 212, 130, 10020], axes.flat):\n",
        "    ax.imshow(train_bin_patch.data[i], cmap='gray', vmin=0, vmax=255)\n",
        "\n",
        "# Test images without patch \n",
        "fig, axes = plt.subplots(2, 3, figsize=(9, 4),\n",
        "                         subplot_kw={'xticks':[], 'yticks':[]},\n",
        "                         gridspec_kw=dict(hspace=0.1, wspace=0.1))\n",
        "for i, ax in zip([201, 115, 1500, 212, 130, 122], axes.flat):\n",
        "    ax.imshow(test_bin_patch.data[i], cmap='gray', vmin=0, vmax=255)      "
      ],
      "execution_count": 0,
      "outputs": [
        {
          "output_type": "display_data",
          "data": {
            "image/png": "[encoded data removed]",
            "text/plain": [
              "<Figure size 648x288 with 6 Axes>"
            ]
          },
          "metadata": {
            "tags": []
          }
        },
        {
          "output_type": "display_data",
          "data": {
            "image/png": "[encoded data removed]",
            "text/plain": [
              "<Figure size 648x288 with 6 Axes>"
            ]
          },
          "metadata": {
            "tags": []
          }
        },
        {
          "output_type": "display_data",
          "data": {
            "image/png": "[encoded data removed]",
            "text/plain": [
              "<Figure size 648x288 with 6 Axes>"
            ]
          },
          "metadata": {
            "tags": []
          }
        },
        {
          "output_type": "display_data",
          "data": {
            "image/png": "[encoded data removed]",
            "text/plain": [
              "<Figure size 648x288 with 6 Axes>"
            ]
          },
          "metadata": {
            "tags": []
          }
        }
      ]
    },
    {
      "cell_type": "code",
      "metadata": {
        "id": "gn1k8YzbZEAc",
        "colab_type": "code",
        "colab": {}
      },
      "source": [
        "# Assign data to data loader\n",
        "trainloader = torch.utils.data.DataLoader(train_bin, batch_size = 64, shuffle = True, num_workers = 2)\n",
        "\n",
        "testloader = torch.utils.data.DataLoader(test_bin, batch_size = 64, shuffle = False, num_workers = 2)\n",
        "\n",
        "trainloader_patch = torch.utils.data.DataLoader(train_bin_patch, batch_size = 64, shuffle = True, num_workers = 2)\n",
        "\n",
        "testloader_patch = torch.utils.data.DataLoader(test_bin_patch, batch_size = 64, shuffle = False, num_workers = 2)"
      ],
      "execution_count": 0,
      "outputs": []
    },
    {
      "cell_type": "code",
      "metadata": {
        "id": "BJG4lXVNZYrt",
        "colab_type": "code",
        "colab": {}
      },
      "source": [
        "import torch.nn as nn\n",
        "import torch.nn.functional as F\n",
        "\n",
        "class linear_model(nn.Module):\n",
        "  def __init__(self):\n",
        "    super(linear_model, self).__init__()\n",
        "    self.fc1 = nn.Linear(28*28, 1)\n",
        "    nn.init.xavier_normal_(self.fc1.weight)\n",
        "    # self.fc2 = nn.Linear(28*28, 1)\n",
        "    # nn.init.xavier_normal_(self.fc2.weight)\n",
        "    # self.fc3 = nn.Linear(28*28, 1)\n",
        "    # nn.init.xavier_normal_(self.fc3.weight)\n",
        "    # self.fc4 = nn.Linear(28*28, 1)\n",
        "    # nn.init.xavier_normal_(self.fc4.weight)\n",
        "    # self.fc5 = nn.Linear(28*28, 1)\n",
        "    # nn.init.xavier_normal_(self.fc5.weight)\n",
        "    # self.fc6 = nn.Linear(28*28, 1)\n",
        "    # nn.init.xavier_normal_(self.fc6.weight)\n",
        "    # self.fc7 = nn.Linear(28*28, 1)\n",
        "    # nn.init.xavier_normal_(self.fc7.weight)\n",
        "    # self.fc8 = nn.Linear(28*28, 1)\n",
        "    # nn.init.xavier_normal_(self.fc8.weight)\n",
        "    # self.fc9 = nn.Linear(28*28, 1)\n",
        "    # nn.init.xavier_normal_(self.fc9.weight)\n",
        "    # self.fc10 = nn.Linear(28*28, 1)\n",
        "    # nn.init.xavier_normal_(self.fc10.weight)\n",
        "\n",
        "  def forward(self, x):\n",
        "    x = x.view(-1, 28*28)\n",
        "    x1 = torch.sigmoid(self.fc1(x))  \n",
        "    # x2 = torch.sigmoid(self.fc2(x))  \n",
        "    # x3 = torch.sigmoid(self.fc3(x))  \n",
        "    # x4 = torch.sigmoid(self.fc4(x))  \n",
        "    # x5 = torch.sigmoid(self.fc5(x))  \n",
        "    # # x6 = torch.sigmoid(self.fc6(x))  \n",
        "    # x7 = torch.sigmoid(self.fc7(x))  \n",
        "    # x8 = torch.sigmoid(self.fc8(x))  \n",
        "    # x9 = torch.sigmoid(self.fc9(x))  \n",
        "    # x10 = torch.sigmoid(self.fc10(x))  \n",
        "    # x11 = torch.sigmoid(self.fc11(x))  \n",
        "    # x12 = torch.sigmoid(self.fc12(x))  \n",
        "    # x13 = torch.sigmoid(self.fc13(x))  \n",
        "    # x14 = torch.sigmoid(self.fc14(x))  \n",
        "    # x15 = torch.sigmoid(self.fc15(x))  \n",
        "    # x16 = torch.sigmoid(self.fc16(x))  \n",
        "    return x1#, x2, x3, x4, x5#, x6, x7, x8, x9, x10#, x11, x12, x13, x14, x15, x16\n",
        "  \n",
        "model = linear_model()  "
      ],
      "execution_count": 0,
      "outputs": []
    },
    {
      "cell_type": "code",
      "metadata": {
        "id": "nj382Gz0WzAy",
        "colab_type": "code",
        "colab": {}
      },
      "source": [
        "#Script for generating fancy inner product matrix:\n",
        "\n",
        "sigma = 10########HIGHER VALUES OF SIGMA SEEM TO PERFORM BETTER#############\n",
        "M = torch.zeros([28*28, 28*28])\n",
        "\n",
        "M_tensor = M.view(28,28,28,28)\n",
        "\n",
        "for i_1 in range(28):\n",
        "    for i_2 in range(28):\n",
        "        for j_1 in range(28):\n",
        "            for j_2 in range(28):\n",
        "                M_tensor[i_1,i_2,j_1,j_2] = np.exp( -((i_1 - j_1)**2 + (i_2 - j_2)**2) / (2 * (sigma)**2) )\n",
        "\n",
        "M = M_tensor.view([28*28,28*28])"
      ],
      "execution_count": 0,
      "outputs": []
    },
    {
      "cell_type": "code",
      "metadata": {
        "id": "V_earDziniOm",
        "colab_type": "code",
        "colab": {}
      },
      "source": [
        "# Define loss function and optimizer\n",
        "import torch.optim as optim\n",
        "\n",
        "loss_function = nn.BCELoss(reduction = 'mean') # sums all outputs and divides by total data points\n",
        "\n",
        "optimizer = optim.Adam(model.parameters(), lr = 0.001)\n",
        "\n",
        "class custom_loss(torch.nn.Module):\n",
        "\n",
        "  def __init__(self):\n",
        "    super(custom_loss,self).__init__()\n",
        "\n",
        "  def forward(self, mat1, mat2, M):\n",
        "  # Absolute dot product of weights\n",
        "#     l = (torch.mm(mat1, mat2.t()))**2\n",
        "\n",
        "  # Fancy dot product if weights\n",
        "    l = (torch.mm(mat1, torch.mm(M, mat2.t())))**2\n",
        "    return l\n",
        "\n",
        "sl = custom_loss()    "
      ],
      "execution_count": 0,
      "outputs": []
    },
    {
      "cell_type": "code",
      "metadata": {
        "id": "6MmENeAeEN9H",
        "colab_type": "code",
        "colab": {}
      },
      "source": [
        "models_forloss = [model.fc1.weight, model.fc2.weight, model.fc3.weight, model.fc4.weight , model.fc5.weight]#, model.fc6.weight, model.fc7.weight, model.fc8.weight, \n",
        "      #  model.fc9.weight, model.fc10.weight]#, model.fc11.weight, model.fc12.weight, model.fc13.weight, model.fc14.weight, model.fc15.weight, model.fc16.weight]"
      ],
      "execution_count": 0,
      "outputs": []
    },
    {
      "cell_type": "code",
      "metadata": {
        "id": "V0W8yDJAgejU",
        "colab_type": "code",
        "outputId": "1ff8c73d-557f-4e98-b354-ccd38858e873",
        "colab": {
          "base_uri": "https://localhost:8080/",
          "height": 34
        }
      },
      "source": [
        "# loss_function(output[3], targets.view(-1, 1).float())\n",
        "sl.forward(models_forloss[2], models_forloss[1], M)[0][0]"
      ],
      "execution_count": 0,
      "outputs": [
        {
          "output_type": "execute_result",
          "data": {
            "text/plain": [
              "tensor(4.9497e-09, grad_fn=<SelectBackward>)"
            ]
          },
          "metadata": {
            "tags": []
          },
          "execution_count": 71
        }
      ]
    },
    {
      "cell_type": "code",
      "metadata": {
        "id": "yaqmKDhSn1rI",
        "colab_type": "code",
        "outputId": "df6caf59-6116-4ef4-d1ae-d9ae7cf2365e",
        "colab": {
          "base_uri": "https://localhost:8080/",
          "height": 1000
        }
      },
      "source": [
        "n_epochs = 60\n",
        "lmbda = 1000\n",
        "\n",
        "for epochs in range(n_epochs):\n",
        " \n",
        "  running_loss = 0\n",
        "  \n",
        "  for batch in trainloader:\n",
        "    data, targets = batch\n",
        "    \n",
        "    optimizer.zero_grad()\n",
        "    \n",
        "    output = model(data)\n",
        "\n",
        "    loss = loss_function(output, targets.view(-1, 1).float())\n",
        "\n",
        "    # loss = loss_function(output[0], targets.view(-1, 1).float())\n",
        "    \n",
        "    # for mm in range(1, len(models_forloss)):\n",
        "      \n",
        "    #   loss += loss_function(output[mm], targets.view(-1, 1).float())\n",
        "    # # print(loss)\n",
        "    # for fr in range((len(models_forloss) - 1)):\n",
        "      \n",
        "    #   for sn in range(fr + 1, len(models_forloss)):  \n",
        "        \n",
        "    #     loss += lmbda * sl.forward(models_forloss[fr], models_forloss[sn], M)[0][0]\n",
        "    loss.backward()\n",
        "    \n",
        "    optimizer.step()\n",
        "    \n",
        "    running_loss += loss.item()\n",
        "  print(running_loss)\n",
        "  # print(loss_function(output[0], targets.view(-1, 1).float()))\n",
        "  # print(sl.forward(models_forloss[0], models_forloss[1], M)[0][0] )    "
      ],
      "execution_count": 0,
      "outputs": [
        {
          "output_type": "stream",
          "text": [
            "365.46456710994244\n",
            "314.81783160567284\n",
            "311.1409818083048\n",
            "309.91621945798397\n",
            "309.04742224514484\n",
            "309.81181229650974\n",
            "309.0592133104801\n",
            "308.6165432035923\n",
            "308.72217109799385\n",
            "309.79772402346134\n",
            "309.0522557348013\n",
            "309.229417309165\n",
            "308.7820145189762\n",
            "309.0567836612463\n",
            "309.18608170747757\n",
            "308.6941332966089\n",
            "308.3304335474968\n",
            "309.8244986087084\n",
            "309.7446233779192\n",
            "308.3209284991026\n",
            "309.21508108079433\n",
            "308.5853762701154\n",
            "308.99113358557224\n",
            "308.066758453846\n",
            "308.91557359695435\n",
            "308.9961238652468\n",
            "309.9274900108576\n",
            "309.04383270442486\n",
            "309.3398871421814\n",
            "309.0407230257988\n",
            "309.17350237071514\n",
            "308.2653436213732\n",
            "309.1025115698576\n",
            "309.0048794001341\n",
            "309.45008893311024\n",
            "309.40093195438385\n",
            "309.2350394129753\n",
            "309.4266444146633\n",
            "308.83129696547985\n",
            "309.6674055606127\n",
            "308.8788044601679\n",
            "309.3957112133503\n",
            "309.3197401612997\n",
            "308.9658405780792\n",
            "309.6361848860979\n",
            "308.9051834344864\n",
            "308.89103707671165\n",
            "309.3973585218191\n",
            "308.542931959033\n",
            "308.7161454707384\n",
            "308.87173438072205\n",
            "309.42997820675373\n",
            "308.403126090765\n",
            "309.6106044650078\n",
            "308.6784909069538\n",
            "308.95296232402325\n",
            "309.4077425673604\n",
            "309.55490432679653\n",
            "308.88060088455677\n",
            "309.0418901890516\n"
          ],
          "name": "stdout"
        }
      ]
    },
    {
      "cell_type": "code",
      "metadata": {
        "id": "DsnvUcmrEspg",
        "colab_type": "code",
        "outputId": "5c769749-8f47-4f66-bbfc-b2e957e1c321",
        "colab": {
          "base_uri": "https://localhost:8080/",
          "height": 184
        }
      },
      "source": [
        "np.sqrt(((torch.mm(model.fc1.weight, model.fc3.weight.t()))**2)[0][0].item()) / np.sqrt((np.sqrt(((torch.mm(model.fc1.weight, model.fc1.weight.t()))**2)[0][0].item()) * np.sqrt(((torch.mm(model.fc3.weight, model.fc3.weight.t()))**2)[0][0].item())))"
      ],
      "execution_count": 0,
      "outputs": [
        {
          "output_type": "error",
          "ename": "NameError",
          "evalue": "ignored",
          "traceback": [
            "\u001b[0;31m---------------------------------------------------------------------------\u001b[0m",
            "\u001b[0;31mNameError\u001b[0m                                 Traceback (most recent call last)",
            "\u001b[0;32m<ipython-input-2-5e14dad54932>\u001b[0m in \u001b[0;36m<module>\u001b[0;34m()\u001b[0m\n\u001b[0;32m----> 1\u001b[0;31m \u001b[0mnp\u001b[0m\u001b[0;34m.\u001b[0m\u001b[0msqrt\u001b[0m\u001b[0;34m(\u001b[0m\u001b[0;34m(\u001b[0m\u001b[0;34m(\u001b[0m\u001b[0mtorch\u001b[0m\u001b[0;34m.\u001b[0m\u001b[0mmm\u001b[0m\u001b[0;34m(\u001b[0m\u001b[0mmodel\u001b[0m\u001b[0;34m.\u001b[0m\u001b[0mfc1\u001b[0m\u001b[0;34m.\u001b[0m\u001b[0mweight\u001b[0m\u001b[0;34m,\u001b[0m \u001b[0mmodel\u001b[0m\u001b[0;34m.\u001b[0m\u001b[0mfc3\u001b[0m\u001b[0;34m.\u001b[0m\u001b[0mweight\u001b[0m\u001b[0;34m.\u001b[0m\u001b[0mt\u001b[0m\u001b[0;34m(\u001b[0m\u001b[0;34m)\u001b[0m\u001b[0;34m)\u001b[0m\u001b[0;34m)\u001b[0m\u001b[0;34m**\u001b[0m\u001b[0;36m2\u001b[0m\u001b[0;34m)\u001b[0m\u001b[0;34m[\u001b[0m\u001b[0;36m0\u001b[0m\u001b[0;34m]\u001b[0m\u001b[0;34m[\u001b[0m\u001b[0;36m0\u001b[0m\u001b[0;34m]\u001b[0m\u001b[0;34m.\u001b[0m\u001b[0mitem\u001b[0m\u001b[0;34m(\u001b[0m\u001b[0;34m)\u001b[0m\u001b[0;34m)\u001b[0m \u001b[0;34m/\u001b[0m \u001b[0mnp\u001b[0m\u001b[0;34m.\u001b[0m\u001b[0msqrt\u001b[0m\u001b[0;34m(\u001b[0m\u001b[0;34m(\u001b[0m\u001b[0mnp\u001b[0m\u001b[0;34m.\u001b[0m\u001b[0msqrt\u001b[0m\u001b[0;34m(\u001b[0m\u001b[0;34m(\u001b[0m\u001b[0;34m(\u001b[0m\u001b[0mtorch\u001b[0m\u001b[0;34m.\u001b[0m\u001b[0mmm\u001b[0m\u001b[0;34m(\u001b[0m\u001b[0mmodel\u001b[0m\u001b[0;34m.\u001b[0m\u001b[0mfc1\u001b[0m\u001b[0;34m.\u001b[0m\u001b[0mweight\u001b[0m\u001b[0;34m,\u001b[0m \u001b[0mmodel\u001b[0m\u001b[0;34m.\u001b[0m\u001b[0mfc1\u001b[0m\u001b[0;34m.\u001b[0m\u001b[0mweight\u001b[0m\u001b[0;34m.\u001b[0m\u001b[0mt\u001b[0m\u001b[0;34m(\u001b[0m\u001b[0;34m)\u001b[0m\u001b[0;34m)\u001b[0m\u001b[0;34m)\u001b[0m\u001b[0;34m**\u001b[0m\u001b[0;36m2\u001b[0m\u001b[0;34m)\u001b[0m\u001b[0;34m[\u001b[0m\u001b[0;36m0\u001b[0m\u001b[0;34m]\u001b[0m\u001b[0;34m[\u001b[0m\u001b[0;36m0\u001b[0m\u001b[0;34m]\u001b[0m\u001b[0;34m.\u001b[0m\u001b[0mitem\u001b[0m\u001b[0;34m(\u001b[0m\u001b[0;34m)\u001b[0m\u001b[0;34m)\u001b[0m \u001b[0;34m*\u001b[0m \u001b[0mnp\u001b[0m\u001b[0;34m.\u001b[0m\u001b[0msqrt\u001b[0m\u001b[0;34m(\u001b[0m\u001b[0;34m(\u001b[0m\u001b[0;34m(\u001b[0m\u001b[0mtorch\u001b[0m\u001b[0;34m.\u001b[0m\u001b[0mmm\u001b[0m\u001b[0;34m(\u001b[0m\u001b[0mmodel\u001b[0m\u001b[0;34m.\u001b[0m\u001b[0mfc3\u001b[0m\u001b[0;34m.\u001b[0m\u001b[0mweight\u001b[0m\u001b[0;34m,\u001b[0m \u001b[0mmodel\u001b[0m\u001b[0;34m.\u001b[0m\u001b[0mfc3\u001b[0m\u001b[0;34m.\u001b[0m\u001b[0mweight\u001b[0m\u001b[0;34m.\u001b[0m\u001b[0mt\u001b[0m\u001b[0;34m(\u001b[0m\u001b[0;34m)\u001b[0m\u001b[0;34m)\u001b[0m\u001b[0;34m)\u001b[0m\u001b[0;34m**\u001b[0m\u001b[0;36m2\u001b[0m\u001b[0;34m)\u001b[0m\u001b[0;34m[\u001b[0m\u001b[0;36m0\u001b[0m\u001b[0;34m]\u001b[0m\u001b[0;34m[\u001b...\n\u001b[0m",
            "\u001b[0;31mNameError\u001b[0m: name 'np' is not defined"
          ]
        }
      ]
    },
    {
      "cell_type": "code",
      "metadata": {
        "id": "YgKI8N-GYA9F",
        "colab_type": "code",
        "outputId": "461122ca-527c-44f2-b544-74a5bcba5f97",
        "colab": {
          "base_uri": "https://localhost:8080/",
          "height": 34
        }
      },
      "source": [
        "torch.mm(model.fc1.weight, model.fc2.weight.t())[0][0].detach().numpy() / (np.sqrt(torch.mm(model.fc2.weight, model.fc2.weight.t())[0][0].detach().numpy()) * np.sqrt(torch.mm(model.fc1.weight, model.fc1.weight.t())[0][0].detach().numpy()))"
      ],
      "execution_count": 0,
      "outputs": [
        {
          "output_type": "execute_result",
          "data": {
            "text/plain": [
              "0.32454315"
            ]
          },
          "metadata": {
            "tags": []
          },
          "execution_count": 112
        }
      ]
    },
    {
      "cell_type": "code",
      "metadata": {
        "id": "hunhJ7c4rgGS",
        "colab_type": "code",
        "outputId": "10f62065-6932-4c9e-8b14-a1c529e9d402",
        "colab": {
          "base_uri": "https://localhost:8080/",
          "height": 34
        }
      },
      "source": [
        "torch.mm(model.fc1.weight, model.fc2.weight.t())[0][0].detach().numpy()"
      ],
      "execution_count": 0,
      "outputs": [
        {
          "output_type": "execute_result",
          "data": {
            "text/plain": [
              "array(0.6173999, dtype=float32)"
            ]
          },
          "metadata": {
            "tags": []
          },
          "execution_count": 93
        }
      ]
    },
    {
      "cell_type": "code",
      "metadata": {
        "id": "ERTmNAwtzzNM",
        "colab_type": "code",
        "outputId": "592b27ff-10ec-4f6d-bb90-77ba3d845d88",
        "colab": {
          "base_uri": "https://localhost:8080/",
          "height": 34
        }
      },
      "source": [
        "# # Test performance on the entire test set\n",
        "# correct = 0\n",
        "# total = 0\n",
        "# with torch.no_grad():\n",
        "#   for data in testloader:\n",
        "#     images, labels = data\n",
        "#     outputs = model(images)\n",
        "# #     _, predicted = torch.max(outputs, 1)\n",
        "#     predicted = outputs > 0.5\n",
        "# #     predicted = predicted.view(predicted.size(0))\n",
        "#     total += labels.size(0)\n",
        "#     matches = 0\n",
        "#     for i in range(len(predicted)):\n",
        "#       if predicted[i].item() == labels[i].item():\n",
        "#         matches += 1\n",
        "#     correct += matches#(predicted == labels).sum().item()\n",
        "#   print('Accuracy of the network on the entire data set is : %d %%' %(100 * correct/ total))\n",
        "\n",
        "# Test performance on the entire test set\n",
        "correct = 0\n",
        "total = 0\n",
        "with torch.no_grad():\n",
        "  for data in testloader:\n",
        "    images, labels = data\n",
        "    outputs = model(images)\n",
        "#     _, predicted = torc.max(outputs, 1)\n",
        "    predicted = outputs > 0.5\n",
        "#     predicted = predicted.view(predicted.size(0))\n",
        "    total += labels.size(0)\n",
        "    matches = 0\n",
        "    for i in range(len(predicted)):\n",
        "      if predicted[i].item() == labels[i].item():\n",
        "        matches += 1\n",
        "    correct += matches#(predicted == labels).sum().item()\n",
        "  print('Accuracy of the network on the entire data set is : %d %%' %(100 * correct/ total))"
      ],
      "execution_count": 0,
      "outputs": [
        {
          "output_type": "stream",
          "text": [
            "Accuracy of the network on the entire data set is : 50 %\n"
          ],
          "name": "stdout"
        }
      ]
    },
    {
      "cell_type": "code",
      "metadata": {
        "id": "yWEnYZo7GlmX",
        "colab_type": "code",
        "outputId": "483f75f2-dde9-4dbd-ebea-fe4edb83532a",
        "colab": {
          "base_uri": "https://localhost:8080/",
          "height": 34
        }
      },
      "source": [
        "# Test performance on the entire test set\n",
        "correct = 0\n",
        "total = 0\n",
        "with torch.no_grad():\n",
        "  for data in trainloader_patch:\n",
        "    images, labels = data\n",
        "    outputs = model(images)\n",
        "#     _, predicted = torch.max(outputs, 1)\n",
        "    predicted = outputs > 0.5\n",
        "#     predicted = predicted.view(predicted.size(0))\n",
        "    total += labels.size(0)\n",
        "    matches = 0\n",
        "    for i in range(len(predicted)):\n",
        "      if predicted[i].item() == labels[i].item():\n",
        "        matches += 1\n",
        "    correct += matches#(predicted == labels).sum().item()\n",
        "  print('Accuracy of the network on the entire data set is : %d %%' %(100 * correct/ total))"
      ],
      "execution_count": 0,
      "outputs": [
        {
          "output_type": "stream",
          "text": [
            "Accuracy of the network on the entire data set is : 100 %\n"
          ],
          "name": "stdout"
        }
      ]
    },
    {
      "cell_type": "code",
      "metadata": {
        "id": "AoQpav39Gok3",
        "colab_type": "code",
        "outputId": "54ce5406-6731-460b-914c-5e117e0a00cb",
        "colab": {
          "base_uri": "https://localhost:8080/",
          "height": 232
        }
      },
      "source": [
        "# Test performance on the entire test set\n",
        "correct = 0\n",
        "total = 0\n",
        "with torch.no_grad():\n",
        "  for data in testloader:\n",
        "    images, labels = data\n",
        "    outputs = model(images)\n",
        "#     _, predicted = torch.max(outputs, 1)\n",
        "    predicted = outputs[] > 0.5\n",
        "#     predicted = predicted.view(predicted.size(0))\n",
        "    total += labels.size(0)\n",
        "    matches = 0\n",
        "    for i in range(len(predicted)):\n",
        "      if predicted[i].item() == labels[i].item():\n",
        "        matches += 1\n",
        "    correct += matches#(predicted == labels).sum().item()\n",
        "  print('Accuracy of the network on the entire data set is : %d %%' %(100 * correct/ total))"
      ],
      "execution_count": 0,
      "outputs": [
        {
          "output_type": "error",
          "ename": "TypeError",
          "evalue": "ignored",
          "traceback": [
            "\u001b[0;31m---------------------------------------------------------------------------\u001b[0m",
            "\u001b[0;31mTypeError\u001b[0m                                 Traceback (most recent call last)",
            "\u001b[0;32m<ipython-input-47-52332661dbd1>\u001b[0m in \u001b[0;36m<module>\u001b[0;34m()\u001b[0m\n\u001b[1;32m      6\u001b[0m     \u001b[0moutputs\u001b[0m \u001b[0;34m=\u001b[0m \u001b[0mmodel\u001b[0m\u001b[0;34m(\u001b[0m\u001b[0mimages\u001b[0m\u001b[0;34m)\u001b[0m\u001b[0;34m\u001b[0m\u001b[0;34m\u001b[0m\u001b[0m\n\u001b[1;32m      7\u001b[0m \u001b[0;31m#     _, predicted = torch.max(outputs, 1)\u001b[0m\u001b[0;34m\u001b[0m\u001b[0;34m\u001b[0m\u001b[0;34m\u001b[0m\u001b[0m\n\u001b[0;32m----> 8\u001b[0;31m     \u001b[0mpredicted\u001b[0m \u001b[0;34m=\u001b[0m \u001b[0moutputs\u001b[0m \u001b[0;34m>\u001b[0m \u001b[0;36m0.5\u001b[0m\u001b[0;34m\u001b[0m\u001b[0;34m\u001b[0m\u001b[0m\n\u001b[0m\u001b[1;32m      9\u001b[0m \u001b[0;31m#     predicted = predicted.view(predicted.size(0))\u001b[0m\u001b[0;34m\u001b[0m\u001b[0;34m\u001b[0m\u001b[0;34m\u001b[0m\u001b[0m\n\u001b[1;32m     10\u001b[0m     \u001b[0mtotal\u001b[0m \u001b[0;34m+=\u001b[0m \u001b[0mlabels\u001b[0m\u001b[0;34m.\u001b[0m\u001b[0msize\u001b[0m\u001b[0;34m(\u001b[0m\u001b[0;36m0\u001b[0m\u001b[0;34m)\u001b[0m\u001b[0;34m\u001b[0m\u001b[0;34m\u001b[0m\u001b[0m\n",
            "\u001b[0;31mTypeError\u001b[0m: '>' not supported between instances of 'tuple' and 'float'"
          ]
        }
      ]
    },
    {
      "cell_type": "code",
      "metadata": {
        "id": "rkY8xIiLXV6V",
        "colab_type": "code",
        "outputId": "9ea5f224-70d6-4b1f-e3b7-bdd46f3218ff",
        "colab": {
          "base_uri": "https://localhost:8080/",
          "height": 249
        }
      },
      "source": [
        "# from mpl_toolkits.axes_grid1 import make_axes_locatable, axes_size\n",
        "# divider = make_axes_locatable(ax)\n",
        "# cax = divider.append_axes(\"right\", size=\"5%\", pad=0.05)\n",
        "plt.figure(figsize = (15, 15))\n",
        "\n",
        "plt.subplot(141)\n",
        "W1 = model.fc1.weight.detach().numpy()\n",
        "W1_reshape = np.reshape(W1, (28, 28))\n",
        "plt.imshow(W1_reshape)\n",
        "plt.xticks([])\n",
        "plt.yticks([])\n",
        "plt.title('Weights of classifer 1')\n",
        "# plt.colorbar()\n",
        "\n",
        "# energy_patch1 = 0\n",
        "# energy_total1 = 0\n",
        "\n",
        "# for r in range(28):\n",
        "#   for c in range(28):\n",
        "#       energy_total1 += (W1_reshape[r, c])** 2\n",
        "#       if r < 3 and c in [0, 1, 2, 25, 26, 27]:\n",
        "#         energy_patch1 += (W1_reshape[r, c])**2\n",
        "\n",
        "# print('Total energy of weight 1 :', energy_total1)\n",
        "# print('Total energy of patches of weight 1 :', energy_patch1)\n",
        "# plt.figure(figsize = (20, 15))\n",
        "plt.subplot(142)\n",
        "W2 = model.fc2.weight.detach().numpy()\n",
        "W2_reshape = np.reshape(W2, (28, 28))\n",
        "plt.imshow(W2_reshape)\n",
        "plt.xticks([])\n",
        "plt.yticks([])\n",
        "plt.title('Weights of classifer 2')\n",
        "# plt.colorbar(cax =  cax)\n",
        "\n",
        "# energy_patch2 = 0\n",
        "# energy_total2 = 0\n",
        "\n",
        "# for r in range(28):\n",
        "#   for c in range(28):\n",
        "#       energy_total2 += (W2_reshape[r, c])** 2\n",
        "#       if r < 3 and c in [0, 1, 2, 25, 26, 27]:\n",
        "#         energy_patch2 += (W2_reshape[r, c])**2\n",
        "\n",
        "# print('Total energy of weight 2 :', energy_total2)\n",
        "# print('Total energy of patches of weight 2 :', energy_patch2)\n",
        "# plt.figure(figsize = (20, 15))\n",
        "plt.subplot(143)\n",
        "W3 = model.fc3.weight.detach().numpy()\n",
        "W3_reshape = np.reshape(W3, (28, 28))\n",
        "plt.imshow(W3_reshape)\n",
        "plt.xticks([])\n",
        "plt.yticks([])\n",
        "plt.title('Weights of classifer 3')\n",
        "\n",
        "# plt.colorbar(cax = cax)\n",
        "\n",
        "# energy_patch3 = 0\n",
        "# energy_total3 = 0\n",
        "\n",
        "# for r in range(28):\n",
        "#   for c in range(28):\n",
        "#       energy_total3 += (W3_reshape[r, c])** 2\n",
        "#       if r < 3 and c in [0, 1, 2, 25, 26, 27]:\n",
        "#         energy_patch3 += (W3_reshape[r, c])**2\n",
        "\n",
        "# print('Total energy of weight 3 :', energy_total3)\n",
        "# print('Total energy of patches of weight 3 :', energy_patch3)\n",
        "# plt.figure(figsize = (20, 15))\n",
        "plt.subplot(144)\n",
        "W4 = model.fc4.weight.detach().numpy()\n",
        "W4_reshape = np.reshape(W4, (28, 28))\n",
        "plt.imshow(W4_reshape)\n",
        "plt.xticks([])\n",
        "plt.yticks([])\n",
        "plt.title('Weights of classifer 4')\n",
        "\n",
        "# plt.colorbar(cax=cax)\n",
        "\n",
        "# energy_patch4 = 0\n",
        "# energy_total4 = 0\n",
        "\n",
        "# for r in range(28):\n",
        "#   for c in range(28):\n",
        "#       energy_total4 += (W4_reshape[r, c])** 2\n",
        "#       if r < 3 and c in [0, 1, 2, 25, 26, 27]:\n",
        "#         energy_patch4 += (W4_reshape[r, c])**2\n",
        "\n",
        "# print('Total energy of weight 4 :', energy_total4)\n",
        "# print('Total energy of patches of weight 4 :', energy_patch4)\n",
        "\n",
        "# W5 = model.fc5.weight.detach().numpy()\n",
        "# W5_reshape = np.reshape(W5, (28, 28))\n",
        "# plt.imshow(W5_reshape)\n",
        "# plt.colorbar()\n",
        "# plt.figure()\n",
        "\n",
        "# # energy_patch5 = 0\n",
        "# # energy_total5 = 0\n",
        "\n",
        "# # for r in range(28):\n",
        "# #   for c in range(28):\n",
        "# #       energy_total5 += (W5_reshape[r, c])** 2\n",
        "# #       if r < 3 and c in [0, 1, 2, 25, 26, 27]:\n",
        "# #         energy_patch5 += (W5_reshape[r, c])**2\n",
        "\n",
        "# # print('Total energy of weight 5 :', energy_total5)\n",
        "# # print('Total energy of patches of weight 5 :', energy_patch5)\n",
        "# W6 = model.fc6.weight.detach().numpy()\n",
        "# W6_reshape = np.reshape(W6, (28, 28))\n",
        "# plt.imshow(W6_reshape)\n",
        "# plt.colorbar()\n",
        "# plt.figure()\n",
        "# W7 = model.fc7.weight.detach().numpy()\n",
        "# W7_reshape = np.reshape(W7, (28, 28))\n",
        "# plt.imshow(W7_reshape)\n",
        "# plt.colorbar()\n",
        "# plt.figure()\n",
        "# W8 = model.fc8.weight.detach().numpy()\n",
        "# W8_reshape = np.reshape(W8, (28, 28))\n",
        "# plt.imshow(W8_reshape)\n",
        "# plt.colorbar()\n",
        "# plt.figure()\n",
        "# W9 = model.fc9.weight.detach().numpy()\n",
        "# W9_reshape = np.reshape(W9, (28, 28))\n",
        "# plt.imshow(W9_reshape)\n",
        "# plt.colorbar()\n",
        "# plt.figure()\n",
        "# W10 = model.fc10.weight.detach().numpy()\n",
        "# W10_reshape = np.reshape(W10, (28, 28))\n",
        "# plt.imshow(W10_reshape)\n",
        "# plt.colorbar()\n",
        "# plt.figure()\n"
      ],
      "execution_count": 0,
      "outputs": [
        {
          "output_type": "execute_result",
          "data": {
            "text/plain": [
              "Text(0.5, 1.0, 'Weights of classifer 4')"
            ]
          },
          "metadata": {
            "tags": []
          },
          "execution_count": 15
        },
        {
          "output_type": "display_data",
          "data": {
            "image/png": "[encoded data removed]",
            "text/plain": [
              "<Figure size 1080x1080 with 4 Axes>"
            ]
          },
          "metadata": {
            "tags": []
          }
        }
      ]
    },
    {
      "cell_type": "code",
      "metadata": {
        "id": "mI0pmOjKqwUu",
        "colab_type": "code",
        "outputId": "700540ca-91f8-4344-a0da-4954ba63c1da",
        "colab": {
          "base_uri": "https://localhost:8080/",
          "height": 34
        }
      },
      "source": [
        "sl.forward(models_forloss[1], models_forloss[2], M)[0][0]"
      ],
      "execution_count": 0,
      "outputs": [
        {
          "output_type": "execute_result",
          "data": {
            "text/plain": [
              "tensor(1.4015e-11, grad_fn=<SelectBackward>)"
            ]
          },
          "metadata": {
            "tags": []
          },
          "execution_count": 39
        }
      ]
    },
    {
      "cell_type": "code",
      "metadata": {
        "id": "-eQ47kkgHe3s",
        "colab_type": "code",
        "colab": {}
      },
      "source": [
        "Tabluate the train and test accuracy on the un-patched data for different values of SD (alpha)\n",
        "# train_accuracy = [0.89, 0.86, 0.82, 0.81, 0.69]\n",
        "# test_accuracy = [0.89, 0.85,0.82, 0.80, 0.67]\n",
        "# alphas_ = [1, 100, 150, 200, 500]"
      ],
      "execution_count": 0,
      "outputs": []
    },
    {
      "cell_type": "code",
      "metadata": {
        "id": "zbXm8LwvJ7nP",
        "colab_type": "code",
        "colab": {}
      },
      "source": [
        "# # Choose value of alpha as 2 for further analysis\n",
        "\n",
        "# ### Training on patches (4*4 patch)\n",
        "# train_acc_patch = [1, 1 ,1]\n",
        "# test_acc_patch = [1,1 ,1]\n",
        "# test_acc_patchless = [0.77, 0.68, 0.64]\n",
        "\n",
        "# ### Training on patches (3*3 patch)\n",
        "# train_acc_patch = [1, 1, 1]\n",
        "# test_acc_patch = [1, 1, 1]\n",
        "# test_acc_patchless = [0.75, 0.66, 0.62]"
      ],
      "execution_count": 0,
      "outputs": []
    },
    {
      "cell_type": "code",
      "metadata": {
        "id": "SJ9Rv5xz0BG8",
        "colab_type": "code",
        "colab": {}
      },
      "source": [
        "# for sigma = 0.01, lmbda = 500, accuracy is 67% in 10 epochs"
      ],
      "execution_count": 0,
      "outputs": []
    },
    {
      "cell_type": "code",
      "metadata": {
        "id": "MDI_Tj4OA6aF",
        "colab_type": "code",
        "colab": {}
      },
      "source": [
        "###############GOOD COMINATIONS#################\n",
        "# sigma = 10, lambda - 50, epochs = 15\n",
        "# sigma = 50, lambda - 50, epochs = 20 test acc patchless ~ 0.75, 0.76 is highest\n",
        "####Accuracy seems improve when training more than 2 models?\n",
        "# For 2 models and sigma = 100, lambda = 50 and 25 epochs - 0.79 acc\n",
        "# For 2 models and sigma = 100, lambda = 100 and 25 epochs - .74  acc\n",
        "# For 2 models and sigma = 100, lambda = 10, 25 and 25 epochs - .71  acc\n",
        "\n",
        "#####IMPORTANT OBSERVATIONS#############\n",
        "# Higher values of sigma (say 100) perform better than lower ones (say 0.1)\n",
        "\n",
        "########Tasks#############################\n",
        "# Establish variation of performance with sigma,  lambda and number of classifiers\n",
        "# Performance decreases with increase in sigma?\n"
      ],
      "execution_count": 0,
      "outputs": []
    },
    {
      "cell_type": "code",
      "metadata": {
        "id": "LtTv81A6jI06",
        "colab_type": "code",
        "colab": {}
      },
      "source": [
        "######RESULS########\n",
        "\n",
        "#16 classifiers, Sigma - 50, 30 epochs, lambda 50 -- 0.79 is highest acc (many classifiers have 0.79 accuracy)\n",
        "#16 classifiers, Sigma - 50, 30 epochs, lambda 100 -- 0.77 is highest acc many classifiers have 0.76 accuracy)\n",
        "#16 classifiers, Sigma - 500, 30 epochs, lambda 50 -- 0.76  is highest acc (many classifiers have 0.75-0.76 accuracy)\n",
        "#16 classifiers, Sigma - 100, 30 epochs, lambda 50 --  0.76 is highest acc (many classifiers 0.76 have accuracy)\n",
        "#16 classifiers, Sigma - 50, 30 epochs, lambda 150 -- 0.77 is highest acc (many classifiers have 0.75-0.76 accuracy)\n",
        "#16 classifiers, Sigma - 50, 30 epochs, lambda 100 -- 0.76 is highest acc (many classifiers have 0.75-0.76 accuracy)\n",
        "#16 classifiers, Sigma - 25, 30 epochs, lambda 50 -- 0.77 is highest acc (many classifiers have 0.75 accuracy)"
      ],
      "execution_count": 0,
      "outputs": []
    },
    {
      "cell_type": "code",
      "metadata": {
        "id": "nrotKUhB-jZs",
        "colab_type": "code",
        "colab": {}
      },
      "source": [
        "# RESULTS\n",
        "#16 classifiers, Sigma - 0.01, 20 epochs, lambda 1 -- 0.59 is highest acc (many classifiers have accuracy)\n",
        "#16 classifiers, Sigma - 0.1, 25 epochs, lambda 1 -- 0.60 is highest acc (many classifiers have accuracy)\n",
        "#16 classifiers, Sigma - 1, 12 epochs, lambda 1 -- 0.59 is highest acc (many classifiers have accuracy)\n"
      ],
      "execution_count": 0,
      "outputs": []
    },
    {
      "cell_type": "code",
      "metadata": {
        "id": "UQKNpwc3Do6H",
        "colab_type": "code",
        "colab": {}
      },
      "source": [
        "## For the illumination data\n",
        "# For illumination increase by 150, train and test acc is 1. Test accuracy on non-illumination data is 0.5\n",
        "## On training miultiple linear orthogonal models, test acc. on non-illu data improves by 0.15.\n",
        "# Training 10 models, test acc of majority models on illuminated data is 0.93, one performs with 0.99, that has test acc on non-illum data of 0.53.\n",
        "# Other have an acc. of 0.64.\n",
        "\n",
        "# For illumination increase by 50, train and test acc is 0.99. Test accuracy on non-illumination data is 0.52\n",
        "\n",
        "# For illumination increase by 100, train and test acc is 0.99. Test accuracy on non-illumination data is \n",
        "# For 3 linear models, acc. on non-illuminated data are 0.86, 0.95, 0.86\n",
        "# For these 3 models, acc. on illuminated data are .77, 0.74, 0.77\n"
      ],
      "execution_count": 0,
      "outputs": []
    },
    {
      "cell_type": "code",
      "metadata": {
        "id": "C4qDubPAMyoW",
        "colab_type": "code",
        "colab": {}
      },
      "source": [
        "x = [50, 100, 150]\n",
        "acc_source1 = [0.82, 0.84, 0.97]\n",
        "acc_target1 = [0.81, 0.75, 0.61]\n",
        "\n",
        "acc_source2 = [0.81, 0.84, 0.93]\n",
        "acc_target2 = [0.81, 0.74, 0.64]\n",
        "\n",
        "acc_source3 = [0.81, 0.91, 0.93]\n",
        "acc_target3 = [0.81, 0.73, 0.64]\n",
        "\n",
        "acc_source4 = [0.81, 0.83, 0.93]\n",
        "acc_target4 = [0.80, 0.75, 0.64]"
      ],
      "execution_count": 0,
      "outputs": []
    },
    {
      "cell_type": "code",
      "metadata": {
        "id": "wg3zxpJVNxIz",
        "colab_type": "code",
        "outputId": "1e956403-df39-4f68-c63f-6c22bd98a656",
        "colab": {
          "base_uri": "https://localhost:8080/",
          "height": 296
        }
      },
      "source": [
        "import matplotlib.pyplot as plt\n",
        "plt.plot(x, [1, 1, 1], color = 'green', label=  'source accuracy')\n",
        "plt.plot(x, [0.52, 0.5, 0.5], color = 'yellow', label = 'target accuracy')\n",
        "plt.legend()\n",
        "plt.xticks([50, 100, 150])\n",
        "plt.xlabel('illumination level')\n",
        "plt.ylabel('accuracy')"
      ],
      "execution_count": 0,
      "outputs": [
        {
          "output_type": "execute_result",
          "data": {
            "text/plain": [
              "Text(0, 0.5, 'accuracy')"
            ]
          },
          "metadata": {
            "tags": []
          },
          "execution_count": 21
        },
        {
          "output_type": "display_data",
          "data": {
            "image/png": "[encoded data removed]",
            "text/plain": [
              "<Figure size 432x288 with 1 Axes>"
            ]
          },
          "metadata": {
            "tags": []
          }
        }
      ]
    },
    {
      "cell_type": "code",
      "metadata": {
        "id": "r3KbPdmsYp11",
        "colab_type": "code",
        "colab": {}
      },
      "source": [
        "import torch\n",
        "M = torch.zeros([10*10, 10*10])\n",
        "\n",
        "M_tensor = M.view(10,10,10,10)\n",
        "\n",
        "import numpy as np\n",
        "\n",
        "for i_1 in range(10):\n",
        "    for i_2 in range(10):\n",
        "        for j_1 in range(10):\n",
        "            for j_2 in range(10):\n",
        "                M_tensor[i_1,i_2,j_1,j_2] = np.exp( -((i_1 - j_1)**2 + (i_2 - j_2)**2) / (2 * (10)**2) )"
      ],
      "execution_count": 0,
      "outputs": []
    },
    {
      "cell_type": "code",
      "metadata": {
        "id": "QPktYVE2mt4m",
        "colab_type": "code",
        "colab": {}
      },
      "source": [
        "M_tensor = M_tensor.view(100, 100)"
      ],
      "execution_count": 0,
      "outputs": []
    },
    {
      "cell_type": "code",
      "metadata": {
        "id": "Jz6h5yIwlxjd",
        "colab_type": "code",
        "colab": {}
      },
      "source": [
        "# W1 = torch.Tensor([1, 0, 0, 0, 0, 0, 0, 0, 0, 0]).view(1, 10)\n",
        "W1 = torch.zeros(100)\n",
        "W1[0] = 1\n",
        "W1 = W1.view(1, 100)\n",
        "W2 = torch.zeros(100)\n",
        "W2[99] = 1\n",
        "W2 = W2.view(1, 100)\n",
        "# W2 = torch.Tensor([0, 1, 0, 0, 0, 0, 0, 0, 0, 0]).view(1, 10)\n",
        "\n",
        "# (torch.mm(W1, torch.mm(M, W2.t())))**2"
      ],
      "execution_count": 0,
      "outputs": []
    },
    {
      "cell_type": "code",
      "metadata": {
        "id": "Cn0IdnPs5JAx",
        "colab_type": "code",
        "outputId": "b3ec8c45-5096-486a-a3fb-075f5e4f583b",
        "colab": {
          "base_uri": "https://localhost:8080/",
          "height": 119
        }
      },
      "source": [
        "W2"
      ],
      "execution_count": 0,
      "outputs": [
        {
          "output_type": "execute_result",
          "data": {
            "text/plain": [
              "tensor([[0., 1., 0., 0., 0., 0., 0., 0., 0., 0., 0., 0., 0., 0., 0., 0., 0., 0.,\n",
              "         0., 0., 0., 0., 0., 0., 0., 0., 0., 0., 0., 0., 0., 0., 0., 0., 0., 0.,\n",
              "         0., 0., 0., 0., 0., 0., 0., 0., 0., 0., 0., 0., 0., 0., 0., 0., 0., 0.,\n",
              "         0., 0., 0., 0., 0., 0., 0., 0., 0., 0., 0., 0., 0., 0., 0., 0., 0., 0.,\n",
              "         0., 0., 0., 0., 0., 0., 0., 0., 0., 0., 0., 0., 0., 0., 0., 0., 0., 0.,\n",
              "         0., 0., 0., 0., 0., 0., 0., 0., 0., 0.]])"
            ]
          },
          "metadata": {
            "tags": []
          },
          "execution_count": 16
        }
      ]
    },
    {
      "cell_type": "code",
      "metadata": {
        "id": "Nz5HpRfR5I5g",
        "colab_type": "code",
        "colab": {}
      },
      "source": [
        ""
      ],
      "execution_count": 0,
      "outputs": []
    },
    {
      "cell_type": "code",
      "metadata": {
        "id": "kHvM_ZgC5Iw6",
        "colab_type": "code",
        "colab": {}
      },
      "source": [
        ""
      ],
      "execution_count": 0,
      "outputs": []
    },
    {
      "cell_type": "code",
      "metadata": {
        "id": "Uxfh1Rv_oC76",
        "colab_type": "code",
        "outputId": "da3aeda5-a1b2-445d-c46f-7b27498f2c79",
        "colab": {
          "base_uri": "https://localhost:8080/",
          "height": 34
        }
      },
      "source": [
        "torch.mm(W1, torch.mm(M, W2.t()))"
      ],
      "execution_count": 0,
      "outputs": [
        {
          "output_type": "execute_result",
          "data": {
            "text/plain": [
              "tensor([[0.4449]])"
            ]
          },
          "metadata": {
            "tags": []
          },
          "execution_count": 27
        }
      ]
    },
    {
      "cell_type": "code",
      "metadata": {
        "id": "qHBSu9ttFdGF",
        "colab_type": "code",
        "colab": {}
      },
      "source": [
        "xax = [1, 2, 3, 4, 5]\n",
        "train_50 = [1, .9, .86, .81, .84] \n",
        "test_50 = [.51, .83, .82, .82, .82]\n",
        "train_150 = [1.00, .99, .98, .91, .95]\n",
        "test_150 = [.50, .53, .75, .78, .77]"
      ],
      "execution_count": 0,
      "outputs": []
    },
    {
      "cell_type": "code",
      "metadata": {
        "id": "LH2zv4HKTIzb",
        "colab_type": "code",
        "outputId": "afbb5ee4-0421-4d83-d684-617f5f461dcf",
        "colab": {
          "base_uri": "https://localhost:8080/",
          "height": 296
        }
      },
      "source": [
        "plt.plot(xax, train_50, label = 'train, I = 50')\n",
        "plt.plot(xax, test_50, label = 'test, I = 50')\n",
        "\n",
        "plt.plot(xax, train_150, label = 'train, I = 150')\n",
        "plt.plot(xax, test_150, label = 'test, I = 150')\n",
        "plt.legend()\n",
        "plt.xticks([1, 2, 3, 4, 5])\n",
        "plt.ylabel('best case accuracy')\n",
        "plt.xlabel('# of classifiers')"
      ],
      "execution_count": 0,
      "outputs": [
        {
          "output_type": "execute_result",
          "data": {
            "text/plain": [
              "Text(0.5, 0, '# of classifiers')"
            ]
          },
          "metadata": {
            "tags": []
          },
          "execution_count": 17
        },
        {
          "output_type": "display_data",
          "data": {
            "image/png": "[encoded data removed]",
            "text/plain": [
              "<Figure size 432x288 with 1 Axes>"
            ]
          },
          "metadata": {
            "tags": []
          }
        }
      ]
    },
    {
      "cell_type": "code",
      "metadata": {
        "id": "GGhzZ34JTIes",
        "colab_type": "code",
        "colab": {}
      },
      "source": [
        ""
      ],
      "execution_count": 0,
      "outputs": []
    }
  ]
}