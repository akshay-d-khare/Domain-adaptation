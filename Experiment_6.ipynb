{
  "nbformat": 4,
  "nbformat_minor": 0,
  "metadata": {
    "colab": {
      "name": "Experiment 6.ipynb",
      "provenance": [],
      "collapsed_sections": []
    },
    "kernelspec": {
      "name": "python3",
      "display_name": "Python 3"
    },
    "accelerator": "GPU"
  },
  "cells": [
    {
      "cell_type": "code",
      "metadata": {
        "id": "ZLovumyk9BQu",
        "colab_type": "code",
        "colab": {}
      },
      "source": [
        "import sklearn, torch\n",
        "import torchvision\n",
        "import torchvision.transforms as transforms\n",
        "from torch.utils.data import DataLoader, Dataset\n",
        "from sklearn import datasets\n",
        "import matplotlib.pyplot as plt\n",
        "import pandas as pd\n",
        "import numpy as np"
      ],
      "execution_count": 0,
      "outputs": []
    },
    {
      "cell_type": "code",
      "metadata": {
        "id": "_J7-MRF6Mkrc",
        "colab_type": "code",
        "colab": {}
      },
      "source": [
        "X_target, y_target = sklearn.datasets.make_blobs(n_samples=2000, n_features=2, centers = [[-3,-2], [3, 2]], cluster_std = 1)#[[-5, -5], [-10, 5], [10, -15], [5, 5], [15, 10], [2, 15]], cluster_std = 2.5)"
      ],
      "execution_count": 0,
      "outputs": []
    },
    {
      "cell_type": "code",
      "metadata": {
        "id": "lepJoXHONCfF",
        "colab_type": "code",
        "outputId": "74417d4d-74e9-4a86-88f2-7fef2a99cb9c",
        "colab": {
          "base_uri": "https://localhost:8080/",
          "height": 282
        }
      },
      "source": [
        "plt.scatter(X_target[:,0], X_target[:,1])"
      ],
      "execution_count": 3,
      "outputs": [
        {
          "output_type": "execute_result",
          "data": {
            "text/plain": [
              "<matplotlib.collections.PathCollection at 0x7f8cca958ef0>"
            ]
          },
          "metadata": {
            "tags": []
          },
          "execution_count": 3
        },
        {
          "output_type": "display_data",
          "data": {
            "image/png": "[encoded data removed]",
            "text/plain": [
              "<Figure size 432x288 with 1 Axes>"
            ]
          },
          "metadata": {
            "tags": []
          }
        }
      ]
    },
    {
      "cell_type": "code",
      "metadata": {
        "id": "IlyInjroNRJ_",
        "colab_type": "code",
        "colab": {}
      },
      "source": [
        "# # Change the labels to binary labels\n",
        "# for ind, ele in enumerate(y_target):\n",
        "#   if ele < 1:\n",
        "#     y_target[ind] = 0\n",
        "#   else:\n",
        "#     y_target[ind] = 1"
      ],
      "execution_count": 0,
      "outputs": []
    },
    {
      "cell_type": "code",
      "metadata": {
        "id": "b0eNDolXsMEJ",
        "colab_type": "code",
        "colab": {}
      },
      "source": [
        "# Define the dataset class for a custom dataset\n",
        "class CustomDataset(Dataset):\n",
        "    \n",
        "    def __init__(self, data_frame, transform=None):\n",
        "        self.data = data_frame\n",
        "        self.transform = transform\n",
        "#         \n",
        "    def __len__(self):\n",
        "        return len(self.data)\n",
        "    \n",
        "    def __getitem__(self, index):\n",
        "        # load image as ndarray type (Height * Width * Channels)\n",
        "        # be carefull for converting dtype to np.uint8 [Unsigned integer (0 to 255)]\n",
        "        # in this example, i don't use ToTensor() method of torchvision.transforms\n",
        "        # so you can convert numpy ndarray shape to tensor in PyTorch (H, W, C) --> (C, H, W)\n",
        "        obs = self.data.iloc[index, 0 : 2].values\n",
        "        label = self.data.iloc[index, 2]\n",
        "        \n",
        "        if self.transform is not None:\n",
        "            obs = self.transform(obs)\n",
        "            \n",
        "        return obs, label"
      ],
      "execution_count": 0,
      "outputs": []
    },
    {
      "cell_type": "code",
      "metadata": {
        "id": "k6JpIqq6o45y",
        "colab_type": "code",
        "outputId": "c5298cab-97d4-4edd-9351-c24c814f78b0",
        "colab": {
          "base_uri": "https://localhost:8080/",
          "height": 351
        }
      },
      "source": [
        "# Transforming the data into Pytorch format\n",
        "data_target = pd.DataFrame({'X1' : X_target[:, 0].tolist(),\n",
        "                   'X2' : X_target[:, 1].tolist(), \n",
        "                   'label' : y_target.tolist()})\n",
        "# Plot the toy data\n",
        "plt.figure(figsize = (5, 5))\n",
        "plt.scatter(data_target['X1'], data_target['X2'])\n",
        "plt.xlabel('feature 1')\n",
        "plt.ylabel('feature 2')\n",
        "# plt.xlim(-15, 15)\n",
        "# plt.ylim(-15, 15)"
      ],
      "execution_count": 6,
      "outputs": [
        {
          "output_type": "execute_result",
          "data": {
            "text/plain": [
              "Text(0, 0.5, 'feature 2')"
            ]
          },
          "metadata": {
            "tags": []
          },
          "execution_count": 6
        },
        {
          "output_type": "display_data",
          "data": {
            "image/png": "[encoded data removed]",
            "text/plain": [
              "<Figure size 360x360 with 1 Axes>"
            ]
          },
          "metadata": {
            "tags": []
          }
        }
      ]
    },
    {
      "cell_type": "code",
      "metadata": {
        "id": "BG1X5dTns4Pg",
        "colab_type": "code",
        "colab": {}
      },
      "source": [
        "target_dataset = CustomDataset(data_target, transform = None)\n",
        "target_loader = torch.utils.data.DataLoader(target_dataset, batch_size = 16, shuffle = True, num_workers = 2)"
      ],
      "execution_count": 0,
      "outputs": []
    },
    {
      "cell_type": "code",
      "metadata": {
        "id": "ErmTqCIds6__",
        "colab_type": "code",
        "colab": {}
      },
      "source": [
        "import torch.nn as nn\n",
        "import torch.nn.functional as F\n",
        "\n",
        "class linear_model(nn.Module):\n",
        "  def __init__(self):\n",
        "    super(linear_model, self).__init__()\n",
        "    self.fc11 = nn.Linear(2, 1)\n",
        "    nn.init.xavier_normal_(self.fc11.weight)\n",
        "\n",
        "  def forward(self, x_):\n",
        "    x_ = x_.view(-1, 2)\n",
        "    x1_ = torch.sigmoid(self.fc11(x_))  \n",
        "    \n",
        "    return x1_\n",
        "  \n",
        "model = linear_model()  "
      ],
      "execution_count": 0,
      "outputs": []
    },
    {
      "cell_type": "code",
      "metadata": {
        "id": "_Jrravovi8fz",
        "colab_type": "code",
        "colab": {}
      },
      "source": [
        "# Define loss function and optimizer\n",
        "import torch.optim as optim\n",
        "\n",
        "loss_function = nn.BCELoss(reduction = 'mean') # sums all outputs and divides by total data points\n",
        "\n",
        "optimizer = optim.Adam(model.parameters(), lr = 0.1)"
      ],
      "execution_count": 0,
      "outputs": []
    },
    {
      "cell_type": "code",
      "metadata": {
        "id": "bqfIU7STi-Ph",
        "colab_type": "code",
        "outputId": "4afbb771-7fe4-40b2-a63e-d47cd3314f68",
        "colab": {
          "base_uri": "https://localhost:8080/",
          "height": 185
        }
      },
      "source": [
        "n_epochs = 10\n",
        "\n",
        "for epochs in range(n_epochs):\n",
        " \n",
        "  running_loss = 0\n",
        "  \n",
        "  for batch in target_loader:\n",
        "    data, targets = batch\n",
        "\n",
        "    optimizer.zero_grad()\n",
        "\n",
        "    output = model(data.float()) \n",
        "    loss = loss_function(output, targets.view(-1, 1).float())\n",
        "  \n",
        "    loss.backward()\n",
        "\n",
        "    optimizer.step()\n",
        "\n",
        "    running_loss += loss.item()\n",
        "  print(running_loss)"
      ],
      "execution_count": 10,
      "outputs": [
        {
          "output_type": "stream",
          "text": [
            "7.963366257026792\n",
            "0.5267152148444438\n",
            "0.3591843309986871\n",
            "0.272402539732866\n",
            "0.21835585784356226\n",
            "0.18273051685537212\n",
            "0.15720855207109707\n",
            "0.13881100958360548\n",
            "0.12403843113543189\n",
            "0.11240023945993016\n"
          ],
          "name": "stdout"
        }
      ]
    },
    {
      "cell_type": "code",
      "metadata": {
        "id": "7S5uOHdPjN-W",
        "colab_type": "code",
        "outputId": "5e9ce2e6-ae60-40f8-a7bb-8f9ec36a95ca",
        "colab": {
          "base_uri": "https://localhost:8080/",
          "height": 34
        }
      },
      "source": [
        "# Test performance on the entire test set\n",
        "correct = 0\n",
        "total = 0\n",
        "with torch.no_grad():\n",
        "  for data in target_loader:\n",
        "    images, labels = data\n",
        "    outputs = model(images.float())\n",
        "#     _, predicted = torch.max(outputs, 1)\n",
        "    predicted = outputs > 0.5\n",
        "#     predicted = predicted.view(predicted.size(0))\n",
        "    total += labels.size(0)\n",
        "    matches = 0\n",
        "    for i in range(len(predicted)):\n",
        "      if predicted[i].item() == labels[i].item():\n",
        "        matches += 1\n",
        "    correct += matches#(predicted == labels).sum().item()\n",
        "  print('Accuracy of the network on the entire data set is : %d %%' %(100 * correct/ total))"
      ],
      "execution_count": 11,
      "outputs": [
        {
          "output_type": "stream",
          "text": [
            "Accuracy of the network on the entire data set is : 100 %\n"
          ],
          "name": "stdout"
        }
      ]
    },
    {
      "cell_type": "code",
      "metadata": {
        "id": "5T37A8FLkIZr",
        "colab_type": "code",
        "colab": {
          "base_uri": "https://localhost:8080/",
          "height": 50
        },
        "outputId": "340a8066-9ebc-4e71-dcc2-0f9b5af23305"
      },
      "source": [
        "# Save the idea weights (ideal for the target data)\n",
        "w_star = model.fc11.weight\n",
        "w_star"
      ],
      "execution_count": 12,
      "outputs": [
        {
          "output_type": "execute_result",
          "data": {
            "text/plain": [
              "Parameter containing:\n",
              "tensor([[2.6405, 2.6071]], requires_grad=True)"
            ]
          },
          "metadata": {
            "tags": []
          },
          "execution_count": 12
        }
      ]
    },
    {
      "cell_type": "code",
      "metadata": {
        "id": "CGMH9x_hldKq",
        "colab_type": "code",
        "outputId": "6b1b0a66-9e97-4749-9446-2a0ef64c00ab",
        "colab": {
          "base_uri": "https://localhost:8080/",
          "height": 300
        }
      },
      "source": [
        "x_s1 = list(range(-20, 25, 5))\n",
        "y_s1 = []\n",
        "y_s2 = []\n",
        "for el in x_s1:\n",
        "  y_s1.append((-model.fc11.weight[0][0].item()/ model.fc11.weight[0][1].item()) * el)\n",
        "\n",
        "\n",
        "plt.plot(x_s1, y_s1, color = 'red') \n",
        "\n",
        "plt.scatter(data_target['X1'], data_target['X2'])\n",
        "plt.xlabel('feature 1')\n",
        "plt.ylabel('feature 2')\n",
        "plt.xlim(-15, 15)\n",
        "plt.ylim(-15, 15)"
      ],
      "execution_count": 13,
      "outputs": [
        {
          "output_type": "execute_result",
          "data": {
            "text/plain": [
              "(-15.0, 15.0)"
            ]
          },
          "metadata": {
            "tags": []
          },
          "execution_count": 13
        },
        {
          "output_type": "display_data",
          "data": {
            "image/png": "[encoded data removed]",
            "text/plain": [
              "<Figure size 432x288 with 1 Axes>"
            ]
          },
          "metadata": {
            "tags": []
          }
        }
      ]
    },
    {
      "cell_type": "code",
      "metadata": {
        "id": "wK0m4IgSuNVS",
        "colab_type": "code",
        "colab": {}
      },
      "source": [
        "def gram_schmidt(A):\n",
        "    \"\"\"Orthogonalize a set of vectors stored as the columns of matrix A.\"\"\"\n",
        "    # Get the number of vectors.\n",
        "    n = A.shape[1]\n",
        "    for j in range(n):\n",
        "        # To orthogonalize the vector in column j with respect to the\n",
        "        # previous vectors, subtract from it its projection onto\n",
        "        # each of the previous vectors.\n",
        "        for k in range(j):\n",
        "            A[:, j] -= np.dot(A[:, k], A[:, j]) * A[:, k]\n",
        "        A[:, j] = A[:, j] / np.linalg.norm(A[:, j])\n",
        "    return A\n"
      ],
      "execution_count": 0,
      "outputs": []
    },
    {
      "cell_type": "code",
      "metadata": {
        "id": "3pHFI1vIUC30",
        "colab_type": "code",
        "colab": {}
      },
      "source": [
        "w_star1 =  np.reshape(np.array(w_star.detach()), (-1, 1))\n",
        "\n",
        "# Normalized w*\n",
        "w_star1 = w_star1 / np.linalg.norm(w_star1)\n",
        "\n",
        "# denerating rest n_features - 1 number of vectors\n",
        "rest = np.random.rand(2, 1)\n",
        "A_ele = np.hstack([w_star1, rest])\n",
        "\n",
        "# Obtain orthonormal matrix A\n",
        "A_all_ele = gram_schmidt(A_ele)"
      ],
      "execution_count": 0,
      "outputs": []
    },
    {
      "cell_type": "code",
      "metadata": {
        "colab_type": "code",
        "id": "z1etturRObN_",
        "colab": {}
      },
      "source": [
        "A = np.zeros((2, 2))\n",
        "n_features = 2\n",
        "\n",
        "for i in range(n_features):\n",
        "  if i == 0:\n",
        "    A += 1 * np.dot(np.reshape(A_all_ele[:, i], (-1, 1)), np.reshape(A_all_ele[:, i], (1, -1)))\n",
        "  else:\n",
        "    A += np.random.uniform(-5, 5) * np.dot(np.reshape(A_all_ele[:, i], (-1, 1)), np.reshape(A_all_ele[:, i], (1, -1)))"
      ],
      "execution_count": 0,
      "outputs": []
    },
    {
      "cell_type": "code",
      "metadata": {
        "id": "c6pRuhKNOcQ9",
        "colab_type": "code",
        "colab": {
          "base_uri": "https://localhost:8080/",
          "height": 50
        },
        "outputId": "3bbcb1e0-edee-4f34-978d-a5373396cd50"
      },
      "source": [
        "A"
      ],
      "execution_count": 17,
      "outputs": [
        {
          "output_type": "execute_result",
          "data": {
            "text/plain": [
              "array([[ 2.90156265, -1.9259078 ],\n",
              "       [-1.9259078 ,  2.95056463]])"
            ]
          },
          "metadata": {
            "tags": []
          },
          "execution_count": 17
        }
      ]
    },
    {
      "cell_type": "code",
      "metadata": {
        "id": "oWdJgRLKnmtI",
        "colab_type": "code",
        "colab": {}
      },
      "source": [
        "# Create the source data\n",
        "X_source = np.zeros(np.shape(X_target))\n",
        "\n",
        "for ind, d in enumerate(X_target):\n",
        "  if y_target[ind] == 0:\n",
        "    X_source[ind] += np.reshape(np.dot(A, np.reshape(X_target[ind], (-1, 1))), (2, ))\n",
        "  else:\n",
        "    X_source[ind] += X_target[ind]"
      ],
      "execution_count": 0,
      "outputs": []
    },
    {
      "cell_type": "code",
      "metadata": {
        "id": "x1wA5m0ZIMqQ",
        "colab_type": "code",
        "colab": {}
      },
      "source": [
        "# ######### ALTERNATIVE WAY TO GENERATE SOURCE DATA\n",
        "# X_source, y_source = sklearn.datasets.make_blobs(n_samples=2000, n_features=2, centers = [[-1,5], [1, -5]], cluster_std = 1)#[[-5, -5], [-10, 5], [10, -15], [5, 5], [15, 10], [2, 15]], cluster_std = 2.5)"
      ],
      "execution_count": 0,
      "outputs": []
    },
    {
      "cell_type": "code",
      "metadata": {
        "id": "1770JNk27x6u",
        "colab_type": "code",
        "outputId": "adfe82ce-d90d-4374-9d2b-a7f2e23ff25f",
        "colab": {
          "base_uri": "https://localhost:8080/",
          "height": 282
        }
      },
      "source": [
        "# A plot to compare targe and source data\n",
        "plt.scatter(X_target[:, 0], X_target[:, 1], label = 'target data', alpha = 0.5)\n",
        "plt.scatter(X_source[:, 0], X_source[:, 1], label = 'source data', alpha = 0.5)\n",
        "plt.legend()"
      ],
      "execution_count": 20,
      "outputs": [
        {
          "output_type": "execute_result",
          "data": {
            "text/plain": [
              "<matplotlib.legend.Legend at 0x7f8cae762160>"
            ]
          },
          "metadata": {
            "tags": []
          },
          "execution_count": 20
        },
        {
          "output_type": "display_data",
          "data": {
            "image/png": "[encoded data removed]",
            "text/plain": [
              "<Figure size 432x288 with 1 Axes>"
            ]
          },
          "metadata": {
            "tags": []
          }
        }
      ]
    },
    {
      "cell_type": "code",
      "metadata": {
        "id": "XXxsLTMj-_Zo",
        "colab_type": "code",
        "colab": {}
      },
      "source": [
        "# Transforming the data into Pytorch format\n",
        "data_source = pd.DataFrame({'X1' : X_source[:, 0].tolist(),\n",
        "                   'X2' : X_source[:, 1].tolist(), \n",
        "                   'label' : y_target.tolist()})"
      ],
      "execution_count": 0,
      "outputs": []
    },
    {
      "cell_type": "code",
      "metadata": {
        "colab_type": "code",
        "id": "VgI0npY8-t_h",
        "colab": {}
      },
      "source": [
        "source_dataset = CustomDataset(data_source, transform = None)\n",
        "source_loader = torch.utils.data.DataLoader(source_dataset, batch_size = 16, shuffle = True, num_workers = 2)"
      ],
      "execution_count": 0,
      "outputs": []
    },
    {
      "cell_type": "code",
      "metadata": {
        "colab_type": "code",
        "id": "FLFqQVo1-t_9",
        "colab": {}
      },
      "source": [
        "import torch.nn as nn\n",
        "import torch.nn.functional as F\n",
        "\n",
        "class linear_model_new(nn.Module):\n",
        "  def __init__(self):\n",
        "    super(linear_model_new, self).__init__()\n",
        "    self.fc1 = nn.Linear(2, 1)\n",
        "    nn.init.xavier_normal_(self.fc1.weight)\n",
        "\n",
        "  def forward(self, x):\n",
        "    x = x.view(-1, 2)\n",
        "    x1 = torch.sigmoid(self.fc1(x))  \n",
        "    \n",
        "    return x1\n",
        "  \n",
        "model_new = linear_model_new()  "
      ],
      "execution_count": 0,
      "outputs": []
    },
    {
      "cell_type": "code",
      "metadata": {
        "colab_type": "code",
        "id": "-Nis3OgL-uAF",
        "colab": {}
      },
      "source": [
        "# Define loss function and optimizer\n",
        "import torch.optim as optim\n",
        "\n",
        "loss_function_new = nn.BCELoss(reduction = 'mean') # sums all outputs and divides by total data points\n",
        "\n",
        "optimizer_new = optim.Adam(model_new.parameters(), lr = 0.01)"
      ],
      "execution_count": 0,
      "outputs": []
    },
    {
      "cell_type": "code",
      "metadata": {
        "colab_type": "code",
        "outputId": "9a4bdfe5-aa8c-4a05-d114-0f032b50d311",
        "id": "3gvCC5lf-uAO",
        "colab": {
          "base_uri": "https://localhost:8080/",
          "height": 84
        }
      },
      "source": [
        "# Define hyper-parameters before training\n",
        "n_epochs = 4\n",
        "a = torch.Tensor([1, -1])\n",
        "mu_ = 1\n",
        "for epochs in range(n_epochs):\n",
        " \n",
        "  running_loss = 0\n",
        "  \n",
        "  for batch in source_loader:\n",
        "    data, targets = batch\n",
        "\n",
        "    optimizer_new.zero_grad()\n",
        "\n",
        "    output = model_new(data.float()) \n",
        "    loss = loss_function_new(output, targets.view(-1, 1).float())\n",
        "     #+ mu_ * torch.matmul(a.view(1, 2), model_new.fc1.weight.view(2, 1)) / torch.sqrt(torch.matmul(model_new.fc1.weight.view(1, 2), model_new.fc1.weight.view(2, 1)))\n",
        "    \n",
        "    loss.backward()\n",
        "\n",
        "    optimizer_new.step()\n",
        "\n",
        "    running_loss += loss.item()\n",
        "  print(running_loss)"
      ],
      "execution_count": 25,
      "outputs": [
        {
          "output_type": "stream",
          "text": [
            "412.95298820734024\n",
            "56.19408545643091\n",
            "13.129475634545088\n",
            "7.318331258371472\n"
          ],
          "name": "stdout"
        }
      ]
    },
    {
      "cell_type": "code",
      "metadata": {
        "id": "vEwY-nwyCctz",
        "colab_type": "code",
        "outputId": "3bc96377-8129-4f47-8a9e-c3dcb517db73",
        "colab": {
          "base_uri": "https://localhost:8080/",
          "height": 34
        }
      },
      "source": [
        "# Test performance on the entire test set\n",
        "correct = 0\n",
        "total = 0\n",
        "with torch.no_grad():\n",
        "  for data in target_loader:\n",
        "    images, labels = data\n",
        "    outputs = model_new(images.float())\n",
        "#     _, predicted = torch.max(outputs, 1)\n",
        "    predicted = outputs > 0.5\n",
        "#     predicted = predicted.view(predicted.size(0))\n",
        "    total += labels.size(0)\n",
        "    matches = 0\n",
        "    for i in range(len(predicted)):\n",
        "      if predicted[i].item() == labels[i].item():\n",
        "        matches += 1\n",
        "    correct += matches#(predicted == labels).sum().item()\n",
        "  print('Accuracy of the network on the entire data set is : %d %%' %(100 * correct/ total))"
      ],
      "execution_count": 26,
      "outputs": [
        {
          "output_type": "stream",
          "text": [
            "Accuracy of the network on the entire data set is : 100 %\n"
          ],
          "name": "stdout"
        }
      ]
    },
    {
      "cell_type": "code",
      "metadata": {
        "id": "Vp3KuK-vablZ",
        "colab_type": "code",
        "outputId": "355929b5-081c-46f3-ea67-f8f0bda045e1",
        "colab": {
          "base_uri": "https://localhost:8080/",
          "height": 50
        }
      },
      "source": [
        "model_new.fc1.weight"
      ],
      "execution_count": 27,
      "outputs": [
        {
          "output_type": "execute_result",
          "data": {
            "text/plain": [
              "Parameter containing:\n",
              "tensor([[0.6915, 0.6729]], requires_grad=True)"
            ]
          },
          "metadata": {
            "tags": []
          },
          "execution_count": 27
        }
      ]
    },
    {
      "cell_type": "code",
      "metadata": {
        "id": "k4M86biLChcv",
        "colab_type": "code",
        "outputId": "e855d812-3b66-48a3-d1b3-cfe18bfb229e",
        "colab": {
          "base_uri": "https://localhost:8080/",
          "height": 355
        }
      },
      "source": [
        "plt.figure(figsize = (7, 5))\n",
        "x_s1 = list(range(-20, 25, 5))\n",
        "y_s1 = []\n",
        "y_s2 = []\n",
        "for el in x_s1:\n",
        "  y_s1.append((-model_new.fc1.weight[0][0].item()/ model_new.fc1.weight[0][1].item()) * el)\n",
        "for el in x_s1:\n",
        "  y_s2.append((-model.fc11.weight[0][0].item()/ model.fc11.weight[0][1].item()) * el)\n",
        "\n",
        "plt.plot(x_s1, y_s2, label = 'trained on target') \n",
        "plt.plot(x_s1, y_s1, label = 'trained on source') \n",
        "\n",
        "plt.legend()\n",
        "plt.scatter(data_target['X1'], data_target['X2'], label = 'target data')\n",
        "plt.scatter(data_source['X1'], data_source['X2'], label = 'source data')\n",
        "plt.legend()\n",
        "plt.xlabel('feature 1')\n",
        "plt.ylabel('feature 2')\n",
        "plt.xlim(-10, 10)\n",
        "plt.ylim(-10, 10)\n"
      ],
      "execution_count": 28,
      "outputs": [
        {
          "output_type": "execute_result",
          "data": {
            "text/plain": [
              "(-10.0, 10.0)"
            ]
          },
          "metadata": {
            "tags": []
          },
          "execution_count": 28
        },
        {
          "output_type": "display_data",
          "data": {
            "image/png": "[encoded data removed]",
            "text/plain": [
              "<Figure size 504x360 with 1 Axes>"
            ]
          },
          "metadata": {
            "tags": []
          }
        }
      ]
    }
  ]
}