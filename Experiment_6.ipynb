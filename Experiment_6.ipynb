{
  "nbformat": 4,
  "nbformat_minor": 0,
  "metadata": {
    "colab": {
      "name": "Experiment 6.ipynb",
      "provenance": [],
      "collapsed_sections": []
    },
    "kernelspec": {
      "name": "python3",
      "display_name": "Python 3"
    },
    "accelerator": "GPU"
  },
  "cells": [
    {
      "cell_type": "code",
      "metadata": {
        "id": "ZLovumyk9BQu",
        "colab_type": "code",
        "colab": {}
      },
      "source": [
        "import sklearn, torch\n",
        "import torchvision\n",
        "import torchvision.transforms as transforms\n",
        "from torch.utils.data import DataLoader, Dataset\n",
        "from sklearn import datasets\n",
        "import matplotlib.pyplot as plt\n",
        "import pandas as pd\n",
        "import numpy as np"
      ],
      "execution_count": 0,
      "outputs": []
    },
    {
      "cell_type": "code",
      "metadata": {
        "id": "_J7-MRF6Mkrc",
        "colab_type": "code",
        "colab": {}
      },
      "source": [
        "X_target, y_target = sklearn.datasets.make_blobs(n_samples = 8000, n_features = 6, centers = 6 , random_state = 0, cluster_std = 1.5)\n",
        "                                                #  centers = [[-5, 4], [-3, -2.5], [2, -10.5], [5, -13.5], [-2, 10.5], [0, 4], [2, -2], [4, -3]])"
      ],
      "execution_count": 0,
      "outputs": []
    },
    {
      "cell_type": "code",
      "metadata": {
        "id": "-HeWNMBPmsrq",
        "colab_type": "code",
        "colab": {}
      },
      "source": [
        "n_features = 6"
      ],
      "execution_count": 0,
      "outputs": []
    },
    {
      "cell_type": "code",
      "metadata": {
        "id": "lepJoXHONCfF",
        "colab_type": "code",
        "colab": {}
      },
      "source": [
        "# plt.scatter(X_target[:,0], X_target[:,1])"
      ],
      "execution_count": 0,
      "outputs": []
    },
    {
      "cell_type": "code",
      "metadata": {
        "id": "IlyInjroNRJ_",
        "colab_type": "code",
        "colab": {}
      },
      "source": [
        "# Change the labels to binary labels\n",
        "for ind, ele in enumerate(y_target):\n",
        "  if ele < 3:\n",
        "    y_target[ind] = 0\n",
        "  else:\n",
        "    y_target[ind] = 1"
      ],
      "execution_count": 0,
      "outputs": []
    },
    {
      "cell_type": "code",
      "metadata": {
        "id": "b0eNDolXsMEJ",
        "colab_type": "code",
        "colab": {}
      },
      "source": [
        "# Define the dataset class for a custom dataset\n",
        "class CustomDataset(Dataset):\n",
        "    \n",
        "    def __init__(self, data_frame, transform=None):\n",
        "        self.data = data_frame\n",
        "        self.transform = transform\n",
        "#         \n",
        "    def __len__(self):\n",
        "        return len(self.data)\n",
        "    \n",
        "    def __getitem__(self, index):\n",
        "        # load image as ndarray type (Height * Width * Channels)\n",
        "        # be carefull for converting dtype to np.uint8 [Unsigned integer (0 to 255)]\n",
        "        # in this example, i don't use ToTensor() method of torchvision.transforms\n",
        "        # so you can convert numpy ndarray shape to tensor in PyTorch (H, W, C) --> (C, H, W)\n",
        "        obs = self.data.iloc[index, 0 : n_features].values\n",
        "        label = self.data.iloc[index, n_features]\n",
        "        \n",
        "        if self.transform is not None:\n",
        "            obs = self.transform(obs)\n",
        "            \n",
        "        return obs, label"
      ],
      "execution_count": 0,
      "outputs": []
    },
    {
      "cell_type": "code",
      "metadata": {
        "id": "k6JpIqq6o45y",
        "colab_type": "code",
        "colab": {}
      },
      "source": [
        "# Transforming the data into Pytorch format\n",
        "data_target = pd.DataFrame({\n",
        "                   'X1' : X_target[:, 0].tolist(),\n",
        "                   'X2' : X_target[:, 1].tolist(), \n",
        "                   'X3' : X_target[:, 2].tolist(),\n",
        "                   'X4' : X_target[:, 3].tolist(),\n",
        "                   'X5' : X_target[:, 4].tolist(),\n",
        "                   'X6' : X_target[:, 5].tolist(),\n",
        "                  #  'X7' : X_target[:, 6].tolist(),\n",
        "                  #  'X8' : X_target[:, 7].tolist(),\n",
        "                  #  'X9' : X_target[:, 8].tolist(),\n",
        "                  #  'X10' : X_target[:, 9].tolist(),\n",
        "                   'label' : y_target.tolist()})\n",
        "# Plot the toy data\n",
        "# plt.figure(figsize = (5, 5))\n",
        "# plt.scatter(data_target['X1'], data_target['X2'])\n",
        "# plt.xlabel('feature 1')\n",
        "# plt.ylabel('feature 2')\n",
        "# plt.xlim(-15, 15)\n",
        "# plt.ylim(-15, 15)"
      ],
      "execution_count": 0,
      "outputs": []
    },
    {
      "cell_type": "code",
      "metadata": {
        "id": "BG1X5dTns4Pg",
        "colab_type": "code",
        "colab": {}
      },
      "source": [
        "target_dataset = CustomDataset(data_target, transform = None)\n",
        "target_loader = torch.utils.data.DataLoader(target_dataset, batch_size = 64, shuffle = True, num_workers = 2)"
      ],
      "execution_count": 0,
      "outputs": []
    },
    {
      "cell_type": "code",
      "metadata": {
        "id": "ErmTqCIds6__",
        "colab_type": "code",
        "colab": {}
      },
      "source": [
        "#  import torch.nn as nn\n",
        "#  import torch.nn.functional as F\n",
        "\n",
        "#  class linear_model(nn.Module):\n",
        "#    def __init__(self):\n",
        "#      super(linear_model, self).__init__()\n",
        "#      self.fc11 = nn.Linear(n_features, 1)\n",
        "#      nn.init.xavier_normal_(self.fc11.weight)\n",
        "\n",
        "#    def forward(self, x_):\n",
        "#      x_ = x_.view(-1, n_features)\n",
        "#      x1_ = torch.sigmoid(self.fc11(x_))  \n",
        "    \n",
        "#      return x1_\n",
        "  \n",
        "#  model = linear_model()  "
      ],
      "execution_count": 0,
      "outputs": []
    },
    {
      "cell_type": "code",
      "metadata": {
        "id": "_Jrravovi8fz",
        "colab_type": "code",
        "colab": {}
      },
      "source": [
        "# # # Define loss function and optimizer\n",
        "# import torch.optim as optim\n",
        "\n",
        "# loss_function = nn.BCELoss(reduction = 'mean') # sums all outputs and divides by total data points\n",
        "\n",
        "# optimizer = optim.Adam(model.parameters(), lr = 0.01)"
      ],
      "execution_count": 0,
      "outputs": []
    },
    {
      "cell_type": "code",
      "metadata": {
        "id": "bqfIU7STi-Ph",
        "colab_type": "code",
        "colab": {}
      },
      "source": [
        "# n_epochs = 5\n",
        "\n",
        "# for epochs in range(n_epochs):\n",
        " \n",
        "#   running_loss = 0\n",
        "  \n",
        "#   for batch in target_loader:\n",
        "#     data, targets = batch\n",
        "\n",
        "#     optimizer.zero_grad()\n",
        "\n",
        "#     output = model(data.float()) \n",
        "#     loss = loss_function(output, targets.view(-1, 1).float())\n",
        "  \n",
        "#     loss.backward()\n",
        "\n",
        "#     optimizer.step()\n",
        "\n",
        "#     running_loss += loss.item()\n",
        "#   print(running_loss)"
      ],
      "execution_count": 0,
      "outputs": []
    },
    {
      "cell_type": "code",
      "metadata": {
        "id": "7S5uOHdPjN-W",
        "colab_type": "code",
        "colab": {}
      },
      "source": [
        "# # Test performance on the entire test set\n",
        "# correct = 0\n",
        "# total = 0\n",
        "# with torch.no_grad():\n",
        "#   for data in target_loader:\n",
        "#     images, labels = data\n",
        "#     outputs = model(images.float())\n",
        "# #     _, predicted = torch.max(outputs, 1)\n",
        "#     predicted = outputs > 0.5\n",
        "# #     predicted = predicted.view(predicted.size(0))\n",
        "#     total += labels.size(0)\n",
        "#     matches = 0\n",
        "#     for i in range(len(predicted)):\n",
        "#       if predicted[i].item() == labels[i].item():\n",
        "#         matches += 1\n",
        "#     correct += matches#(predicted == labels).sum().item()\n",
        "#   print('Accuracy of the network on the entire data set is : %d %%' %(100 * correct/ total))"
      ],
      "execution_count": 0,
      "outputs": []
    },
    {
      "cell_type": "code",
      "metadata": {
        "id": "5T37A8FLkIZr",
        "colab_type": "code",
        "colab": {}
      },
      "source": [
        "# # Save the idea weights (ideal for the target data)\n",
        "# w_star = model.fc11.weight\n",
        "# w_star"
      ],
      "execution_count": 0,
      "outputs": []
    },
    {
      "cell_type": "code",
      "metadata": {
        "id": "Wz1K-IvgFfmH",
        "colab_type": "code",
        "colab": {}
      },
      "source": [
        "w_star = torch.Tensor([[-0.1564, -0.1547,  0.2450,  0.9513, -0.5191, -0.2096]])"
      ],
      "execution_count": 0,
      "outputs": []
    },
    {
      "cell_type": "code",
      "metadata": {
        "id": "CGMH9x_hldKq",
        "colab_type": "code",
        "colab": {}
      },
      "source": [
        "# x_s1 = list(range(-20, 25, 5))\n",
        "# y_s1 = []\n",
        "# y_s2 = []\n",
        "# for el in x_s1:\n",
        "#   y_s1.append((-model.fc11.weight[0][0].item()/ model.fc11.weight[0][1].item()) * el)\n",
        "\n",
        "\n",
        "# plt.plot(x_s1, y_s1, color = 'red') \n",
        "\n",
        "# plt.scatter(data_target['X1'], data_target['X2'])\n",
        "# plt.xlabel('feature 1')\n",
        "# plt.ylabel('feature 2')\n",
        "# plt.xlim(-15, 15)\n",
        "# plt.ylim(-15, 15)"
      ],
      "execution_count": 0,
      "outputs": []
    },
    {
      "cell_type": "code",
      "metadata": {
        "id": "wK0m4IgSuNVS",
        "colab_type": "code",
        "colab": {}
      },
      "source": [
        "def gram_schmidt(A):\n",
        "    \"\"\"Orthogonalize a set of vectors stored as the columns of matrix A.\"\"\"\n",
        "    # Get the number of vectors.\n",
        "    n = A.shape[1]\n",
        "    for j in range(n):\n",
        "        # To orthogonalize the vector in column j with respect to the\n",
        "        # previous vectors, subtract from it its projection onto\n",
        "        # each of the previous vectors.\n",
        "        for k in range(j):\n",
        "            A[:, j] -= np.dot(A[:, k], A[:, j]) * A[:, k]\n",
        "        A[:, j] = A[:, j] / np.linalg.norm(A[:, j])\n",
        "    return A\n"
      ],
      "execution_count": 0,
      "outputs": []
    },
    {
      "cell_type": "code",
      "metadata": {
        "id": "3pHFI1vIUC30",
        "colab_type": "code",
        "colab": {}
      },
      "source": [
        "w_star1 =  np.reshape(np.array(w_star.detach()), (-1, 1))\n",
        "\n",
        "# Normalized w*\n",
        "w_star1 = w_star1 / np.linalg.norm(w_star1)\n",
        "\n",
        "# denerating rest n_features - 1 number of vectors\n",
        "rest = np.random.rand(n_features, n_features - 1)\n",
        "A_ele = np.hstack([w_star1, rest])\n",
        "\n",
        "# Obtain orthonormal matrix A\n",
        "A_all_ele = gram_schmidt(A_ele)"
      ],
      "execution_count": 0,
      "outputs": []
    },
    {
      "cell_type": "code",
      "metadata": {
        "colab_type": "code",
        "id": "z1etturRObN_",
        "colab": {}
      },
      "source": [
        "eval_rest = [-0.24085888133933997,\n",
        "1.3234005271655356,\n",
        "0.20926702332798985,\n",
        "-0.8625208931380124,\n",
        "-1.4072147504944934]\n",
        "\n",
        "A = np.zeros((n_features, n_features))\n",
        "\n",
        "for i in range(n_features):\n",
        "  if i == 0:\n",
        "    A += 1 * np.dot(np.reshape(A_all_ele[:, i], (-1, 1)), np.reshape(A_all_ele[:, i], (1, -1)))\n",
        "  else:\n",
        "    # r = np.random.uniform(-2, 2)\n",
        "    # print(r) \n",
        "    A += eval_rest[i - 1] * np.dot(np.reshape(A_all_ele[:, i], (-1, 1)), np.reshape(A_all_ele[:, i], (1, -1)))"
      ],
      "execution_count": 0,
      "outputs": []
    },
    {
      "cell_type": "code",
      "metadata": {
        "id": "oWdJgRLKnmtI",
        "colab_type": "code",
        "colab": {}
      },
      "source": [
        "# Create the source data\n",
        "X_source = np.zeros(np.shape(X_target))\n",
        "\n",
        "for ind, d in enumerate(X_target):\n",
        "  if y_target[ind] == 0:\n",
        "    X_source[ind] = np.reshape(np.dot(A, np.reshape(X_target[ind], (-1, 1))), (n_features, ))\n",
        "  else:\n",
        "    X_source[ind] = X_target[ind]"
      ],
      "execution_count": 0,
      "outputs": []
    },
    {
      "cell_type": "code",
      "metadata": {
        "id": "x1wA5m0ZIMqQ",
        "colab_type": "code",
        "colab": {}
      },
      "source": [
        "# ######### ALTERNATIVE WAY TO GENERATE SOURCE DATA\n",
        "# X_source, y_source = sklearn.datasets.make_blobs(n_samples=2000, n_features=2, centers = [[-1,5], [1, -5]], cluster_std = 1)#[[-5, -5], [-10, 5], [10, -15], [5, 5], [15, 10], [2, 15]], cluster_std = 2.5)"
      ],
      "execution_count": 0,
      "outputs": []
    },
    {
      "cell_type": "code",
      "metadata": {
        "id": "1770JNk27x6u",
        "colab_type": "code",
        "colab": {}
      },
      "source": [
        "# # A plot to compare targe and source data\n",
        "# plt.scatter(X_target[:, 0], X_target[:, 1], label = 'target data', alpha = 0.5)\n",
        "# plt.scatter(X_source[:, 0], X_source[:, 1], label = 'source data', alpha = 0.5)\n",
        "# plt.legend()"
      ],
      "execution_count": 0,
      "outputs": []
    },
    {
      "cell_type": "code",
      "metadata": {
        "id": "XXxsLTMj-_Zo",
        "colab_type": "code",
        "colab": {}
      },
      "source": [
        "# Transforming the data into Pytorch format\n",
        "data_source = pd.DataFrame({\n",
        "                   'X1' : X_source[:, 0].tolist(),\n",
        "                   'X2' : X_source[:, 1].tolist(), \n",
        "                   'X3' : X_source[:, 2].tolist(),\n",
        "                   'X4' : X_source[:, 3].tolist(), \n",
        "                   'X5' : X_source[:, 4].tolist(),\n",
        "                   'X6' : X_source[:, 5].tolist(), \n",
        "                  #  'X7' : X_source[:, 6].tolist(),\n",
        "                  #  'X8' : X_source[:, 7].tolist(), \n",
        "                  #  'X9' : X_source[:, 8].tolist(),\n",
        "                  #  'X10' : X_source[:, 9].tolist(),\n",
        "                   'label' : y_target.tolist()})"
      ],
      "execution_count": 0,
      "outputs": []
    },
    {
      "cell_type": "code",
      "metadata": {
        "colab_type": "code",
        "id": "VgI0npY8-t_h",
        "colab": {}
      },
      "source": [
        "source_dataset = CustomDataset(data_source, transform = None)\n",
        "source_loader = torch.utils.data.DataLoader(source_dataset, batch_size = 64, shuffle = True, num_workers = 2)"
      ],
      "execution_count": 0,
      "outputs": []
    },
    {
      "cell_type": "code",
      "metadata": {
        "colab_type": "code",
        "id": "FLFqQVo1-t_9",
        "colab": {}
      },
      "source": [
        "import torch.nn as nn\n",
        "import torch.nn.functional as F\n",
        "\n",
        "class linear_model_new(nn.Module):\n",
        "  def __init__(self):\n",
        "    super(linear_model_new, self).__init__()\n",
        "    self.fc1 = nn.Linear(n_features, 1)\n",
        "    nn.init.xavier_normal_(self.fc1.weight)\n",
        "\n",
        "  def forward(self, x):\n",
        "    x = x.view(-1, n_features)\n",
        "    x1 = torch.sigmoid(self.fc1(x))  \n",
        "    \n",
        "    return x1\n",
        "  \n",
        "model_new = linear_model_new()  "
      ],
      "execution_count": 0,
      "outputs": []
    },
    {
      "cell_type": "code",
      "metadata": {
        "colab_type": "code",
        "id": "-Nis3OgL-uAF",
        "colab": {}
      },
      "source": [
        "# Define loss function and optimizer\n",
        "import torch.optim as optim\n",
        "\n",
        "loss_function_new = nn.BCELoss(reduction = 'mean') # sums all outputs and divides by total data points\n",
        "\n",
        "optimizer_new = optim.Adam(model_new.parameters(), lr = 0.01)"
      ],
      "execution_count": 0,
      "outputs": []
    },
    {
      "cell_type": "code",
      "metadata": {
        "id": "ND6gcOVYN4St",
        "colab_type": "code",
        "colab": {}
      },
      "source": [
        "# + mu_ * torch.matmul(a.view(1, n_features), model_new.fc1.weight.view(n_features, 1)) / torch.sqrt(torch.matmul(model_new.fc1.weight.view(1, -1), model_new.fc1.weight.view(-1, 1)))  "
      ],
      "execution_count": 0,
      "outputs": []
    },
    {
      "cell_type": "code",
      "metadata": {
        "colab_type": "code",
        "outputId": "838d8949-50b4-445b-ce55-ec1b60fa5700",
        "id": "3gvCC5lf-uAO",
        "colab": {
          "base_uri": "https://localhost:8080/",
          "height": 85
        }
      },
      "source": [
        "# Define hyper-parameters before training\n",
        "n_epochs = 4# a = torch.randn(1, n_features)\n",
        "# a = a / a.norm() \n",
        "a = torch.Tensor([0, 0, 0, 0, 0, 1])\n",
        "# print(a)\n",
        "mu_ = 1\n",
        "for epochs in range(n_epochs):\n",
        " \n",
        "  running_loss = 0\n",
        "  \n",
        "  for batch in source_loader:\n",
        "    data, targets = batch\n",
        "\n",
        "    optimizer_new.zero_grad()\n",
        "\n",
        "    output = model_new(data.float()) \n",
        "    loss = loss_function_new(output, targets.view(-1, 1).float()) + mu_ * torch.matmul(a.view(1, n_features), model_new.fc1.weight.view(n_features, 1)) / torch.sqrt(torch.matmul(model_new.fc1.weight.view(1, -1), model_new.fc1.weight.view(-1, 1)))\n",
        "    loss.backward()\n",
        "\n",
        "    optimizer_new.step()\n",
        "\n",
        "    running_loss += loss.item()\n",
        "  print(running_loss)"
      ],
      "execution_count": 36,
      "outputs": [
        {
          "output_type": "stream",
          "text": [
            "-96.50715732574463\n",
            "-96.50743854045868\n",
            "-96.57351171970367\n",
            "-96.62896990776062\n"
          ],
          "name": "stdout"
        }
      ]
    },
    {
      "cell_type": "code",
      "metadata": {
        "id": "vEwY-nwyCctz",
        "colab_type": "code",
        "outputId": "51d51ab5-b979-4164-f676-08ffbf65ea7b",
        "colab": {
          "base_uri": "https://localhost:8080/",
          "height": 34
        }
      },
      "source": [
        "# Test performance on the entire test set\n",
        "correct = 0\n",
        "total = 0\n",
        "with torch.no_grad():\n",
        "  for data in target_loader:\n",
        "    images, labels = data\n",
        "    outputs = model_new(images.float())\n",
        "#     _, predicted = torch.max(outputs, 1)\n",
        "    predicted = outputs > 0.5\n",
        "#     predicted = predicted.view(predicted.size(0))\n",
        "    total += labels.size(0)\n",
        "    matches = 0\n",
        "    for i in range(len(predicted)):\n",
        "      if predicted[i].item() == labels[i].item():\n",
        "        matches += 1\n",
        "    correct += matches#(predicted == labels).sum().item()\n",
        "  print('Accuracy of the network on the entire data set is : %d %%' %(100 * correct/ total))"
      ],
      "execution_count": 38,
      "outputs": [
        {
          "output_type": "stream",
          "text": [
            "Accuracy of the network on the entire data set is : 68 %\n"
          ],
          "name": "stdout"
        }
      ]
    },
    {
      "cell_type": "code",
      "metadata": {
        "id": "Vp3KuK-vablZ",
        "colab_type": "code",
        "outputId": "9a729259-6f9a-489f-b382-948a4209dd44",
        "colab": {
          "base_uri": "https://localhost:8080/",
          "height": 68
        }
      },
      "source": [
        "model_new.fc1.weight"
      ],
      "execution_count": 29,
      "outputs": [
        {
          "output_type": "execute_result",
          "data": {
            "text/plain": [
              "Parameter containing:\n",
              "tensor([[ 0.0679,  0.7840,  0.2331,  0.4097, -0.3047, -1.4530]],\n",
              "       requires_grad=True)"
            ]
          },
          "metadata": {
            "tags": []
          },
          "execution_count": 29
        }
      ]
    },
    {
      "cell_type": "code",
      "metadata": {
        "id": "k4M86biLChcv",
        "colab_type": "code",
        "colab": {}
      },
      "source": [
        "# plt.figure(figsize = (7, 5))\n",
        "# x_s1 = list(range(-20, 25, 5))\n",
        "# y_s1 = []\n",
        "# y_s2 = []\n",
        "# for el in x_s1:\n",
        "#   y_s1.append((-model_new.fc1.weight[0][0].item()/ model_new.fc1.weight[0][1].item()) * el)\n",
        "# for el in x_s1:\n",
        "#   y_s2.append((-model.fc11.weight[0][0].item()/ model.fc11.weight[0][1].item()) * el)\n",
        "\n",
        "# plt.plot(x_s1, y_s2, label = 'trained on target') \n",
        "# plt.plot(x_s1, y_s1, label = 'trained on source') \n",
        "\n",
        "# plt.legend()\n",
        "# plt.scatter(data_target['X1'], data_target['X2'], label = 'target data')\n",
        "# plt.scatter(data_source['X1'], data_source['X2'], label = 'source data')\n",
        "# plt.legend()\n",
        "# plt.xlabel('feature 1')\n",
        "# plt.ylabel('feature 2')"
      ],
      "execution_count": 0,
      "outputs": []
    },
    {
      "cell_type": "code",
      "metadata": {
        "id": "ubgzVlbINWnR",
        "colab_type": "code",
        "colab": {}
      },
      "source": [
        "# a = e(2) # ~ 9 epochs\n",
        "#  mu = 1\n",
        "# source_acc = [0.90, 0.94, 0.93, 0.96, 0.94]\n",
        "# target_acc = [0.88, 0.91, 0.91, 0.85. 0.82]\n",
        "# w_trainedOnsource = [ 0.0410, -0.6910, -0.0764,  1.1474, -0.7760,  0.6488]\n",
        "\n",
        "# a = e(3)\n",
        "# mu = 0.001\n",
        "# source_acc = [0.99, 0.99, 0.99, 0.99]\n",
        "# target_acc = [0.66, 0.57, 0.62, 0.62]\n",
        "# w_trainedOnsource = [-0.0873,  0.6620, -0.0401,  0.5173, -1.1122,  0.1431] \n",
        "\n",
        "# mu = 0.01 (6 epochs)\n",
        "# source_acc = [0.99, 0.99, 0.99, 0.99]  \n",
        "# target_acc =  [0.67, 0.84, 0.60, 0.66]\n",
        "# w_trainedOnsource = [ 0.1480,  0.4519,  0.1193,  1.0103, -0.9674, -0.4127]\n",
        "\n",
        "# mu = 0.1 (6 epochs)\n",
        "# source_acc = [0.99, 0.99, 0.99, 0.99, 0.99]  \n",
        "# target_acc =  [0.78, 0.67, 0.69, 0.70, 0.85]\n",
        "# w_trainedOnsource = [-0.0824,  1.2047,  0.0071,  1.0271, -0.4988, -0.2717]\n",
        "\n",
        "# mu = 1 (6 epochs)\n",
        "# source_acc = [0.97, 0.96, 0.97, 0.96, 0.94]  \n",
        "# target_acc =  [0.68, 0.70, 0.65, 0.69, 0.70]\n",
        "# w_trainedOnsource = [ 0.6137,  0.7717, -1.1279,  0.9522, -0.4991,  0.7584]\n",
        "\n",
        "# a = e(4)\n",
        "# mu = 0.001\n",
        "# source_acc = [0.99, 0.98, 1, 0.99, 0.99, 0.99]  \n",
        "# target_acc = [0.88, 0.90, 0.72, 0.68, 0.69, 0.74]  \n",
        "# w_trainedOnsource = [-0.5362, -0.6480,  0.1678,  1.3624, -0.5187,  1.2504]\n",
        "\n",
        "# mu = 0.01\n",
        "# source_acc = [0.98, 0.99, 0.99, 0.99, 0.99]  \n",
        "# target_acc = [0.67, 0.68, 0.63, 0.77, 0.75]  \n",
        "# w_trainedOnsource = [ 0.0973,  0.6850, -0.0120,  1.0858, -0.4377,  0.2935]\n",
        "\n",
        "# mu = 0.1\n",
        "# source_acc = [0.99, 0.99, 0.98, 0.99, 0.99]  \n",
        "# target_acc = [0.50, 0.5, 0.56, 0.53, 0.50]  \n",
        "# w_trainedOnsource = [-0.8707,  1.3800, -0.0254, -0.3425, -0.1094,  0.6709]\n",
        "\n",
        "# mu = 1\n",
        "# source_acc = [0.94, 0.93, 0.93, 0.94, 0.94]  \n",
        "# target_acc = [0.55, 0.50, 0.5, 0.46, 0.47]  \n",
        "# w_trainedOnsource = [-0.9348,  0.6168,  0.1058, -0.7402, -0.1509,  0.7958]\n",
        "\n",
        "# a = e(5)\n",
        "# mu = 0.001\n",
        "# source_acc = [0.99, 0.99, 0.99, 0.99, 0.99]  \n",
        "# target_acc = [0.67, 0.66, 0.59, 0.55, 0.56]  \n",
        "# w_trainedOnsource = [-0.0764,  0.5917,  0.2170,  0.5306, -0.4606, -0.6649] \n",
        "\n",
        "# mu = 0.01\n",
        "# source_acc = [0.99, 0.99, 0.99, 0.99, 0.99]\n",
        "# target_acc =  [0.67, 0.79, 0.84, 0.68, 0.66]\n",
        "# w_trainedOnsource = [-0.6197,  0.8216,  0.2834,  0.9724, -0.5479,  0.3744]\n",
        "\n",
        "# mu = 0.1\n",
        "# source_acc = [0.99, 0.98, 0.96, 0.99, 0.9]\n",
        "# target_acc =  [0.71, 0.82, 0.93, 0.73, 0.75]\n",
        "# w_trainedOnsource = [-0.0790, -0.0834,  0.4029,  0.9120, -0.9244, -0.4637]\n",
        "\n",
        "# mu = 1\n",
        "# source_acc = [0.95, 0.95, 0.98, 0.94, 0.97]\n",
        "# target_acc =  [0.74, 0.88, 0.66, 0.91, 0.67]\n",
        "# w_trainedOnsource = [ 0.0434,  0.0444,  0.1794,  0.9025, -1.1929, -0.4635]\n",
        "\n",
        "# a = e(6)\n",
        "# mu = 0.001\n",
        "# source_acc = [0.99, 0.99, 0.99, 0.99, 0.99]  \n",
        "# target_acc = [0.56, 0.55, 0.52, 0.68, 0.55]  \n",
        "# w_trainedOnsource = [-0.1897,  1.2013,  0.2390,  0.6079, -0.7662, -0.7045]\n",
        "\n",
        "# mu = 0.01\n",
        "# source_acc = [0.98, 0.99, 0.99, 0.99, 0.99]\n",
        "# target_acc =  [0.91, 0.62, 0.88, 0.87, 0.66]\n",
        "# w_trainedOnsource = [ 0.0191,  0.1738,  0.1169,  0.7730, -0.4382,  0.0603] \n",
        "\n",
        "# mu = 0.1\n",
        "# source_acc = [0.99, 0.99, 0.99, 0.99]\n",
        "# target_acc =  [0.83,0.71, 0.85, 0.74]\n",
        "# w_trainedOnsource = [-0.7426,  1.1060,  0.3794,  1.7157, -0.3459, -0.4759]\n",
        "\n",
        "# mu = 1\n",
        "# source_acc =  [0.98, 0.98, 0.98, 0.98, 0.97]\n",
        "# target_acc =  [0.74, 0.74, 0.74, 0.69, 0.68]\n",
        "# w_trainedOnsource = [ 0.0648,  0.5646,  0.4808,  0.6665, -0.6328, -1.5918] "
      ],
      "execution_count": 0,
      "outputs": []
    },
    {
      "cell_type": "code",
      "metadata": {
        "id": "7h24NT6jklYV",
        "colab_type": "code",
        "colab": {}
      },
      "source": [
        ""
      ],
      "execution_count": 0,
      "outputs": []
    }
  ]
}