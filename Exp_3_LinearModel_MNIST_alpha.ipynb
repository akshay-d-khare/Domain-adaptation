{
  "nbformat": 4,
  "nbformat_minor": 0,
  "metadata": {
    "colab": {
      "name": "Exp#3_LinearModel_MNIST_alpha.ipynb",
      "provenance": [],
      "collapsed_sections": []
    },
    "kernelspec": {
      "name": "python3",
      "display_name": "Python 3"
    },
    "accelerator": "GPU"
  },
  "cells": [
    {
      "cell_type": "code",
      "metadata": {
        "id": "wv6f1pjrYHm8",
        "colab_type": "code",
        "colab": {}
      },
      "source": [
        "# Let MNIST(alpha) be MNIST with Gaussian noise of SD alpha added to the pixels.\n",
        "# Group any five classes to be the positive class and the rest to be the negative class.\n",
        "# Add a 3x3 patch on the left/right based on whether the image is positive or negative. Let's call these modified datasets as MNIST_bin_patch(alpha).\n",
        "# Also define the patchless versions of these datasets as MNIST_bin(alpha).\n",
        "# Train a linear model on these datasets for an appropriate range of alpha values. Only select architectures that have good training and testing performance on the \n",
        "# patchless version of the dataset (this is to rule out really bad architectures and really bad datasets).\n",
        "\n",
        "# Test all these models (trained on the patched version of the data) on the test set of MNIST_bin_patch(alpha), MNIST_bin(alpha), i.e. the model is tested on the data \n",
        "# with which it is trained, and also the patchless version. Choose the model/dataset for which the difference between the two is greatest. \n",
        "# (The accuracy on the patched data is much higher than the accuracy on the data without patches). \n",
        "# Now the goal is to train a model with the same architecture of the chosen model that does well on both the patched data and the patchless data. \n",
        "\n",
        "\n",
        "\n",
        "# Model learns beter when trained on the dat awith partches than eithout patches!\n",
        "# In case of training on no patches, \n",
        "# for 1 classifier, loss starts with \n",
        "# for 2 classifiers with lambda = 0, loss starts from 612...Training and test loss (on patchless data) is around 89%\n",
        "# for 2 classifiers with lambda = 1, loss starts from 636...Training and test loss (on patchless data) is around 89%\n",
        "\n",
        "# In case of training with patches (28*4)\n",
        "# for 2 classifier, with lambda = 1, loss starts from 10.7...training accuracy is 100%, test acc on path data is 100 and that on patchless is around 80%\n",
        "\n",
        "# In case of training with patches (3*3)\n",
        "#######################\n",
        "# For 2 classifiers with 0 lambda, model clearly learns patches as apparent from the weight vector images\n",
        "\n",
        "#######################\n",
        "# for 2 classifier, with lambda = 1, loss starts from 10.7...training accuracy is 100%, test acc on path data is 100 and that on patchless is around 80%\n",
        "\n",
        "# The test accuracy on patchless data is highest when trained on patch less data (89% for both test and train).\n",
        "# As the size of patch grows, train accuracy grows to 100%, while test accuracy on patchless data reduces. Test accuracy on data with patches is 100%.\n",
        "# So as the patch size grows, the model begins to primrily learn the left-right patch rather than odd-even\n",
        "# Even the newly added dot product loss doesn't seem to make the 2 classifiers learn different tasks\n",
        "\n",
        "# Even the fancy dot product loss seems to learn both the tasks for both models\n",
        "# It tries to make the vectors orthogonal in the parts except the patches\n",
        "\n",
        "\n",
        "# data type matters because conversion to float and again to int gives the same results as no conversion..."
      ],
      "execution_count": 0,
      "outputs": []
    },
    {
      "cell_type": "code",
      "metadata": {
        "id": "xmt58uKbbmtD",
        "colab_type": "code",
        "colab": {}
      },
      "source": [
        "# For improving the model expeiments, alpha = 150. Test accuracy on patchless data falls from 82% to 63% for a 3*3 patch"
      ],
      "execution_count": 0,
      "outputs": []
    },
    {
      "cell_type": "code",
      "metadata": {
        "id": "W_xa5d_95ea2",
        "colab_type": "code",
        "colab": {}
      },
      "source": [
        "# Training 16 models\n",
        "# The train and test acc. is 98%. The visualization of weight vectors reveals that the left and right patches are not as prominent as they used to be for 2 models\n",
        "\n",
        "# Training 10 models\n",
        "# The train and test acc. is 98%. The visualization of weight vectors reveals that the left and right patches are not as prominent as they used to be for 2 models\n",
        "# With fancy inner product, train and test on patches has 99% accuracy; max patchless acc. among all models is 62%\n",
        "\n",
        "### Training multiple models (on patched version) by forcing orthogonality has lesser accuracy (on patchless version) as compared to training a single model \n",
        "# sigma = 0.01, 1 (not good) with lambda = 50 and 20 epochs around 60% acc\n",
        "# sigma = 1, lambda = 50 and 25 epochs "
      ],
      "execution_count": 0,
      "outputs": []
    },
    {
      "cell_type": "code",
      "metadata": {
        "id": "DT38WGdcao27",
        "colab_type": "code",
        "colab": {}
      },
      "source": [
        "alpha = 100 # taking 150 because visually makes more sense for human eye\n",
        "\n",
        "import numpy as np\n",
        "import matplotlib.pyplot as plt\n",
        "import torch\n",
        "import torchvision\n",
        "import torchvision.transforms as transforms"
      ],
      "execution_count": 0,
      "outputs": []
    },
    {
      "cell_type": "code",
      "metadata": {
        "id": "pOpkqh9oat1v",
        "colab_type": "code",
        "colab": {
          "base_uri": "https://localhost:8080/",
          "height": 255
        },
        "outputId": "18cf6ba2-c3b3-47be-ac25-cc485f0d9647"
      },
      "source": [
        "transform = transforms.Compose([transforms.ToTensor(), transforms.Normalize((0.5, ), (0.5, ))])\n",
        "\n",
        "trainset = torchvision.datasets.MNIST(root = './data', train = True, download = True, transform = transform)\n",
        "\n",
        "testset = torchvision.datasets.MNIST(root = './data', train = False, download = True, transform = transform)\n",
        "\n",
        "trainset_forpatch = torchvision.datasets.MNIST(root = './data', train = True, download = True, transform = transform)\n",
        "\n",
        "testset_forpatch = torchvision.datasets.MNIST(root = './data', train = False, download = True, transform = transform)"
      ],
      "execution_count": 2,
      "outputs": [
        {
          "output_type": "stream",
          "text": [
            "\r0it [00:00, ?it/s]"
          ],
          "name": "stderr"
        },
        {
          "output_type": "stream",
          "text": [
            "Downloading http://yann.lecun.com/exdb/mnist/train-images-idx3-ubyte.gz to ./data/MNIST/raw/train-images-idx3-ubyte.gz\n"
          ],
          "name": "stdout"
        },
        {
          "output_type": "stream",
          "text": [
            "9920512it [00:01, 7431191.80it/s]                            \n"
          ],
          "name": "stderr"
        },
        {
          "output_type": "stream",
          "text": [
            "Extracting ./data/MNIST/raw/train-images-idx3-ubyte.gz to ./data/MNIST/raw\n"
          ],
          "name": "stdout"
        },
        {
          "output_type": "stream",
          "text": [
            "  0%|          | 0/28881 [00:00<?, ?it/s]"
          ],
          "name": "stderr"
        },
        {
          "output_type": "stream",
          "text": [
            "Downloading http://yann.lecun.com/exdb/mnist/train-labels-idx1-ubyte.gz to ./data/MNIST/raw/train-labels-idx1-ubyte.gz\n"
          ],
          "name": "stdout"
        },
        {
          "output_type": "stream",
          "text": [
            "32768it [00:00, 135685.09it/s]           \n",
            "  0%|          | 0/1648877 [00:00<?, ?it/s]"
          ],
          "name": "stderr"
        },
        {
          "output_type": "stream",
          "text": [
            "Extracting ./data/MNIST/raw/train-labels-idx1-ubyte.gz to ./data/MNIST/raw\n",
            "Downloading http://yann.lecun.com/exdb/mnist/t10k-images-idx3-ubyte.gz to ./data/MNIST/raw/t10k-images-idx3-ubyte.gz\n"
          ],
          "name": "stdout"
        },
        {
          "output_type": "stream",
          "text": [
            "1654784it [00:00, 2199642.12it/s]                            \n",
            "0it [00:00, ?it/s]"
          ],
          "name": "stderr"
        },
        {
          "output_type": "stream",
          "text": [
            "Extracting ./data/MNIST/raw/t10k-images-idx3-ubyte.gz to ./data/MNIST/raw\n",
            "Downloading http://yann.lecun.com/exdb/mnist/t10k-labels-idx1-ubyte.gz to ./data/MNIST/raw/t10k-labels-idx1-ubyte.gz\n"
          ],
          "name": "stdout"
        },
        {
          "output_type": "stream",
          "text": [
            "8192it [00:00, 51538.73it/s]            \n"
          ],
          "name": "stderr"
        },
        {
          "output_type": "stream",
          "text": [
            "Extracting ./data/MNIST/raw/t10k-labels-idx1-ubyte.gz to ./data/MNIST/raw\n",
            "Processing...\n",
            "Done!\n"
          ],
          "name": "stdout"
        }
      ]
    },
    {
      "cell_type": "code",
      "metadata": {
        "id": "2NRzqeQH7tPP",
        "colab_type": "code",
        "colab": {}
      },
      "source": [
        "# label [1, 2, 3, 4, 5] as 0, others as one\n",
        "trainset.targets[np.where(trainset.targets %2 != 0)[0].tolist()] = 1\n",
        "trainset.targets[np.where(trainset.targets %2 == 0)[0].tolist()] = 0\n",
        "\n",
        "testset.targets[np.where(testset.targets %2 != 0)[0].tolist()] = 1\n",
        "testset.targets[np.where(testset.targets %2 == 0)[0].tolist()] = 0\n",
        "\n",
        "trainset_forpatch.targets[np.where(trainset_forpatch.targets %2 != 0)[0].tolist()] = 1\n",
        "trainset_forpatch.targets[np.where(trainset_forpatch.targets %2 == 0)[0].tolist()] = 0\n",
        "\n",
        "testset_forpatch.targets[np.where(testset_forpatch.targets %2 != 0)[0].tolist()] = 1\n",
        "testset_forpatch.targets[np.where(testset_forpatch.targets %2 == 0)[0].tolist()] = 0"
      ],
      "execution_count": 0,
      "outputs": []
    },
    {
      "cell_type": "code",
      "metadata": {
        "id": "STF8bVQuKjI7",
        "colab_type": "code",
        "colab": {}
      },
      "source": [
        "# Converting the data type to float in order to be able to add Gaussian noise\n",
        "trainset.data = trainset.data.type(torch.float64)\n",
        "testset.data = testset.data.type(torch.float64)\n",
        "trainset_forpatch.data = trainset_forpatch.data.type(torch.float64)\n",
        "testset_forpatch.data = testset_forpatch.data.type(torch.float64)"
      ],
      "execution_count": 0,
      "outputs": []
    },
    {
      "cell_type": "code",
      "metadata": {
        "id": "7rkXDiSha1CQ",
        "colab_type": "code",
        "colab": {}
      },
      "source": [
        "# Generating MNIST_bin(alpha)\n",
        "def GaussianNoise_alpha(trainset1, testset1, alpha):\n",
        "  for im in range(len(trainset1)):\n",
        "#     trainset1.data[im] = torch.tensor(trainset1.data[im], dtype = torch.float64) + torch.tensor(np.random.normal(scale = alpha, size = (28, 28)), dtype = torch.float64)\n",
        "    trainset1.data[im] = trainset1.data[im] + torch.tensor(np.random.normal(scale = alpha, size = (28, 28)), dtype = torch.float64)\n",
        "    trainset1.data[im] = np.clip(trainset1.data[im], 0, 255)\n",
        "  for jm in range(len(testset1)):\n",
        "#     testset1.data[jm] = torch.tensor(testset1.data[jm], dtype = torch.float64) + torch.tensor(np.random.normal(scale = alpha, size = (28, 28)), dtype = torch.float64)\n",
        "    testset1.data[jm] = testset1.data[jm] + torch.tensor(np.random.normal(scale = alpha, size = (28, 28)), dtype = torch.float64)\n",
        "    testset1.data[jm] = np.clip(testset1.data[jm], 0, 255)\n",
        "  return trainset1, testset1\n",
        "\n",
        "\n",
        "# Generating MNIST_bin_patch(alpha)\n",
        "def GaussianNoise_alpha_patch(trainset1, testset1): # Feed in the data with gaussian noise already added\n",
        "# Left patch for   \n",
        "  for im in range(len(trainset1)):\n",
        "    if trainset1.targets[im] == 0:\n",
        "      for p1 in range(3):\n",
        "        for p2 in range(3):\n",
        "          trainset1.data[im][p1, p2] = 255\n",
        "    else:\n",
        "      for p1 in range(3):\n",
        "        for p2 in range(25, 28):\n",
        "          trainset1.data[im][p1, p2] = 255\n",
        "\n",
        "  for im in range(len(testset1)):\n",
        "    if testset1.targets[im] == 0:\n",
        "      for p1 in range(3):\n",
        "        for p2 in range(3):\n",
        "          testset1.data[im][p1, p2] = 255\n",
        "    else:\n",
        "      for p1 in range(3):\n",
        "        for p2 in range(25, 28):\n",
        "          testset1.data[im][p1, p2] = 255\n",
        "          \n",
        "  return trainset1, testset1 "
      ],
      "execution_count": 0,
      "outputs": []
    },
    {
      "cell_type": "code",
      "metadata": {
        "id": "zQVUKDAQ4aSL",
        "colab_type": "code",
        "colab": {}
      },
      "source": [
        "# Creating the bin data\n",
        "train_bin, test_bin = GaussianNoise_alpha(trainset, testset, alpha)\n",
        "\n",
        "# # Creating the bin data with patches\n",
        "train_inter, test_inter = GaussianNoise_alpha(trainset_forpatch, testset_forpatch, alpha)\n",
        "train_bin_patch, test_bin_patch = GaussianNoise_alpha_patch(train_inter, test_inter)"
      ],
      "execution_count": 0,
      "outputs": []
    },
    {
      "cell_type": "code",
      "metadata": {
        "id": "8XOkrJ83c1Zf",
        "colab_type": "code",
        "colab": {}
      },
      "source": [
        "# Converting the data type back to unit8...\n",
        "\n",
        "train_bin.data = train_bin.data.type(torch.uint8)\n",
        "test_bin.data = test_bin.data.type(torch.uint8)\n",
        "train_bin_patch.data = train_bin_patch.data.type(torch.uint8)\n",
        "test_bin_patch.data = test_bin_patch.data.type(torch.uint8)"
      ],
      "execution_count": 0,
      "outputs": []
    },
    {
      "cell_type": "code",
      "metadata": {
        "id": "o03ncuhl_xdr",
        "colab_type": "code",
        "outputId": "255ef3ba-3b14-4bd1-b88e-f4b85b658861",
        "colab": {
          "base_uri": "https://localhost:8080/",
          "height": 957
        }
      },
      "source": [
        "# Plot random train and test images\n",
        "# Training images\n",
        "fig, axes = plt.subplots(2, 3, figsize=(9, 4),\n",
        "                         subplot_kw={'xticks':[], 'yticks':[]},\n",
        "                         gridspec_kw=dict(hspace=0.1, wspace=0.1))\n",
        "for i, ax in zip([1, 115, 460, 212, 130, 10020], axes.flat):\n",
        "    ax.imshow(train_bin.data[i], cmap='gray')\n",
        "    \n",
        "#Test images without patch \n",
        "fig, axes = plt.subplots(2, 3, figsize=(9, 4),\n",
        "                         subplot_kw={'xticks':[], 'yticks':[]},\n",
        "                         gridspec_kw=dict(hspace=0.1, wspace=0.1))\n",
        "for i, ax in zip([201, 115, 1500, 212, 130, 122], axes.flat):\n",
        "    ax.imshow(test_bin.data[i], cmap='gray')  \n",
        "    \n",
        "# Training images\n",
        "fig, axes = plt.subplots(2, 3, figsize=(9, 4),\n",
        "                         subplot_kw={'xticks':[], 'yticks':[]},\n",
        "                         gridspec_kw=dict(hspace=0.1, wspace=0.1))\n",
        "for i, ax in zip([1, 115, 460, 212, 130, 10020], axes.flat):\n",
        "    ax.imshow(train_bin_patch.data[i], cmap='gray')\n",
        "    \n",
        "# Test images without patch \n",
        "fig, axes = plt.subplots(2, 3, figsize=(9, 4),\n",
        "                         subplot_kw={'xticks':[], 'yticks':[]},\n",
        "                         gridspec_kw=dict(hspace=0.1, wspace=0.1))\n",
        "for i, ax in zip([201, 115, 1500, 212, 130, 122], axes.flat):\n",
        "    ax.imshow(test_bin_patch.data[i], cmap='gray')      "
      ],
      "execution_count": 8,
      "outputs": [
        {
          "output_type": "display_data",
          "data": {
            "image/png": "[encoded data removed]",
            "text/plain": [
              "<Figure size 648x288 with 6 Axes>"
            ]
          },
          "metadata": {
            "tags": []
          }
        },
        {
          "output_type": "display_data",
          "data": {
            "image/png": "[encoded data removed]",
            "text/plain": [
              "<Figure size 648x288 with 6 Axes>"
            ]
          },
          "metadata": {
            "tags": []
          }
        },
        {
          "output_type": "display_data",
          "data": {
            "image/png": "[encoded data removed]",
            "text/plain": [
              "<Figure size 648x288 with 6 Axes>"
            ]
          },
          "metadata": {
            "tags": []
          }
        },
        {
          "output_type": "display_data",
          "data": {
            "image/png": "[encoded data removed]",
            "text/plain": [
              "<Figure size 648x288 with 6 Axes>"
            ]
          },
          "metadata": {
            "tags": []
          }
        }
      ]
    },
    {
      "cell_type": "code",
      "metadata": {
        "id": "gn1k8YzbZEAc",
        "colab_type": "code",
        "colab": {}
      },
      "source": [
        "# Assign data to data loader\n",
        "\n",
        "trainloader = torch.utils.data.DataLoader(train_bin, batch_size = 64, shuffle = True, num_workers = 2)\n",
        "\n",
        "testloader = torch.utils.data.DataLoader(test_bin, batch_size = 64, shuffle = False, num_workers = 2)\n",
        "\n",
        "trainloader_patch = torch.utils.data.DataLoader(train_bin_patch, batch_size = 64, shuffle = True, num_workers = 2)\n",
        "\n",
        "testloader_patch = torch.utils.data.DataLoader(test_bin_patch, batch_size = 64, shuffle = False, num_workers = 2)"
      ],
      "execution_count": 0,
      "outputs": []
    },
    {
      "cell_type": "code",
      "metadata": {
        "id": "BJG4lXVNZYrt",
        "colab_type": "code",
        "colab": {}
      },
      "source": [
        "import torch.nn as nn\n",
        "import torch.nn.functional as F\n",
        "\n",
        "class linear_model(nn.Module):\n",
        "  def __init__(self):\n",
        "    super(linear_model, self).__init__()\n",
        "    self.fc1 = nn.Linear(28*28, 1)\n",
        "    self.fc2 = nn.Linear(28*28, 1)\n",
        "    self.fc3 = nn.Linear(28*28, 1)\n",
        "    self.fc4 = nn.Linear(28*28, 1)\n",
        "    self.fc5 = nn.Linear(28*28, 1)\n",
        "    self.fc6 = nn.Linear(28*28, 1)\n",
        "    self.fc7 = nn.Linear(28*28, 1)\n",
        "    self.fc8 = nn.Linear(28*28, 1)\n",
        "    self.fc9 = nn.Linear(28*28, 1)\n",
        "    self.fc10 = nn.Linear(28*28, 1)\n",
        "    self.fc11 = nn.Linear(28*28, 1)\n",
        "    self.fc12 = nn.Linear(28*28, 1)\n",
        "    self.fc13 = nn.Linear(28*28, 1)\n",
        "    self.fc14 = nn.Linear(28*28, 1)\n",
        "    self.fc15 = nn.Linear(28*28, 1)\n",
        "    self.fc16 = nn.Linear(28*28, 1)\n",
        "\n",
        "  def forward(self, x):\n",
        "    x = x.view(-1, 28*28)\n",
        "    x1 = torch.sigmoid(self.fc1(x))  \n",
        "    x2 = torch.sigmoid(self.fc2(x))  \n",
        "    x3 = torch.sigmoid(self.fc3(x))  \n",
        "    x4 = torch.sigmoid(self.fc4(x))  \n",
        "    x5 = torch.sigmoid(self.fc5(x))  \n",
        "    x6 = torch.sigmoid(self.fc6(x))  \n",
        "    x7 = torch.sigmoid(self.fc7(x))  \n",
        "    x8 = torch.sigmoid(self.fc8(x))  \n",
        "    x9 = torch.sigmoid(self.fc9(x))  \n",
        "    x10 = torch.sigmoid(self.fc10(x))  \n",
        "    x11 = torch.sigmoid(self.fc11(x))  \n",
        "    x12 = torch.sigmoid(self.fc12(x))  \n",
        "    x13 = torch.sigmoid(self.fc13(x))  \n",
        "    x14 = torch.sigmoid(self.fc14(x))  \n",
        "    x15 = torch.sigmoid(self.fc15(x))  \n",
        "    x16 = torch.sigmoid(self.fc16(x))  \n",
        "    return x1, x2, x3, x4, x5, x6, x7, x8, x9, x10, x11, x12, x13, x14, x15, x16\n",
        "  \n",
        "model = linear_model()  "
      ],
      "execution_count": 0,
      "outputs": []
    },
    {
      "cell_type": "code",
      "metadata": {
        "id": "nj382Gz0WzAy",
        "colab_type": "code",
        "colab": {}
      },
      "source": [
        "#Script for generating fancy inner product matrix:\n",
        "\n",
        "sigma = 10 ############HIGHER VALUES OF SIGMA SEEM TO PERFORM BETTER#############\n",
        "M = torch.zeros([28*28, 28*28])\n",
        "\n",
        "M_tensor = M.view(28,28,28,28)\n",
        "\n",
        "for i_1 in range(28):\n",
        "    for i_2 in range(28):\n",
        "        for j_1 in range(28):\n",
        "            for j_2 in range(28):\n",
        "                M_tensor[i_1,i_2,j_1,j_2] = np.exp( -((i_1 - j_1)**2 + (i_2 - j_2)**2)/(2 * (sigma)**2) )\n",
        "\n",
        "M = M_tensor.view([28*28,28*28])"
      ],
      "execution_count": 0,
      "outputs": []
    },
    {
      "cell_type": "code",
      "metadata": {
        "id": "V_earDziniOm",
        "colab_type": "code",
        "colab": {}
      },
      "source": [
        "# Define loss function and optimizer\n",
        "import torch.optim as optim\n",
        "\n",
        "loss_function = nn.BCELoss(reduction = 'mean') # sums all outputs and divides by total data points\n",
        "\n",
        "optimizer = optim.Adam(model.parameters(), lr = 0.001)\n",
        "\n",
        "class custom_loss(torch.nn.Module):\n",
        "\n",
        "  def __init__(self):\n",
        "    super(custom_loss,self).__init__()\n",
        "\n",
        "  def forward(self, mat1, mat2, M):\n",
        "  # Absolute dot product of weights\n",
        "#     l = (torch.mm(mat1, mat2.t()))**2\n",
        "\n",
        "  # Fancy dot product if weights\n",
        "    l = (torch.mm(mat1, torch.mm(M, mat2.t())))**2\n",
        "    return l\n",
        "\n",
        "sl = custom_loss()    "
      ],
      "execution_count": 0,
      "outputs": []
    },
    {
      "cell_type": "code",
      "metadata": {
        "id": "6MmENeAeEN9H",
        "colab_type": "code",
        "colab": {}
      },
      "source": [
        "models_forloss = [model.fc1.weight, model.fc2.weight, model.fc3.weight, model.fc4.weight, model.fc5.weight, model.fc6.weight, model.fc7.weight, model.fc8.weight, \n",
        "      model.fc9.weight, model.fc10.weight, model.fc11.weight, model.fc12.weight, model.fc13.weight, model.fc14.weight, model.fc15.weight, model.fc16.weight]"
      ],
      "execution_count": 0,
      "outputs": []
    },
    {
      "cell_type": "code",
      "metadata": {
        "id": "yaqmKDhSn1rI",
        "colab_type": "code",
        "outputId": "b19b805c-f631-4cd1-b8a3-77a9e44b0ab9",
        "colab": {
          "base_uri": "https://localhost:8080/",
          "height": 527
        }
      },
      "source": [
        "n_epochs = 30\n",
        "lmbda = 50\n",
        "\n",
        "for epochs in range(n_epochs):\n",
        " \n",
        "  running_loss = 0\n",
        "  \n",
        "  for batch in trainloader_patch:\n",
        "    data, targets = batch\n",
        "    \n",
        "    optimizer.zero_grad()\n",
        "    \n",
        "    output = model(data)\n",
        "    \n",
        "    loss = loss_function(output[0], targets.view(-1, 1).float())\n",
        "    \n",
        "    for mm in range(1, len(models_forloss)):\n",
        "      \n",
        "      loss += loss_function(output[mm], targets.view(-1, 1).float())\n",
        "    \n",
        "    for fr in range((len(models_forloss) - 1)):\n",
        "      \n",
        "      for sn in range(fr + 1, len(models_forloss)):  \n",
        "        \n",
        "        loss += lmbda * sl.forward(models_forloss[fr], models_forloss[sn], M)[0][0]\n",
        "\n",
        "    loss.backward()\n",
        "    \n",
        "    optimizer.step()\n",
        "    \n",
        "    running_loss += loss.item()\n",
        "  print(running_loss)    "
      ],
      "execution_count": 39,
      "outputs": [
        {
          "output_type": "stream",
          "text": [
            "6741.961539983749\n",
            "2267.0349375009537\n",
            "1279.485065817833\n",
            "919.9324316382408\n",
            "822.7418057024479\n",
            "621.4543329179287\n",
            "584.7376155555248\n",
            "9581.19468575716\n",
            "402.5467450618744\n",
            "386.6839978992939\n",
            "364.98322466015816\n",
            "336.5483537018299\n",
            "333.4618203788996\n",
            "335.71530467271805\n",
            "331.16739620268345\n",
            "333.00345063209534\n",
            "404.31976936757565\n",
            "321.9544662684202\n",
            "28270.683450326324\n",
            "210.98342756927013\n",
            "208.88784629106522\n",
            "206.27105958759785\n",
            "202.31179684400558\n",
            "196.35657626390457\n",
            "187.7159429639578\n",
            "177.61452797055244\n",
            "198.47857151925564\n",
            "205.9293877929449\n",
            "40379.40912805498\n",
            "626.3887474238873\n"
          ],
          "name": "stdout"
        }
      ]
    },
    {
      "cell_type": "code",
      "metadata": {
        "id": "ERTmNAwtzzNM",
        "colab_type": "code",
        "outputId": "314366d9-2cca-48c7-c829-9ce2fa2c7839",
        "colab": {
          "base_uri": "https://localhost:8080/",
          "height": 34
        }
      },
      "source": [
        "# # Test performance on the entire test set\n",
        "# correct = 0\n",
        "# total = 0\n",
        "# with torch.no_grad():\n",
        "#   for data in testloader:\n",
        "#     images, labels = data\n",
        "#     outputs = model(images)\n",
        "# #     _, predicted = torch.max(outputs, 1)\n",
        "#     predicted = outputs > 0.5\n",
        "# #     predicted = predicted.view(predicted.size(0))\n",
        "#     total += labels.size(0)\n",
        "#     matches = 0\n",
        "#     for i in range(len(predicted)):\n",
        "#       if predicted[i].item() == labels[i].item():\n",
        "#         matches += 1\n",
        "#     correct += matches#(predicted == labels).sum().item()\n",
        "#   print('Accuracy of the network on the entire data set is : %d %%' %(100 * correct/ total))\n",
        "\n",
        "# Test performance on the entire test set\n",
        "correct = 0\n",
        "total = 0\n",
        "with torch.no_grad():\n",
        "  for data in testloader:\n",
        "    images, labels = data\n",
        "    outputs = model(images)\n",
        "#     _, predicted = torch.max(outputs, 1)\n",
        "    predicted = outputs[15] > 0.5\n",
        "#     predicted = predicted.view(predicted.size(0))\n",
        "    total += labels.size(0)\n",
        "    matches = 0\n",
        "    for i in range(len(predicted)):\n",
        "      if predicted[i].item() == labels[i].item():\n",
        "        matches += 1\n",
        "    correct += matches#(predicted == labels).sum().item()\n",
        "  print('Accuracy of the network on the entire data set is : %d %%' %(100 * correct/ total))"
      ],
      "execution_count": 40,
      "outputs": [
        {
          "output_type": "stream",
          "text": [
            "Accuracy of the network on the entire data set is : 63 %\n"
          ],
          "name": "stdout"
        }
      ]
    },
    {
      "cell_type": "code",
      "metadata": {
        "id": "yWEnYZo7GlmX",
        "colab_type": "code",
        "outputId": "483f75f2-dde9-4dbd-ebea-fe4edb83532a",
        "colab": {
          "base_uri": "https://localhost:8080/",
          "height": 34
        }
      },
      "source": [
        "# Test performance on the entire test set\n",
        "correct = 0\n",
        "total = 0\n",
        "with torch.no_grad():\n",
        "  for data in trainloader_patch:\n",
        "    images, labels = data\n",
        "    outputs = model(images)\n",
        "#     _, predicted = torch.max(outputs, 1)\n",
        "    predicted = outputs > 0.5\n",
        "#     predicted = predicted.view(predicted.size(0))\n",
        "    total += labels.size(0)\n",
        "    matches = 0\n",
        "    for i in range(len(predicted)):\n",
        "      if predicted[i].item() == labels[i].item():\n",
        "        matches += 1\n",
        "    correct += matches#(predicted == labels).sum().item()\n",
        "  print('Accuracy of the network on the entire data set is : %d %%' %(100 * correct/ total))"
      ],
      "execution_count": 0,
      "outputs": [
        {
          "output_type": "stream",
          "text": [
            "Accuracy of the network on the entire data set is : 100 %\n"
          ],
          "name": "stdout"
        }
      ]
    },
    {
      "cell_type": "code",
      "metadata": {
        "id": "AoQpav39Gok3",
        "colab_type": "code",
        "outputId": "44faa4c9-e1f8-4517-a2f5-0fd179ffeac8",
        "colab": {
          "base_uri": "https://localhost:8080/",
          "height": 34
        }
      },
      "source": [
        "# Test performance on the entire test set\n",
        "correct = 0\n",
        "total = 0\n",
        "with torch.no_grad():\n",
        "  for data in testloader_patch:\n",
        "    images, labels = data\n",
        "    outputs = model(images)\n",
        "#     _, predicted = torch.max(outputs, 1)\n",
        "    predicted = outputs > 0.5\n",
        "#     predicted = predicted.view(predicted.size(0))\n",
        "    total += labels.size(0)\n",
        "    matches = 0\n",
        "    for i in range(len(predicted)):\n",
        "      if predicted[i].item() == labels[i].item():\n",
        "        matches += 1\n",
        "    correct += matches#(predicted == labels).sum().item()\n",
        "  print('Accuracy of the network on the entire data set is : %d %%' %(100 * correct/ total))"
      ],
      "execution_count": 0,
      "outputs": [
        {
          "output_type": "stream",
          "text": [
            "Accuracy of the network on the entire data set is : 100 %\n"
          ],
          "name": "stdout"
        }
      ]
    },
    {
      "cell_type": "code",
      "metadata": {
        "id": "rkY8xIiLXV6V",
        "colab_type": "code",
        "outputId": "1dcb853c-1259-41fd-871a-b15bddaab92e",
        "colab": {
          "base_uri": "https://localhost:8080/",
          "height": 598
        }
      },
      "source": [
        "W1 = model.fc14.weight.detach().numpy()\n",
        "W1_reshape = np.reshape(W1, (28, 28))\n",
        "plt.imshow(W1_reshape)\n",
        "plt.colorbar()\n",
        "plt.figure()\n",
        "\n",
        "energy_patch1 = 0\n",
        "energy_total1 = 0\n",
        "\n",
        "for r in range(28):\n",
        "  for c in range(28):\n",
        "      energy_total1 += (W1_reshape[r, c])** 2\n",
        "      if r < 3 and c in [0, 1, 2, 25, 26, 27]:\n",
        "        energy_patch1 += (W1_reshape[r, c])**2\n",
        "\n",
        "print('Total energy of weight 1 :', energy_total1)\n",
        "print('Total energy of patches of weight 1 :', energy_patch1)\n",
        "\n",
        "W2 = model.fc7.weight.detach().numpy()\n",
        "W2_reshape = np.reshape(W2, (28, 28))\n",
        "plt.imshow(W2_reshape)\n",
        "plt.colorbar()\n",
        "plt.figure()\n",
        "\n",
        "energy_patch2 = 0\n",
        "energy_total2 = 0\n",
        "\n",
        "for r in range(28):\n",
        "  for c in range(28):\n",
        "      energy_total2 += (W2_reshape[r, c])** 2\n",
        "      if r < 3 and c in [0, 1, 2, 25, 26, 27]:\n",
        "        energy_patch2 += (W2_reshape[r, c])**2\n",
        "\n",
        "print('Total energy of weight 2 :', energy_total2)\n",
        "print('Total energy of patches of weight 2 :', energy_patch2)"
      ],
      "execution_count": 34,
      "outputs": [
        {
          "output_type": "stream",
          "text": [
            "Total energy of weight 1 : 2.5858841508254717\n",
            "Total energy of patches of weight 1 : 1.745869938618898\n",
            "Total energy of weight 2 : 2.3989223665793458\n",
            "Total energy of patches of weight 2 : 1.9005424871099086\n"
          ],
          "name": "stdout"
        },
        {
          "output_type": "display_data",
          "data": {
            "image/png": "[encoded data removed]",
            "text/plain": [
              "<Figure size 432x288 with 2 Axes>"
            ]
          },
          "metadata": {
            "tags": []
          }
        },
        {
          "output_type": "display_data",
          "data": {
            "image/png": "[encoded data removed]",
            "text/plain": [
              "<Figure size 432x288 with 2 Axes>"
            ]
          },
          "metadata": {
            "tags": []
          }
        },
        {
          "output_type": "display_data",
          "data": {
            "text/plain": [
              "<Figure size 432x288 with 0 Axes>"
            ]
          },
          "metadata": {
            "tags": []
          }
        }
      ]
    },
    {
      "cell_type": "code",
      "metadata": {
        "id": "-eQ47kkgHe3s",
        "colab_type": "code",
        "colab": {}
      },
      "source": [
        "# # Tabluate the train and test accuracy on the un-patched data for different values of SD (alpha)\n",
        "# train_accuracy = [0.89, 0.86, 0.82, 0.81, 0.69]\n",
        "# test_accuracy = [0.89, 0.85,0.82, 0.80, 0.67]\n",
        "# alphas_ = [1, 100, 150, 200, 500]"
      ],
      "execution_count": 0,
      "outputs": []
    },
    {
      "cell_type": "code",
      "metadata": {
        "id": "zbXm8LwvJ7nP",
        "colab_type": "code",
        "colab": {}
      },
      "source": [
        "# # Choose value of alpha as 2 for further analysis\n",
        "\n",
        "# ### Training on patches (4*4 patch)\n",
        "# train_acc_patch = [1, 1 ,1]\n",
        "# test_acc_patch = [1,1 ,1]\n",
        "# test_acc_patchless = [0.77, 0.68, 0.64]\n",
        "\n",
        "# ### Training on patches (3*3 patch)\n",
        "# train_acc_patch = [1, 1, 1]\n",
        "# test_acc_patch = [1, 1, 1]\n",
        "# test_acc_patchless = [0.75, 0.66, 0.62]"
      ],
      "execution_count": 0,
      "outputs": []
    },
    {
      "cell_type": "code",
      "metadata": {
        "id": "SJ9Rv5xz0BG8",
        "colab_type": "code",
        "colab": {}
      },
      "source": [
        "# for sigma = 0.01, lmbda = 500, accuracy is 67% in 10 epochs"
      ],
      "execution_count": 0,
      "outputs": []
    },
    {
      "cell_type": "code",
      "metadata": {
        "id": "MDI_Tj4OA6aF",
        "colab_type": "code",
        "colab": {}
      },
      "source": [
        "###############GOOD COMINATIONS#################\n",
        "# sigma = 10, lambda - 50, epochs = 15\n",
        "# sigma = 50, lambda - 50, epochs = 20 test acc patchless ~ 0.75, 0.76 is highest\n",
        "####Accuracy seems improve when training more than 2 models?\n",
        "# For 2 models and sigma = 100, lambda = 50 and 25 epochs - 0.79 acc\n",
        "# For 2 models and sigma = 100, lambda = 100 and 25 epochs - .74  acc\n",
        "# For 2 models and sigma = 100, lambda = 10, 25 and 25 epochs - .71  acc\n",
        "\n",
        "#####IMPORTANT OBSERVATIONS#############\n",
        "# Higher values of sigma (say 100) perform better than lower ones (say 0.1)\n",
        "\n",
        "########Tasks#############################\n",
        "# Establish variation of performance with sigma,  lambda and number of classifiers\n",
        "# Performance decreases with increase in sigma?\n"
      ],
      "execution_count": 0,
      "outputs": []
    },
    {
      "cell_type": "code",
      "metadata": {
        "id": "LtTv81A6jI06",
        "colab_type": "code",
        "colab": {}
      },
      "source": [
        "######RESULS########\n",
        "\n",
        "#16 classifiers, Sigma - 50, 30 epochs, lambda 50 -- 0.79 is highest acc (many classifiers have 0.79 accuracy)\n",
        "#16 classifiers, Sigma - 50, 30 epochs, lambda 100 -- 0.77 is highest acc many classifiers have 0.76 accuracy)\n",
        "#16 classifiers, Sigma - 500, 30 epochs, lambda 50 -- 0.76  is highest acc (many classifiers have 0.75-0.76 accuracy)\n",
        "#16 classifiers, Sigma - 100, 30 epochs, lambda 50 --  0.76 is highest acc (many classifiers 0.76 have accuracy)\n",
        "#16 classifiers, Sigma - 50, 30 epochs, lambda 150 -- 0.77 is highest acc (many classifiers have 0.75-0.76 accuracy)\n",
        "#16 classifiers, Sigma - 50, 30 epochs, lambda 100 -- 0.76 is highest acc (many classifiers have 0.75-0.76 accuracy)\n",
        "#16 classifiers, Sigma - 25, 30 epochs, lambda 50 -- 0.77 is highest acc (many classifiers have 0.75 accuracy)"
      ],
      "execution_count": 0,
      "outputs": []
    }
  ]
}