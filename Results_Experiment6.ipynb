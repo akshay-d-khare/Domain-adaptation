{
 "cells": [
  {
   "cell_type": "code",
   "execution_count": 1,
   "metadata": {},
   "outputs": [
    {
     "ename": "SyntaxError",
     "evalue": "invalid syntax (<ipython-input-1-6e871f24bf1f>, line 24)",
     "output_type": "error",
     "traceback": [
      "\u001b[1;36m  File \u001b[1;32m\"<ipython-input-1-6e871f24bf1f>\"\u001b[1;36m, line \u001b[1;32m24\u001b[0m\n\u001b[1;33m    target_acc =\u001b[0m\n\u001b[1;37m                 ^\u001b[0m\n\u001b[1;31mSyntaxError\u001b[0m\u001b[1;31m:\u001b[0m invalid syntax\n"
     ]
    }
   ],
   "source": [
    "# A single logistic regression clasifier has a source accuracy of [99, 0.99]%\n",
    "# A single logistic regression clasifier has a target accuracy of [0.66, 0.67, 0.71, 0.66, 0.70]%\n",
    "\n",
    "#### 4 D data\n",
    "\n",
    "### a = e(1)\n",
    "# mu = 0.001 (3 epochs)\n",
    "target_acc = [0.68, 0.69, 0.68, 0.84, 0.68]\n",
    "source_acc = 0.99\n",
    "w_source_trained = [-0.4266,  0.2792,  0.3614,  0.6727, -0.7802,  0.0609]\n",
    "\n",
    "# mu = 0.1 (5 epochs)\n",
    "target_acc = [0.70, 0.69, 0.77, 0.71, 0.69]\n",
    "source_acc = 0.99\n",
    "w_source_trained = [-0.8086,  0.8360,  0.7228,  0.5343, -0.1173, -0.7036]\n",
    "\n",
    "# mu = 1 (5 epochs)\n",
    "target_acc = [0.72, 0.70, 0.68, 0.69, 0.70]\n",
    "source_acc = 0.98\n",
    "w_source_trained = [-1.1248,  0.0967,  0.6782,  0.2650, -0.0220,  0.0559]\n",
    "\n",
    "\n",
    "# a = e(2)\n",
    "# mu - 0.001\n",
    "target_acc = [0.67, 0.72]\n",
    "source_acc = 0.98\n",
    "w_source_trained = [-0.1160,  0.8235,  0.1822,  0.8336, -0.5758, -0.5192]\n",
    "\n",
    "# mu - 0.01\n",
    "target_acc = [0.76, 0.68, 0.69]\n",
    "source_acc = 0.99\n",
    "w_source_trained = [-0.0879, -0.5535, -0.0691,  1.1633, -0.7025,  1.0773]\n",
    "\n",
    "# mu - 0.1\n",
    "target_acc = [0.87, 0.92, 0.77, 0.76, 0.94]\n",
    "source_acc = [0.99, 0.97]\n",
    "w_source_trained = [-0.1388, -0.1444,  0.5012,  1.0541, -0.7901, -0.3922]\n",
    "\n",
    "# mu - 1 (12 epochs)\n",
    "target_acc = [0.89, 0.87, 0.91, 0.88, 0.90]\n",
    "source_acc =  [0.92. 0.94, 0.9, 0.91, 0.94]\n",
    "w_source_trained = [-0.7551, -0.7296,  0.5398,  0.7943, -0.3211,  0.5039]"
   ]
  },
  {
   "cell_type": "code",
   "execution_count": null,
   "metadata": {},
   "outputs": [],
   "source": []
  },
  {
   "cell_type": "code",
   "execution_count": null,
   "metadata": {},
   "outputs": [],
   "source": []
  }
 ],
 "metadata": {
  "kernelspec": {
   "display_name": "Python 3",
   "language": "python",
   "name": "python3"
  },
  "language_info": {
   "codemirror_mode": {
    "name": "ipython",
    "version": 3
   },
   "file_extension": ".py",
   "mimetype": "text/x-python",
   "name": "python",
   "nbconvert_exporter": "python",
   "pygments_lexer": "ipython3",
   "version": "3.6.8"
  }
 },
 "nbformat": 4,
 "nbformat_minor": 2
}
