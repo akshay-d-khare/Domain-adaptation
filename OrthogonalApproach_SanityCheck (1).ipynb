{
  "nbformat": 4,
  "nbformat_minor": 0,
  "metadata": {
    "colab": {
      "name": "OrthogonalApproach_SanityCheck.ipynb",
      "provenance": [],
      "collapsed_sections": []
    },
    "kernelspec": {
      "name": "python3",
      "display_name": "Python 3"
    },
    "accelerator": "GPU"
  },
  "cells": [
    {
      "cell_type": "code",
      "metadata": {
        "id": "rgNpVdiM-3iO",
        "colab_type": "code",
        "colab": {}
      },
      "source": [
        "import numpy as np\n",
        "import matplotlib.pyplot as plt\n",
        "import torch\n",
        "import torchvision\n",
        "import torchvision.transforms as transforms\n",
        "from torch.utils.data import DataLoader, Dataset\n",
        "import pandas as pd"
      ],
      "execution_count": 0,
      "outputs": []
    },
    {
      "cell_type": "code",
      "metadata": {
        "id": "ggtFsqnIaEpW",
        "colab_type": "code",
        "colab": {}
      },
      "source": [
        "# Define the dataset class for a custom dataset\n",
        "class CustomDataset(Dataset):\n",
        "    \n",
        "    def __init__(self, data_frame, transform=None):\n",
        "        self.data = data_frame\n",
        "        self.transform = transform\n",
        "#         \n",
        "    def __len__(self):\n",
        "        return len(self.data)\n",
        "    \n",
        "    def __getitem__(self, index):\n",
        "        # load image as ndarray type (Height * Width * Channels)\n",
        "        # be carefull for converting dtype to np.uint8 [Unsigned integer (0 to 255)]\n",
        "        # in this example, i don't use ToTensor() method of torchvision.transforms\n",
        "        # so you can convert numpy ndarray shape to tensor in PyTorch (H, W, C) --> (C, H, W)\n",
        "        obs = self.data.iloc[index, 0 : 2].values\n",
        "        label = self.data.iloc[index, 2]\n",
        "        \n",
        "        if self.transform is not None:\n",
        "            obs = self.transform(obs)\n",
        "            \n",
        "        return obs, label"
      ],
      "execution_count": 0,
      "outputs": []
    },
    {
      "cell_type": "code",
      "metadata": {
        "id": "H1QonJAx_-d7",
        "colab_type": "code",
        "outputId": "e86b3a58-4ade-4395-a484-23e6868695a0",
        "colab": {
          "base_uri": "https://localhost:8080/",
          "height": 355
        }
      },
      "source": [
        "# Create the toy data\n",
        "data_ = pd.DataFrame({'X1' : [-15, -15 ,-15.2, -15.4, -15.52, -14.89, -14.5, -16.222, 16, 15.1, 15.2, 15.4, 15.52, 15.155, 15.02, 15.222,\n",
        "                              -15, -15.66 ,-15.92, -15.12, -15, -14, -14, -16, 16, 14.1, 14.2, 15.4, 15.52, 15.155, 17.02, 16.222],\n",
        "                   'X2' : [5, 5, 6.5, 6, 7.021, 6.03, 5.05, 6.016, -6, -5, -6.01, -7.011, -5.021, -7, -6.05, -6.016,\n",
        "                           6, 6, 5.5, 6, 6.021, 5.03, 5.05, 7.016, -6, -5, -5.01, -6.011, -6.021, -7, -5.05, -6.216], \n",
        "                   'label' : [1, 1, 1, 1, 1, 1, 1, 1, 0, 0, 0, 0, 0, 0, 0, 0,\n",
        "                              1, 1, 1, 1, 1, 1, 1, 1, 0, 0, 0, 0, 0, 0, 0, 0]})\n",
        "# Plot the toy data\n",
        "plt.figure(figsize = (5, 5))\n",
        "plt.scatter(data_['X1'], data_['X2'])\n",
        "plt.xlabel('feature 1')\n",
        "plt.ylabel('feature 2')\n",
        "plt.xlim(-20, 20)\n",
        "plt.ylim(-20, 20)"
      ],
      "execution_count": 0,
      "outputs": [
        {
          "output_type": "execute_result",
          "data": {
            "text/plain": [
              "(-20, 20)"
            ]
          },
          "metadata": {
            "tags": []
          },
          "execution_count": 4
        },
        {
          "output_type": "display_data",
          "data": {
            "image/png": "[encoded data removed]",
            "text/plain": [
              "<Figure size 360x360 with 1 Axes>"
            ]
          },
          "metadata": {
            "tags": []
          }
        }
      ]
    },
    {
      "cell_type": "code",
      "metadata": {
        "id": "2NfWq_RgUOAq",
        "colab_type": "code",
        "colab": {}
      },
      "source": [
        "train_dataset = CustomDataset(data_, transform = None)"
      ],
      "execution_count": 0,
      "outputs": []
    },
    {
      "cell_type": "code",
      "metadata": {
        "id": "PFxjnsT3CGnr",
        "colab_type": "code",
        "colab": {}
      },
      "source": [
        "trainloader = torch.utils.data.DataLoader(train_dataset, batch_size = 16, shuffle = True, num_workers = 2)"
      ],
      "execution_count": 0,
      "outputs": []
    },
    {
      "cell_type": "code",
      "metadata": {
        "id": "Qe5yw_B0HwYs",
        "colab_type": "code",
        "colab": {}
      },
      "source": [
        "import torch.nn as nn\n",
        "import torch.nn.functional as F\n",
        "\n",
        "class linear_model(nn.Module):\n",
        "  def __init__(self):\n",
        "    super(linear_model, self).__init__()\n",
        "    self.fc1 = nn.Linear(2, 1)\n",
        "    nn.init.xavier_normal_(self.fc1.weight)\n",
        "    self.fc2 = nn.Linear(2, 1)\n",
        "    nn.init.xavier_normal_(self.fc2.weight)\n",
        "    # self.fc3 = nn.Linear(2, 1)\n",
        "    # nn.init.xavier_normal_(self.fc3.weight)\n",
        "\n",
        "  def forward(self, x):\n",
        "    x = x.view(-1, 2)\n",
        "    x1 = torch.sigmoid( self.fc1(x) )  \n",
        "    x2 = torch.sigmoid( self.fc2(x) )  \n",
        "    # x3 = torch.sigmoid( self.fc3(x) )  \n",
        "    \n",
        "    return x1, x2#, x3\n",
        "  \n",
        "model = linear_model()  "
      ],
      "execution_count": 0,
      "outputs": []
    },
    {
      "cell_type": "code",
      "metadata": {
        "id": "u6aYur4VHzOq",
        "colab_type": "code",
        "colab": {}
      },
      "source": [
        "# #Script for generating fancy inner product matrix:\n",
        "\n",
        "# sigma = 0.1 #HIGHER VALUES OF SIGMA SEEM TO PERFORM BETTER\n",
        "# M = torch.zeros([2, 2])\n",
        "\n",
        "# M_tensor = M.view(1,1,28,28)\n",
        "\n",
        "# for i_1 in range(28):\n",
        "#     for i_2 in range(28):\n",
        "#         for j_1 in range(28):\n",
        "#             for j_2 in range(28):\n",
        "#                 M_tensor[i_1,i_2,j_1,j_2] = np.exp( -((i_1 - j_1)**2 + (i_2 - j_2)**2) / (2 * (sigma)**2) )\n",
        "\n",
        "# M = M_tensor.view([28*28,28*28])"
      ],
      "execution_count": 0,
      "outputs": []
    },
    {
      "cell_type": "code",
      "metadata": {
        "id": "HUtz64TAH1JE",
        "colab_type": "code",
        "colab": {}
      },
      "source": [
        "# Define loss function and optimizer\n",
        "import torch.optim as optim\n",
        "\n",
        "loss_function = nn.BCELoss(reduction = 'mean') # sums all outputs and divides by total data points\n",
        "\n",
        "optimizer = optim.Adam(model.parameters(), lr = 0.1)\n",
        "\n",
        "class custom_loss(torch.nn.Module):\n",
        "\n",
        "  def __init__(self):\n",
        "    super(custom_loss,self).__init__()\n",
        "\n",
        "  def forward(self, mat1, mat2):\n",
        "  # Absolute dot product of weights\n",
        "    l = (torch.mm(mat1, mat2.t()))**2\n",
        "\n",
        "  # Fancy dot product if weights\n",
        "#     l = (torch.mm(mat1, torch.mm(M, mat2.t())))**2\n",
        "    return l\n",
        "\n",
        "class regularizer(torch.nn.Module):\n",
        "\n",
        "  def __init__(self):\n",
        "    super(regularizer,self).__init__()\n",
        "\n",
        "  def forward(self, weig):\n",
        "  # Square root of the L-2 norm of weight\n",
        "    # l = torch.sqrt(torch.mm(weig, weig.t()))\n",
        "  # l-1 norm\n",
        "    # l = torch.sum(torch.abs(weig))\n",
        "  # l2 norm\n",
        "    l = torch.sqrt(torch.sum(weig * weig))\n",
        "    return l\n",
        "\n",
        "sl = custom_loss()    \n",
        "reg = regularizer()"
      ],
      "execution_count": 0,
      "outputs": []
    },
    {
      "cell_type": "code",
      "metadata": {
        "id": "brHSCYKmH4eS",
        "colab_type": "code",
        "colab": {}
      },
      "source": [
        "models_forloss = [model.fc1.weight, model.fc2.weight]#, model.fc3.weight, model.fc4.weight, model.fc5.weight, model.fc6.weight, model.fc7.weight, model.fc8.weight, \n",
        "      # model.fc9.weight, model.fc10.weight, model.fc11.weight, model.fc12.weight, model.fc13.weight, model.fc14.weight, model.fc15.weight, model.fc16.weight]"
      ],
      "execution_count": 0,
      "outputs": []
    },
    {
      "cell_type": "code",
      "metadata": {
        "id": "1zeqXPySfU5i",
        "colab_type": "code",
        "outputId": "2189d0ce-85ca-4852-ef19-793cea27ae1f",
        "colab": {
          "base_uri": "https://localhost:8080/",
          "height": 34
        }
      },
      "source": [
        "reg.forward(model.fc1.weight)"
      ],
      "execution_count": 0,
      "outputs": [
        {
          "output_type": "execute_result",
          "data": {
            "text/plain": [
              "tensor(0.5893, grad_fn=<SqrtBackward>)"
            ]
          },
          "metadata": {
            "tags": []
          },
          "execution_count": 141
        }
      ]
    },
    {
      "cell_type": "code",
      "metadata": {
        "id": "wo5TZhfrH5H-",
        "colab_type": "code",
        "outputId": "74816ca5-f61b-4c10-fd73-32f311fa3dd5",
        "colab": {
          "base_uri": "https://localhost:8080/",
          "height": 1000
        }
      },
      "source": [
        "n_epochs = 200\n",
        "\n",
        "l_r = 100\n",
        "l_o = 10000\n",
        "for epochs in range(n_epochs):\n",
        " \n",
        "  running_loss = 0\n",
        "  \n",
        "  for batch in trainloader:\n",
        "    data, targets = batch\n",
        "\n",
        "    optimizer.zero_grad()\n",
        "\n",
        "    output = model(data.float()) \n",
        "    loss = loss_function(output[0], targets.view(-1, 1).float()) + loss_function(output[1], targets.view(-1, 1).float()) + l_o * sl.forward(model.fc1.weight, model.fc2.weight) + l_r * reg.forward(model.fc1.weight) + l_r * reg.forward(model.fc2.weight)\n",
        "    #+ l_r * reg.forward(model.fc1.weight)\n",
        "    # loss = loss_function(output[0], targets.view(-1, 1).float())  + loss_function(output[1], targets.view(-1, 1).float()) + l_o * sl.forward(model.fc1.weight, model.fc2.weight) +\\\n",
        "    # l_r * reg.forward(model.fc1.weight) + l_r * reg.forward(model.fc2.weight)# + l_r * reg.forward(model.fc1.weight) # +\\\n",
        "    # # lmbda * reg.forward(model.fc1.weight) + lmbda * reg.forward(model.fc2.weight) + lmbda1 * sl.forward(model.fc1.weight, model.fc2.weight)\n",
        "\n",
        "    # # loss = loss_function(output, targets.view(-1, 1).float()) + lmbda * reg.forward(model.fc1.weight)\n",
        "\n",
        "    # # loss = loss_function(output[0], targets.view(-1, 1).float()) + lmbda * reg.forward(model.fc1.weight) + lmbda * reg.forward(model.fc2.weight)\n",
        "    # # for mm in range(1, len(models_forloss)):\n",
        "\n",
        "    # #   loss += loss_function(output[mm], targets.view(-1, 1).float())\n",
        "\n",
        "    # # for fr in range((len(models_forloss) - 1)):\n",
        "\n",
        "    # #   for sn in range(fr + 1, len(models_forloss)):  \n",
        "\n",
        "    # #     loss += lmbda * sl.forward(models_forloss[fr], models_forloss[sn])[0][0]\n",
        "  \n",
        "    loss.backward()\n",
        "\n",
        "    optimizer.step()\n",
        "\n",
        "    running_loss += loss.item()\n",
        "  print(running_loss)\n",
        "  # print(loss_function(output[1], targets.view(-1, 1).float()), l_o * sl.forward(model.fc1.weight, model.fc2.weight) )    \n",
        "    # print(sl.forward(model.fc1.weight, model.fc2.weight))"
      ],
      "execution_count": 0,
      "outputs": [
        {
          "output_type": "stream",
          "text": [
            "5127.708984375\n",
            "786.0376892089844\n",
            "2042.0686645507812\n",
            "1810.4364624023438\n",
            "864.4413146972656\n",
            "388.25514221191406\n",
            "397.17604064941406\n",
            "529.559326171875\n",
            "564.0275573730469\n",
            "484.24989318847656\n",
            "362.9630126953125\n",
            "259.2083282470703\n",
            "191.25272369384766\n",
            "152.2517547607422\n",
            "129.81145477294922\n",
            "114.39836883544922\n",
            "100.98772048950195\n",
            "87.68045425415039\n",
            "74.19036865234375\n",
            "60.96720886230469\n",
            "48.59202003479004\n",
            "37.72540473937988\n",
            "30.448009490966797\n",
            "31.334732055664062\n",
            "34.96865272521973\n",
            "36.95029830932617\n",
            "36.72479057312012\n",
            "34.539987564086914\n",
            "30.838306427001953\n",
            "26.298224449157715\n",
            "22.77394199371338\n",
            "22.61672019958496\n",
            "22.858494758605957\n",
            "21.55678081512451\n",
            "18.65499782562256\n",
            "14.651962757110596\n",
            "13.359989166259766\n",
            "13.506103992462158\n",
            "11.99785852432251\n",
            "9.913608074188232\n",
            "9.626278400421143\n",
            "8.21242618560791\n",
            "5.968801259994507\n",
            "6.024339437484741\n",
            "5.030181169509888\n",
            "4.8377203941345215\n",
            "5.83031964302063\n",
            "5.121480941772461\n",
            "5.130271911621094\n",
            "4.552449941635132\n",
            "3.988134503364563\n",
            "3.6530712842941284\n",
            "3.821518301963806\n",
            "4.0440404415130615\n",
            "4.448344707489014\n",
            "3.782757878303528\n",
            "3.511109232902527\n",
            "3.9223697185516357\n",
            "3.6208348274230957\n",
            "3.3248544931411743\n",
            "3.825116515159607\n",
            "3.6528531312942505\n",
            "3.7008508443832397\n",
            "3.532348871231079\n",
            "3.5260196924209595\n",
            "3.46761155128479\n",
            "3.898208498954773\n",
            "3.420186996459961\n",
            "3.334835410118103\n",
            "3.4962940216064453\n",
            "3.416703224182129\n",
            "3.799835205078125\n",
            "3.4629034996032715\n",
            "3.328942656517029\n",
            "3.2031956911087036\n",
            "3.5353230237960815\n",
            "3.409510612487793\n",
            "3.2115553617477417\n",
            "3.1199238300323486\n",
            "3.196970224380493\n",
            "3.561225652694702\n",
            "3.3103479146957397\n",
            "3.4815175533294678\n",
            "3.8377267122268677\n",
            "3.4141265153884888\n",
            "3.8297492265701294\n",
            "3.4822487831115723\n",
            "3.915334463119507\n",
            "4.3533384799957275\n",
            "3.73434054851532\n",
            "4.260575652122498\n",
            "3.8232221603393555\n",
            "3.606867551803589\n",
            "3.846488833427429\n",
            "4.418904781341553\n",
            "3.8416264057159424\n",
            "4.6181135177612305\n",
            "4.042240142822266\n",
            "4.316744923591614\n",
            "4.28806746006012\n",
            "3.7187660932540894\n",
            "3.536672830581665\n",
            "3.218794345855713\n",
            "4.073210835456848\n",
            "3.56296968460083\n",
            "3.8515549898147583\n",
            "3.231736183166504\n",
            "3.1776885986328125\n",
            "3.6437233686447144\n",
            "3.376517415046692\n",
            "3.217092752456665\n",
            "3.196658968925476\n",
            "3.3063477277755737\n",
            "3.1824601888656616\n",
            "3.2550398111343384\n",
            "3.380219340324402\n",
            "3.540680766105652\n",
            "3.6908167600631714\n",
            "4.401271820068359\n",
            "3.581544876098633\n",
            "3.6043554544448853\n",
            "3.28180193901062\n",
            "3.2233989238739014\n",
            "3.7932158708572388\n",
            "3.627907633781433\n",
            "3.309314727783203\n",
            "4.401136636734009\n",
            "3.939955711364746\n",
            "5.04534387588501\n",
            "3.5861518383026123\n",
            "4.329206228256226\n",
            "4.345204710960388\n",
            "4.899523973464966\n",
            "4.756362676620483\n",
            "5.068527936935425\n",
            "5.2809247970581055\n",
            "4.7444493770599365\n",
            "5.21290922164917\n",
            "4.464790344238281\n",
            "4.37100887298584\n",
            "4.154370546340942\n",
            "3.4062976837158203\n",
            "4.692728519439697\n",
            "3.695544958114624\n",
            "4.017499208450317\n",
            "3.4768588542938232\n",
            "4.032062888145447\n",
            "3.491832733154297\n",
            "3.7123570442199707\n",
            "3.389695882797241\n",
            "3.318150758743286\n",
            "3.4823437929153442\n",
            "4.069814682006836\n",
            "4.204906105995178\n",
            "4.303934931755066\n",
            "4.532968521118164\n",
            "3.9284859895706177\n",
            "4.328319430351257\n",
            "3.6854729652404785\n",
            "4.553441286087036\n",
            "4.060016393661499\n",
            "4.2203779220581055\n",
            "3.9814960956573486\n",
            "3.7382946014404297\n",
            "3.8693255186080933\n",
            "3.913798451423645\n",
            "3.6822352409362793\n",
            "3.798044443130493\n",
            "3.529641628265381\n",
            "3.455827236175537\n",
            "3.539513349533081\n",
            "3.774504065513611\n",
            "3.5166513919830322\n",
            "3.7967907190322876\n",
            "4.000100255012512\n",
            "3.5468578338623047\n",
            "4.200829863548279\n",
            "3.736963629722595\n",
            "4.195231199264526\n",
            "4.689234018325806\n",
            "4.047879457473755\n",
            "6.020545959472656\n",
            "4.343690276145935\n",
            "6.031010627746582\n",
            "5.189661264419556\n",
            "4.820698022842407\n",
            "4.695471286773682\n",
            "4.501694202423096\n",
            "3.8186163902282715\n",
            "3.472623586654663\n",
            "3.9595736265182495\n",
            "3.6499468088150024\n",
            "3.785499095916748\n",
            "4.229991436004639\n",
            "4.4490591287612915\n",
            "5.372489929199219\n",
            "5.055784463882446\n",
            "4.955527067184448\n",
            "5.0101611614227295\n",
            "4.316615343093872\n"
          ],
          "name": "stdout"
        }
      ]
    },
    {
      "cell_type": "code",
      "metadata": {
        "id": "zZXYp_8jITpU",
        "colab_type": "code",
        "outputId": "5f9c968b-8a8c-4581-d707-1a7cec161a96",
        "colab": {
          "base_uri": "https://localhost:8080/",
          "height": 34
        }
      },
      "source": [
        "# Test performance on the entire test set\n",
        "correct = 0\n",
        "total = 0\n",
        "with torch.no_grad():\n",
        "  for data in trainloader:\n",
        "    images, labels = data\n",
        "    outputs = model(images.float())\n",
        "#     _, predicted = torch.max(outputs, 1)\n",
        "    predicted = outputs[0] > 0.5\n",
        "#     predicted = predicted.view(predicted.size(0))\n",
        "    total += labels.size(0)\n",
        "    matches = 0\n",
        "    for i in range(len(predicted)):\n",
        "      if predicted[i].item() == labels[i].item():\n",
        "        matches += 1\n",
        "    correct += matches#(predicted == labels).sum().item()\n",
        "  print('Accuracy of the network on the entire data set is : %d %%' %(100 * correct/ total))"
      ],
      "execution_count": 0,
      "outputs": [
        {
          "output_type": "stream",
          "text": [
            "Accuracy of the network on the entire data set is : 100 %\n"
          ],
          "name": "stdout"
        }
      ]
    },
    {
      "cell_type": "code",
      "metadata": {
        "id": "zLNe0i1yX6Vb",
        "colab_type": "code",
        "outputId": "ad78bbfe-e288-48f9-c7e5-defc7a8bcf77",
        "colab": {
          "base_uri": "https://localhost:8080/",
          "height": 34
        }
      },
      "source": [
        "np.sqrt(((torch.mm(model.fc1.weight, model.fc2.weight.t()))**2)[0][0].item()) / np.sqrt((np.sqrt(((torch.mm(model.fc1.weight, model.fc1.weight.t()))**2)[0][0].item()) * np.sqrt(((torch.mm(model.fc2.weight, model.fc2.weight.t()))**2)[0][0].item())))"
      ],
      "execution_count": 0,
      "outputs": [
        {
          "output_type": "execute_result",
          "data": {
            "text/plain": [
              "0.002810662951535296"
            ]
          },
          "metadata": {
            "tags": []
          },
          "execution_count": 51
        }
      ]
    },
    {
      "cell_type": "code",
      "metadata": {
        "id": "AxDT6C7Ggq0H",
        "colab_type": "code",
        "outputId": "a7db9644-59b4-4917-fae9-4d2d7549da11",
        "colab": {
          "base_uri": "https://localhost:8080/",
          "height": 51
        }
      },
      "source": [
        "model.fc1.weight"
      ],
      "execution_count": 0,
      "outputs": [
        {
          "output_type": "execute_result",
          "data": {
            "text/plain": [
              "Parameter containing:\n",
              "tensor([[-0.1370, -0.0025]], requires_grad=True)"
            ]
          },
          "metadata": {
            "tags": []
          },
          "execution_count": 26
        }
      ]
    },
    {
      "cell_type": "code",
      "metadata": {
        "id": "yABZvZt7pLMT",
        "colab_type": "code",
        "outputId": "c8134492-d78d-4862-8c51-c306db70258c",
        "colab": {
          "base_uri": "https://localhost:8080/",
          "height": 51
        }
      },
      "source": [
        "model.fc2.weight"
      ],
      "execution_count": 0,
      "outputs": [
        {
          "output_type": "execute_result",
          "data": {
            "text/plain": [
              "Parameter containing:\n",
              "tensor([[-0.2361, -0.2078]], requires_grad=True)"
            ]
          },
          "metadata": {
            "tags": []
          },
          "execution_count": 92
        }
      ]
    },
    {
      "cell_type": "code",
      "metadata": {
        "id": "-7CaxaccyTB6",
        "colab_type": "code",
        "outputId": "1483cad1-a962-4042-bccb-9d1d3be5357f",
        "colab": {
          "base_uri": "https://localhost:8080/",
          "height": 34
        }
      },
      "source": [
        "sl.forward(model.fc1.weight, model.fc2.weight)"
      ],
      "execution_count": 0,
      "outputs": [
        {
          "output_type": "execute_result",
          "data": {
            "text/plain": [
              "tensor([[5.5091]], grad_fn=<PowBackward0>)"
            ]
          },
          "metadata": {
            "tags": []
          },
          "execution_count": 33
        }
      ]
    },
    {
      "cell_type": "code",
      "metadata": {
        "id": "TpWUQysqzEVC",
        "colab_type": "code",
        "outputId": "37a78a02-2584-4057-f61a-f5b1b6731faa",
        "colab": {
          "base_uri": "https://localhost:8080/",
          "height": 300
        }
      },
      "source": [
        "x_s1 = list(range(-20, 25, 5))\n",
        "y_s1 = []\n",
        "y_s2 = []\n",
        "for el in x_s1:\n",
        "  y_s1.append((-model.fc1.weight[0][0].item()/ model.fc1.weight[0][1].item()) * el)\n",
        "\n",
        "for el in x_s1:\n",
        "  y_s2.append((-model.fc2.weight[0][0].item()/ model.fc2.weight[0][1].item()) * el)\n",
        "\n",
        "plt.plot(x_s1, y_s1, color = 'red') \n",
        "plt.plot(x_s1, y_s2, color = 'orange') \n",
        "\n",
        "plt.scatter(data_['X1'], data_['X2'])\n",
        "plt.xlabel('feature 1')\n",
        "plt.ylabel('feature 2')\n",
        "plt.xlim(-20, 20)\n",
        "plt.ylim(-20, 20)"
      ],
      "execution_count": 0,
      "outputs": [
        {
          "output_type": "execute_result",
          "data": {
            "text/plain": [
              "(-20, 20)"
            ]
          },
          "metadata": {
            "tags": []
          },
          "execution_count": 108
        },
        {
          "output_type": "display_data",
          "data": {
            "image/png": "[encoded data removed]",
            "text/plain": [
              "<Figure size 432x288 with 1 Axes>"
            ]
          },
          "metadata": {
            "tags": []
          }
        }
      ]
    },
    {
      "cell_type": "code",
      "metadata": {
        "id": "njAW95EtiNpQ",
        "colab_type": "code",
        "outputId": "0ba07ee9-199f-448e-f157-d497b92a975a",
        "colab": {
          "base_uri": "https://localhost:8080/",
          "height": 341
        }
      },
      "source": [
        "# xx1_l2 = [0, model.fc1.weight[0][0].item()]\n",
        "# yy1_l2 = [0, model.fc1.weight[0][1].item()]\n",
        "xx1 = [0, model.fc1.weight[0][0].item()]\n",
        "yy1 = [0, model.fc1.weight[0][1].item()]\n",
        "# xx2 = [0,model.fc2.weight[0][0].item()]\n",
        "# yy2 = [0, model.fc2.weight[0][1].item()]\n",
        "# xx3 = [0, model.fc3.weight[0][0].item()]\n",
        "# yy3 = [0, model.fc3.weight[0][1].item()]\n",
        "plt.figure(figsize = (5, 5))\n",
        "# plt.plot(xx1_l2, yy1_l2, label = 'L2 regularization')\n",
        "# plt.plot(xx1, yy1, label = 'L1 regularization')\n",
        "# plt.legend()\n",
        "plt.plot(xx1, yy1)\n",
        "# plt.plot(xx3, yy3)\n",
        "\n",
        "plt.xlim(-0.2, 0.2)\n",
        "plt.ylim(-0.2, 0.2)"
      ],
      "execution_count": 0,
      "outputs": [
        {
          "output_type": "execute_result",
          "data": {
            "text/plain": [
              "(-0.2, 0.2)"
            ]
          },
          "metadata": {
            "tags": []
          },
          "execution_count": 16
        },
        {
          "output_type": "display_data",
          "data": {
            "image/png": "[encoded data removed]",
            "text/plain": [
              "<Figure size 360x360 with 1 Axes>"
            ]
          },
          "metadata": {
            "tags": []
          }
        }
      ]
    },
    {
      "cell_type": "code",
      "metadata": {
        "id": "di6gkZwPpkX_",
        "colab_type": "code",
        "outputId": "ffd6e310-73b7-4090-a912-730ff0ff261f",
        "colab": {
          "base_uri": "https://localhost:8080/",
          "height": 34
        }
      },
      "source": [
        "sl(model.fc1.weight, model.fc2.weight)"
      ],
      "execution_count": 0,
      "outputs": [
        {
          "output_type": "execute_result",
          "data": {
            "text/plain": [
              "tensor([[0.0003]], grad_fn=<PowBackward0>)"
            ]
          },
          "metadata": {
            "tags": []
          },
          "execution_count": 31
        }
      ]
    },
    {
      "cell_type": "code",
      "metadata": {
        "id": "5mRbcKfJYnEo",
        "colab_type": "code",
        "outputId": "3d6d9f54-7c37-4fd5-b499-8e02565b8434",
        "colab": {
          "base_uri": "https://localhost:8080/",
          "height": 34
        }
      },
      "source": [
        "model.fc1.weight[0][1]"
      ],
      "execution_count": 0,
      "outputs": [
        {
          "output_type": "execute_result",
          "data": {
            "text/plain": [
              "tensor(0.8971, grad_fn=<SelectBackward>)"
            ]
          },
          "metadata": {
            "tags": []
          },
          "execution_count": 32
        }
      ]
    },
    {
      "cell_type": "code",
      "metadata": {
        "id": "7PgvKtRrWzXL",
        "colab_type": "code",
        "outputId": "0e5583c0-c378-49ae-8830-d8f525d7ac52",
        "colab": {
          "base_uri": "https://localhost:8080/",
          "height": 51
        }
      },
      "source": [
        "model.fc1.weight"
      ],
      "execution_count": 0,
      "outputs": [
        {
          "output_type": "execute_result",
          "data": {
            "text/plain": [
              "Parameter containing:\n",
              "tensor([[-0.0264,  0.0022]], requires_grad=True)"
            ]
          },
          "metadata": {
            "tags": []
          },
          "execution_count": 37
        }
      ]
    },
    {
      "cell_type": "code",
      "metadata": {
        "id": "24H-YJkrWvlw",
        "colab_type": "code",
        "outputId": "92c7b8b2-9ade-42d0-8f36-9a20da151aec",
        "colab": {
          "base_uri": "https://localhost:8080/",
          "height": 51
        }
      },
      "source": [
        "model.fc2.weight"
      ],
      "execution_count": 0,
      "outputs": [
        {
          "output_type": "execute_result",
          "data": {
            "text/plain": [
              "Parameter containing:\n",
              "tensor([[-0.0299,  0.0007]], requires_grad=True)"
            ]
          },
          "metadata": {
            "tags": []
          },
          "execution_count": 36
        }
      ]
    },
    {
      "cell_type": "code",
      "metadata": {
        "id": "tnWAHBj-W0gH",
        "colab_type": "code",
        "outputId": "73af9560-b259-4fd0-dfc6-be25591b7331",
        "colab": {
          "base_uri": "https://localhost:8080/",
          "height": 51
        }
      },
      "source": [
        "for i in model.fc1.weight[0]:\n",
        "  print(torch.abs(i))"
      ],
      "execution_count": 0,
      "outputs": [
        {
          "output_type": "stream",
          "text": [
            "tensor(0.9038, grad_fn=<AbsBackward>)\n",
            "tensor(1.2557, grad_fn=<AbsBackward>)\n"
          ],
          "name": "stdout"
        }
      ]
    },
    {
      "cell_type": "code",
      "metadata": {
        "id": "fxsNd4ocUhuy",
        "colab_type": "code",
        "outputId": "91f6de7f-75ef-4346-9c08-7838ef05dc31",
        "colab": {
          "base_uri": "https://localhost:8080/",
          "height": 34
        }
      },
      "source": [
        "torch.sum(torch.abs(model.fc1.weight))"
      ],
      "execution_count": 0,
      "outputs": [
        {
          "output_type": "execute_result",
          "data": {
            "text/plain": [
              "tensor(2.1595, grad_fn=<SumBackward0>)"
            ]
          },
          "metadata": {
            "tags": []
          },
          "execution_count": 14
        }
      ]
    },
    {
      "cell_type": "code",
      "metadata": {
        "id": "nzs3coJ3Uhnm",
        "colab_type": "code",
        "outputId": "5a71a3d7-1abf-4406-87d3-8bf48b38e6ea",
        "colab": {
          "base_uri": "https://localhost:8080/",
          "height": 34
        }
      },
      "source": [
        "torch.sum(torch.abs(model.fc1.weight))"
      ],
      "execution_count": 0,
      "outputs": [
        {
          "output_type": "execute_result",
          "data": {
            "text/plain": [
              "tensor(1.3095, grad_fn=<SumBackward0>)"
            ]
          },
          "metadata": {
            "tags": []
          },
          "execution_count": 11
        }
      ]
    }
  ]
}