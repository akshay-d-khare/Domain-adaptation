{
  "nbformat": 4,
  "nbformat_minor": 0,
  "metadata": {
    "colab": {
      "name": "Exp4_DeepModel_MNIST_patch.ipynb",
      "provenance": [],
      "collapsed_sections": []
    },
    "kernelspec": {
      "name": "python3",
      "display_name": "Python 3"
    },
    "accelerator": "GPU"
  },
  "cells": [
    {
      "cell_type": "code",
      "metadata": {
        "id": "va8YuU1RFTK_",
        "colab_type": "code",
        "colab": {}
      },
      "source": [
        ""
      ],
      "execution_count": 0,
      "outputs": []
    },
    {
      "cell_type": "code",
      "metadata": {
        "id": "DT38WGdcao27",
        "colab_type": "code",
        "colab": {}
      },
      "source": [
        "alpha = 100 # taking 150 because visually makes more sense for human eye\n",
        "\n",
        "import numpy as np\n",
        "import matplotlib.pyplot as plt\n",
        "import torch\n",
        "import torchvision\n",
        "import torchvision.transforms as transforms"
      ],
      "execution_count": 0,
      "outputs": []
    },
    {
      "cell_type": "code",
      "metadata": {
        "id": "pOpkqh9oat1v",
        "colab_type": "code",
        "outputId": "36725773-452f-4106-af95-01fd4a3848d5",
        "colab": {
          "base_uri": "https://localhost:8080/",
          "height": 275
        }
      },
      "source": [
        "transform = transforms.Compose([transforms.ToTensor(), transforms.Normalize((0.5, ), (0.5, ))])\n",
        "\n",
        "trainset = torchvision.datasets.MNIST(root = './data', train = True, download = True, transform = transform)\n",
        "\n",
        "testset = torchvision.datasets.MNIST(root = './data', train = False, download = True, transform = transform)\n",
        "\n",
        "trainset_forpatch = torchvision.datasets.MNIST(root = './data', train = True, download = True, transform = transform)\n",
        "\n",
        "testset_forpatch = torchvision.datasets.MNIST(root = './data', train = False, download = True, transform = transform)"
      ],
      "execution_count": 2,
      "outputs": [
        {
          "output_type": "stream",
          "text": [
            "  0%|          | 0/9912422 [00:00<?, ?it/s]"
          ],
          "name": "stderr"
        },
        {
          "output_type": "stream",
          "text": [
            "Downloading http://yann.lecun.com/exdb/mnist/train-images-idx3-ubyte.gz to ./data/MNIST/raw/train-images-idx3-ubyte.gz\n"
          ],
          "name": "stdout"
        },
        {
          "output_type": "stream",
          "text": [
            "9920512it [00:00, 21324641.71it/s]                            \n"
          ],
          "name": "stderr"
        },
        {
          "output_type": "stream",
          "text": [
            "Extracting ./data/MNIST/raw/train-images-idx3-ubyte.gz to ./data/MNIST/raw\n"
          ],
          "name": "stdout"
        },
        {
          "output_type": "stream",
          "text": [
            "32768it [00:00, 316485.64it/s]                           \n",
            "0it [00:00, ?it/s]"
          ],
          "name": "stderr"
        },
        {
          "output_type": "stream",
          "text": [
            "Downloading http://yann.lecun.com/exdb/mnist/train-labels-idx1-ubyte.gz to ./data/MNIST/raw/train-labels-idx1-ubyte.gz\n",
            "Extracting ./data/MNIST/raw/train-labels-idx1-ubyte.gz to ./data/MNIST/raw\n",
            "Downloading http://yann.lecun.com/exdb/mnist/t10k-images-idx3-ubyte.gz to ./data/MNIST/raw/t10k-images-idx3-ubyte.gz\n"
          ],
          "name": "stdout"
        },
        {
          "output_type": "stream",
          "text": [
            "1654784it [00:00, 5311050.86it/s]                           \n",
            "8192it [00:00, 130661.29it/s]\n"
          ],
          "name": "stderr"
        },
        {
          "output_type": "stream",
          "text": [
            "Extracting ./data/MNIST/raw/t10k-images-idx3-ubyte.gz to ./data/MNIST/raw\n",
            "Downloading http://yann.lecun.com/exdb/mnist/t10k-labels-idx1-ubyte.gz to ./data/MNIST/raw/t10k-labels-idx1-ubyte.gz\n",
            "Extracting ./data/MNIST/raw/t10k-labels-idx1-ubyte.gz to ./data/MNIST/raw\n",
            "Processing...\n",
            "Done!\n"
          ],
          "name": "stdout"
        }
      ]
    },
    {
      "cell_type": "code",
      "metadata": {
        "id": "2NRzqeQH7tPP",
        "colab_type": "code",
        "colab": {}
      },
      "source": [
        "# Odd (1) v even (0) labels\n",
        "trainset.targets[np.where(trainset.targets %2 != 0)[0].tolist()] = 1\n",
        "trainset.targets[np.where(trainset.targets %2 == 0)[0].tolist()] = 0\n",
        "\n",
        "testset.targets[np.where(testset.targets %2 != 0)[0].tolist()] = 1\n",
        "testset.targets[np.where(testset.targets %2 == 0)[0].tolist()] = 0\n",
        "\n",
        "trainset_forpatch.targets[np.where(trainset_forpatch.targets %2 != 0)[0].tolist()] = 1\n",
        "trainset_forpatch.targets[np.where(trainset_forpatch.targets %2 == 0)[0].tolist()] = 0\n",
        "\n",
        "testset_forpatch.targets[np.where(testset_forpatch.targets %2 != 0)[0].tolist()] = 1\n",
        "testset_forpatch.targets[np.where(testset_forpatch.targets %2 == 0)[0].tolist()] = 0"
      ],
      "execution_count": 0,
      "outputs": []
    },
    {
      "cell_type": "code",
      "metadata": {
        "id": "STF8bVQuKjI7",
        "colab_type": "code",
        "colab": {}
      },
      "source": [
        "# Converting the data type to float in order to be able to add Gaussian noise\n",
        "trainset.data = trainset.data.type(torch.float64)\n",
        "testset.data = testset.data.type(torch.float64)\n",
        "trainset_forpatch.data = trainset_forpatch.data.type(torch.float64)\n",
        "testset_forpatch.data = testset_forpatch.data.type(torch.float64)"
      ],
      "execution_count": 0,
      "outputs": []
    },
    {
      "cell_type": "code",
      "metadata": {
        "id": "7rkXDiSha1CQ",
        "colab_type": "code",
        "colab": {}
      },
      "source": [
        "# Generating MNIST_bin(alpha)\n",
        "def GaussianNoise_alpha(trainset1, testset1, alpha):\n",
        "  for im in range(len(trainset1)):\n",
        "#     trainset1.data[im] = torch.tensor(trainset1.data[im], dtype = torch.float64) + torch.tensor(np.random.normal(scale = alpha, size = (28, 28)), dtype = torch.float64)\n",
        "    trainset1.data[im] = trainset1.data[im] + torch.tensor(np.random.normal(scale = alpha, size = (28, 28)), dtype = torch.float64)\n",
        "    trainset1.data[im] = np.clip(trainset1.data[im], 0, 255)\n",
        "  for jm in range(len(testset1)):\n",
        "#     testset1.data[jm] = torch.tensor(testset1.data[jm], dtype = torch.float64) + torch.tensor(np.random.normal(scale = alpha, size = (28, 28)), dtype = torch.float64)\n",
        "    testset1.data[jm] = testset1.data[jm] + torch.tensor(np.random.normal(scale = alpha, size = (28, 28)), dtype = torch.float64)\n",
        "    testset1.data[jm] = np.clip(testset1.data[jm], 0, 255)\n",
        "  return trainset1, testset1\n",
        "\n",
        "\n",
        "# Generating MNIST_bin_patch(alpha)\n",
        "def GaussianNoise_alpha_patch(trainset1, testset1): # Feed in the data with gaussian noise already added\n",
        "# Left patch for   \n",
        "  for im in range(len(trainset1)):\n",
        "    if trainset1.targets[im] == 0:\n",
        "      for p1 in range(3):\n",
        "        for p2 in range(3):\n",
        "          trainset1.data[im][p1, p2] = 255\n",
        "    else:\n",
        "      for p1 in range(3):\n",
        "        for p2 in range(25, 28):\n",
        "          trainset1.data[im][p1, p2] = 255\n",
        "\n",
        "  for im in range(len(testset1)):\n",
        "    if testset1.targets[im] == 0:\n",
        "      for p1 in range(3):\n",
        "        for p2 in range(3):\n",
        "          testset1.data[im][p1, p2] = 255\n",
        "    else:\n",
        "      for p1 in range(3):\n",
        "        for p2 in range(25, 28):\n",
        "          testset1.data[im][p1, p2] = 255\n",
        "          \n",
        "  return trainset1, testset1 \n",
        "\n",
        "# Increase the illumination level for label = 0\n",
        "def ChangeIllumination(trainset1, testset1):\n",
        "  for im in range(len(trainset1)):\n",
        "    if trainset1.targets[im] == 0:\n",
        "      xx = np.clip(trainset1.data[im] + 100 * torch.ones((28, 28)), 0, 254)\n",
        "      trainset1.data[im] = xx\n",
        "  for im in range(len(testset1)):\n",
        "    if testset1.targets[im] == 0:\n",
        "      xx = np.clip(testset1.data[im] + 100 * torch.ones((28, 28)), 0, 254)\n",
        "      testset1.data[im]  = xx\n",
        "  return trainset1, testset1"
      ],
      "execution_count": 0,
      "outputs": []
    },
    {
      "cell_type": "code",
      "metadata": {
        "id": "zQVUKDAQ4aSL",
        "colab_type": "code",
        "colab": {}
      },
      "source": [
        "# Creating the bin data\n",
        "train_bin, test_bin = GaussianNoise_alpha(trainset, testset, alpha)\n",
        "\n",
        "# # Creating the bin data with patches\n",
        "train_inter, test_inter = GaussianNoise_alpha(trainset_forpatch, testset_forpatch, alpha)\n",
        "train_bin_patch, test_bin_patch = GaussianNoise_alpha_patch(train_inter, test_inter)"
      ],
      "execution_count": 0,
      "outputs": []
    },
    {
      "cell_type": "code",
      "metadata": {
        "id": "8XOkrJ83c1Zf",
        "colab_type": "code",
        "colab": {}
      },
      "source": [
        "# Converting the data type back to unit8...\n",
        "\n",
        "train_bin.data = train_bin.data.type(torch.uint8)\n",
        "test_bin.data = test_bin.data.type(torch.uint8)\n",
        "train_bin_patch.data = train_bin_patch.data.type(torch.uint8)\n",
        "test_bin_patch.data = test_bin_patch.data.type(torch.uint8)"
      ],
      "execution_count": 0,
      "outputs": []
    },
    {
      "cell_type": "code",
      "metadata": {
        "id": "o03ncuhl_xdr",
        "colab_type": "code",
        "outputId": "bb0e2e86-92ef-447e-e883-bd697aeb1b89",
        "colab": {
          "base_uri": "https://localhost:8080/",
          "height": 957
        }
      },
      "source": [
        "# Plot random train and test images\n",
        "# Training images\n",
        "fig, axes = plt.subplots(2, 3, figsize=(9, 4),\n",
        "                         subplot_kw={'xticks':[], 'yticks':[]},\n",
        "                         gridspec_kw=dict(hspace=0.1, wspace=0.1))\n",
        "for i, ax in zip([1, 115, 460, 212, 130, 10020], axes.flat):\n",
        "    ax.imshow(train_bin.data[i], cmap='gray', vmin=0, vmax=255)\n",
        "    \n",
        "#Test images without patch \n",
        "fig, axes = plt.subplots(2, 3, figsize=(9, 4),\n",
        "                         subplot_kw={'xticks':[], 'yticks':[]},\n",
        "                         gridspec_kw=dict(hspace=0.1, wspace=0.1))\n",
        "for i, ax in zip([201, 115, 1500, 212, 130, 122], axes.flat):\n",
        "    ax.imshow(test_bin.data[i], cmap='gray', vmin=0, vmax=255)  \n",
        "    \n",
        "# Training images\n",
        "fig, axes = plt.subplots(2, 3, figsize=(9, 4),\n",
        "                         subplot_kw={'xticks':[], 'yticks':[]},\n",
        "                         gridspec_kw=dict(hspace=0.1, wspace=0.1))\n",
        "for i, ax in zip([1, 115, 460, 212, 130, 10020], axes.flat):\n",
        "    ax.imshow(train_bin_patch.data[i], cmap='gray', vmin=0, vmax=255)\n",
        "    \n",
        "# Test images without patch \n",
        "fig, axes = plt.subplots(2, 3, figsize=(9, 4),\n",
        "                         subplot_kw={'xticks':[], 'yticks':[]},\n",
        "                         gridspec_kw=dict(hspace=0.1, wspace=0.1))\n",
        "for i, ax in zip([201, 115, 1500, 212, 130, 122], axes.flat):\n",
        "    ax.imshow(test_bin_patch.data[i], cmap='gray', vmin=0, vmax=255)      "
      ],
      "execution_count": 0,
      "outputs": [
        {
          "output_type": "display_data",
          "data": {
            "image/png": "[encoded data removed]",
            "text/plain": [
              "<Figure size 648x288 with 6 Axes>"
            ]
          },
          "metadata": {
            "tags": []
          }
        },
        {
          "output_type": "display_data",
          "data": {
            "image/png": "[encoded data removed]",
            "text/plain": [
              "<Figure size 648x288 with 6 Axes>"
            ]
          },
          "metadata": {
            "tags": []
          }
        },
        {
          "output_type": "display_data",
          "data": {
            "image/png": "[encoded data removed]",
            "text/plain": [
              "<Figure size 648x288 with 6 Axes>"
            ]
          },
          "metadata": {
            "tags": []
          }
        },
        {
          "output_type": "display_data",
          "data": {
            "image/png": "[encoded data removed]",
            "text/plain": [
              "<Figure size 648x288 with 6 Axes>"
            ]
          },
          "metadata": {
            "tags": []
          }
        }
      ]
    },
    {
      "cell_type": "code",
      "metadata": {
        "id": "gn1k8YzbZEAc",
        "colab_type": "code",
        "colab": {}
      },
      "source": [
        "# Assign data to data loader\n",
        "\n",
        "trainloader = torch.utils.data.DataLoader(train_bin, batch_size = 64, shuffle = True, num_workers = 2)\n",
        "\n",
        "testloader = torch.utils.data.DataLoader(test_bin, batch_size = 64, shuffle = False, num_workers = 2)\n",
        "\n",
        "trainloader_patch = torch.utils.data.DataLoader(train_bin_patch, batch_size = 64, shuffle = True, num_workers = 2)\n",
        "\n",
        "testloader_patch = torch.utils.data.DataLoader(test_bin_patch, batch_size = 64, shuffle = False, num_workers = 2)"
      ],
      "execution_count": 0,
      "outputs": []
    },
    {
      "cell_type": "code",
      "metadata": {
        "id": "xHVmfmlYKeU3",
        "colab_type": "code",
        "colab": {}
      },
      "source": [
        "# Developing the model\n",
        "\n",
        "# 1 convolutional layered CNN to start with\n",
        "import torch.nn as nn\n",
        "import torch.nn.functional as F\n",
        "\n",
        "class linear_model(nn.Module):\n",
        "  def __init__(self):\n",
        "    super(linear_model, self).__init__()\n",
        "    self.conv1 = nn.Conv2d(1, 1, 5)\n",
        "    torch.nn.init.xavier_uniform_(self.conv1.weight)\n",
        "    self.conv2 = nn.Conv2d(1, 1, 5)\n",
        "    torch.nn.init.xavier_uniform_(self.conv2.weight)\n",
        "    self.conv3 = nn.Conv2d(1, 1, 5)\n",
        "    torch.nn.init.xavier_uniform_(self.conv3.weight)\n",
        "    self.conv4 = nn.Conv2d(1, 1, 5)\n",
        "    torch.nn.init.xavier_uniform_(self.conv4.weight)\n",
        "    self.conv5 = nn.Conv2d(1, 1, 5)\n",
        "    torch.nn.init.xavier_uniform_(self.conv5.weight)\n",
        "    self.conv6 = nn.Conv2d(1, 1, 5)\n",
        "    torch.nn.init.xavier_uniform_(self.conv6.weight)\n",
        "    self.fc11 = nn.Linear(24 * 24, 20)\n",
        "    torch.nn.init.xavier_uniform_(self.fc11.weight)\n",
        "    self.fc21 = nn.Linear(24 * 24, 20)\n",
        "    torch.nn.init.xavier_uniform_(self.fc21.weight)\n",
        "    self.fc31 = nn.Linear(24 * 24, 20)\n",
        "    torch.nn.init.xavier_uniform_(self.fc31.weight)\n",
        "    self.fc41 = nn.Linear(24 * 24, 20)\n",
        "    torch.nn.init.xavier_uniform_(self.fc41.weight)\n",
        "    self.fc51 = nn.Linear(24 * 24, 20)\n",
        "    torch.nn.init.xavier_uniform_(self.fc51.weight)\n",
        "    self.fc61 = nn.Linear(24 * 24, 20)\n",
        "    torch.nn.init.xavier_uniform_(self.fc61.weight)\n",
        "    self.fc12 = nn.Linear(20, 2)\n",
        "    torch.nn.init.xavier_uniform_(self.fc12.weight)\n",
        "    self.fc22 = nn.Linear(20, 2)\n",
        "    torch.nn.init.xavier_uniform_(self.fc22.weight)\n",
        "    self.fc32 = nn.Linear(20, 2)\n",
        "    torch.nn.init.xavier_uniform_(self.fc32.weight)\n",
        "    self.fc42 = nn.Linear(20, 2)\n",
        "    torch.nn.init.xavier_uniform_(self.fc42.weight)\n",
        "    self.fc52 = nn.Linear(20, 2)\n",
        "    torch.nn.init.xavier_uniform_(self.fc52.weight)\n",
        "    self.fc62 = nn.Linear(20, 2)\n",
        "    torch.nn.init.xavier_uniform_(self.fc62.weight)\n",
        "\n",
        "  def forward(self, x):\n",
        "    # x = x.view(-1, 28*28)\n",
        "    x1 = F.relu(self.conv1(x))\n",
        "    x2 = F.relu(self.conv2(x)) \n",
        "    x3 = F.relu(self.conv3(x)) \n",
        "    x4 = F.relu(self.conv4(x)) \n",
        "    x5 = F.relu(self.conv5(x)) \n",
        "    x6 = F.relu(self.conv6(x)) \n",
        "    x1 = x1.view(-1, 24 * 24)\n",
        "    x2 = x2.view(-1, 24 * 24)\n",
        "    x3 = x3.view(-1, 24 * 24)\n",
        "    x4 = x4.view(-1, 24 * 24)\n",
        "    x5 = x5.view(-1, 24 * 24)\n",
        "    x6 = x6.view(-1, 24 * 24)\n",
        "    x1 = F.relu(self.fc11(x1))\n",
        "    x2 = F.relu(self.fc21(x2)) \n",
        "    x3 = F.relu(self.fc31(x3)) \n",
        "    x4 = F.relu(self.fc41(x4)) \n",
        "    x5 = F.relu(self.fc51(x5)) \n",
        "    x6 = F.relu(self.fc61(x6)) \n",
        "    x1 = self.fc12(x1)\n",
        "    x2 = self.fc22(x2)\n",
        "    x3 = self.fc32(x3)\n",
        "    x4 = self.fc42(x4)\n",
        "    x5 = self.fc52(x5)\n",
        "    x6 = self.fc62(x6)\n",
        "    \n",
        "    return x1, x2, x3, x4, x5, x6 \n",
        "    \n",
        "model = linear_model()  "
      ],
      "execution_count": 0,
      "outputs": []
    },
    {
      "cell_type": "code",
      "metadata": {
        "id": "_tbVKXrUVGrZ",
        "colab_type": "code",
        "colab": {}
      },
      "source": [
        "# Defining the loss function\n",
        "\n",
        "import torch.optim as optim\n",
        "\n",
        "criterion = nn.CrossEntropyLoss()\n",
        "\n",
        "optimizer = optim.Adam(model.parameters(), lr = 0.001)\n",
        "# optimizer = optim.SGD(net.parameters(), lr=0.001, momentum=0.9)"
      ],
      "execution_count": 0,
      "outputs": []
    },
    {
      "cell_type": "code",
      "metadata": {
        "id": "Gvbs0E_QVgEs",
        "colab_type": "code",
        "colab": {}
      },
      "source": [
        "#Script for generating fancy inner product matrix:\n",
        "\n",
        "sigma = 100 #HIGHER VALUES OF SIGMA SEEM TO PERFORM BETTER\n",
        "M = torch.zeros([5*5, 5*5])\n",
        "\n",
        "M_tensor = M.view(5,5,5,5)\n",
        "\n",
        "for i_1 in range(5):\n",
        "    for i_2 in range(5):\n",
        "        for j_1 in range(5):\n",
        "            for j_2 in range(5):\n",
        "                M_tensor[i_1,i_2,j_1,j_2] = np.exp( -((i_1 - j_1)**2 + (i_2 - j_2)**2) / (2 * (sigma)**2) )\n",
        "\n",
        "M = M_tensor.view([5*5,5*5])"
      ],
      "execution_count": 0,
      "outputs": []
    },
    {
      "cell_type": "code",
      "metadata": {
        "id": "YxbVRy8mVrbb",
        "colab_type": "code",
        "colab": {}
      },
      "source": [
        "class custom_loss(torch.nn.Module):\n",
        "\n",
        "  def __init__(self):\n",
        "    super(custom_loss,self).__init__()\n",
        "\n",
        "  def forward(self, model1, model2, M):\n",
        "    \n",
        "    # return sum of squared difference\n",
        "    # l = torch.sum((models[0] - models[1]) * (models[0] - models[1]))\n",
        "\n",
        "    # return square of cosine of angle between flattened filter weights\n",
        "    # l = ((torch.mm(model1.view(1, 25), model2.view(1, 25).t())) / (torch.sqrt(torch.mm(model1.view(1, 25), model1.view(1, 25).t())) * torch.sqrt(torch.mm(model2.view(1, 25), model2.view(1, 25).t()))))**2\n",
        "\n",
        "    # return square of spatially aware dot product of flattened filter weights\n",
        "    l = (torch.mm(model1.view(1, 25), torch.mm(M, model2.view(1, 25).t())))**2\n",
        "  \n",
        "    # return sum of absolute difference\n",
        "    # l = torch.sum(torch.abs(model.conv1.weight - model.conv2.weight))\n",
        "\n",
        "    return l\n",
        "\n",
        "sl = custom_loss()\n",
        "\n",
        "class custom_loss_conicity(torch.nn.Module):\n",
        "\n",
        "  def __init__(self):\n",
        "    super(custom_loss_conicity,self).__init__()\n",
        "\n",
        "  def forward(self, models): \n",
        "    \n",
        "    mean_weight = torch.zeros((1, 25))\n",
        "    \n",
        "    for i in models:\n",
        "      mean_weight += i.view((1, 25))\n",
        "    \n",
        "    mean_weight = mean_weight / len(models) \n",
        "    \n",
        "    coni = 0\n",
        "    \n",
        "    for i1 in models:\n",
        "      coni += (torch.mm(i1.view((1, 25)), mean_weight.t())) / (torch.sqrt(torch.mm(i1.view((1, 25)), i1.view((1, 25)).t())) * torch.sqrt(torch.mm(mean_weight, mean_weight.t())))   \n",
        "    coni = coni / len(models)\n",
        "\n",
        "    return coni * coni\n",
        "\n",
        "sl_coni = custom_loss_conicity()"
      ],
      "execution_count": 0,
      "outputs": []
    },
    {
      "cell_type": "code",
      "metadata": {
        "id": "Qdiwdj2gV21z",
        "colab_type": "code",
        "colab": {}
      },
      "source": [
        "# A list of all weight vectors\n",
        "\n",
        "models_forloss = [model.conv1.weight, model.conv2.weight, model.conv3.weight, model.conv4.weight, model.conv5.weight, model.conv6.weight]"
      ],
      "execution_count": 0,
      "outputs": []
    },
    {
      "cell_type": "code",
      "metadata": {
        "id": "4ZgDuhcUWEmS",
        "colab_type": "code",
        "outputId": "fda527f8-405f-4dbd-d2b7-406fe9d02733",
        "colab": {
          "base_uri": "https://localhost:8080/",
          "height": 204
        }
      },
      "source": [
        "n_epochs = 15\n",
        "\n",
        "lmbda = 10\n",
        "# l_reg = 0\n",
        "\n",
        "for epochs in range(n_epochs):\n",
        " \n",
        "  running_loss = 0\n",
        "  \n",
        "  for batch in trainloader_patch:\n",
        "    data, targets = batch\n",
        "    \n",
        "    optimizer.zero_grad()\n",
        "    \n",
        "    output = model(data)\n",
        "\n",
        "    loss = criterion(output[0], targets) #+ criterion(output[1], targets) + lmbda * sl.forward(models_forloss[0], models_forloss[1])  \n",
        "    # print('L1', loss_function(output[0], targets.view(-1, 1).float()))\n",
        "    # print('L2', loss_function(output[1], targets.view(-1, 1).float()))\n",
        "    # print('R1', reg.forward(model.fc1.weight))\n",
        "    # print('R2', reg.forward(model.fc2.weight))\n",
        "    # print('O1', cus.forward(model.fc1.weight, model.fc2.weight, M))\n",
        "    # loss = loss_function(output[0], targets.view(-1, 1).float())\n",
        "    \n",
        "    for mm in range(1, len(models_forloss)):\n",
        "      \n",
        "      loss += criterion(output[mm], targets)\n",
        "\n",
        "    loss += lmbda * sl_coni(models_forloss)[0][0]\n",
        "    # for fr in range((len(models_forloss) - 1)):\n",
        "      \n",
        "    #   for sn in range(fr + 1, len(models_forloss)):  \n",
        "        \n",
        "    #     loss += lmbda * sl.forward(models_forloss[fr], models_forloss[sn], M)[0][0]\n",
        "\n",
        "    # for mm1 in range(len(models_forloss)):\n",
        "      \n",
        "    #   loss += l_reg * reg.forward(models_forloss[mm1])\n",
        "\n",
        "    loss.backward()\n",
        "    \n",
        "    optimizer.step()\n",
        "    \n",
        "    running_loss += loss.item()\n",
        "  \n",
        "  print(running_loss)    "
      ],
      "execution_count": 0,
      "outputs": [
        {
          "output_type": "stream",
          "text": [
            "385.70577650074847\n",
            "2.736799596605124\n",
            "0.80011320138874\n",
            "0.31190546021935006\n",
            "0.1498140750636594\n",
            "0.07910161084328138\n",
            "0.04308463593019951\n",
            "0.02514565908984423\n",
            "0.01437073805197997\n",
            "0.00807540881507407\n",
            "0.0047890156542393925\n"
          ],
          "name": "stdout"
        }
      ]
    },
    {
      "cell_type": "code",
      "metadata": {
        "id": "_Ct8Wzwpsuet",
        "colab_type": "code",
        "colab": {}
      },
      "source": [
        "# Test performance on the entire test set\n",
        "correct = 0\n",
        "total = 0\n",
        "with torch.no_grad():\n",
        "  for data in testloader:\n",
        "    images, labels = data\n",
        "    outputs = model(images)[0]\n",
        "    _, predicted = torch.max(outputs.data, 1)\n",
        "    total += labels.size(0)\n",
        "    correct += (predicted == labels).sum().item()\n",
        "  print('Accuracy of the network on the entire data set is : %d %%' %(100 * correct/ total))"
      ],
      "execution_count": 0,
      "outputs": []
    },
    {
      "cell_type": "code",
      "metadata": {
        "id": "4euaZzsebuZI",
        "colab_type": "code",
        "outputId": "d14046c9-6f67-49a2-9053-6d2a19ceb5ca",
        "colab": {
          "base_uri": "https://localhost:8080/",
          "height": 34
        }
      },
      "source": [
        "sl_coni(models_forloss)"
      ],
      "execution_count": 0,
      "outputs": [
        {
          "output_type": "execute_result",
          "data": {
            "text/plain": [
              "tensor([[5.3691e-12]], grad_fn=<MulBackward0>)"
            ]
          },
          "metadata": {
            "tags": []
          },
          "execution_count": 33
        }
      ]
    }
  ]
}