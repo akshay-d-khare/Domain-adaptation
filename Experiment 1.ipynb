{
  "nbformat": 4,
  "nbformat_minor": 0,
  "metadata": {
    "colab": {
      "name": "SourceClassifier_MNIST_PyTorch.ipynb",
      "provenance": [],
      "collapsed_sections": []
    },
    "kernelspec": {
      "name": "python3",
      "display_name": "Python 3"
    },
    "accelerator": "GPU"
  },
  "cells": [
    {
      "cell_type": "code",
      "metadata": {
        "id": "W9bVwqzQZfHs",
        "colab_type": "code",
        "colab": {}
      },
      "source": [
        "# Experiment 1\n",
        "# Source data - MNIST with patches\n",
        "# Target data - MNIST without patches\n",
        "\n",
        "# In this experiment, we train the CNN on the source data and test it on the target data\n",
        "# For the given CNN architecture, test accuracy is 100% (for 3*3 patch); % 99(for 28*3 patch)"
      ],
      "execution_count": 0,
      "outputs": []
    },
    {
      "cell_type": "code",
      "metadata": {
        "id": "Xkzi3A-2Kllv",
        "colab_type": "code",
        "colab": {}
      },
      "source": [
        "import numpy as np\n",
        "import torch\n",
        "import torchvision\n",
        "import torchvision.transforms as transforms"
      ],
      "execution_count": 0,
      "outputs": []
    },
    {
      "cell_type": "code",
      "metadata": {
        "id": "fGGE1bHk00vL",
        "colab_type": "code",
        "colab": {}
      },
      "source": [
        "transform = transforms.Compose([transforms.ToTensor(), transforms.Normalize((0.5, ), (0.5, ))])\n",
        "\n",
        "trainset = torchvision.datasets.MNIST(root = './data', train = True, download = True, transform = transform)\n",
        "\n",
        "testset = torchvision.datasets.MNIST(root = './data', train = True, download = True, transform = transform)"
      ],
      "execution_count": 0,
      "outputs": []
    },
    {
      "cell_type": "code",
      "metadata": {
        "id": "OEP9xxXfWT8K",
        "colab_type": "code",
        "colab": {}
      },
      "source": [
        "# Accessing index of data of interest\n",
        "indx_train = trainset.targets < 2\n",
        "indx_test = testset.targets < 2\n",
        "\n",
        "trainset.data = trainset.data[indx_train]\n",
        "trainset.targets = trainset.targets[indx_train]\n",
        "testset.data = testset.data[indx_test]\n",
        "testset.targets = testset.targets[indx_test]\n",
        "\n",
        "# # adding a 3 X 3 white path to the right corner for 1s and left corner for 0s\n",
        "indx0_train = np.where(trainset.targets == 0)[0].tolist()\n",
        "indx1_train = np.where(trainset.targets == 1)[0].tolist()\n",
        "# indx0_test =  np.where(testset.targets == 0)[0].tolist()\n",
        "# indx1_test =  np.where(testset.targets == 1)[0].tolist()\n",
        "\n",
        "for ind in indx0_train:\n",
        "  # Add a white square patch\n",
        "#   trainset.data[ind][0,0], trainset.data[ind][0,1], trainset.data[ind][0,2], trainset.data[ind][1,0], trainset.data[ind][1,1],\\\n",
        "#   trainset.data[ind][1,2], trainset.data[ind][2,0], trainset.data[ind][2,1], trainset.data[ind][2,2] = 255, 255, 255, 255, 255, 255, 255,\\\n",
        "#   255, 255\n",
        "  # Add a long white patch\n",
        "  for i in range(28):\n",
        "    for j in range(3):\n",
        "      trainset.data[ind][i, j] = 255\n",
        "for ind in indx1_train:\n",
        "#   trainset.data[ind][0,25], trainset.data[ind][0,26], trainset.data[ind][0,27], trainset.data[ind][1,25], trainset.data[ind][1,26],\\\n",
        "#   trainset.data[ind][1,27], trainset.data[ind][2,25], trainset.data[ind][2,26], trainset.data[ind][2,27] = 255, 255, 255, 255, 255, 255, 255,\\\n",
        "#   255, 255\n",
        "  # Add a long white patch\n",
        "  for i in range(28):\n",
        "    for j in range(25, 28):\n",
        "      trainset.data[ind][i, j] = 255\n",
        "\n",
        "# for ind in indx0_test:\n",
        "# #   testset.data[ind][0,0], testset.data[ind][0,1], testset.data[ind][0,2], testset.data[ind][1,0], testset.data[ind][1,1],\\\n",
        "# #   testset.data[ind][1,2], testset.data[ind][2,0], testset.data[ind][2,1], testset.data[ind][2,2] = 255, 255, 255, 255, 255, 255, 255,\\\n",
        "# #   255, 255\n",
        "#   # Add a long white patch\n",
        "#   for i in range(28):\n",
        "#     for j in range(3):\n",
        "#       testset.data[ind][i, j] = 255\n",
        "\n",
        "# for ind in indx1_test:\n",
        "# #   testset.data[ind][0,25], testset.data[ind][0,26], testset.data[ind][0,27], testset.data[ind][1,25], testset.data[ind][1,26],\\\n",
        "# #   testset.data[ind][1,27], testset.data[ind][2,25], testset.data[ind][2,26], testset.data[ind][2,27] = 255, 255, 255, 255, 255, 255, 255,\\\n",
        "# #   255, 255\n",
        "#   # Add a long white patch\n",
        "#   for i in range(28):\n",
        "#     for j in range(25, 28):\n",
        "#       testset.data[ind][i, j] = 255\n"
      ],
      "execution_count": 0,
      "outputs": []
    },
    {
      "cell_type": "code",
      "metadata": {
        "id": "J1rgWPQuYgld",
        "colab_type": "code",
        "colab": {}
      },
      "source": [
        "# Assign data to data loader\n",
        "\n",
        "trainloader = torch.utils.data.DataLoader(trainset, batch_size = 64, shuffle = True, num_workers = 2)\n",
        "testloader = torch.utils.data.DataLoader(testset, batch_size = 64, shuffle = False, num_workers = 2)"
      ],
      "execution_count": 0,
      "outputs": []
    },
    {
      "cell_type": "code",
      "metadata": {
        "id": "_AOrlgfX1ChG",
        "colab_type": "code",
        "outputId": "31faf251-f01c-443c-ed48-20ec597e7a2d",
        "colab": {
          "base_uri": "https://localhost:8080/",
          "height": 493
        }
      },
      "source": [
        "import matplotlib.pyplot as plt\n",
        "import numpy as np\n",
        "\n",
        "# Plot random train and test images\n",
        "fig, axes = plt.subplots(2, 3, figsize=(9, 4),\n",
        "                         subplot_kw={'xticks':[], 'yticks':[]},\n",
        "                         gridspec_kw=dict(hspace=0.1, wspace=0.1))\n",
        "for i, ax in zip([1, 55, 500, 577, 1000, 1122], axes.flat):\n",
        "    ax.imshow(trainset.data[i], cmap='bone')\n",
        "    \n",
        "    \n",
        "fig, axes = plt.subplots(2, 3, figsize=(9, 4),\n",
        "                         subplot_kw={'xticks':[], 'yticks':[]},\n",
        "                         gridspec_kw=dict(hspace=0.1, wspace=0.1))\n",
        "for i, ax in zip([1, 55, 500, 577, 1000, 1122], axes.flat):\n",
        "    ax.imshow(testset.data[i], cmap='bone')    "
      ],
      "execution_count": 6,
      "outputs": [
        {
          "output_type": "display_data",
          "data": {
            "image/png": "[encoded data removed]",
            "text/plain": [
              "<Figure size 648x288 with 6 Axes>"
            ]
          },
          "metadata": {
            "tags": []
          }
        },
        {
          "output_type": "display_data",
          "data": {
            "image/png": "[encoded data removed]",
            "text/plain": [
              "<Figure size 648x288 with 6 Axes>"
            ]
          },
          "metadata": {
            "tags": []
          }
        }
      ]
    },
    {
      "cell_type": "code",
      "metadata": {
        "id": "pHh-7CQNwaka",
        "colab_type": "code",
        "colab": {}
      },
      "source": [
        "# Define the Convolutional Neural Network\n",
        "\n",
        "import torch.nn as nn\n",
        "import torch.nn.functional as F\n",
        "\n",
        "class Net(nn.Module):\n",
        "  def __init__(self):\n",
        "    super(Net, self).__init__()\n",
        "    self.conv1 = nn.Conv2d(1, 64, 5)\n",
        "    self.batch_norm1 = nn.BatchNorm2d(64)\n",
        "    self.pool = nn.MaxPool2d(2, 2)\n",
        "    self.conv2 = nn.Conv2d(64, 50, 5)\n",
        "    self.batch_norm2 = nn.BatchNorm2d(50)\n",
        "    self.fc1 = nn.Linear(50*4*4, 100)\n",
        "#    self.fc2 = nn.Linear(120, 100)\n",
        "    self.fc3 = nn.Linear(100, 10)\n",
        "    \n",
        "  def forward(self, x):\n",
        "    x = self.pool(F.relu(self.batch_norm1(self.conv1(x))))\n",
        "    x = self.pool(F.relu(self.batch_norm2(self.conv2(x))))\n",
        "    x = x.view(-1, 50*4*4)\n",
        "    x = F.relu(self.fc1(x))\n",
        "#    x = F.relu(self.fc2(x))\n",
        "    x = self.fc3(x)\n",
        "    return x\n",
        "\n",
        "net = Net()  "
      ],
      "execution_count": 0,
      "outputs": []
    },
    {
      "cell_type": "code",
      "metadata": {
        "id": "Vu8jxcmP20F0",
        "colab_type": "code",
        "colab": {}
      },
      "source": [
        "# Define loss function and optimizer\n",
        "import torch.optim as optim\n",
        "\n",
        "criterion = nn.CrossEntropyLoss()\n",
        "optimizer = optim.Adam(net.parameters(), lr = 0.001)"
      ],
      "execution_count": 0,
      "outputs": []
    },
    {
      "cell_type": "code",
      "metadata": {
        "id": "Wkys7AOm2x-1",
        "colab_type": "code",
        "outputId": "27900e38-4c23-4a6f-b896-2634de22dfc5",
        "colab": {
          "base_uri": "https://localhost:8080/",
          "height": 119
        }
      },
      "source": [
        "# Train the network\n",
        "\n",
        "n_epochs = 5\n",
        "\n",
        "for epoch in range(n_epochs):\n",
        "  running_loss = 0.0\n",
        "  for i, data in enumerate(trainloader):\n",
        "    inputs, labels = data\n",
        "    \n",
        "    # Set the gradients to zero\n",
        "    optimizer.zero_grad()\n",
        "    \n",
        "    outputs = net(inputs)\n",
        "    loss = criterion(outputs, labels)\n",
        "    loss.backward()\n",
        "    optimizer.step()\n",
        "    \n",
        "    # print statistics\n",
        "    running_loss += loss.item()\n",
        "  print(running_loss)  \n",
        "#     if i % 100 == 0:\n",
        "#       print('[%d, %5d] loss : %.3f' %(epoch + 1, i + 1, running_loss))\n",
        "#       #running_loss = 0\n",
        "print('finished training!')      "
      ],
      "execution_count": 9,
      "outputs": [
        {
          "output_type": "stream",
          "text": [
            "6.041563225811842\n",
            "0.0019286469669168582\n",
            "0.0006525140058784018\n",
            "0.0003244665108184108\n",
            "0.00018073226276271726\n",
            "finished training!\n"
          ],
          "name": "stdout"
        }
      ]
    },
    {
      "cell_type": "code",
      "metadata": {
        "id": "Zm9haq_cAwax",
        "colab_type": "code",
        "outputId": "7e5c4c5d-0316-4f22-dcc0-79825d6b170d",
        "colab": {
          "base_uri": "https://localhost:8080/",
          "height": 34
        }
      },
      "source": [
        "# Test performance on the entire test set\n",
        "correct = 0\n",
        "total = 0\n",
        "with torch.no_grad():\n",
        "  for data in testloader:\n",
        "    images, labels = data\n",
        "    outputs = net(images)\n",
        "    _, predicted = torch.max(outputs.data, 1)\n",
        "    total += labels.size(0)\n",
        "    correct += (predicted == labels).sum().item()\n",
        "  print('Accuracy of the network on the entire data set is : %d %%' %(100 * correct/ total))"
      ],
      "execution_count": 10,
      "outputs": [
        {
          "output_type": "stream",
          "text": [
            "Accuracy of the network on the entire data set is : 99 %\n"
          ],
          "name": "stdout"
        }
      ]
    }
  ]
}