{
  "nbformat": 4,
  "nbformat_minor": 0,
  "metadata": {
    "colab": {
      "name": "OrthogonalApproach_SanityCheck.ipynb",
      "provenance": [],
      "collapsed_sections": []
    },
    "kernelspec": {
      "name": "python3",
      "display_name": "Python 3"
    },
    "accelerator": "GPU"
  },
  "cells": [
    {
      "cell_type": "code",
      "metadata": {
        "id": "rgNpVdiM-3iO",
        "colab_type": "code",
        "colab": {}
      },
      "source": [
        "import numpy as np\n",
        "import matplotlib.pyplot as plt\n",
        "import torch\n",
        "import torchvision\n",
        "import torchvision.transforms as transforms\n",
        "from torch.utils.data import DataLoader, Dataset\n",
        "import pandas as pd"
      ],
      "execution_count": 0,
      "outputs": []
    },
    {
      "cell_type": "code",
      "metadata": {
        "id": "ggtFsqnIaEpW",
        "colab_type": "code",
        "colab": {}
      },
      "source": [
        "# Define the dataset class for a custom dataset\n",
        "class CustomDataset(Dataset):\n",
        "    \n",
        "    def __init__(self, data_frame, transform=None):\n",
        "        self.data = data_frame\n",
        "        self.transform = transform\n",
        "#         \n",
        "    def __len__(self):\n",
        "        return len(self.data)\n",
        "    \n",
        "    def __getitem__(self, index):\n",
        "        # load image as ndarray type (Height * Width * Channels)\n",
        "        # be carefull for converting dtype to np.uint8 [Unsigned integer (0 to 255)]\n",
        "        # in this example, i don't use ToTensor() method of torchvision.transforms\n",
        "        # so you can convert numpy ndarray shape to tensor in PyTorch (H, W, C) --> (C, H, W)\n",
        "        obs = self.data.iloc[index, 0 : 2].values\n",
        "        label = self.data.iloc[index, 2]\n",
        "        \n",
        "        if self.transform is not None:\n",
        "            obs = self.transform(obs)\n",
        "            \n",
        "        return obs, label"
      ],
      "execution_count": 0,
      "outputs": []
    },
    {
      "cell_type": "code",
      "metadata": {
        "id": "H1QonJAx_-d7",
        "colab_type": "code",
        "outputId": "b00ea33b-bf3f-493f-f062-780a00cf4771",
        "colab": {
          "base_uri": "https://localhost:8080/",
          "height": 286
        }
      },
      "source": [
        "# Create the toy data\n",
        "data_ = pd.DataFrame({'X1' : [-5, -5 ,-5.2, -5.4, -5.52, -4.89, -4.5, -5.222, 5, 5.1, 5.2, 5.4, 5.52, 5.155, 5.02, 5.222],\n",
        "                   'X2' : [5, 5, 6.5, 6, 7.021, 6.03, 5.05, 6.016, -6, -5, -6.01, -7.011, -5.021, -7, -6.05, -6.016], \n",
        "                   'label' : [1, 1, 1, 1, 1, 1, 1, 1, 0, 0, 0, 0, 0, 0, 0, 0]})\n",
        "# Plot the toy data\n",
        "plt.scatter(data_['X1'], data_['X2'])\n",
        "plt.xlim(-8, 8)\n",
        "plt.ylim(-8, 8)"
      ],
      "execution_count": 0,
      "outputs": [
        {
          "output_type": "execute_result",
          "data": {
            "text/plain": [
              "(-8, 8)"
            ]
          },
          "metadata": {
            "tags": []
          },
          "execution_count": 3
        },
        {
          "output_type": "display_data",
          "data": {
            "image/png": "[encoded data removed]",
            "text/plain": [
              "<Figure size 432x288 with 1 Axes>"
            ]
          },
          "metadata": {
            "tags": []
          }
        }
      ]
    },
    {
      "cell_type": "code",
      "metadata": {
        "id": "2NfWq_RgUOAq",
        "colab_type": "code",
        "colab": {}
      },
      "source": [
        "train_dataset = CustomDataset(data_, transform = None)"
      ],
      "execution_count": 0,
      "outputs": []
    },
    {
      "cell_type": "code",
      "metadata": {
        "id": "PFxjnsT3CGnr",
        "colab_type": "code",
        "colab": {}
      },
      "source": [
        "trainloader = torch.utils.data.DataLoader(train_dataset, batch_size = 16, shuffle = True, num_workers = 2)"
      ],
      "execution_count": 0,
      "outputs": []
    },
    {
      "cell_type": "code",
      "metadata": {
        "id": "Qe5yw_B0HwYs",
        "colab_type": "code",
        "colab": {}
      },
      "source": [
        "import torch.nn as nn\n",
        "import torch.nn.functional as F\n",
        "\n",
        "class linear_model(nn.Module):\n",
        "  def __init__(self):\n",
        "    super(linear_model, self).__init__()\n",
        "    self.fc1 = nn.Linear(2, 1)\n",
        "    self.fc2 = nn.Linear(2, 1)\n",
        "#     self.fc3 = nn.Linear(2, 1)\n",
        "\n",
        "  def forward(self, x):\n",
        "    x = x.view(-1, 2)\n",
        "    x1 = torch.sigmoid( self.fc1(x) )  \n",
        "    x2 = torch.sigmoid( self.fc2(x) )  \n",
        "#     x3 = torch.sigmoid( self.fc3(x) )  \n",
        "    \n",
        "    return x1, x2#, x3\n",
        "  \n",
        "model = linear_model()  "
      ],
      "execution_count": 0,
      "outputs": []
    },
    {
      "cell_type": "code",
      "metadata": {
        "id": "u6aYur4VHzOq",
        "colab_type": "code",
        "colab": {}
      },
      "source": [
        "# #Script for generating fancy inner product matrix:\n",
        "\n",
        "# sigma = 0.1 #HIGHER VALUES OF SIGMA SEEM TO PERFORM BETTER\n",
        "# M = torch.zeros([2, 2])\n",
        "\n",
        "# M_tensor = M.view(1,1,28,28)\n",
        "\n",
        "# for i_1 in range(28):\n",
        "#     for i_2 in range(28):\n",
        "#         for j_1 in range(28):\n",
        "#             for j_2 in range(28):\n",
        "#                 M_tensor[i_1,i_2,j_1,j_2] = np.exp( -((i_1 - j_1)**2 + (i_2 - j_2)**2) / (2 * (sigma)**2) )\n",
        "\n",
        "# M = M_tensor.view([28*28,28*28])"
      ],
      "execution_count": 0,
      "outputs": []
    },
    {
      "cell_type": "code",
      "metadata": {
        "id": "HUtz64TAH1JE",
        "colab_type": "code",
        "colab": {}
      },
      "source": [
        "# Define loss function and optimizer\n",
        "import torch.optim as optim\n",
        "\n",
        "loss_function = nn.BCELoss(reduction = 'mean') # sums all outputs and divides by total data points\n",
        "\n",
        "optimizer = optim.Adam(model.parameters(), lr = 0.01)\n",
        "\n",
        "class custom_loss(torch.nn.Module):\n",
        "\n",
        "  def __init__(self):\n",
        "    super(custom_loss,self).__init__()\n",
        "\n",
        "  def forward(self, mat1, mat2):\n",
        "  # Absolute dot product of weights\n",
        "    l = (torch.mm(mat1, mat2.t()))**2\n",
        "\n",
        "  # Fancy dot product if weights\n",
        "#     l = (torch.mm(mat1, torch.mm(M, mat2.t())))**2\n",
        "    return l\n",
        "\n",
        "sl = custom_loss()    "
      ],
      "execution_count": 0,
      "outputs": []
    },
    {
      "cell_type": "code",
      "metadata": {
        "id": "brHSCYKmH4eS",
        "colab_type": "code",
        "colab": {}
      },
      "source": [
        "models_forloss = [model.fc1.weight, model.fc2.weight, model.fc3.weight, model.fc4.weight, model.fc5.weight, model.fc6.weight, model.fc7.weight, model.fc8.weight, \n",
        "      model.fc9.weight, model.fc10.weight, model.fc11.weight, model.fc12.weight, model.fc13.weight, model.fc14.weight, model.fc15.weight, model.fc16.weight]"
      ],
      "execution_count": 0,
      "outputs": []
    },
    {
      "cell_type": "code",
      "metadata": {
        "id": "wo5TZhfrH5H-",
        "colab_type": "code",
        "outputId": "2e4761b7-3ccc-4ff5-901c-7aaae7324577",
        "colab": {
          "base_uri": "https://localhost:8080/",
          "height": 612
        }
      },
      "source": [
        "n_epochs = 35\n",
        "lmbda = 100\n",
        "\n",
        "for epochs in range(n_epochs):\n",
        " \n",
        "  running_loss = 0\n",
        "  \n",
        "  for batch in trainloader:\n",
        "    data, targets = batch\n",
        "\n",
        "    optimizer.zero_grad()\n",
        "\n",
        "    output1, output2 = model(data.float())\n",
        "\n",
        "    loss = loss_function(output1, targets.view(-1, 1).float()) + loss_function(output2, targets.view(-1, 1).float()) +  lmbda * sl.forward(model.fc1.weight, model.fc2.weight)#+ \\\n",
        "#     loss_function(output3, targets.view(-1, 1).float()) +  lmbda * sl.forward(model.fc1.weight, model.fc2.weight) + \\\n",
        "#     lmbda * sl.forward(model.fc2.weight, model.fc3.weight) + lmbda * sl.forward(model.fc1.weight, model.fc3.weight)\n",
        "\n",
        "    #     for mm in range(1, len(models_forloss)):\n",
        "\n",
        "    #       loss += loss_function(output[mm], targets.view(-1, 1).float())\n",
        "\n",
        "    #     for fr in range((len(models_forloss) - 1)):\n",
        "\n",
        "    #       for sn in range(fr + 1, len(models_forloss)):  \n",
        "\n",
        "    #         loss += lmbda * sl.forward(models_forloss[fr], models_forloss[sn], M)[0][0]\n",
        "\n",
        "    loss.backward()\n",
        "\n",
        "    optimizer.step()\n",
        "\n",
        "    running_loss += loss.item()\n",
        "  print(running_loss)    "
      ],
      "execution_count": 0,
      "outputs": [
        {
          "output_type": "stream",
          "text": [
            "0.725413978099823\n",
            "0.6361219882965088\n",
            "0.5599660873413086\n",
            "0.4969103932380676\n",
            "0.4465537369251251\n",
            "0.4080764651298523\n",
            "0.38021203875541687\n",
            "0.3612482249736786\n",
            "0.34905847907066345\n",
            "0.34119176864624023\n",
            "0.33509162068367004\n",
            "0.32846489548683167\n",
            "0.3196795880794525\n",
            "0.3079882860183716\n",
            "0.29349446296691895\n",
            "0.2769455313682556\n",
            "0.25947368144989014\n",
            "0.24234972894191742\n",
            "0.22676163911819458\n",
            "0.21361322700977325\n",
            "0.20334497094154358\n",
            "0.19581259787082672\n",
            "0.1902894377708435\n",
            "0.18565718829631805\n",
            "0.18076220154762268\n",
            "0.17479155957698822\n",
            "0.16749797761440277\n",
            "0.15920241177082062\n",
            "0.1506214737892151\n",
            "0.14260509610176086\n",
            "0.13585934042930603\n",
            "0.13071605563163757\n",
            "0.12701503932476044\n",
            "0.12416050583124161\n",
            "0.12136377394199371\n"
          ],
          "name": "stdout"
        }
      ]
    },
    {
      "cell_type": "code",
      "metadata": {
        "id": "zZXYp_8jITpU",
        "colab_type": "code",
        "outputId": "d9d199e6-dad7-4f37-dfe6-46de923395d3",
        "colab": {
          "base_uri": "https://localhost:8080/",
          "height": 34
        }
      },
      "source": [
        "# Test performance on the entire test set\n",
        "correct = 0\n",
        "total = 0\n",
        "with torch.no_grad():\n",
        "  for data in trainloader:\n",
        "    images, labels = data\n",
        "    outputs = model(images.float())\n",
        "#     _, predicted = torch.max(outputs, 1)\n",
        "    predicted = outputs[1] > 0.5\n",
        "#     predicted = predicted.view(predicted.size(0))\n",
        "    total += labels.size(0)\n",
        "    matches = 0\n",
        "    for i in range(len(predicted)):\n",
        "      if predicted[i].item() == labels[i].item():\n",
        "        matches += 1\n",
        "    correct += matches#(predicted == labels).sum().item()\n",
        "  print('Accuracy of the network on the entire data set is : %d %%' %(100 * correct/ total))"
      ],
      "execution_count": 0,
      "outputs": [
        {
          "output_type": "stream",
          "text": [
            "Accuracy of the network on the entire data set is : 100 %\n"
          ],
          "name": "stdout"
        }
      ]
    },
    {
      "cell_type": "code",
      "metadata": {
        "id": "AxDT6C7Ggq0H",
        "colab_type": "code",
        "outputId": "19dab94a-067f-4e8f-bc74-a1ba0a79ce3f",
        "colab": {
          "base_uri": "https://localhost:8080/",
          "height": 51
        }
      },
      "source": [
        "model.fc1.weight"
      ],
      "execution_count": 0,
      "outputs": [
        {
          "output_type": "execute_result",
          "data": {
            "text/plain": [
              "Parameter containing:\n",
              "tensor([[-0.0124,  0.4066]], requires_grad=True)"
            ]
          },
          "metadata": {
            "tags": []
          },
          "execution_count": 42
        }
      ]
    },
    {
      "cell_type": "code",
      "metadata": {
        "id": "yABZvZt7pLMT",
        "colab_type": "code",
        "outputId": "1fa560b2-8fb4-4f9d-e302-efc6424e6d22",
        "colab": {
          "base_uri": "https://localhost:8080/",
          "height": 51
        }
      },
      "source": [
        "model.fc2.weight\n"
      ],
      "execution_count": 0,
      "outputs": [
        {
          "output_type": "execute_result",
          "data": {
            "text/plain": [
              "Parameter containing:\n",
              "tensor([[-0.7036, -0.0316]], requires_grad=True)"
            ]
          },
          "metadata": {
            "tags": []
          },
          "execution_count": 43
        }
      ]
    },
    {
      "cell_type": "code",
      "metadata": {
        "id": "-7CaxaccyTB6",
        "colab_type": "code",
        "outputId": "d3d141a8-e599-409e-8074-feb1518f83d1",
        "colab": {
          "base_uri": "https://localhost:8080/",
          "height": 51
        }
      },
      "source": [
        "model.fc3.weight"
      ],
      "execution_count": 0,
      "outputs": [
        {
          "output_type": "execute_result",
          "data": {
            "text/plain": [
              "Parameter containing:\n",
              "tensor([[-0.0777,  0.1854]], requires_grad=True)"
            ]
          },
          "metadata": {
            "tags": []
          },
          "execution_count": 31
        }
      ]
    },
    {
      "cell_type": "code",
      "metadata": {
        "id": "njAW95EtiNpQ",
        "colab_type": "code",
        "outputId": "e573f5a0-f9ac-494e-9ef4-b3e2a462f497",
        "colab": {
          "base_uri": "https://localhost:8080/",
          "height": 286
        }
      },
      "source": [
        "xx1 = [0, -0.0124]\n",
        "yy1 = [0, 0.4066]\n",
        "xx2 = [0, -0.7036]\n",
        "yy2 = [0, -0.0316]\n",
        "xx3 = [0, -0.0777]\n",
        "yy3 = [0, 0.1854]\n",
        "\n",
        "plt.plot(xx1, yy1)\n",
        "plt.plot(xx2, yy2)\n",
        "# plt.plot(xx3, yy3)\n",
        "\n",
        "plt.xlim(-1, 1)\n",
        "plt.ylim(-1, 1)"
      ],
      "execution_count": 0,
      "outputs": [
        {
          "output_type": "execute_result",
          "data": {
            "text/plain": [
              "(-1, 1)"
            ]
          },
          "metadata": {
            "tags": []
          },
          "execution_count": 44
        },
        {
          "output_type": "display_data",
          "data": {
            "image/png": "[encoded data removed]",
            "text/plain": [
              "<Figure size 432x288 with 1 Axes>"
            ]
          },
          "metadata": {
            "tags": []
          }
        }
      ]
    },
    {
      "cell_type": "code",
      "metadata": {
        "id": "di6gkZwPpkX_",
        "colab_type": "code",
        "outputId": "7c0fd67e-d0ac-4e40-ddf3-95197a092847",
        "colab": {
          "base_uri": "https://localhost:8080/",
          "height": 34
        }
      },
      "source": [
        "sl(model.fc2.weight, model.fc1.weight)"
      ],
      "execution_count": 0,
      "outputs": [
        {
          "output_type": "execute_result",
          "data": {
            "text/plain": [
              "tensor([[1.7107e-05]], grad_fn=<PowBackward0>)"
            ]
          },
          "metadata": {
            "tags": []
          },
          "execution_count": 41
        }
      ]
    }
  ]
}