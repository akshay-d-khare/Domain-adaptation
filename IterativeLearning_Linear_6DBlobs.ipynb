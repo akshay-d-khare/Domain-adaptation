{
  "nbformat": 4,
  "nbformat_minor": 0,
  "metadata": {
    "colab": {
      "name": "IterativeLearning_Linear_6DBlobs.ipynb",
      "provenance": [],
      "collapsed_sections": []
    },
    "kernelspec": {
      "name": "python3",
      "display_name": "Python 3"
    },
    "accelerator": "GPU"
  },
  "cells": [
    {
      "cell_type": "code",
      "metadata": {
        "id": "ZLovumyk9BQu",
        "colab_type": "code",
        "colab": {}
      },
      "source": [
        "# import necessary libraries\n",
        "\n",
        "import sklearn, torch\n",
        "import torchvision\n",
        "import torchvision.transforms as transforms\n",
        "from torch.utils.data import DataLoader, Dataset\n",
        "from sklearn import datasets\n",
        "import matplotlib.pyplot as plt\n",
        "import pandas as pd\n",
        "import numpy as np"
      ],
      "execution_count": null,
      "outputs": []
    },
    {
      "cell_type": "code",
      "metadata": {
        "id": "_J7-MRF6Mkrc",
        "colab_type": "code",
        "colab": {}
      },
      "source": [
        "# Create the target data\n",
        "\n",
        "X_target, y_target = sklearn.datasets.make_blobs(n_samples = 100, n_features = 6, centers = 6 , random_state = 0, cluster_std = 1.5)"
      ],
      "execution_count": null,
      "outputs": []
    },
    {
      "cell_type": "code",
      "metadata": {
        "id": "-HeWNMBPmsrq",
        "colab_type": "code",
        "colab": {}
      },
      "source": [
        "n_features = 6"
      ],
      "execution_count": null,
      "outputs": []
    },
    {
      "cell_type": "code",
      "metadata": {
        "id": "IlyInjroNRJ_",
        "colab_type": "code",
        "colab": {}
      },
      "source": [
        "# Change the labels to binary labels\n",
        "for ind, ele in enumerate(y_target):\n",
        "  if ele < 3:\n",
        "    y_target[ind] = 0\n",
        "  else:\n",
        "    y_target[ind] = 1"
      ],
      "execution_count": null,
      "outputs": []
    },
    {
      "cell_type": "code",
      "metadata": {
        "id": "b0eNDolXsMEJ",
        "colab_type": "code",
        "colab": {}
      },
      "source": [
        "# Define the dataset class for a custom dataset\n",
        "class CustomDataset(Dataset):\n",
        "    \n",
        "    def __init__(self, data_frame, transform=None):\n",
        "        self.data = data_frame\n",
        "        self.transform = transform\n",
        "#         \n",
        "    def __len__(self):\n",
        "        return len(self.data)\n",
        "    \n",
        "    def __getitem__(self, index):\n",
        "\n",
        "        obs = self.data.iloc[index, 0 : n_features].values\n",
        "        label = self.data.iloc[index, n_features]\n",
        "        \n",
        "        if self.transform is not None:\n",
        "            obs = self.transform(obs)\n",
        "            \n",
        "        return obs, label"
      ],
      "execution_count": null,
      "outputs": []
    },
    {
      "cell_type": "code",
      "metadata": {
        "id": "k6JpIqq6o45y",
        "colab_type": "code",
        "colab": {}
      },
      "source": [
        "# Transforming the data into Pytorch format\n",
        "data_target = pd.DataFrame({\n",
        "                   'X1' : X_target[:, 0].tolist(),\n",
        "                   'X2' : X_target[:, 1].tolist(), \n",
        "                   'X3' : X_target[:, 2].tolist(),\n",
        "                   'X4' : X_target[:, 3].tolist(),\n",
        "                   'X5' : X_target[:, 4].tolist(),\n",
        "                   'X6' : X_target[:, 5].tolist(),\n",
        "                  #  'X7' : X_target[:, 6].tolist(),\n",
        "                  #  'X8' : X_target[:, 7].tolist(),\n",
        "                  #  'X9' : X_target[:, 8].tolist(),\n",
        "                  #  'X10' : X_target[:, 9].tolist(),\n",
        "                   'label' : y_target.tolist()})\n",
        "# Plot the toy data\n",
        "# plt.figure(figsize = (5, 5))\n",
        "# plt.scatter(data_target['X1'], data_target['X2'])\n",
        "# plt.xlabel('feature 1')\n",
        "# plt.ylabel('feature 2')\n",
        "# plt.xlim(-15, 15)\n",
        "# plt.ylim(-15, 15)"
      ],
      "execution_count": null,
      "outputs": []
    },
    {
      "cell_type": "code",
      "metadata": {
        "id": "BG1X5dTns4Pg",
        "colab_type": "code",
        "colab": {}
      },
      "source": [
        "target_dataset = CustomDataset(data_target, transform = None)\n",
        "target_loader = torch.utils.data.DataLoader(target_dataset, batch_size = 64, shuffle = True, num_workers = 2)"
      ],
      "execution_count": null,
      "outputs": []
    },
    {
      "cell_type": "code",
      "metadata": {
        "id": "ErmTqCIds6__",
        "colab_type": "code",
        "colab": {}
      },
      "source": [
        "#  import torch.nn as nn\n",
        "#  import torch.nn.functional as F\n",
        "\n",
        "#  class linear_model(nn.Module):\n",
        "#    def __init__(self):\n",
        "#      super(linear_model, self).__init__()\n",
        "#      self.fc11 = nn.Linear(n_features, 1)\n",
        "#      nn.init.xavier_normal_(self.fc11.weight)\n",
        "\n",
        "#    def forward(self, x_):\n",
        "#      x_ = x_.view(-1, n_features)\n",
        "#      x1_ = torch.sigmoid(self.fc11(x_))  \n",
        "    \n",
        "#      return x1_\n",
        "  \n",
        "#  model = linear_model()  "
      ],
      "execution_count": null,
      "outputs": []
    },
    {
      "cell_type": "code",
      "metadata": {
        "id": "_Jrravovi8fz",
        "colab_type": "code",
        "colab": {}
      },
      "source": [
        "# # # Define loss function and optimizer\n",
        "# import torch.optim as optim\n",
        "\n",
        "# loss_function = nn.BCELoss(reduction = 'mean') # sums all outputs and divides by total data points\n",
        "\n",
        "# optimizer = optim.Adam(model.parameters(), lr = 0.01)"
      ],
      "execution_count": null,
      "outputs": []
    },
    {
      "cell_type": "code",
      "metadata": {
        "id": "bqfIU7STi-Ph",
        "colab_type": "code",
        "colab": {}
      },
      "source": [
        "# n_epochs = 5\n",
        "\n",
        "# for epochs in range(n_epochs):\n",
        " \n",
        "#   running_loss = 0\n",
        "  \n",
        "#   for batch in target_loader:\n",
        "#     data, targets = batch\n",
        "\n",
        "#     optimizer.zero_grad()\n",
        "\n",
        "#     output = model(data.float()) \n",
        "#     loss = loss_function(output, targets.view(-1, 1).float())\n",
        "  \n",
        "#     loss.backward()\n",
        "\n",
        "#     optimizer.step()\n",
        "\n",
        "#     running_loss += loss.item()\n",
        "#   print('Epochs, ', epochs + 1)"
      ],
      "execution_count": null,
      "outputs": []
    },
    {
      "cell_type": "code",
      "metadata": {
        "id": "7S5uOHdPjN-W",
        "colab_type": "code",
        "colab": {}
      },
      "source": [
        "# # Test performance on the entire test set\n",
        "# correct = 0\n",
        "# total = 0\n",
        "# with torch.no_grad():\n",
        "#   for data in target_loader:\n",
        "#     images, labels = data\n",
        "#     outputs = model(images.float())\n",
        "# #     _, predicted = torch.max(outputs, 1)\n",
        "#     predicted = outputs > 0.5\n",
        "# #     predicted = predicted.view(predicted.size(0))\n",
        "#     total += labels.size(0)\n",
        "#     matches = 0\n",
        "#     for i in range(len(predicted)):\n",
        "#       if predicted[i].item() == labels[i].item():\n",
        "#         matches += 1\n",
        "#     correct += matches#(predicted == labels).sum().item()\n",
        "#   print('Accuracy of the network on the entire data set is : %d %%' %(100 * correct/ total))"
      ],
      "execution_count": null,
      "outputs": []
    },
    {
      "cell_type": "code",
      "metadata": {
        "id": "5T37A8FLkIZr",
        "colab_type": "code",
        "colab": {}
      },
      "source": [
        "# # Save the idea weights (ideal for the target data)\n",
        "# w_star = model.fc11.weight\n",
        "# w_star"
      ],
      "execution_count": null,
      "outputs": []
    },
    {
      "cell_type": "code",
      "metadata": {
        "id": "Wz1K-IvgFfmH",
        "colab_type": "code",
        "colab": {}
      },
      "source": [
        "## good solution for the target domain data as obtained from the model commented above\n",
        "w_star = torch.Tensor([[-0.1564, -0.1547,  0.2450,  0.9513, -0.5191, -0.2096]])"
      ],
      "execution_count": null,
      "outputs": []
    },
    {
      "cell_type": "code",
      "metadata": {
        "id": "wK0m4IgSuNVS",
        "colab_type": "code",
        "colab": {}
      },
      "source": [
        "def gram_schmidt(A):\n",
        "    \"\"\"Orthogonalize a set of vectors stored as the columns of matrix A.\"\"\"\n",
        "    # Get the number of vectors.\n",
        "    n = A.shape[1]\n",
        "    for j in range(n):\n",
        "        # To orthogonalize the vector in column j with respect to the\n",
        "        # previous vectors, subtract from it its projection onto\n",
        "        # each of the previous vectors.\n",
        "        for k in range(j):\n",
        "            A[:, j] -= np.dot(A[:, k], A[:, j]) * A[:, k]\n",
        "        A[:, j] = A[:, j] / np.linalg.norm(A[:, j])\n",
        "    return A"
      ],
      "execution_count": null,
      "outputs": []
    },
    {
      "cell_type": "code",
      "metadata": {
        "id": "3pHFI1vIUC30",
        "colab_type": "code",
        "colab": {}
      },
      "source": [
        "w_star1 =  np.reshape(np.array(w_star.detach()), (-1, 1))\n",
        "\n",
        "# Normalized w*\n",
        "w_star1 = w_star1 / np.linalg.norm(w_star1)\n",
        "\n",
        "# denerating rest n_features - 1 number of vectors\n",
        "rest = np.random.rand(n_features, n_features - 1)\n",
        "A_ele = np.hstack([w_star1, rest])\n",
        "\n",
        "# Obtain orthonormal matrix A\n",
        "A_all_ele = gram_schmidt(A_ele)"
      ],
      "execution_count": null,
      "outputs": []
    },
    {
      "cell_type": "code",
      "metadata": {
        "colab_type": "code",
        "id": "z1etturRObN_",
        "colab": {}
      },
      "source": [
        "# The eigen values obtained during an experimental run \n",
        "eval_rest = [-0.24085888133933997, 1.3234005271655356, 0.20926702332798985, -0.8625208931380124, -1.4072147504944934]\n",
        "\n",
        "A = np.zeros((n_features, n_features))\n",
        "\n",
        "for i in range(n_features):\n",
        "  if i == 0:\n",
        "    A += 1 * np.dot(np.reshape(A_all_ele[:, i], (-1, 1)), np.reshape(A_all_ele[:, i], (1, -1)))\n",
        "  else:\n",
        "    # r = np.random.uniform(-2, 2)\n",
        "    # print(r) \n",
        "    A += eval_rest[i - 1] * np.dot(np.reshape(A_all_ele[:, i], (-1, 1)), np.reshape(A_all_ele[:, i], (1, -1)))"
      ],
      "execution_count": null,
      "outputs": []
    },
    {
      "cell_type": "code",
      "metadata": {
        "id": "oWdJgRLKnmtI",
        "colab_type": "code",
        "colab": {}
      },
      "source": [
        "# Create the source data\n",
        "X_source = np.zeros(np.shape(X_target))\n",
        "\n",
        "for ind, d in enumerate(X_target):\n",
        "  if y_target[ind] == 0:\n",
        "    X_source[ind] = np.reshape(np.dot(A, np.reshape(X_target[ind], (-1, 1))), (n_features, ))\n",
        "  else:\n",
        "    X_source[ind] = X_target[ind]"
      ],
      "execution_count": null,
      "outputs": []
    },
    {
      "cell_type": "code",
      "metadata": {
        "id": "XXxsLTMj-_Zo",
        "colab_type": "code",
        "colab": {}
      },
      "source": [
        "# Transforming the data into Pytorch format\n",
        "data_source = pd.DataFrame({\n",
        "                   'X1' : X_source[:, 0].tolist(),\n",
        "                   'X2' : X_source[:, 1].tolist(), \n",
        "                   'X3' : X_source[:, 2].tolist(),\n",
        "                   'X4' : X_source[:, 3].tolist(), \n",
        "                   'X5' : X_source[:, 4].tolist(),\n",
        "                   'X6' : X_source[:, 5].tolist(), \n",
        "                  #  'X7' : X_source[:, 6].tolist(),\n",
        "                  #  'X8' : X_source[:, 7].tolist(), \n",
        "                  #  'X9' : X_source[:, 8].tolist(),\n",
        "                  #  'X10' : X_source[:, 9].tolist(),\n",
        "                   'label' : y_target.tolist()})"
      ],
      "execution_count": null,
      "outputs": []
    },
    {
      "cell_type": "code",
      "metadata": {
        "colab_type": "code",
        "id": "VgI0npY8-t_h",
        "colab": {}
      },
      "source": [
        "source_dataset = CustomDataset(data_source, transform = None)\n",
        "source_loader = torch.utils.data.DataLoader(source_dataset, batch_size = 64, shuffle = True, num_workers = 2)"
      ],
      "execution_count": null,
      "outputs": []
    },
    {
      "cell_type": "code",
      "metadata": {
        "colab_type": "code",
        "id": "FLFqQVo1-t_9",
        "colab": {}
      },
      "source": [
        "import torch.nn as nn\n",
        "import torch.nn.functional as F\n",
        "\n",
        "# Developing the linear model\n",
        "\n",
        "class linear_model_new(nn.Module):\n",
        "  def __init__(self):\n",
        "    super(linear_model_new, self).__init__()\n",
        "    self.fc1 = nn.Linear(n_features, 1)\n",
        "    nn.init.xavier_normal_(self.fc1.weight)\n",
        "\n",
        "  def forward(self, x):\n",
        "    x = x.view(-1, n_features)\n",
        "    x1 = torch.sigmoid(self.fc1(x))  \n",
        "    \n",
        "    return x1\n",
        "  \n",
        "model_new = linear_model_new()  "
      ],
      "execution_count": null,
      "outputs": []
    },
    {
      "cell_type": "code",
      "metadata": {
        "colab_type": "code",
        "id": "-Nis3OgL-uAF",
        "colab": {}
      },
      "source": [
        "# Define loss function and optimizer\n",
        "import torch.optim as optim\n",
        "\n",
        "loss_function_new = nn.BCELoss(reduction = 'mean') # sums all outputs and divides by total data points\n",
        "\n",
        "optimizer_new = optim.Adam(model_new.parameters(), lr = 0.0001)"
      ],
      "execution_count": null,
      "outputs": []
    },
    {
      "cell_type": "code",
      "metadata": {
        "colab_type": "code",
        "id": "3gvCC5lf-uAO",
        "colab": {}
      },
      "source": [
        "# Define hyper-parameters before training\n",
        "\n",
        "n_epochs = 2\n",
        "a = torch.randn(1, n_features)\n",
        "a = a / a.norm() \n",
        "print('a is:', a)\n",
        "\n",
        "mu_ = 1 # consider the maximum value of mu_ for which source accuracy is greater than 95 %\n",
        "\n",
        "for epochs in range(n_epochs):\n",
        " \n",
        "  running_loss = 0\n",
        "  \n",
        "  for batch in source_loader:\n",
        "    data, targets = batch\n",
        "\n",
        "    optimizer_new.zero_grad()\n",
        "\n",
        "    output = model_new(data.float()) \n",
        "    loss = loss_function_new(output, targets.view(-1, 1).float()) + mu_ * torch.matmul(a.view(1, n_features), model_new.fc1.weight.view(n_features, 1)) / torch.sqrt(torch.matmul(model_new.fc1.weight.view(1, -1), model_new.fc1.weight.view(-1, 1)))\n",
        "    loss.backward()\n",
        "\n",
        "    optimizer_new.step()\n",
        "\n",
        "    running_loss += loss.item()\n",
        "  print('Epochs, ', epochs+1)"
      ],
      "execution_count": null,
      "outputs": []
    },
    {
      "cell_type": "code",
      "metadata": {
        "id": "vEwY-nwyCctz",
        "colab_type": "code",
        "colab": {}
      },
      "source": [
        "# Test performance on the entire test set\n",
        "correct = 0\n",
        "total = 0\n",
        "with torch.no_grad():\n",
        "  for data in target_loader:\n",
        "    images, labels = data\n",
        "    outputs = model_new(images.float())\n",
        "    predicted = outputs > 0.5\n",
        "    total += labels.size(0)\n",
        "    matches = 0\n",
        "    for i in range(len(predicted)):\n",
        "      if predicted[i].item() == labels[i].item():\n",
        "        matches += 1\n",
        "    correct += matches\n",
        "  print('Accuracy of the network on the entire data set is : %d %%' %(100 * correct/ total))"
      ],
      "execution_count": null,
      "outputs": []
    }
  ]
}