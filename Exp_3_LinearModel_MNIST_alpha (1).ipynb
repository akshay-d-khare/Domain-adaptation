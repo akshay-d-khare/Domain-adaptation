{
  "nbformat": 4,
  "nbformat_minor": 0,
  "metadata": {
    "colab": {
      "name": "Exp#3_LinearModel_MNIST_alpha.ipynb",
      "provenance": [],
      "collapsed_sections": []
    },
    "kernelspec": {
      "name": "python3",
      "display_name": "Python 3"
    },
    "accelerator": "GPU"
  },
  "cells": [
    {
      "cell_type": "code",
      "metadata": {
        "id": "wv6f1pjrYHm8",
        "colab_type": "code",
        "colab": {}
      },
      "source": [
        "# Let MNIST(alpha) be MNIST with Gaussian noise of SD alpha added to the pixels.\n",
        "# Group any five classes to be the positive class and the rest to be the negative class.\n",
        "# Add a 3x3 patch on the left/right based on whether the image is positive or negative. Let's call these modified datasets as MNIST_bin_patch(alpha).\n",
        "# Also define the patchless versions of these datasets as MNIST_bin(alpha).\n",
        "# Train a linear model on these datasets for an appropriate range of alpha values. Only select architectures that have good training and testing performance on the \n",
        "# patchless version of the dataset (this is to rule out really bad architectures and really bad datasets).\n",
        "\n",
        "# Test all these models (trained on the patched version of the data) on the test set of MNIST_bin_patch(alpha), MNIST_bin(alpha), i.e. the model is tested on the data \n",
        "# with which it is trained, and also the patchless version. Choose the model/dataset for which the difference between the two is greatest. \n",
        "# (The accuracy on the patched data is much higher than the accuracy on the data without patches). \n",
        "# Now the goal is to train a model with the same architecture of the chosen model that does well on both the patched data and the patchless data. \n",
        "\n",
        "\n",
        "\n",
        "# Model learns beter when trained on the dat awith partches than eithout patches!\n",
        "# In case of training on no patches, \n",
        "# for 1 classifier, loss starts with \n",
        "# for 2 classifiers with lambda = 0, loss starts from 612...Training and test loss (on patchless data) is around 89%\n",
        "# for 2 classifiers with lambda = 1, loss starts from 636...Training and test loss (on patchless data) is around 89%\n",
        "\n",
        "# In case of training with patches (28*4)\n",
        "# for 2 classifier, with lambda = 1, loss starts from 10.7...training accuracy is 100%, test acc on path data is 100 and that on patchless is around 80%\n",
        "\n",
        "# In case of training with patches (3*3)\n",
        "#######################\n",
        "# For 2 classifiers with 0 lambda, model clearly learns patches as apparent from the weight vector images\n",
        "\n",
        "#######################\n",
        "# for 2 classifier, with lambda = 1, loss starts from 10.7...training accuracy is 100%, test acc on path data is 100 and that on patchless is around 80%\n",
        "\n",
        "# The test accuracy on patchless data is highest when trained on patch less data (89% for both test and train).\n",
        "# As the size of patch grows, train accuracy grows to 100%, while test accuracy on patchless data reduces. Test accuracy on data with patches is 100%.\n",
        "# So as the patch size grows, the model begins to primrily learn the left-right patch rather than odd-even\n",
        "# Even the newly added dot product loss doesn't seem to make the 2 classifiers learn different tasks\n",
        "\n",
        "# Even the fancy dot product loss seems to learn both the tasks for both models\n",
        "# It tries to make the vectors orthogonal in the parts except the patches\n",
        "\n",
        "\n",
        "# data type matters because conversion to float and again to int gives the same results as no conversion..."
      ],
      "execution_count": 0,
      "outputs": []
    },
    {
      "cell_type": "code",
      "metadata": {
        "id": "xmt58uKbbmtD",
        "colab_type": "code",
        "colab": {}
      },
      "source": [
        "# For improving the model expeiments, alpha = 150. Test accuracy on patchless data falls from 82% to 63% for a 3*3 patch"
      ],
      "execution_count": 0,
      "outputs": []
    },
    {
      "cell_type": "code",
      "metadata": {
        "id": "W_xa5d_95ea2",
        "colab_type": "code",
        "colab": {}
      },
      "source": [
        "# Training 16 models\n",
        "# The train and test acc. is 98%. The visualization of weight vectors reveals that the left and right patches are not as prominent as they used to be for 2 models\n",
        "\n",
        "# Training 10 models\n",
        "# The train and test acc. is 98%. The visualization of weight vectors reveals that the left and right patches are not as prominent as they used to be for 2 models\n",
        "# With fancy inner product, train and test on patches has 99% accuracy; max patchless acc. among all models is 62%\n",
        "\n",
        "### Training multiple models (on patched version) by forcing orthogonality has lesser accuracy (on patchless version) as compared to training a single model \n",
        "# sigma = 0.01, 1 (not good) with lambda = 50 and 20 epochs around 60% acc\n",
        "# sigma = 1, lambda = 50 and 25 epochs "
      ],
      "execution_count": 0,
      "outputs": []
    },
    {
      "cell_type": "code",
      "metadata": {
        "id": "DT38WGdcao27",
        "colab_type": "code",
        "colab": {}
      },
      "source": [
        "alpha = 100 # taking 150 because visually makes more sense for human eye\n",
        "\n",
        "import numpy as np\n",
        "import matplotlib.pyplot as plt\n",
        "import torch\n",
        "import torchvision\n",
        "import torchvision.transforms as transforms"
      ],
      "execution_count": 0,
      "outputs": []
    },
    {
      "cell_type": "code",
      "metadata": {
        "id": "pOpkqh9oat1v",
        "colab_type": "code",
        "outputId": "57f66c07-0736-4399-f0a2-167895a08cc9",
        "colab": {
          "base_uri": "https://localhost:8080/",
          "height": 275
        }
      },
      "source": [
        "transform = transforms.Compose([transforms.ToTensor(), transforms.Normalize((0.5, ), (0.5, ))])\n",
        "\n",
        "trainset = torchvision.datasets.MNIST(root = './data', train = True, download = True, transform = transform)\n",
        "\n",
        "testset = torchvision.datasets.MNIST(root = './data', train = False, download = True, transform = transform)\n",
        "\n",
        "trainset_forpatch = torchvision.datasets.MNIST(root = './data', train = True, download = True, transform = transform)\n",
        "\n",
        "testset_forpatch = torchvision.datasets.MNIST(root = './data', train = False, download = True, transform = transform)"
      ],
      "execution_count": 0,
      "outputs": [
        {
          "output_type": "stream",
          "text": [
            "  0%|          | 0/9912422 [00:00<?, ?it/s]"
          ],
          "name": "stderr"
        },
        {
          "output_type": "stream",
          "text": [
            "Downloading http://yann.lecun.com/exdb/mnist/train-images-idx3-ubyte.gz to ./data/MNIST/raw/train-images-idx3-ubyte.gz\n"
          ],
          "name": "stdout"
        },
        {
          "output_type": "stream",
          "text": [
            "9920512it [00:00, 20186371.71it/s]                            \n"
          ],
          "name": "stderr"
        },
        {
          "output_type": "stream",
          "text": [
            "Extracting ./data/MNIST/raw/train-images-idx3-ubyte.gz to ./data/MNIST/raw\n"
          ],
          "name": "stdout"
        },
        {
          "output_type": "stream",
          "text": [
            "32768it [00:00, 311674.86it/s]                           \n",
            "0it [00:00, ?it/s]"
          ],
          "name": "stderr"
        },
        {
          "output_type": "stream",
          "text": [
            "Downloading http://yann.lecun.com/exdb/mnist/train-labels-idx1-ubyte.gz to ./data/MNIST/raw/train-labels-idx1-ubyte.gz\n",
            "Extracting ./data/MNIST/raw/train-labels-idx1-ubyte.gz to ./data/MNIST/raw\n",
            "Downloading http://yann.lecun.com/exdb/mnist/t10k-images-idx3-ubyte.gz to ./data/MNIST/raw/t10k-images-idx3-ubyte.gz\n"
          ],
          "name": "stdout"
        },
        {
          "output_type": "stream",
          "text": [
            "1654784it [00:00, 5199075.61it/s]                           \n",
            "8192it [00:00, 124885.47it/s]\n"
          ],
          "name": "stderr"
        },
        {
          "output_type": "stream",
          "text": [
            "Extracting ./data/MNIST/raw/t10k-images-idx3-ubyte.gz to ./data/MNIST/raw\n",
            "Downloading http://yann.lecun.com/exdb/mnist/t10k-labels-idx1-ubyte.gz to ./data/MNIST/raw/t10k-labels-idx1-ubyte.gz\n",
            "Extracting ./data/MNIST/raw/t10k-labels-idx1-ubyte.gz to ./data/MNIST/raw\n",
            "Processing...\n",
            "Done!\n"
          ],
          "name": "stdout"
        }
      ]
    },
    {
      "cell_type": "code",
      "metadata": {
        "id": "2NRzqeQH7tPP",
        "colab_type": "code",
        "colab": {}
      },
      "source": [
        "# Odd (1) v even (0) labels\n",
        "trainset.targets[np.where(trainset.targets %2 != 0)[0].tolist()] = 1\n",
        "trainset.targets[np.where(trainset.targets %2 == 0)[0].tolist()] = 0\n",
        "\n",
        "testset.targets[np.where(testset.targets %2 != 0)[0].tolist()] = 1\n",
        "testset.targets[np.where(testset.targets %2 == 0)[0].tolist()] = 0\n",
        "\n",
        "trainset_forpatch.targets[np.where(trainset_forpatch.targets %2 != 0)[0].tolist()] = 1\n",
        "trainset_forpatch.targets[np.where(trainset_forpatch.targets %2 == 0)[0].tolist()] = 0\n",
        "\n",
        "testset_forpatch.targets[np.where(testset_forpatch.targets %2 != 0)[0].tolist()] = 1\n",
        "testset_forpatch.targets[np.where(testset_forpatch.targets %2 == 0)[0].tolist()] = 0"
      ],
      "execution_count": 0,
      "outputs": []
    },
    {
      "cell_type": "code",
      "metadata": {
        "id": "STF8bVQuKjI7",
        "colab_type": "code",
        "colab": {}
      },
      "source": [
        "# Converting the data type to float in order to be able to add Gaussian noise\n",
        "trainset.data = trainset.data.type(torch.float64)\n",
        "testset.data = testset.data.type(torch.float64)\n",
        "trainset_forpatch.data = trainset_forpatch.data.type(torch.float64)\n",
        "testset_forpatch.data = testset_forpatch.data.type(torch.float64)"
      ],
      "execution_count": 0,
      "outputs": []
    },
    {
      "cell_type": "code",
      "metadata": {
        "id": "7rkXDiSha1CQ",
        "colab_type": "code",
        "colab": {}
      },
      "source": [
        "# Generating MNIST_bin(alpha)\n",
        "def GaussianNoise_alpha(trainset1, testset1, alpha):\n",
        "  for im in range(len(trainset1)):\n",
        "#     trainset1.data[im] = torch.tensor(trainset1.data[im], dtype = torch.float64) + torch.tensor(np.random.normal(scale = alpha, size = (28, 28)), dtype = torch.float64)\n",
        "    trainset1.data[im] = trainset1.data[im] + torch.tensor(np.random.normal(scale = alpha, size = (28, 28)), dtype = torch.float64)\n",
        "    trainset1.data[im] = np.clip(trainset1.data[im], 0, 255)\n",
        "  for jm in range(len(testset1)):\n",
        "#     testset1.data[jm] = torch.tensor(testset1.data[jm], dtype = torch.float64) + torch.tensor(np.random.normal(scale = alpha, size = (28, 28)), dtype = torch.float64)\n",
        "    testset1.data[jm] = testset1.data[jm] + torch.tensor(np.random.normal(scale = alpha, size = (28, 28)), dtype = torch.float64)\n",
        "    testset1.data[jm] = np.clip(testset1.data[jm], 0, 255)\n",
        "  return trainset1, testset1\n",
        "\n",
        "\n",
        "# Generating MNIST_bin_patch(alpha)\n",
        "def GaussianNoise_alpha_patch(trainset1, testset1): # Feed in the data with gaussian noise already added\n",
        "# Left patch for   \n",
        "  for im in range(len(trainset1)):\n",
        "    if trainset1.targets[im] == 0:\n",
        "      for p1 in range(3):\n",
        "        for p2 in range(3):\n",
        "          trainset1.data[im][p1, p2] = 255\n",
        "    else:\n",
        "      for p1 in range(3):\n",
        "        for p2 in range(25, 28):\n",
        "          trainset1.data[im][p1, p2] = 255\n",
        "\n",
        "  for im in range(len(testset1)):\n",
        "    if testset1.targets[im] == 0:\n",
        "      for p1 in range(3):\n",
        "        for p2 in range(3):\n",
        "          testset1.data[im][p1, p2] = 255\n",
        "    else:\n",
        "      for p1 in range(3):\n",
        "        for p2 in range(25, 28):\n",
        "          testset1.data[im][p1, p2] = 255\n",
        "          \n",
        "  return trainset1, testset1 \n",
        "\n",
        "# Increase the illumination level for label = 0\n",
        "def ChangeIllumination(trainset1, testset1):\n",
        "  for im in range(len(trainset1)):\n",
        "    if trainset1.targets[im] == 0:\n",
        "      xx = np.clip(trainset1.data[im] + 100 * torch.ones((28, 28)), 0, 254)\n",
        "      trainset1.data[im] = xx\n",
        "  for im in range(len(testset1)):\n",
        "    if testset1.targets[im] == 0:\n",
        "      xx = np.clip(testset1.data[im] + 100 * torch.ones((28, 28)), 0, 254)\n",
        "      testset1.data[im]  = xx\n",
        "  return trainset1, testset1"
      ],
      "execution_count": 0,
      "outputs": []
    },
    {
      "cell_type": "code",
      "metadata": {
        "id": "zQVUKDAQ4aSL",
        "colab_type": "code",
        "colab": {}
      },
      "source": [
        "# Creating the bin data\n",
        "train_bin, test_bin = GaussianNoise_alpha(trainset, testset, alpha)\n",
        "\n",
        "# # Creating the bin data with patches\n",
        "train_inter, test_inter = GaussianNoise_alpha(trainset_forpatch, testset_forpatch, alpha)\n",
        "train_bin_patch, test_bin_patch = GaussianNoise_alpha_patch(train_inter, test_inter)"
      ],
      "execution_count": 0,
      "outputs": []
    },
    {
      "cell_type": "code",
      "metadata": {
        "id": "8XOkrJ83c1Zf",
        "colab_type": "code",
        "colab": {}
      },
      "source": [
        "# Converting the data type back to unit8...\n",
        "\n",
        "train_bin.data = train_bin.data.type(torch.uint8)\n",
        "test_bin.data = test_bin.data.type(torch.uint8)\n",
        "train_bin_patch.data = train_bin_patch.data.type(torch.uint8)\n",
        "test_bin_patch.data = test_bin_patch.data.type(torch.uint8)"
      ],
      "execution_count": 0,
      "outputs": []
    },
    {
      "cell_type": "code",
      "metadata": {
        "id": "WNz_VRurB8B0",
        "colab_type": "code",
        "outputId": "284c7eec-89a9-4b89-f434-30889a006ef8",
        "colab": {
          "base_uri": "https://localhost:8080/",
          "height": 191
        }
      },
      "source": [
        "# %matplotlib inline\n",
        "# plt.subplots(113)\n",
        "# plt.imshow(, cmap='gray', vmin=0, vmax=255)\n",
        "# plt.xticks([])\n",
        "# plt.yticks([])\n",
        "\n",
        "# plt.subplots(213)\n",
        "# plt.imshow(, cmap='gray', vmin=0, vmax=255)\n",
        "# plt.xticks([])\n",
        "# plt.yticks([])\n",
        "# plt.subplots(313)\n",
        "# plt.imshow(, cmap='gray', vmin=0, vmax=255)\n",
        "# plt.xticks([])\n",
        "# plt.yticks([])\n",
        "\n",
        "ima = [test_bin.data[1], test_bin_patch.data[1], test_bin_patch.data[460]]\n",
        "fig, axes = plt.subplots(1, 3, figsize=(9, 4),\n",
        "                         subplot_kw={'xticks':[], 'yticks':[]},\n",
        "                         gridspec_kw=dict(hspace=0.1, wspace=0.1))\n",
        "for i, ax in zip([0, 1, 2], axes.flat):\n",
        "    ax.imshow(ima[i], cmap='gray', vmin=0, vmax=255)      "
      ],
      "execution_count": 0,
      "outputs": [
        {
          "output_type": "display_data",
          "data": {
            "image/png": "[encoded data removed]",
            "text/plain": [
              "<Figure size 648x288 with 3 Axes>"
            ]
          },
          "metadata": {
            "tags": []
          }
        }
      ]
    },
    {
      "cell_type": "code",
      "metadata": {
        "id": "o03ncuhl_xdr",
        "colab_type": "code",
        "outputId": "e17b0571-e556-4406-e08e-3a09938895a6",
        "colab": {
          "base_uri": "https://localhost:8080/",
          "height": 957
        }
      },
      "source": [
        "# Plot random train and test images\n",
        "# Training images\n",
        "fig, axes = plt.subplots(2, 3, figsize=(9, 4),\n",
        "                         subplot_kw={'xticks':[], 'yticks':[]},\n",
        "                         gridspec_kw=dict(hspace=0.1, wspace=0.1))\n",
        "for i, ax in zip([1, 115, 460, 212, 130, 10020], axes.flat):\n",
        "    ax.imshow(train_bin.data[i], cmap='gray', vmin=0, vmax=255)\n",
        "    \n",
        "#Test images without patch \n",
        "fig, axes = plt.subplots(2, 3, figsize=(9, 4),\n",
        "                         subplot_kw={'xticks':[], 'yticks':[]},\n",
        "                         gridspec_kw=dict(hspace=0.1, wspace=0.1))\n",
        "for i, ax in zip([201, 115, 1500, 212, 130, 122], axes.flat):\n",
        "    ax.imshow(test_bin.data[i], cmap='gray', vmin=0, vmax=255)  \n",
        "    \n",
        "# Training images\n",
        "fig, axes = plt.subplots(2, 3, figsize=(9, 4),\n",
        "                         subplot_kw={'xticks':[], 'yticks':[]},\n",
        "                         gridspec_kw=dict(hspace=0.1, wspace=0.1))\n",
        "for i, ax in zip([1, 115, 460, 212, 130, 10020], axes.flat):\n",
        "    ax.imshow(train_bin_patch.data[i], cmap='gray', vmin=0, vmax=255)\n",
        "    \n",
        "# Test images without patch \n",
        "fig, axes = plt.subplots(2, 3, figsize=(9, 4),\n",
        "                         subplot_kw={'xticks':[], 'yticks':[]},\n",
        "                         gridspec_kw=dict(hspace=0.1, wspace=0.1))\n",
        "for i, ax in zip([201, 115, 1500, 212, 130, 122], axes.flat):\n",
        "    ax.imshow(test_bin_patch.data[i], cmap='gray', vmin=0, vmax=255)      "
      ],
      "execution_count": 0,
      "outputs": [
        {
          "output_type": "display_data",
          "data": {
            "image/png": "[encoded data removed]",
            "text/plain": [
              "<Figure size 648x288 with 6 Axes>"
            ]
          },
          "metadata": {
            "tags": []
          }
        },
        {
          "output_type": "display_data",
          "data": {
            "image/png": "[encoded data removed]",
            "text/plain": [
              "<Figure size 648x288 with 6 Axes>"
            ]
          },
          "metadata": {
            "tags": []
          }
        },
        {
          "output_type": "display_data",
          "data": {
            "image/png": "[encoded data removed]",
            "text/plain": [
              "<Figure size 648x288 with 6 Axes>"
            ]
          },
          "metadata": {
            "tags": []
          }
        },
        {
          "output_type": "display_data",
          "data": {
            "image/png": "[encoded data removed]",
            "text/plain": [
              "<Figure size 648x288 with 6 Axes>"
            ]
          },
          "metadata": {
            "tags": []
          }
        }
      ]
    },
    {
      "cell_type": "code",
      "metadata": {
        "id": "gn1k8YzbZEAc",
        "colab_type": "code",
        "colab": {}
      },
      "source": [
        "# Assign data to data loader\n",
        "\n",
        "trainloader = torch.utils.data.DataLoader(train_bin, batch_size = 64, shuffle = True, num_workers = 2)\n",
        "\n",
        "testloader = torch.utils.data.DataLoader(test_bin, batch_size = 64, shuffle = False, num_workers = 2)\n",
        "\n",
        "trainloader_patch = torch.utils.data.DataLoader(train_bin_patch, batch_size = 64, shuffle = True, num_workers = 2)\n",
        "\n",
        "testloader_patch = torch.utils.data.DataLoader(test_bin_patch, batch_size = 64, shuffle = False, num_workers = 2)"
      ],
      "execution_count": 0,
      "outputs": []
    },
    {
      "cell_type": "code",
      "metadata": {
        "id": "BJG4lXVNZYrt",
        "colab_type": "code",
        "colab": {}
      },
      "source": [
        "import torch.nn as nn\n",
        "import torch.nn.functional as F\n",
        "\n",
        "class linear_model(nn.Module):\n",
        "  def __init__(self):\n",
        "    super(linear_model, self).__init__()\n",
        "    self.fc1 = nn.Linear(28*28, 1)\n",
        "    self.fc2 = nn.Linear(28*28, 1)\n",
        "    self.fc3 = nn.Linear(28*28, 1)\n",
        "    self.fc4 = nn.Linear(28*28, 1)\n",
        "    # self.fc5 = nn.Linear(28*28, 1)\n",
        "    # self.fc6 = nn.Linear(28*28, 1)\n",
        "    # self.fc7 = nn.Linear(28*28, 1)\n",
        "    # self.fc8 = nn.Linear(28*28, 1)\n",
        "    # self.fc9 = nn.Linear(28*28, 1)\n",
        "    # self.fc10 = nn.Linear(28*28, 1)\n",
        "    # self.fc11 = nn.Linear(28*28, 1)\n",
        "    # self.fc12 = nn.Linear(28*28, 1)\n",
        "    # self.fc13 = nn.Linear(28*28, 1)\n",
        "    # self.fc14 = nn.Linear(28*28, 1)\n",
        "    # self.fc15 = nn.Linear(28*28, 1)\n",
        "    # self.fc16 = nn.Linear(28*28, 1)\n",
        "\n",
        "  def forward(self, x):\n",
        "    x = x.view(-1, 28*28)\n",
        "    x1 = torch.sigmoid(self.fc1(x))  \n",
        "    x2 = torch.sigmoid(self.fc2(x))  \n",
        "    x3 = torch.sigmoid(self.fc3(x))  \n",
        "    x4 = torch.sigmoid(self.fc4(x))  \n",
        "    # x5 = torch.sigmoid(self.fc5(x))  \n",
        "    # x6 = torch.sigmoid(self.fc6(x))  \n",
        "    # x7 = torch.sigmoid(self.fc7(x))  \n",
        "    # x8 = torch.sigmoid(self.fc8(x))  \n",
        "    # x9 = torch.sigmoid(self.fc9(x))  \n",
        "    # x10 = torch.sigmoid(self.fc10(x))  \n",
        "    # x11 = torch.sigmoid(self.fc11(x))  \n",
        "    # x12 = torch.sigmoid(self.fc12(x))  \n",
        "    # x13 = torch.sigmoid(self.fc13(x))  \n",
        "    # x14 = torch.sigmoid(self.fc14(x))  \n",
        "    # x15 = torch.sigmoid(self.fc15(x))  \n",
        "    # x16 = torch.sigmoid(self.fc16(x))  \n",
        "    return x1, x2, x3, x4#, x5#, x6, x7, x8, x9, x10, x11, x12, x13, x14, x15, x16\n",
        "  \n",
        "model = linear_model()  "
      ],
      "execution_count": 0,
      "outputs": []
    },
    {
      "cell_type": "code",
      "metadata": {
        "id": "nj382Gz0WzAy",
        "colab_type": "code",
        "colab": {}
      },
      "source": [
        "#Script for generating fancy inner product matrix:\n",
        "\n",
        "sigma = 100########HIGHER VALUES OF SIGMA SEEM TO PERFORM BETTER#############\n",
        "M = torch.zeros([28*28, 28*28])\n",
        "\n",
        "M_tensor = M.view(28,28,28,28)\n",
        "\n",
        "for i_1 in range(28):\n",
        "    for i_2 in range(28):\n",
        "        for j_1 in range(28):\n",
        "            for j_2 in range(28):\n",
        "                M_tensor[i_1,i_2,j_1,j_2] = np.exp( -((i_1 - j_1)**2 + (i_2 - j_2)**2) / (2 * (sigma)**2) )\n",
        "\n",
        "M = M_tensor.view([28*28,28*28])"
      ],
      "execution_count": 0,
      "outputs": []
    },
    {
      "cell_type": "code",
      "metadata": {
        "id": "V_earDziniOm",
        "colab_type": "code",
        "colab": {}
      },
      "source": [
        "# Define loss function and optimizer\n",
        "import torch.optim as optim\n",
        "\n",
        "loss_function = nn.BCELoss(reduction = 'mean') # sums all outputs and divides by total data points\n",
        "\n",
        "optimizer = optim.Adam(model.parameters(), lr = 0.001)\n",
        "\n",
        "class custom_loss(torch.nn.Module):\n",
        "\n",
        "  def __init__(self):\n",
        "    super(custom_loss,self).__init__()\n",
        "\n",
        "  def forward(self, mat1, mat2, M):\n",
        "  # Absolute dot product of weights\n",
        "#     l = (torch.mm(mat1, mat2.t()))**2\n",
        "\n",
        "  # Fancy dot product if weights\n",
        "    l = (torch.mm(mat1, torch.mm(M, mat2.t())))**2\n",
        "    return l\n",
        "\n",
        "sl = custom_loss()    "
      ],
      "execution_count": 0,
      "outputs": []
    },
    {
      "cell_type": "code",
      "metadata": {
        "id": "6MmENeAeEN9H",
        "colab_type": "code",
        "colab": {}
      },
      "source": [
        "models_forloss = [model.fc1.weight, model.fc2.weight, model.fc3.weight, model.fc4.weight]#, model.fc5.weight]#, model.fc6.weight, model.fc7.weight, model.fc8.weight, \n",
        "  #    model.fc9.weight, model.fc10.weight, model.fc11.weight, model.fc12.weight, model.fc13.weight, model.fc14.weight, model.fc15.weight, model.fc16.weight]"
      ],
      "execution_count": 0,
      "outputs": []
    },
    {
      "cell_type": "code",
      "metadata": {
        "id": "yaqmKDhSn1rI",
        "colab_type": "code",
        "outputId": "30ea92dd-a3f1-4c1c-a4b0-1e5978104a9b",
        "colab": {
          "base_uri": "https://localhost:8080/",
          "height": 1000
        }
      },
      "source": [
        "n_epochs = 70\n",
        "lmbda = 100000\n",
        "\n",
        "for epochs in range(n_epochs):\n",
        " \n",
        "  running_loss = 0\n",
        "  \n",
        "  for batch in trainloader_patch:\n",
        "    data, targets = batch\n",
        "    \n",
        "    optimizer.zero_grad()\n",
        "    \n",
        "    output = model(data)\n",
        "\n",
        "    # loss = loss_function(output, targets.view(-1, 1).float())\n",
        " \n",
        "    loss = loss_function(output[0], targets.view(-1, 1).float())\n",
        "    \n",
        "    for mm in range(1, len(models_forloss)):\n",
        "      \n",
        "      loss += loss_function(output[mm], targets.view(-1, 1).float())\n",
        "    \n",
        "    for fr in range((len(models_forloss) - 1)):\n",
        "      \n",
        "      for sn in range(fr + 1, len(models_forloss)):  \n",
        "        \n",
        "        loss += lmbda * sl.forward(models_forloss[fr], models_forloss[sn], M)[0][0]\n",
        "\n",
        "    loss.backward()\n",
        "    \n",
        "    optimizer.step()\n",
        "    \n",
        "    running_loss += loss.item()\n",
        "  print(running_loss)    "
      ],
      "execution_count": 0,
      "outputs": [
        {
          "output_type": "stream",
          "text": [
            "224566.10880327225\n",
            "2618.758128643036\n",
            "2610.127050638199\n",
            "2649.867159128189\n",
            "2604.6527042388916\n",
            "2562.6184396743774\n",
            "2522.518031358719\n",
            "2457.945919275284\n",
            "2361.453054666519\n",
            "2225.363936662674\n",
            "2039.270446896553\n",
            "1775.2649681568146\n",
            "86560671.48977232\n",
            "1708.2359203100204\n",
            "1580.4152606725693\n",
            "1561.4467717409134\n",
            "1535.9017263650894\n",
            "1504.1138417720795\n",
            "1469.5453431606293\n",
            "1438.2536845207214\n",
            "1416.013126373291\n",
            "1404.2558339834213\n",
            "1399.5540224313736\n",
            "1397.4209052324295\n",
            "1395.309013724327\n",
            "1391.9160332679749\n",
            "1386.5130401849747\n",
            "1377.98816716671\n",
            "1364.5470778942108\n",
            "1343.4727537631989\n",
            "1311.0583137273788\n",
            "1262.1858818531036\n",
            "1198.6824606657028\n",
            "1094.755671620369\n",
            "966.092387676239\n",
            "809.2224872708321\n",
            "70966671.5449462\n",
            "797.2504687905312\n",
            "718.1449543833733\n",
            "700.8955325484276\n",
            "686.2173801660538\n",
            "670.0494005084038\n",
            "654.5033590197563\n",
            "642.0906413793564\n",
            "634.2900166511536\n",
            "630.6961359381676\n",
            "629.524890422821\n",
            "628.9463812112808\n",
            "628.3803035616875\n",
            "627.4165936112404\n",
            "625.8583347201347\n",
            "623.52225959301\n",
            "619.6101208925247\n",
            "613.6324821710587\n",
            "604.1609591841698\n",
            "590.0652387142181\n",
            "569.7443795204163\n",
            "540.6192759275436\n",
            "85018972.21007463\n",
            "1434.3458347320557\n",
            "1212.0738348960876\n",
            "1125.0955274105072\n",
            "1031.4464727044106\n",
            "925.9200139045715\n",
            "816.7963709831238\n",
            "713.936473608017\n",
            "625.9319972991943\n",
            "556.4712625145912\n",
            "507.24425581097603\n",
            "484.074065297842\n"
          ],
          "name": "stdout"
        }
      ]
    },
    {
      "cell_type": "code",
      "metadata": {
        "id": "jPLn1IWOUWXM",
        "colab_type": "code",
        "outputId": "f3003672-d61d-4f3d-963a-28fc1998c1db",
        "colab": {
          "base_uri": "https://localhost:8080/",
          "height": 34
        }
      },
      "source": [
        "torch.mm(model.fc3.weight, model.fc4.weight.t())[0][0].detach().numpy() / (np.sqrt(torch.mm(model.fc3.weight, model.fc3.weight.t())[0][0].detach().numpy()) * np.sqrt(torch.mm(model.fc4.weight, model.fc4.weight.t())[0][0].detach().numpy()))"
      ],
      "execution_count": 0,
      "outputs": [
        {
          "output_type": "execute_result",
          "data": {
            "text/plain": [
              "0.46385795"
            ]
          },
          "metadata": {
            "tags": []
          },
          "execution_count": 126
        }
      ]
    },
    {
      "cell_type": "code",
      "metadata": {
        "id": "ERTmNAwtzzNM",
        "colab_type": "code",
        "outputId": "fbfaadb9-af0c-4d9c-87a4-ae8d057c9ac7",
        "colab": {
          "base_uri": "https://localhost:8080/",
          "height": 34
        }
      },
      "source": [
        "# # Test performance on the entire test set\n",
        "# correct = 0\n",
        "# total = 0\n",
        "# with torch.no_grad():\n",
        "#   for data in testloader:\n",
        "#     images, labels = data\n",
        "#     outputs = model(images)\n",
        "# #     _, predicted = torch.max(outputs, 1)\n",
        "#     predicted = outputs > 0.5\n",
        "# #     predicted = predicted.view(predicted.size(0))\n",
        "#     total += labels.size(0)\n",
        "#     matches = 0\n",
        "#     for i in range(len(predicted)):\n",
        "#       if predicted[i].item() == labels[i].item():\n",
        "#         matches += 1\n",
        "#     correct += matches#(predicted == labels).sum().item()\n",
        "#   print('Accuracy of the network on the entire data set is : %d %%' %(100 * correct/ total))\n",
        "\n",
        "# Test performance on the entire test set\n",
        "correct = 0\n",
        "total = 0\n",
        "with torch.no_grad():\n",
        "  for data in testloader:\n",
        "    images, labels = data\n",
        "    outputs = model(images)\n",
        "#     _, predicted = torch.max(outputs, 1)\n",
        "    predicted = outputs[0] > 0.5\n",
        "#     predicted = predicted.view(predicted.size(0))\n",
        "    total += labels.size(0)\n",
        "    matches = 0\n",
        "    for i in range(len(predicted)):\n",
        "      if predicted[i].item() == labels[i].item():\n",
        "        matches += 1\n",
        "    correct += matches#(predicted == labels).sum().item()\n",
        "  print('Accuracy of the network on the entire data set is : %d %%' %(100 * correct/ total))"
      ],
      "execution_count": 0,
      "outputs": [
        {
          "output_type": "stream",
          "text": [
            "Accuracy of the network on the entire data set is : 76 %\n"
          ],
          "name": "stdout"
        }
      ]
    },
    {
      "cell_type": "code",
      "metadata": {
        "id": "yWEnYZo7GlmX",
        "colab_type": "code",
        "outputId": "483f75f2-dde9-4dbd-ebea-fe4edb83532a",
        "colab": {
          "base_uri": "https://localhost:8080/",
          "height": 34
        }
      },
      "source": [
        "# Test performance on the entire test set\n",
        "correct = 0\n",
        "total = 0\n",
        "with torch.no_grad():\n",
        "  for data in trainloader_patch:\n",
        "    images, labels = data\n",
        "    outputs = model(images)\n",
        "#     _, predicted = torch.max(outputs, 1)\n",
        "    predicted = outputs > 0.5\n",
        "#     predicted = predicted.view(predicted.size(0))\n",
        "    total += labels.size(0)\n",
        "    matches = 0\n",
        "    for i in range(len(predicted)):\n",
        "      if predicted[i].item() == labels[i].item():\n",
        "        matches += 1\n",
        "    correct += matches#(predicted == labels).sum().item()\n",
        "  print('Accuracy of the network on the entire data set is : %d %%' %(100 * correct/ total))"
      ],
      "execution_count": 0,
      "outputs": [
        {
          "output_type": "stream",
          "text": [
            "Accuracy of the network on the entire data set is : 100 %\n"
          ],
          "name": "stdout"
        }
      ]
    },
    {
      "cell_type": "code",
      "metadata": {
        "id": "AoQpav39Gok3",
        "colab_type": "code",
        "outputId": "44faa4c9-e1f8-4517-a2f5-0fd179ffeac8",
        "colab": {
          "base_uri": "https://localhost:8080/",
          "height": 34
        }
      },
      "source": [
        "# Test performance on the entire test set\n",
        "correct = 0\n",
        "total = 0\n",
        "with torch.no_grad():\n",
        "  for data in testloader_patch:\n",
        "    images, labels = data\n",
        "    outputs = model(images)\n",
        "#     _, predicted = torch.max(outputs, 1)\n",
        "    predicted = outputs > 0.5\n",
        "#     predicted = predicted.view(predicted.size(0))\n",
        "    total += labels.size(0)\n",
        "    matches = 0\n",
        "    for i in range(len(predicted)):\n",
        "      if predicted[i].item() == labels[i].item():\n",
        "        matches += 1\n",
        "    correct += matches#(predicted == labels).sum().item()\n",
        "  print('Accuracy of the network on the entire data set is : %d %%' %(100 * correct/ total))"
      ],
      "execution_count": 0,
      "outputs": [
        {
          "output_type": "stream",
          "text": [
            "Accuracy of the network on the entire data set is : 100 %\n"
          ],
          "name": "stdout"
        }
      ]
    },
    {
      "cell_type": "code",
      "metadata": {
        "id": "rkY8xIiLXV6V",
        "colab_type": "code",
        "outputId": "f3751270-6726-4986-aec6-7c72ee6c6b30",
        "colab": {
          "base_uri": "https://localhost:8080/",
          "height": 303
        }
      },
      "source": [
        "W1 = model.fc1.weight.detach().numpy()\n",
        "W1_reshape = np.reshape(W1, (28, 28))\n",
        "plt.imshow(W1_reshape)\n",
        "plt.xticks([])\n",
        "plt.yticks([])\n",
        "plt.colorbar()\n",
        "plt.figure()\n",
        "\n",
        "energy_patch1 = 0\n",
        "energy_total1 = 0\n",
        "\n",
        "for r in range(28):\n",
        "  for c in range(28):\n",
        "      energy_total1 += (W1_reshape[r, c])** 2\n",
        "      if r < 3 and c in [0, 1, 2, 25, 26, 27]:\n",
        "        energy_patch1 += (W1_reshape[r, c])**2\n",
        "\n",
        "print('Total energy of weight 1 :', np.sqrt(energy_total1))\n",
        "print('Total energy of patches of weight 1 :', np.sqrt(energy_patch1))\n",
        "\n",
        "# W2 = model.fc2.weight.detach().numpy()\n",
        "# W2_reshape = np.reshape(W2, (28, 28))\n",
        "# plt.imshow(W2_reshape)\n",
        "# plt.colorbar()\n",
        "# plt.figure()\n",
        "\n",
        "# energy_patch2 = 0\n",
        "# energy_total2 = 0\n",
        "\n",
        "# for r in range(28):\n",
        "#   for c in range(28):\n",
        "#       energy_total2 += (W2_reshape[r, c])** 2\n",
        "#       if r < 3 and c in [0, 1, 2, 25, 26, 27]:\n",
        "#         energy_patch2 += (W2_reshape[r, c])**2\n",
        "\n",
        "# print('Total energy of weight 2 :', energy_total2)\n",
        "# print('Total energy of patches of weight 2 :', energy_patch2)\n",
        "\n",
        "# W3 = model.fc3.weight.detach().numpy()\n",
        "# W3_reshape = np.reshape(W3, (28, 28))\n",
        "# plt.imshow(W3_reshape)\n",
        "# plt.colorbar()\n",
        "# plt.figure()\n",
        "\n",
        "# energy_patch3 = 0\n",
        "# energy_total3 = 0\n",
        "\n",
        "# for r in range(28):\n",
        "#   for c in range(28):\n",
        "#       energy_total3 += (W3_reshape[r, c])** 2\n",
        "#       if r < 3 and c in [0, 1, 2, 25, 26, 27]:\n",
        "#         energy_patch3 += (W3_reshape[r, c])**2\n",
        "\n",
        "# print('Total energy of weight 2 :', energy_total3)\n",
        "# print('Total energy of patches of weight 2 :', energy_patch3)\n",
        "\n",
        "# W4 = model.fc4.weight.detach().numpy()\n",
        "# W4_reshape = np.reshape(W4, (28, 28))\n",
        "# plt.imshow(W4_reshape)\n",
        "# plt.colorbar()\n",
        "# plt.figure()\n",
        "\n",
        "# energy_patch4 = 0\n",
        "# energy_total4 = 0\n",
        "\n",
        "# for r in range(28):\n",
        "#   for c in range(28):\n",
        "#       energy_total4 += (W4_reshape[r, c])** 2\n",
        "#       if r < 3 and c in [0, 1, 2, 25, 26, 27]:\n",
        "#         energy_patch4 += (W4_reshape[r, c])**2\n",
        "\n",
        "# print('Total energy of weight 4 :', energy_total4)\n",
        "# print('Total energy of patches of weight 4 :', energy_patch4)\n",
        "\n",
        "# W5 = model.fc5.weight.detach().numpy()\n",
        "# W5_reshape = np.reshape(W5, (28, 28))\n",
        "# plt.imshow(W5_reshape)\n",
        "# plt.colorbar()\n",
        "# plt.figure()\n",
        "\n",
        "# energy_patch5 = 0\n",
        "# energy_total5 = 0\n",
        "\n",
        "# for r in range(28):\n",
        "#   for c in range(28):\n",
        "#       energy_total5 += (W5_reshape[r, c])** 2\n",
        "#       if r < 3 and c in [0, 1, 2, 25, 26, 27]:\n",
        "#         energy_patch5 += (W5_reshape[r, c])**2\n",
        "\n",
        "# print('Total energy of weight 5 :', energy_total5)\n",
        "# print('Total energy of patches of weight 5 :', energy_patch5)"
      ],
      "execution_count": 0,
      "outputs": [
        {
          "output_type": "stream",
          "text": [
            "Total energy of weight 1 : 0.7845836487896541\n",
            "Total energy of patches of weight 1 : 0.4867055404270026\n"
          ],
          "name": "stdout"
        },
        {
          "output_type": "display_data",
          "data": {
            "image/png": "[encoded data removed]",
            "text/plain": [
              "<Figure size 432x288 with 2 Axes>"
            ]
          },
          "metadata": {
            "tags": []
          }
        },
        {
          "output_type": "display_data",
          "data": {
            "text/plain": [
              "<Figure size 432x288 with 0 Axes>"
            ]
          },
          "metadata": {
            "tags": []
          }
        }
      ]
    },
    {
      "cell_type": "code",
      "metadata": {
        "id": "-eQ47kkgHe3s",
        "colab_type": "code",
        "colab": {}
      },
      "source": [
        "# # Tabluate the train and test accuracy on the un-patched data for different values of SD (alpha)\n",
        "# train_accuracy = [0.89, 0.86, 0.82, 0.81, 0.69]\n",
        "# test_accuracy = [0.89, 0.85,0.82, 0.80, 0.67]\n",
        "# alphas_ = [1, 100, 150, 200, 500]"
      ],
      "execution_count": 0,
      "outputs": []
    },
    {
      "cell_type": "code",
      "metadata": {
        "id": "zbXm8LwvJ7nP",
        "colab_type": "code",
        "colab": {}
      },
      "source": [
        "# # Choose value of alpha as 2 for further analysis\n",
        "\n",
        "# ### Training on patches (4*4 patch)\n",
        "# train_acc_patch = [1, 1 ,1]\n",
        "# test_acc_patch = [1,1 ,1]\n",
        "# test_acc_patchless = [0.77, 0.68, 0.64]\n",
        "\n",
        "# ### Training on patches (3*3 patch)\n",
        "# train_acc_patch = [1, 1, 1]\n",
        "# test_acc_patch = [1, 1, 1]\n",
        "# test_acc_patchless = [0.75, 0.66, 0.62]"
      ],
      "execution_count": 0,
      "outputs": []
    },
    {
      "cell_type": "code",
      "metadata": {
        "id": "SJ9Rv5xz0BG8",
        "colab_type": "code",
        "colab": {}
      },
      "source": [
        "# for sigma = 0.01, lmbda = 500, accuracy is 67% in 10 epochs"
      ],
      "execution_count": 0,
      "outputs": []
    },
    {
      "cell_type": "code",
      "metadata": {
        "id": "MDI_Tj4OA6aF",
        "colab_type": "code",
        "colab": {}
      },
      "source": [
        "###############GOOD COMINATIONS#################\n",
        "# sigma = 10, lambda - 50, epochs = 15\n",
        "# sigma = 50, lambda - 50, epochs = 20 test acc patchless ~ 0.75, 0.76 is highest\n",
        "####Accuracy seems improve when training more than 2 models?\n",
        "# For 2 models and sigma = 100, lambda = 50 and 25 epochs - 0.79 acc\n",
        "# For 2 models and sigma = 100, lambda = 100 and 25 epochs - .74  acc\n",
        "# For 2 models and sigma = 100, lambda = 10, 25 and 25 epochs - .71  acc\n",
        "\n",
        "#####IMPORTANT OBSERVATIONS#############\n",
        "# Higher values of sigma (say 100) perform better than lower ones (say 0.1)\n",
        "\n",
        "########Tasks#############################\n",
        "# Establish variation of performance with sigma,  lambda and number of classifiers\n",
        "# Performance decreases with increase in sigma?\n"
      ],
      "execution_count": 0,
      "outputs": []
    },
    {
      "cell_type": "code",
      "metadata": {
        "id": "LtTv81A6jI06",
        "colab_type": "code",
        "colab": {}
      },
      "source": [
        "######RESULS########\n",
        "\n",
        "#16 classifiers, Sigma - 50, 30 epochs, lambda 50 -- 0.79 is highest acc (many classifiers have 0.79 accuracy)\n",
        "#16 classifiers, Sigma - 50, 30 epochs, lambda 100 -- 0.77 is highest acc many classifiers have 0.76 accuracy)\n",
        "#16 classifiers, Sigma - 500, 30 epochs, lambda 50 -- 0.76  is highest acc (many classifiers have 0.75-0.76 accuracy)\n",
        "#16 classifiers, Sigma - 100, 30 epochs, lambda 50 --  0.76 is highest acc (many classifiers 0.76 have accuracy)\n",
        "#16 classifiers, Sigma - 50, 30 epochs, lambda 150 -- 0.77 is highest acc (many classifiers have 0.75-0.76 accuracy)\n",
        "#16 classifiers, Sigma - 50, 30 epochs, lambda 100 -- 0.76 is highest acc (many classifiers have 0.75-0.76 accuracy)\n",
        "#16 classifiers, Sigma - 25, 30 epochs, lambda 50 -- 0.77 is highest acc (many classifiers have 0.75 accuracy)"
      ],
      "execution_count": 0,
      "outputs": []
    },
    {
      "cell_type": "code",
      "metadata": {
        "id": "nrotKUhB-jZs",
        "colab_type": "code",
        "colab": {}
      },
      "source": [
        "# RESULTS\n",
        "#16 classifiers, Sigma - 0.01, 20 epochs, lambda 1 -- 0.59 is highest acc (many classifiers have accuracy)\n",
        "#16 classifiers, Sigma - 0.1, 25 epochs, lambda 1 -- 0.60 is highest acc (many classifiers have accuracy)\n",
        "#16 classifiers, Sigma - 1, 12 epochs, lambda 1 -- 0.59 is highest acc (many classifiers have accuracy)\n",
        "###############################MODELS ARE NOT SUFFICIENTLY ORTHOGONAL################################\n",
        "\n",
        "\n",
        "# Trained 5 classifiers, kambda = 50, sigma = 50, epochs = 25 - acc on patchless = 0.76. all are sufficiently orthogonal"
      ],
      "execution_count": 0,
      "outputs": []
    }
  ]
}