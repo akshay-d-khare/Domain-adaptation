{
  "nbformat": 4,
  "nbformat_minor": 0,
  "metadata": {
    "colab": {
      "name": "SanityCheck_OrthogonalApproach.ipynb",
      "provenance": [],
      "collapsed_sections": []
    },
    "kernelspec": {
      "name": "python3",
      "display_name": "Python 3"
    },
    "accelerator": "GPU"
  },
  "cells": [
    {
      "cell_type": "code",
      "metadata": {
        "id": "rgNpVdiM-3iO",
        "colab_type": "code",
        "colab": {}
      },
      "source": [
        "# import necessary libraries\n",
        "\n",
        "import numpy as np\n",
        "import matplotlib.pyplot as plt\n",
        "import torch\n",
        "import torchvision\n",
        "import torchvision.transforms as transforms\n",
        "from torch.utils.data import DataLoader, Dataset\n",
        "import pandas as pd"
      ],
      "execution_count": null,
      "outputs": []
    },
    {
      "cell_type": "code",
      "metadata": {
        "id": "ggtFsqnIaEpW",
        "colab_type": "code",
        "colab": {}
      },
      "source": [
        "# Define the dataset class for a custom dataset\n",
        "\n",
        "class CustomDataset(Dataset):\n",
        "    \n",
        "    def __init__(self, data_frame, transform=None):\n",
        "        self.data = data_frame\n",
        "        self.transform = transform\n",
        "#         \n",
        "    def __len__(self):\n",
        "        return len(self.data)\n",
        "    \n",
        "    def __getitem__(self, index):\n",
        "        # load image as ndarray type (Height * Width * Channels)\n",
        "        # be carefull for converting dtype to np.uint8 [Unsigned integer (0 to 255)]\n",
        "        # in this example, i don't use ToTensor() method of torchvision.transforms\n",
        "        # so you can convert numpy ndarray shape to tensor in PyTorch (H, W, C) --> (C, H, W)\n",
        "        obs = self.data.iloc[index, 0 : 2].values\n",
        "        label = self.data.iloc[index, 2]\n",
        "        \n",
        "        if self.transform is not None:\n",
        "            obs = self.transform(obs)\n",
        "            \n",
        "        return obs, label"
      ],
      "execution_count": null,
      "outputs": []
    },
    {
      "cell_type": "code",
      "metadata": {
        "id": "H1QonJAx_-d7",
        "colab_type": "code",
        "colab": {}
      },
      "source": [
        "# Create the toy data\n",
        "\n",
        "data_ = pd.DataFrame({'X1' : [-15, -15 ,-15.2, -15.4, -15.52, -14.89, -14.5, -16.222, 16, 15.1, 15.2, 15.4, 15.52, 15.155, 15.02, 15.222,\n",
        "                              -15, -15.66 ,-15.92, -15.12, -15, -14, -14, -16, 16, 14.1, 14.2, 15.4, 15.52, 15.155, 17.02, 16.222],\n",
        "                   'X2' : [5, 5, 6.5, 6, 7.021, 6.03, 5.05, 6.016, -6, -5, -6.01, -7.011, -5.021, -7, -6.05, -6.016,\n",
        "                           6, 6, 5.5, 6, 6.021, 5.03, 5.05, 7.016, -6, -5, -5.01, -6.011, -6.021, -7, -5.05, -6.216], \n",
        "                   'label' : [1, 1, 1, 1, 1, 1, 1, 1, 0, 0, 0, 0, 0, 0, 0, 0,\n",
        "                              1, 1, 1, 1, 1, 1, 1, 1, 0, 0, 0, 0, 0, 0, 0, 0]})\n",
        "# Plot the toy data\n",
        "plt.figure(figsize = (5, 5))\n",
        "plt.scatter(data_['X1'], data_['X2'])\n",
        "plt.xlabel('feature 1')\n",
        "plt.ylabel('feature 2')\n",
        "plt.xlim(-20, 20)\n",
        "plt.ylim(-20, 20)"
      ],
      "execution_count": 4,
      "outputs": []
    },
    {
      "cell_type": "code",
      "metadata": {
        "id": "2NfWq_RgUOAq",
        "colab_type": "code",
        "colab": {}
      },
      "source": [
        "train_dataset = CustomDataset(data_, transform = None)"
      ],
      "execution_count": null,
      "outputs": []
    },
    {
      "cell_type": "code",
      "metadata": {
        "id": "PFxjnsT3CGnr",
        "colab_type": "code",
        "colab": {}
      },
      "source": [
        "trainloader = torch.utils.data.DataLoader(train_dataset, batch_size = 16, shuffle = True, num_workers = 2)"
      ],
      "execution_count": null,
      "outputs": []
    },
    {
      "cell_type": "code",
      "metadata": {
        "id": "Qe5yw_B0HwYs",
        "colab_type": "code",
        "colab": {}
      },
      "source": [
        "import torch.nn as nn\n",
        "import torch.nn.functional as F\n",
        "\n",
        "class linear_model(nn.Module):\n",
        "  def __init__(self):\n",
        "    super(linear_model, self).__init__()\n",
        "    self.fc1 = nn.Linear(2, 1)\n",
        "    nn.init.xavier_normal_(self.fc1.weight)\n",
        "    self.fc2 = nn.Linear(2, 1)\n",
        "    nn.init.xavier_normal_(self.fc2.weight)\n",
        "\n",
        "\n",
        "  def forward(self, x):\n",
        "    x = x.view(-1, 2)\n",
        "    x1 = torch.sigmoid( self.fc1(x) )  \n",
        "    x2 = torch.sigmoid( self.fc2(x) )  \n",
        "  \n",
        "    \n",
        "    return x1, x2\n",
        "  \n",
        "model = linear_model()  "
      ],
      "execution_count": null,
      "outputs": []
    },
    {
      "cell_type": "code",
      "metadata": {
        "id": "u6aYur4VHzOq",
        "colab_type": "code",
        "colab": {}
      },
      "source": [
        "#Script for generating fancy inner product matrix:\n",
        "\n",
        "sigma = 0.1 #HIGHER VALUES OF SIGMA SEEM TO PERFORM BETTER\n",
        "M = torch.zeros([2, 2])\n",
        "\n",
        "M_tensor = M.view(1,1,28,28)\n",
        "\n",
        "for i_1 in range(28):\n",
        "    for i_2 in range(28):\n",
        "        for j_1 in range(28):\n",
        "            for j_2 in range(28):\n",
        "                M_tensor[i_1,i_2,j_1,j_2] = np.exp( -((i_1 - j_1)**2 + (i_2 - j_2)**2) / (2 * (sigma)**2) )\n",
        "\n",
        "M = M_tensor.view([28*28,28*28])"
      ],
      "execution_count": null,
      "outputs": []
    },
    {
      "cell_type": "code",
      "metadata": {
        "id": "HUtz64TAH1JE",
        "colab_type": "code",
        "colab": {}
      },
      "source": [
        "# Define loss function and optimizer\n",
        "import torch.optim as optim\n",
        "\n",
        "loss_function = nn.BCELoss(reduction = 'mean') # sums all outputs and divides by total data points\n",
        "\n",
        "optimizer = optim.Adam(model.parameters(), lr = 0.1)\n",
        "\n",
        "class custom_loss(torch.nn.Module):\n",
        "\n",
        "  def __init__(self):\n",
        "    super(custom_loss,self).__init__()\n",
        "\n",
        "  def forward(self, mat1, mat2):\n",
        "  ## Absolute dot product of weights\n",
        "    l = (torch.mm(mat1, mat2.t()))**2\n",
        "\n",
        "  ## Fancy dot product if weights\n",
        "    #  l = (torch.mm(mat1, torch.mm(M, mat2.t())))**2\n",
        "    return l\n",
        "\n",
        "class regularizer(torch.nn.Module):\n",
        "\n",
        "  def __init__(self):\n",
        "    super(regularizer,self).__init__()\n",
        "\n",
        "  def forward(self, weig):\n",
        " \n",
        "  ## l-1 norm\n",
        "    # l = torch.sum(torch.abs(weig))\n",
        " \n",
        "  # l2 norm\n",
        "    l = torch.sqrt(torch.sum(weig * weig))\n",
        "    return l\n",
        "\n",
        "sl = custom_loss()    \n",
        "reg = regularizer()"
      ],
      "execution_count": null,
      "outputs": []
    },
    {
      "cell_type": "code",
      "metadata": {
        "id": "brHSCYKmH4eS",
        "colab_type": "code",
        "colab": {}
      },
      "source": [
        "# A list of models\n",
        "\n",
        "models_forloss = [model.fc1.weight, model.fc2.weight]"
      ],
      "execution_count": null,
      "outputs": []
    },
    {
      "cell_type": "code",
      "metadata": {
        "id": "wo5TZhfrH5H-",
        "colab_type": "code",
        "colab": {}
      },
      "source": [
        "n_epochs = 5\n",
        "\n",
        "l_r = 100 # tunable\n",
        "l_o = 10000 # tunable\n",
        "\n",
        "for epochs in range(n_epochs):\n",
        " \n",
        "  running_loss = 0\n",
        "  \n",
        "  for batch in trainloader:\n",
        "    data, targets = batch\n",
        "\n",
        "    optimizer.zero_grad()\n",
        "\n",
        "    output = model(data.float()) \n",
        " \n",
        "    loss = loss_function(output[0], targets.view(-1, 1).float()) + loss_function(output[1], targets.view(-1, 1).float()) + l_o * sl.forward(model.fc1.weight, model.fc2.weight) + l_r * reg.forward(model.fc1.weight) + l_r * reg.forward(model.fc2.weight)\n",
        " \n",
        "  \n",
        "    loss.backward()\n",
        "\n",
        "    optimizer.step()\n",
        "\n",
        "    running_loss += loss.item()\n",
        "  print(running_loss)"
      ],
      "execution_count": 1,
      "outputs": []
    },
    {
      "cell_type": "code",
      "metadata": {
        "id": "zZXYp_8jITpU",
        "colab_type": "code",
        "colab": {}
      },
      "source": [
        "# Test performance on the entire test set\n",
        "\n",
        "correct = 0\n",
        "total = 0\n",
        "with torch.no_grad():\n",
        "  for data in trainloader:\n",
        "    images, labels = data\n",
        "    outputs = model(images.float())\n",
        "    predicted = outputs[0] > 0.5\n",
        "    total += labels.size(0)\n",
        "    matches = 0\n",
        "    for i in range(len(predicted)):\n",
        "      if predicted[i].item() == labels[i].item():\n",
        "        matches += 1\n",
        "    correct += matches\n",
        "  print('Accuracy of the network on the entire data set is : %d %%' %(100 * correct/ total))"
      ],
      "execution_count": 2,
      "outputs": []
    },
    {
      "cell_type": "code",
      "metadata": {
        "id": "TpWUQysqzEVC",
        "colab_type": "code",
        "colab": {}
      },
      "source": [
        "# Visualising the learned weights\n",
        "\n",
        "x_s1 = list(range(-20, 25, 5))\n",
        "y_s1 = []\n",
        "y_s2 = []\n",
        "for el in x_s1:\n",
        "  y_s1.append((-model.fc1.weight[0][0].item()/ model.fc1.weight[0][1].item()) * el)\n",
        "\n",
        "for el in x_s1:\n",
        "  y_s2.append((-model.fc2.weight[0][0].item()/ model.fc2.weight[0][1].item()) * el)\n",
        "\n",
        "plt.plot(x_s1, y_s1, color = 'red') \n",
        "plt.plot(x_s1, y_s2, color = 'orange') \n",
        "\n",
        "plt.scatter(data_['X1'], data_['X2'])\n",
        "plt.xlabel('feature 1')\n",
        "plt.ylabel('feature 2')\n",
        "plt.xlim(-20, 20)\n",
        "plt.ylim(-20, 20)"
      ],
      "execution_count": 3,
      "outputs": []
    }
  ]
}