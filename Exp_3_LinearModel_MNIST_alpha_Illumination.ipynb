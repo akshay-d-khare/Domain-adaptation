{
  "nbformat": 4,
  "nbformat_minor": 0,
  "metadata": {
    "colab": {
      "name": "Exp#3_LinearModel_MNIST_alpha_Illumination.ipynb",
      "provenance": [],
      "collapsed_sections": []
    },
    "kernelspec": {
      "name": "python3",
      "display_name": "Python 3"
    }
  },
  "cells": [
    {
      "cell_type": "code",
      "metadata": {
        "id": "zzaVklHwLnSa",
        "colab_type": "code",
        "colab": {}
      },
      "source": [
        ""
      ],
      "execution_count": 0,
      "outputs": []
    },
    {
      "cell_type": "code",
      "metadata": {
        "id": "wv6f1pjrYHm8",
        "colab_type": "code",
        "colab": {}
      },
      "source": [
        "# Let MNIST(alpha) be MNIST with Gaussian noise of SD alpha added to the pixels.\n",
        "# Group any five classes to be the positive class and the rest to be the negative class.\n",
        "# Add a 3x3 patch on the left/right based on whether the image is positive or negative. Let's call these modified datasets as MNIST_bin_patch(alpha).\n",
        "# Also define the patchless versions of these datasets as MNIST_bin(alpha).\n",
        "# Train a linear model on these datasets for an appropriate range of alpha values. Only select architectures that have good training and testing performance on the \n",
        "# patchless version of the dataset (this is to rule out really bad architectures and really bad datasets).\n",
        "\n",
        "# Test all these models (trained on the patched version of the data) on the test set of MNIST_bin_patch(alpha), MNIST_bin(alpha), i.e. the model is tested on the data \n",
        "# with which it is trained, and also the patchless version. Choose the model/dataset for which the difference between the two is greatest. \n",
        "# (The accuracy on the patched data is much higher than the accuracy on the data without patches). \n",
        "# Now the goal is to train a model with the same architecture of the chosen model that does well on both the patched data and the patchless data. \n",
        "\n",
        "\n",
        "\n",
        "# Model learns beter when trained on the dat awith partches than eithout patches!\n",
        "# In case of training on no patches, \n",
        "# for 1 classifier, loss starts with \n",
        "# for 2 classifiers with lambda = 0, loss starts from 612...Training and test loss (on patchless data) is around 89%\n",
        "# for 2 classifiers with lambda = 1, loss starts from 636...Training and test loss (on patchless data) is around 89%\n",
        "\n",
        "# In case of training with patches (28*4)\n",
        "# for 2 classifier, with lambda = 1, loss starts from 10.7...training accuracy is 100%, test acc on path data is 100 and that on patchless is around 80%\n",
        "\n",
        "# In case of training with patches (3*3)\n",
        "#######################\n",
        "# For 2 classifiers with 0 lambda, model clearly learns patches as apparent from the weight vector images\n",
        "\n",
        "#######################\n",
        "# for 2 classifier, with lambda = 1, loss starts from 10.7...training accuracy is 100%, test acc on path data is 100 and that on patchless is around 80%\n",
        "\n",
        "# The test accuracy on patchless data is highest when trained on patch less data (89% for both test and train).\n",
        "# As the size of patch grows, train accuracy grows to 100%, while test accuracy on patchless data reduces. Test accuracy on data with patches is 100%.\n",
        "# So as the patch size grows, the model begins to primrily learn the left-right patch rather than odd-even\n",
        "# Even the newly added dot product loss doesn't seem to make the 2 classifiers learn different tasks\n",
        "\n",
        "# Even the fancy dot product loss seems to learn both the tasks for both models\n",
        "# It tries to make the vectors orthogonal in the parts except the patches\n",
        "\n",
        "\n",
        "# data type matters because conversion to float and again to int gives the same results as no conversion..."
      ],
      "execution_count": 0,
      "outputs": []
    },
    {
      "cell_type": "code",
      "metadata": {
        "id": "xmt58uKbbmtD",
        "colab_type": "code",
        "colab": {}
      },
      "source": [
        "# For improving the model expeiments, alpha = 150. Test accuracy on patchless data falls from 82% to 63% for a 3*3 patch"
      ],
      "execution_count": 0,
      "outputs": []
    },
    {
      "cell_type": "code",
      "metadata": {
        "id": "W_xa5d_95ea2",
        "colab_type": "code",
        "colab": {}
      },
      "source": [
        "# Training 16 models\n",
        "# The train and test acc. is 98%. The visualization of weight vectors reveals that the left and right patches are not as prominent as they used to be for 2 models\n",
        "\n",
        "# Training 10 models\n",
        "# The train and test acc. is 98%. The visualization of weight vectors reveals that the left and right patches are not as prominent as they used to be for 2 models\n",
        "# With fancy inner product, train and test on patches has 99% accuracy; max patchless acc. among all models is 62%\n",
        "\n",
        "### Training multiple models (on patched version) by forcing orthogonality has lesser accuracy (on patchless version) as compared to training a single model \n",
        "# sigma = 0.01, 1 (not good) with lambda = 50 and 20 epochs around 60% acc\n",
        "# sigma = 1, lambda = 50 and 25 epochs "
      ],
      "execution_count": 0,
      "outputs": []
    },
    {
      "cell_type": "code",
      "metadata": {
        "id": "DT38WGdcao27",
        "colab_type": "code",
        "colab": {}
      },
      "source": [
        "alpha = 100 # taking 150 because visually makes more sense for human eye\n",
        "\n",
        "import numpy as np\n",
        "import matplotlib.pyplot as plt\n",
        "import torch\n",
        "import torchvision\n",
        "import torchvision.transforms as transforms"
      ],
      "execution_count": 0,
      "outputs": []
    },
    {
      "cell_type": "code",
      "metadata": {
        "id": "pOpkqh9oat1v",
        "colab_type": "code",
        "colab": {}
      },
      "source": [
        "transform = transforms.Compose([transforms.ToTensor(), transforms.Normalize((0.5, ), (0.5, ))])\n",
        "\n",
        "trainset = torchvision.datasets.MNIST(root = './data', train = True, download = True, transform = transform)\n",
        "\n",
        "testset = torchvision.datasets.MNIST(root = './data', train = False, download = True, transform = transform)\n",
        "\n",
        "trainset_forpatch = torchvision.datasets.MNIST(root = './data', train = True, download = True, transform = transform)\n",
        "\n",
        "testset_forpatch = torchvision.datasets.MNIST(root = './data', train = False, download = True, transform = transform)"
      ],
      "execution_count": 0,
      "outputs": []
    },
    {
      "cell_type": "code",
      "metadata": {
        "id": "2NRzqeQH7tPP",
        "colab_type": "code",
        "colab": {}
      },
      "source": [
        "# Odd (1) v even (0) labels\n",
        "trainset.targets[np.where(trainset.targets %2 != 0)[0].tolist()] = 1\n",
        "trainset.targets[np.where(trainset.targets %2 == 0)[0].tolist()] = 0\n",
        "\n",
        "testset.targets[np.where(testset.targets %2 != 0)[0].tolist()] = 1\n",
        "testset.targets[np.where(testset.targets %2 == 0)[0].tolist()] = 0\n",
        "\n",
        "trainset_forpatch.targets[np.where(trainset_forpatch.targets %2 != 0)[0].tolist()] = 1\n",
        "trainset_forpatch.targets[np.where(trainset_forpatch.targets %2 == 0)[0].tolist()] = 0\n",
        "\n",
        "testset_forpatch.targets[np.where(testset_forpatch.targets %2 != 0)[0].tolist()] = 1\n",
        "testset_forpatch.targets[np.where(testset_forpatch.targets %2 == 0)[0].tolist()] = 0"
      ],
      "execution_count": 0,
      "outputs": []
    },
    {
      "cell_type": "code",
      "metadata": {
        "id": "STF8bVQuKjI7",
        "colab_type": "code",
        "colab": {}
      },
      "source": [
        "# Converting the data type to float in order to be able to add Gaussian noise\n",
        "trainset.data = trainset.data.type(torch.float64)\n",
        "testset.data = testset.data.type(torch.float64)\n",
        "trainset_forpatch.data = trainset_forpatch.data.type(torch.float64)\n",
        "testset_forpatch.data = testset_forpatch.data.type(torch.float64)"
      ],
      "execution_count": 0,
      "outputs": []
    },
    {
      "cell_type": "code",
      "metadata": {
        "id": "7rkXDiSha1CQ",
        "colab_type": "code",
        "colab": {}
      },
      "source": [
        "# Generating MNIST_bin(alpha)\n",
        "def GaussianNoise_alpha(trainset1, testset1, alpha):\n",
        "  for im in range(len(trainset1)):\n",
        "#     trainset1.data[im] = torch.tensor(trainset1.data[im], dtype = torch.float64) + torch.tensor(np.random.normal(scale = alpha, size = (28, 28)), dtype = torch.float64)\n",
        "    trainset1.data[im] = trainset1.data[im] + torch.tensor(np.random.normal(scale = alpha, size = (28, 28)), dtype = torch.float64)\n",
        "    trainset1.data[im] = np.clip(trainset1.data[im], 0, 255)\n",
        "  for jm in range(len(testset1)):\n",
        "#     testset1.data[jm] = torch.tensor(testset1.data[jm], dtype = torch.float64) + torch.tensor(np.random.normal(scale = alpha, size = (28, 28)), dtype = torch.float64)\n",
        "    testset1.data[jm] = testset1.data[jm] + torch.tensor(np.random.normal(scale = alpha, size = (28, 28)), dtype = torch.float64)\n",
        "    testset1.data[jm] = np.clip(testset1.data[jm], 0, 255)\n",
        "  return trainset1, testset1\n",
        "\n",
        "\n",
        "# Generating MNIST_bin_patch(alpha)\n",
        "def GaussianNoise_alpha_patch(trainset1, testset1): # Feed in the data with gaussian noise already added\n",
        "# Left patch for   \n",
        "  for im in range(len(trainset1)):\n",
        "    if trainset1.targets[im] == 0:\n",
        "      for p1 in range(3):\n",
        "        for p2 in range(3):\n",
        "          trainset1.data[im][p1, p2] = 255\n",
        "    else:\n",
        "      for p1 in range(3):\n",
        "        for p2 in range(25, 28):\n",
        "          trainset1.data[im][p1, p2] = 255\n",
        "\n",
        "  for im in range(len(testset1)):\n",
        "    if testset1.targets[im] == 0:\n",
        "      for p1 in range(3):\n",
        "        for p2 in range(3):\n",
        "          testset1.data[im][p1, p2] = 255\n",
        "    else:\n",
        "      for p1 in range(3):\n",
        "        for p2 in range(25, 28):\n",
        "          testset1.data[im][p1, p2] = 255\n",
        "          \n",
        "  return trainset1, testset1 \n",
        "\n",
        "# Increase the illumination level for label = 0\n",
        "def ChangeIllumination(trainset1, testset1):\n",
        "  for im in range(len(trainset1)):\n",
        "    if trainset1.targets[im] == 0:\n",
        "      xx = np.clip(trainset1.data[im] + 100 * torch.ones((28, 28)), 0, 254)\n",
        "      trainset1.data[im] = xx\n",
        "  for im in range(len(testset1)):\n",
        "    if testset1.targets[im] == 0:\n",
        "      xx = np.clip(testset1.data[im] + 100 * torch.ones((28, 28)), 0, 254)\n",
        "      testset1.data[im]  = xx\n",
        "  return trainset1, testset1"
      ],
      "execution_count": 0,
      "outputs": []
    },
    {
      "cell_type": "code",
      "metadata": {
        "id": "PduUK0nRHznk",
        "colab_type": "code",
        "colab": {}
      },
      "source": [
        "xx = trainset.data[1]\n",
        "yy = np.clip(xx + 100 * torch.ones((28, 28)), 0, 254)\n",
        "xx = xx.type(torch.uint8)\n",
        "yy = yy.type(torch.uint8)"
      ],
      "execution_count": 0,
      "outputs": []
    },
    {
      "cell_type": "code",
      "metadata": {
        "id": "yVrNHAbLIFNy",
        "colab_type": "code",
        "outputId": "a79411fa-fea8-4145-fc6c-38b4138bc434",
        "colab": {
          "base_uri": "https://localhost:8080/",
          "height": 530
        }
      },
      "source": [
        "plt.imshow(xx, cmap = 'gray')\n",
        "plt.figure()\n",
        "plt.imshow(yy, cmap = 'gray', vmin=0, vmax=255)\n"
      ],
      "execution_count": 0,
      "outputs": [
        {
          "output_type": "execute_result",
          "data": {
            "text/plain": [
              "<matplotlib.image.AxesImage at 0x7f14bd487668>"
            ]
          },
          "metadata": {
            "tags": []
          },
          "execution_count": 8
        },
        {
          "output_type": "display_data",
          "data": {
            "image/png": "[encoded data removed]",
            "text/plain": [
              "<Figure size 432x288 with 1 Axes>"
            ]
          },
          "metadata": {
            "tags": []
          }
        },
        {
          "output_type": "display_data",
          "data": {
            "image/png": "[encoded data removed]",
            "text/plain": [
              "<Figure size 432x288 with 1 Axes>"
            ]
          },
          "metadata": {
            "tags": []
          }
        }
      ]
    },
    {
      "cell_type": "code",
      "metadata": {
        "id": "zQVUKDAQ4aSL",
        "colab_type": "code",
        "colab": {}
      },
      "source": [
        "# Creating the bin data\n",
        "train_bin, test_bin = GaussianNoise_alpha(trainset, testset, alpha)\n",
        "\n",
        "# # Creating the bin data with patches\n",
        "train_inter, test_inter = GaussianNoise_alpha(trainset_forpatch, testset_forpatch, alpha)\n",
        "train_bin_patch, test_bin_patch = ChangeIllumination(train_inter, test_inter)"
      ],
      "execution_count": 0,
      "outputs": []
    },
    {
      "cell_type": "code",
      "metadata": {
        "id": "8XOkrJ83c1Zf",
        "colab_type": "code",
        "colab": {}
      },
      "source": [
        "# Converting the data type back to unit8...\n",
        "train_bin.data = train_bin.data.type(torch.uint8)\n",
        "test_bin.data = test_bin.data.type(torch.uint8)\n",
        "train_bin_patch.data = train_bin_patch.data.type(torch.uint8)\n",
        "test_bin_patch.data = test_bin_patch.data.type(torch.uint8)"
      ],
      "execution_count": 0,
      "outputs": []
    },
    {
      "cell_type": "code",
      "metadata": {
        "id": "Sm8wp_jxF06l",
        "colab_type": "code",
        "outputId": "664885ce-0862-47a8-e3f2-b957beaa8cad",
        "colab": {
          "base_uri": "https://localhost:8080/",
          "height": 530
        }
      },
      "source": [
        "plt.imshow(train_bin.data[1110], cmap = 'gray', vmin=0, vmax=255)\n",
        "plt.figure()\n",
        "plt.imshow(train_bin_patch.data[1110], cmap = 'gray', vmin=0, vmax=255)"
      ],
      "execution_count": 9,
      "outputs": [
        {
          "output_type": "execute_result",
          "data": {
            "text/plain": [
              "<matplotlib.image.AxesImage at 0x7f488c4a9550>"
            ]
          },
          "metadata": {
            "tags": []
          },
          "execution_count": 9
        },
        {
          "output_type": "display_data",
          "data": {
            "image/png": "[encoded data removed]",
            "text/plain": [
              "<Figure size 432x288 with 1 Axes>"
            ]
          },
          "metadata": {
            "tags": []
          }
        },
        {
          "output_type": "display_data",
          "data": {
            "image/png": "[encoded data removed]",
            "text/plain": [
              "<Figure size 432x288 with 1 Axes>"
            ]
          },
          "metadata": {
            "tags": []
          }
        }
      ]
    },
    {
      "cell_type": "code",
      "metadata": {
        "id": "o03ncuhl_xdr",
        "colab_type": "code",
        "outputId": "b16744c6-d909-4839-b69b-c0de048a1a2a",
        "colab": {
          "base_uri": "https://localhost:8080/",
          "height": 957
        }
      },
      "source": [
        "# Plot random train and test images\n",
        "# Training images\n",
        "fig, axes = plt.subplots(2, 3, figsize=(9, 4),\n",
        "                         subplot_kw={'xticks':[], 'yticks':[]},\n",
        "                         gridspec_kw=dict(hspace=0.1, wspace=0.1))\n",
        "for i, ax in zip([1, 115, 460, 212, 130, 10020], axes.flat):\n",
        "    ax.imshow(train_bin.data[i], cmap='gray', vmin=0, vmax=255)\n",
        "#Test images without patch \n",
        "fig, axes = plt.subplots(2, 3, figsize=(9, 4),\n",
        "                         subplot_kw={'xticks':[], 'yticks':[]},\n",
        "                         gridspec_kw=dict(hspace=0.1, wspace=0.1))\n",
        "for i, ax in zip([201, 115, 1500, 212, 130, 122], axes.flat):\n",
        "    ax.imshow(test_bin.data[i], cmap='gray', vmin=0, vmax=255)\n",
        "    \n",
        "# Training images\n",
        "fig, axes = plt.subplots(2, 3, figsize=(9, 4),\n",
        "                         subplot_kw={'xticks':[], 'yticks':[]},\n",
        "                         gridspec_kw=dict(hspace=0.1, wspace=0.1))\n",
        "for i, ax in zip([1, 115, 460, 212, 130, 10020], axes.flat):\n",
        "    ax.imshow(train_bin_patch.data[i], cmap='gray', vmin=0, vmax=255)\n",
        "\n",
        "# Test images without patch \n",
        "fig, axes = plt.subplots(2, 3, figsize=(9, 4),\n",
        "                         subplot_kw={'xticks':[], 'yticks':[]},\n",
        "                         gridspec_kw=dict(hspace=0.1, wspace=0.1))\n",
        "for i, ax in zip([201, 115, 1500, 212, 130, 122], axes.flat):\n",
        "    ax.imshow(test_bin_patch.data[i], cmap='gray', vmin=0, vmax=255)      "
      ],
      "execution_count": 51,
      "outputs": [
        {
          "output_type": "display_data",
          "data": {
            "image/png": "[encoded data removed]",
            "text/plain": [
              "<Figure size 648x288 with 6 Axes>"
            ]
          },
          "metadata": {
            "tags": []
          }
        },
        {
          "output_type": "display_data",
          "data": {
            "image/png": "[encoded data removed]",
            "text/plain": [
              "<Figure size 648x288 with 6 Axes>"
            ]
          },
          "metadata": {
            "tags": []
          }
        },
        {
          "output_type": "display_data",
          "data": {
            "image/png": "[encoded data removed]",
            "text/plain": [
              "<Figure size 648x288 with 6 Axes>"
            ]
          },
          "metadata": {
            "tags": []
          }
        },
        {
          "output_type": "display_data",
          "data": {
            "image/png": "[encoded data removed]",
            "text/plain": [
              "<Figure size 648x288 with 6 Axes>"
            ]
          },
          "metadata": {
            "tags": []
          }
        }
      ]
    },
    {
      "cell_type": "code",
      "metadata": {
        "id": "gn1k8YzbZEAc",
        "colab_type": "code",
        "colab": {}
      },
      "source": [
        "# Assign data to data loader\n",
        "\n",
        "trainloader = torch.utils.data.DataLoader(train_bin, batch_size = 64, shuffle = True, num_workers = 2)\n",
        "\n",
        "testloader = torch.utils.data.DataLoader(test_bin, batch_size = 64, shuffle = False, num_workers = 2)\n",
        "\n",
        "trainloader_patch = torch.utils.data.DataLoader(train_bin_patch, batch_size = 64, shuffle = True, num_workers = 2)\n",
        "\n",
        "testloader_patch = torch.utils.data.DataLoader(test_bin_patch, batch_size = 64, shuffle = False, num_workers = 2)"
      ],
      "execution_count": 0,
      "outputs": []
    },
    {
      "cell_type": "code",
      "metadata": {
        "id": "BJG4lXVNZYrt",
        "colab_type": "code",
        "colab": {}
      },
      "source": [
        "import torch.nn as nn\n",
        "import torch.nn.functional as F\n",
        "\n",
        "class linear_model(nn.Module):\n",
        "  def __init__(self):\n",
        "    super(linear_model, self).__init__()\n",
        "    self.fc1 = nn.Linear(28*28, 1)\n",
        "    self.fc2 = nn.Linear(28*28, 1)\n",
        "    self.fc3 = nn.Linear(28*28, 1)\n",
        "    # self.fc4 = nn.Linear(28*28, 1)\n",
        "    # self.fc5 = nn.Linear(28*28, 1)\n",
        "    # # self.fc6 = nn.Linear(28*28, 1)\n",
        "    # self.fc7 = nn.Linear(28*28, 1)\n",
        "    # self.fc8 = nn.Linear(28*28, 1)\n",
        "    # self.fc9 = nn.Linear(28*28, 1)\n",
        "    # self.fc10 = nn.Linear(28*28, 1)\n",
        "    # # self.fc11 = nn.Linear(28*28, 1)\n",
        "    # self.fc12 = nn.Linear(28*28, 1)\n",
        "    # self.fc13 = nn.Linear(28*28, 1)\n",
        "    # self.fc14 = nn.Linear(28*28, 1)\n",
        "    # self.fc15 = nn.Linear(28*28, 1)\n",
        "    # self.fc16 = nn.Linear(28*28, 1)\n",
        "\n",
        "  def forward(self, x):\n",
        "    x = x.view(-1, 28*28)\n",
        "    x1 = torch.sigmoid(self.fc1(x))  \n",
        "    x2 = torch.sigmoid(self.fc2(x))  \n",
        "    x3 = torch.sigmoid(self.fc3(x))  \n",
        "    # x4 = torch.sigmoid(self.fc4(x))  \n",
        "    # x5 = torch.sigmoid(self.fc5(x))  \n",
        "    # x6 = torch.sigmoid(self.fc6(x))  \n",
        "    # x7 = torch.sigmoid(self.fc7(x))  \n",
        "    # x8 = torch.sigmoid(self.fc8(x))  \n",
        "    # x9 = torch.sigmoid(self.fc9(x))  \n",
        "    # x10 = torch.sigmoid(self.fc10(x))  \n",
        "    # x11 = torch.sigmoid(self.fc11(x))  \n",
        "    # x12 = torch.sigmoid(self.fc12(x))  \n",
        "    # x13 = torch.sigmoid(self.fc13(x))  \n",
        "    # x14 = torch.sigmoid(self.fc14(x))  \n",
        "    # x15 = torch.sigmoid(self.fc15(x))  \n",
        "    # x16 = torch.sigmoid(self.fc16(x))  \n",
        "    return x1, x2, x3#, x4, x5#, x6, x7, x8, x9, x10#, x11, x12, x13, x14, x15, x16\n",
        "  \n",
        "model = linear_model()  "
      ],
      "execution_count": 0,
      "outputs": []
    },
    {
      "cell_type": "code",
      "metadata": {
        "id": "nj382Gz0WzAy",
        "colab_type": "code",
        "colab": {}
      },
      "source": [
        "#Script for generating fancy inner product matrix:\n",
        "\n",
        "sigma = 100########HIGHER VALUES OF SIGMA SEEM TO PERFORM BETTER#############\n",
        "M = torch.zeros([28*28, 28*28])\n",
        "\n",
        "M_tensor = M.view(28,28,28,28)\n",
        "\n",
        "for i_1 in range(28):\n",
        "    for i_2 in range(28):\n",
        "        for j_1 in range(28):\n",
        "            for j_2 in range(28):\n",
        "                M_tensor[i_1,i_2,j_1,j_2] = np.exp( -((i_1 - j_1)**2 + (i_2 - j_2)**2) / (2 * (sigma)**2) )\n",
        "\n",
        "M = M_tensor.view([28*28,28*28])"
      ],
      "execution_count": 0,
      "outputs": []
    },
    {
      "cell_type": "code",
      "metadata": {
        "id": "V_earDziniOm",
        "colab_type": "code",
        "colab": {}
      },
      "source": [
        "# Define loss function and optimizer\n",
        "import torch.optim as optim\n",
        "\n",
        "loss_function = nn.BCELoss(reduction = 'mean') # sums all outputs and divides by total data points\n",
        "\n",
        "optimizer = optim.Adam(model.parameters(), lr = 0.001)\n",
        "\n",
        "class custom_loss(torch.nn.Module):\n",
        "\n",
        "  def __init__(self):\n",
        "    super(custom_loss,self).__init__()\n",
        "\n",
        "  def forward(self, mat1, mat2, M):\n",
        "  # Absolute dot product of weights\n",
        "#     l = (torch.mm(mat1, mat2.t()))**2\n",
        "\n",
        "  # Fancy dot product if weights\n",
        "    l = (torch.mm(mat1, torch.mm(M, mat2.t())))**2\n",
        "    return l\n",
        "\n",
        "sl = custom_loss()    "
      ],
      "execution_count": 0,
      "outputs": []
    },
    {
      "cell_type": "code",
      "metadata": {
        "id": "6MmENeAeEN9H",
        "colab_type": "code",
        "colab": {}
      },
      "source": [
        "models_forloss = [model.fc1.weight, model.fc2.weight, model.fc3.weight]#, model.fc4.weight, model.fc5.weight]#, model.fc6.weight, model.fc7.weight, model.fc8.weight, \n",
        "      # model.fc9.weight, model.fc10.weight]#, model.fc11.weight, model.fc12.weight, model.fc13.weight, model.fc14.weight, model.fc15.weight, model.fc16.weight]"
      ],
      "execution_count": 0,
      "outputs": []
    },
    {
      "cell_type": "code",
      "metadata": {
        "id": "yaqmKDhSn1rI",
        "colab_type": "code",
        "outputId": "6804e3a5-877f-4c1f-df6a-a002d199221d",
        "colab": {
          "base_uri": "https://localhost:8080/",
          "height": 527
        }
      },
      "source": [
        "n_epochs = 30\n",
        "lmbda = 50\n",
        "\n",
        "for epochs in range(n_epochs):\n",
        " \n",
        "  running_loss = 0\n",
        "  \n",
        "  for batch in trainloader_patch:\n",
        "    data, targets = batch\n",
        "    \n",
        "    optimizer.zero_grad()\n",
        "    \n",
        "    output = model(data)\n",
        "\n",
        "    # loss = loss_function(output, targets.view(-1, 1).float())\n",
        "\n",
        "    loss = loss_function(output[0], targets.view(-1, 1).float())\n",
        "    \n",
        "    for mm in range(1, len(models_forloss)):\n",
        "      \n",
        "      loss += loss_function(output[mm], targets.view(-1, 1).float())\n",
        "    \n",
        "    for fr in range((len(models_forloss) - 1)):\n",
        "      \n",
        "      for sn in range(fr + 1, len(models_forloss)):  \n",
        "        \n",
        "        loss += lmbda * sl.forward(models_forloss[fr], models_forloss[sn], M)[0][0]\n",
        "\n",
        "    loss.backward()\n",
        "    \n",
        "    optimizer.step()\n",
        "    \n",
        "    running_loss += loss.item()\n",
        "  print(running_loss)    "
      ],
      "execution_count": 91,
      "outputs": [
        {
          "output_type": "stream",
          "text": [
            "2139.108671069145\n",
            "2435.749657034874\n",
            "1739.1137899160385\n",
            "1659.946472644806\n",
            "1711.5696668624878\n",
            "3871.3252950906754\n",
            "1235.7402303814888\n",
            "1286.4898551106453\n",
            "1370.7419586777687\n",
            "1389.7566908597946\n",
            "1351.4176666140556\n",
            "1466.0590651631355\n",
            "1315.6472781896591\n",
            "4872.925737023354\n",
            "973.5316072702408\n",
            "1104.25327283144\n",
            "1119.0226895809174\n",
            "2295.222707271576\n",
            "1038.7608495354652\n",
            "1091.3908362984657\n",
            "1164.4497606754303\n",
            "1154.854461967945\n",
            "1265.3155693411827\n",
            "1146.3378853201866\n",
            "16084.062401115894\n",
            "956.8712704777718\n",
            "892.6817157268524\n",
            "870.3945293426514\n",
            "932.4475504159927\n",
            "949.0043005943298\n"
          ],
          "name": "stdout"
        }
      ]
    },
    {
      "cell_type": "code",
      "metadata": {
        "id": "YgKI8N-GYA9F",
        "colab_type": "code",
        "colab": {
          "base_uri": "https://localhost:8080/",
          "height": 34
        },
        "outputId": "58b3ea73-4e14-47d4-bca8-40f7146fa97c"
      },
      "source": [
        "sl.forward(model.fc2.weight, model.fc3.weight, M)"
      ],
      "execution_count": 113,
      "outputs": [
        {
          "output_type": "execute_result",
          "data": {
            "text/plain": [
              "tensor([[2.1343e-08]], grad_fn=<PowBackward0>)"
            ]
          },
          "metadata": {
            "tags": []
          },
          "execution_count": 113
        }
      ]
    },
    {
      "cell_type": "code",
      "metadata": {
        "id": "ERTmNAwtzzNM",
        "colab_type": "code",
        "outputId": "c3627043-f48f-472e-d820-e1f3f4cc7b9c",
        "colab": {
          "base_uri": "https://localhost:8080/",
          "height": 34
        }
      },
      "source": [
        "# # Test performance on the entire test set\n",
        "# correct = 0\n",
        "# total = 0\n",
        "# with torch.no_grad():\n",
        "#   for data in testloader:\n",
        "#     images, labels = data\n",
        "#     outputs = model(images)\n",
        "# #     _, predicted = torch.max(outputs, 1)\n",
        "#     predicted = outputs > 0.5\n",
        "# #     predicted = predicted.view(predicted.size(0))\n",
        "#     total += labels.size(0)\n",
        "#     matches = 0\n",
        "#     for i in range(len(predicted)):\n",
        "#       if predicted[i].item() == labels[i].item():\n",
        "#         matches += 1\n",
        "#     correct += matches#(predicted == labels).sum().item()\n",
        "#   print('Accuracy of the network on the entire data set is : %d %%' %(100 * correct/ total))\n",
        "\n",
        "# Test performance on the entire test set\n",
        "correct = 0\n",
        "total = 0\n",
        "with torch.no_grad():\n",
        "  for data in testloader:\n",
        "    images, labels = data\n",
        "    outputs = model(images)\n",
        "#     _, predicted = torc.max(outputs, 1)\n",
        "    predicted = outputs[0] > 0.5\n",
        "#     predicted = predicted.view(predicted.size(0))\n",
        "    total += labels.size(0)\n",
        "    matches = 0\n",
        "    for i in range(len(predicted)):\n",
        "      if predicted[i].item() == labels[i].item():\n",
        "        matches += 1\n",
        "    correct += matches#(predicted == labels).sum().item()\n",
        "  print('Accuracy of the network on the entire data set is : %d %%' %(100 * correct/ total))"
      ],
      "execution_count": 109,
      "outputs": [
        {
          "output_type": "stream",
          "text": [
            "Accuracy of the network on the entire data set is : 77 %\n"
          ],
          "name": "stdout"
        }
      ]
    },
    {
      "cell_type": "code",
      "metadata": {
        "id": "yWEnYZo7GlmX",
        "colab_type": "code",
        "outputId": "483f75f2-dde9-4dbd-ebea-fe4edb83532a",
        "colab": {
          "base_uri": "https://localhost:8080/",
          "height": 34
        }
      },
      "source": [
        "# Test performance on the entire test set\n",
        "correct = 0\n",
        "total = 0\n",
        "with torch.no_grad():\n",
        "  for data in trainloader_patch:\n",
        "    images, labels = data\n",
        "    outputs = model(images)\n",
        "#     _, predicted = torch.max(outputs, 1)\n",
        "    predicted = outputs > 0.5\n",
        "#     predicted = predicted.view(predicted.size(0))\n",
        "    total += labels.size(0)\n",
        "    matches = 0\n",
        "    for i in range(len(predicted)):\n",
        "      if predicted[i].item() == labels[i].item():\n",
        "        matches += 1\n",
        "    correct += matches#(predicted == labels).sum().item()\n",
        "  print('Accuracy of the network on the entire data set is : %d %%' %(100 * correct/ total))"
      ],
      "execution_count": 0,
      "outputs": [
        {
          "output_type": "stream",
          "text": [
            "Accuracy of the network on the entire data set is : 100 %\n"
          ],
          "name": "stdout"
        }
      ]
    },
    {
      "cell_type": "code",
      "metadata": {
        "id": "AoQpav39Gok3",
        "colab_type": "code",
        "colab": {}
      },
      "source": [
        "# Test performance on the entire test set\n",
        "correct = 0\n",
        "total = 0\n",
        "with torch.no_grad():\n",
        "  for data in testloader_patch:\n",
        "    images, labels = data\n",
        "    outputs = model(images)\n",
        "#     _, predicted = torch.max(outputs, 1)\n",
        "    predicted = outputs > 0.5\n",
        "#     predicted = predicted.view(predicted.size(0))\n",
        "    total += labels.size(0)\n",
        "    matches = 0\n",
        "    for i in range(len(predicted)):\n",
        "      if predicted[i].item() == labels[i].item():\n",
        "        matches += 1\n",
        "    correct += matches#(predicted == labels).sum().item()\n",
        "  print('Accuracy of the network on the entire data set is : %d %%' %(100 * correct/ total))"
      ],
      "execution_count": 0,
      "outputs": []
    },
    {
      "cell_type": "code",
      "metadata": {
        "id": "rkY8xIiLXV6V",
        "colab_type": "code",
        "outputId": "4a213788-9c62-4e0e-afe9-4234b09af7f0",
        "colab": {
          "base_uri": "https://localhost:8080/",
          "height": 778
        }
      },
      "source": [
        "W1 = model.fc1.weight.detach().numpy()\n",
        "W1_reshape = np.reshape(W1, (28, 28))\n",
        "plt.imshow(W1_reshape)\n",
        "plt.colorbar()\n",
        "plt.figure()\n",
        "\n",
        "energy_patch1 = 0\n",
        "energy_total1 = 0\n",
        "\n",
        "for r in range(28):\n",
        "  for c in range(28):\n",
        "      energy_total1 += (W1_reshape[r, c])** 2\n",
        "      if r < 3 and c in [0, 1, 2, 25, 26, 27]:\n",
        "        energy_patch1 += (W1_reshape[r, c])**2\n",
        "\n",
        "# print('Total energy of weight 1 :', energy_total1)\n",
        "# print('Total energy of patches of weight 1 :', energy_patch1)\n",
        "\n",
        "W2 = model.fc2.weight.detach().numpy()\n",
        "W2_reshape = np.reshape(W2, (28, 28))\n",
        "plt.imshow(W2_reshape)\n",
        "plt.colorbar()\n",
        "plt.figure()\n",
        "\n",
        "energy_patch2 = 0\n",
        "energy_total2 = 0\n",
        "\n",
        "for r in range(28):\n",
        "  for c in range(28):\n",
        "      energy_total2 += (W2_reshape[r, c])** 2\n",
        "      if r < 3 and c in [0, 1, 2, 25, 26, 27]:\n",
        "        energy_patch2 += (W2_reshape[r, c])**2\n",
        "\n",
        "# print('Total energy of weight 2 :', energy_total2)\n",
        "# print('Total energy of patches of weight 2 :', energy_patch2)\n",
        "\n",
        "W3 = model.fc3.weight.detach().numpy()\n",
        "W3_reshape = np.reshape(W3, (28, 28))\n",
        "plt.imshow(W3_reshape)\n",
        "plt.colorbar()\n",
        "plt.figure()\n",
        "\n",
        "energy_patch3 = 0\n",
        "energy_total3 = 0\n",
        "\n",
        "for r in range(28):\n",
        "  for c in range(28):\n",
        "      energy_total3 += (W3_reshape[r, c])** 2\n",
        "      if r < 3 and c in [0, 1, 2, 25, 26, 27]:\n",
        "        energy_patch3 += (W3_reshape[r, c])**2\n",
        "\n",
        "# print('Total energy of weight 3 :', energy_total3)\n",
        "# print('Total energy of patches of weight 3 :', energy_patch3)\n",
        "\n",
        "# W4 = model.fc4.weight.detach().numpy()\n",
        "# W4_reshape = np.reshape(W4, (28, 28))\n",
        "# plt.imshow(W4_reshape)\n",
        "# plt.colorbar()\n",
        "# plt.figure()\n",
        "\n",
        "# energy_patch4 = 0\n",
        "# energy_total4 = 0\n",
        "\n",
        "# for r in range(28):\n",
        "#   for c in range(28):\n",
        "#       energy_total4 += (W4_reshape[r, c])** 2\n",
        "#       if r < 3 and c in [0, 1, 2, 25, 26, 27]:\n",
        "#         energy_patch4 += (W4_reshape[r, c])**2\n",
        "\n",
        "# print('Total energy of weight 4 :', energy_total4)\n",
        "# print('Total energy of patches of weight 4 :', energy_patch4)\n",
        "\n",
        "# W5 = model.fc5.weight.detach().numpy()\n",
        "# W5_reshape = np.reshape(W5, (28, 28))\n",
        "# plt.imshow(W5_reshape)\n",
        "# plt.colorbar()\n",
        "# plt.figure()\n",
        "\n",
        "# energy_patch5 = 0\n",
        "# energy_total5 = 0\n",
        "\n",
        "# for r in range(28):\n",
        "#   for c in range(28):\n",
        "#       energy_total5 += (W5_reshape[r, c])** 2\n",
        "#       if r < 3 and c in [0, 1, 2, 25, 26, 27]:\n",
        "#         energy_patch5 += (W5_reshape[r, c])**2\n",
        "\n",
        "# print('Total energy of weight 5 :', energy_total5)\n",
        "# print('Total energy of patches of weight 5 :', energy_patch5)"
      ],
      "execution_count": 110,
      "outputs": [
        {
          "output_type": "display_data",
          "data": {
            "image/png": "[encoded data removed]",
            "text/plain": [
              "<Figure size 432x288 with 2 Axes>"
            ]
          },
          "metadata": {
            "tags": []
          }
        },
        {
          "output_type": "display_data",
          "data": {
            "image/png": "[encoded data removed]",
            "text/plain": [
              "<Figure size 432x288 with 2 Axes>"
            ]
          },
          "metadata": {
            "tags": []
          }
        },
        {
          "output_type": "display_data",
          "data": {
            "image/png": "[encoded data removed]",
            "text/plain": [
              "<Figure size 432x288 with 2 Axes>"
            ]
          },
          "metadata": {
            "tags": []
          }
        },
        {
          "output_type": "display_data",
          "data": {
            "text/plain": [
              "<Figure size 432x288 with 0 Axes>"
            ]
          },
          "metadata": {
            "tags": []
          }
        }
      ]
    },
    {
      "cell_type": "code",
      "metadata": {
        "id": "-eQ47kkgHe3s",
        "colab_type": "code",
        "colab": {}
      },
      "source": [
        "Tabluate the train and test accuracy on the un-patched data for different values of SD (alpha)\n",
        "# train_accuracy = [0.89, 0.86, 0.82, 0.81, 0.69]\n",
        "# test_accuracy = [0.89, 0.85,0.82, 0.80, 0.67]\n",
        "# alphas_ = [1, 100, 150, 200, 500]"
      ],
      "execution_count": 0,
      "outputs": []
    },
    {
      "cell_type": "code",
      "metadata": {
        "id": "zbXm8LwvJ7nP",
        "colab_type": "code",
        "colab": {}
      },
      "source": [
        "# # Choose value of alpha as 2 for further analysis\n",
        "\n",
        "# ### Training on patches (4*4 patch)\n",
        "# train_acc_patch = [1, 1 ,1]\n",
        "# test_acc_patch = [1,1 ,1]\n",
        "# test_acc_patchless = [0.77, 0.68, 0.64]\n",
        "\n",
        "# ### Training on patches (3*3 patch)\n",
        "# train_acc_patch = [1, 1, 1]\n",
        "# test_acc_patch = [1, 1, 1]\n",
        "# test_acc_patchless = [0.75, 0.66, 0.62]"
      ],
      "execution_count": 0,
      "outputs": []
    },
    {
      "cell_type": "code",
      "metadata": {
        "id": "SJ9Rv5xz0BG8",
        "colab_type": "code",
        "colab": {}
      },
      "source": [
        "# for sigma = 0.01, lmbda = 500, accuracy is 67% in 10 epochs"
      ],
      "execution_count": 0,
      "outputs": []
    },
    {
      "cell_type": "code",
      "metadata": {
        "id": "MDI_Tj4OA6aF",
        "colab_type": "code",
        "colab": {}
      },
      "source": [
        "###############GOOD COMINATIONS#################\n",
        "# sigma = 10, lambda - 50, epochs = 15\n",
        "# sigma = 50, lambda - 50, epochs = 20 test acc patchless ~ 0.75, 0.76 is highest\n",
        "####Accuracy seems improve when training more than 2 models?\n",
        "# For 2 models and sigma = 100, lambda = 50 and 25 epochs - 0.79 acc\n",
        "# For 2 models and sigma = 100, lambda = 100 and 25 epochs - .74  acc\n",
        "# For 2 models and sigma = 100, lambda = 10, 25 and 25 epochs - .71  acc\n",
        "\n",
        "#####IMPORTANT OBSERVATIONS#############\n",
        "# Higher values of sigma (say 100) perform better than lower ones (say 0.1)\n",
        "\n",
        "########Tasks#############################\n",
        "# Establish variation of performance with sigma,  lambda and number of classifiers\n",
        "# Performance decreases with increase in sigma?\n"
      ],
      "execution_count": 0,
      "outputs": []
    },
    {
      "cell_type": "code",
      "metadata": {
        "id": "LtTv81A6jI06",
        "colab_type": "code",
        "colab": {}
      },
      "source": [
        "######RESULS########\n",
        "\n",
        "#16 classifiers, Sigma - 50, 30 epochs, lambda 50 -- 0.79 is highest acc (many classifiers have 0.79 accuracy)\n",
        "#16 classifiers, Sigma - 50, 30 epochs, lambda 100 -- 0.77 is highest acc many classifiers have 0.76 accuracy)\n",
        "#16 classifiers, Sigma - 500, 30 epochs, lambda 50 -- 0.76  is highest acc (many classifiers have 0.75-0.76 accuracy)\n",
        "#16 classifiers, Sigma - 100, 30 epochs, lambda 50 --  0.76 is highest acc (many classifiers 0.76 have accuracy)\n",
        "#16 classifiers, Sigma - 50, 30 epochs, lambda 150 -- 0.77 is highest acc (many classifiers have 0.75-0.76 accuracy)\n",
        "#16 classifiers, Sigma - 50, 30 epochs, lambda 100 -- 0.76 is highest acc (many classifiers have 0.75-0.76 accuracy)\n",
        "#16 classifiers, Sigma - 25, 30 epochs, lambda 50 -- 0.77 is highest acc (many classifiers have 0.75 accuracy)"
      ],
      "execution_count": 0,
      "outputs": []
    },
    {
      "cell_type": "code",
      "metadata": {
        "id": "nrotKUhB-jZs",
        "colab_type": "code",
        "colab": {}
      },
      "source": [
        "# RESULTS\n",
        "#16 classifiers, Sigma - 0.01, 20 epochs, lambda 1 -- 0.59 is highest acc (many classifiers have accuracy)\n",
        "#16 classifiers, Sigma - 0.1, 25 epochs, lambda 1 -- 0.60 is highest acc (many classifiers have accuracy)\n",
        "#16 classifiers, Sigma - 1, 12 epochs, lambda 1 -- 0.59 is highest acc (many classifiers have accuracy)\n"
      ],
      "execution_count": 0,
      "outputs": []
    },
    {
      "cell_type": "code",
      "metadata": {
        "id": "UQKNpwc3Do6H",
        "colab_type": "code",
        "colab": {}
      },
      "source": [
        "## For the illumination data\n",
        "# For illumination increase by 150, train and test acc is 1. Test accuracy on non-illumination data is 0.5\n",
        "## On training miultiple linear orthogonal models, test acc. on non-illu data improves by 0.15.\n",
        "# Training 10 models, test acc of majority models on illuminated data is 0.93, one performs with 0.99, that has test acc on non-illum data of 0.53.\n",
        "# Other have an acc. of 0.64.\n",
        "\n",
        "# For illumination increase by 50, train and test acc is 0.99. Test accuracy on non-illumination data is 0.52\n",
        "\n",
        "# For illumination increase by 100, train and test acc is 0.99. Test accuracy on non-illumination data is \n",
        "# For 3 linear models, acc. on non-illuminated data are 0.86, 0.95, 0.86\n",
        "# For these 3 models, acc. on illuminated data are .77, 0.74, 0.77\n"
      ],
      "execution_count": 0,
      "outputs": []
    }
  ]
}