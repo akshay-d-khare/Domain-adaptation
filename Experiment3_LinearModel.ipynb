{
  "nbformat": 4,
  "nbformat_minor": 0,
  "metadata": {
    "colab": {
      "name": "Experiment3_LinearModel.ipynb",
      "provenance": [],
      "collapsed_sections": []
    },
    "kernelspec": {
      "name": "python3",
      "display_name": "Python 3"
    },
    "accelerator": "GPU"
  },
  "cells": [
    {
      "cell_type": "code",
      "metadata": {
        "id": "adnk4VUAYtIg",
        "colab_type": "code",
        "colab": {}
      },
      "source": [
        "# Experiment 3 \n",
        "# Linear Classifier (no hidden layer)\n",
        "# Develop two orthogonal classifiers\n",
        "\n",
        "# Observations\n",
        "# Linear model with absolute dot product custom loss (2 classifiers)\n",
        "\n",
        "# For 0 vs. 1:\n",
        "# For a fairly big white patch (say larger than 4*4, o.w. random classification on patches), as the size of the patch increases, the accuracy on digits reduces and that on the patches remains 100%. \n",
        "# If the labels reversed for the patch, accuracy is 0 as expected.\n",
        "\n",
        "# For odd vs. even:\n",
        "# In this case, the classifiers don’t learn the patches pattern well (49% accuracy). Instead, the classifiers learn the digits better with the accuracy on the digits data \n",
        "# goes down as compared to 0 v. 1 classification. This applies to training only a single model.\n",
        "# In case of two models (with the custom loss), neither the digits nor the patches are learned well.\n",
        "\n",
        "# Linear model with log absolute dot product custom loss (2 classifiers)\n"
      ],
      "execution_count": 0,
      "outputs": []
    },
    {
      "cell_type": "code",
      "metadata": {
        "id": "XEf3OcwYCZe-",
        "colab_type": "code",
        "colab": {}
      },
      "source": [
        "import numpy as np\n",
        "import torch\n",
        "import torchvision\n",
        "import torchvision.transforms as transforms"
      ],
      "execution_count": 0,
      "outputs": []
    },
    {
      "cell_type": "code",
      "metadata": {
        "id": "M8nG3MsxYzkq",
        "colab_type": "code",
        "colab": {}
      },
      "source": [
        "transform = transforms.Compose([transforms.ToTensor(), transforms.Normalize((0.5, ), (0.5, ))])\n",
        "\n",
        "trainset = torchvision.datasets.MNIST(root = './data', train = True, download = True, transform = transform)\n",
        "\n",
        "testset = torchvision.datasets.MNIST(root = './data', train = False, download = True, transform = transform)\n",
        "\n",
        "testset1 = torchvision.datasets.MNIST(root = './data', train = False, download = True, transform = transform)\n",
        "\n",
        "#testset2 = torchvision.datasets.MNIST(root = './data', train = False, download = True, transform = transform)"
      ],
      "execution_count": 0,
      "outputs": []
    },
    {
      "cell_type": "code",
      "metadata": {
        "id": "yyRO8ThPYzb-",
        "colab_type": "code",
        "colab": {}
      },
      "source": [
        "# ###### ONE VERSUS ZERO######\n",
        "\n",
        "indx_train = trainset.targets < 2\n",
        "indx_test = testset.targets < 2\n",
        "indx_test1 = testset1.targets < 2\n",
        "\n",
        "\n",
        "trainset.data = trainset.data[indx_train]\n",
        "trainset.targets = trainset.targets[indx_train]\n",
        "testset.data = testset.data[indx_test]\n",
        "testset.targets = testset.targets[indx_test]\n",
        "testset1.data = testset1.data[indx_test1]\n",
        "testset1.targets = testset1.targets[indx_test1]\n",
        "\n",
        "\n",
        "indx0_train = np.where(trainset.targets % 2 == 0)[0].tolist()\n",
        "indx1_train = np.where(trainset.targets % 2 != 0)[0].tolist()\n",
        "\n",
        "# Left patch for zero\n",
        "for ind in indx0_train:\n",
        "  for i in range(28):\n",
        "    for j in range(10):\n",
        "      trainset.data[ind][i, j] = 255\n",
        "\n",
        "# Right patch for one\n",
        "for ind in indx1_train:\n",
        "  for i in range(28):\n",
        "    for j in range(18, 28):  \n",
        "      trainset.data[ind][i, j] = 255\n",
        "\n",
        "# Testset1 if black images with the patch noise; right patch for odd, left for even\n",
        "for indx in range(len(testset1)):\n",
        "  if testset1.targets[indx].item() % 2 == 0:\n",
        "    testset1.data[indx] = testset1.data[indx] * 0\n",
        "    for i in range(28):\n",
        "      for j in range(10):\n",
        "        testset1.data[indx][i, j] = 255\n",
        "  else:\n",
        "    testset1.data[indx] = testset1.data[indx] * 0\n",
        "    for i in range(28):\n",
        "      for j in range(18, 28):\n",
        "        testset1.data[indx][i, j] = 255"
      ],
      "execution_count": 0,
      "outputs": []
    },
    {
      "cell_type": "code",
      "metadata": {
        "id": "WeZ7hfjbuJiV",
        "colab_type": "code",
        "colab": {}
      },
      "source": [
        "##########EVEN (1) VERSUS ODD (0) ###########\n",
        "\n",
        "# Change labels; 0 for odd and 1 for even\n",
        "for i in range(len(trainset)):\n",
        "  if trainset.targets[i].item() % 2 == 0:\n",
        "    trainset.targets[i] = 1\n",
        "  else:\n",
        "    trainset.targets[i] = 0\n",
        "    \n",
        "for i in range(len(testset)):\n",
        "  if testset.targets[i].item() % 2 == 0:\n",
        "    testset.targets[i] = 1\n",
        "  else:\n",
        "    testset.targets[i] = 0    \n",
        "\n",
        "# Right patch for odd and left patch for even    \n",
        "indxo_train = np.where(trainset.targets == 0)[0].tolist()\n",
        "indxe_train = np.where(trainset.targets == 1)[0].tolist()\n",
        "\n",
        "for ind in indxe_train:\n",
        "  for i in range(28):\n",
        "    for j in range(10):\n",
        "      trainset.data[ind][i, j] = 255\n",
        "\n",
        "for ind in indxo_train:\n",
        "  for i in range(28):\n",
        "    for j in range(18, 28):  \n",
        "      trainset.data[ind][i, j] = 255\n",
        "\n",
        "# Testset1 if black images with the patch noise; right patch for odd, left for even\n",
        "for indx in range(len(testset1)):\n",
        "  if testset1.targets[indx].item() % 2 == 0:\n",
        "    testset1.targets[indx] = 1\n",
        "    testset1.data[indx] = testset1.data[indx] * 0\n",
        "    for i in range(28):\n",
        "      for j in range(10):\n",
        "        testset1.data[indx][i, j] = 255\n",
        "  else:\n",
        "    testset1.targets[i] = 0    \n",
        "    testset1.data[indx] = testset1.data[indx] * 0\n",
        "    for i in range(28):\n",
        "      for j in range(18, 28):\n",
        "        testset1.data[indx][i, j] = 255"
      ],
      "execution_count": 0,
      "outputs": []
    },
    {
      "cell_type": "code",
      "metadata": {
        "id": "DcCzC-t0eA0O",
        "colab_type": "code",
        "outputId": "a570da69-d795-425b-f4bb-ec04953fdc1d",
        "colab": {
          "base_uri": "https://localhost:8080/",
          "height": 731
        }
      },
      "source": [
        "import matplotlib.pyplot as plt\n",
        "import numpy as np\n",
        "\n",
        "# Plot random train and test images\n",
        "\n",
        "# Training images\n",
        "fig, axes = plt.subplots(2, 3, figsize=(9, 4),\n",
        "                         subplot_kw={'xticks':[], 'yticks':[]},\n",
        "                         gridspec_kw=dict(hspace=0.1, wspace=0.1))\n",
        "for i, ax in zip([1, 115, 460, 212, 130, 10020], axes.flat):\n",
        "    ax.imshow(trainset.data[i], cmap='bone')\n",
        "    \n",
        "# Test images without patch \n",
        "fig, axes = plt.subplots(2, 3, figsize=(9, 4),\n",
        "                         subplot_kw={'xticks':[], 'yticks':[]},\n",
        "                         gridspec_kw=dict(hspace=0.1, wspace=0.1))\n",
        "for i, ax in zip([201, 115, 1500, 212, 130, 122], axes.flat):\n",
        "    ax.imshow(testset.data[i], cmap='bone')  \n",
        "\n",
        "# Test images with only patch \n",
        "fig, axes = plt.subplots(2, 3, figsize=(9, 4),\n",
        "                         subplot_kw={'xticks':[], 'yticks':[]},\n",
        "                         gridspec_kw=dict(hspace=0.1, wspace=0.1))\n",
        "for i, ax in zip([201, 115, 1500, 212, 130, 122], axes.flat):\n",
        "    ax.imshow(testset1.data[i], cmap='bone')  \n",
        "    \n",
        "    \n",
        "    "
      ],
      "execution_count": 5,
      "outputs": [
        {
          "output_type": "display_data",
          "data": {
            "image/png": "[encoded data removed]",
            "text/plain": [
              "<Figure size 648x288 with 6 Axes>"
            ]
          },
          "metadata": {
            "tags": []
          }
        },
        {
          "output_type": "display_data",
          "data": {
            "image/png": "[encoded data removed]",
            "text/plain": [
              "<Figure size 648x288 with 6 Axes>"
            ]
          },
          "metadata": {
            "tags": []
          }
        },
        {
          "output_type": "display_data",
          "data": {
            "image/png": "[encoded data removed]",
            "text/plain": [
              "<Figure size 648x288 with 6 Axes>"
            ]
          },
          "metadata": {
            "tags": []
          }
        }
      ]
    },
    {
      "cell_type": "code",
      "metadata": {
        "id": "gn1k8YzbZEAc",
        "colab_type": "code",
        "colab": {}
      },
      "source": [
        "# Assign data to data loader\n",
        "\n",
        "trainloader = torch.utils.data.DataLoader(trainset, batch_size = 64, shuffle = True, num_workers = 2)\n",
        "\n",
        "testloader = torch.utils.data.DataLoader(testset, batch_size = 64, shuffle = False, num_workers = 2)\n",
        "\n",
        "testloader1 = torch.utils.data.DataLoader(testset1, batch_size = 64, shuffle = False, num_workers = 2)"
      ],
      "execution_count": 0,
      "outputs": []
    },
    {
      "cell_type": "code",
      "metadata": {
        "id": "BJG4lXVNZYrt",
        "colab_type": "code",
        "colab": {}
      },
      "source": [
        "import torch.nn as nn\n",
        "import torch.nn.functional as F\n",
        "\n",
        "class linear_model(nn.Module):\n",
        "  def __init__(self):\n",
        "    super(linear_model, self).__init__()\n",
        "    self.fc1 = nn.Linear(28*28, 1)\n",
        "    self.fc2 = nn.Linear(28*28, 1)\n",
        "    \n",
        "  def forward(self, x):\n",
        "    x = x.view(-1, 28*28)\n",
        "    x1 = torch.sigmoid(self.fc1(x))\n",
        "    x2 = torch.sigmoid(self.fc2(x))\n",
        "    \n",
        "    return x1, x2\n",
        "  \n",
        "model = linear_model()  "
      ],
      "execution_count": 0,
      "outputs": []
    },
    {
      "cell_type": "code",
      "metadata": {
        "id": "V_earDziniOm",
        "colab_type": "code",
        "colab": {}
      },
      "source": [
        "# Define loss function and optimizer\n",
        "import torch.optim as optim\n",
        "\n",
        "loss_function = nn.BCELoss(reduction = 'mean')\n",
        "\n",
        "optimizer = optim.Adam(model.parameters(), lr = 0.001)\n",
        "\n",
        "# def custom_loss(mat1, mat2):\n",
        "#   # Absolute dot product of weights\n",
        "#   #l = torch.abs(torch.mm(mat1, mat2.t()))\n",
        "#   # Sum of squared difference between weights\n",
        "#   #l = torch.sum((mat1 - mat2)*(mat1 - mat2))\n",
        "#   # Log-absolute dot product of weights\n",
        "#   l = torch.log(torch.abs(torch.mm(mat1, mat2.t())))\n",
        "#   return l\n",
        "\n",
        "class custom_loss(torch.nn.Module):\n",
        "\n",
        "  def __init__(self):\n",
        "    super(custom_loss,self).__init__()\n",
        "\n",
        "  def forward(self, mat1, mat2):\n",
        "  # Absolute dot product of weights\n",
        "    l = torch.abs(torch.mm(mat1, mat2.t()))\n",
        "  # Sum of squared difference between weights\n",
        "#    l = torch.sum((mat1 - mat2)*(mat1 - mat2))\n",
        "    return l\n",
        "\n",
        "sl = custom_loss()    "
      ],
      "execution_count": 0,
      "outputs": []
    },
    {
      "cell_type": "code",
      "metadata": {
        "id": "yaqmKDhSn1rI",
        "colab_type": "code",
        "outputId": "a19dfcb3-5dc4-4ffe-8ea1-c9253f04a431",
        "colab": {
          "base_uri": "https://localhost:8080/",
          "height": 275
        }
      },
      "source": [
        "n_epochs = 10\n",
        "lmbda = 0.75\n",
        "\n",
        "for epochs in range(n_epochs):\n",
        " \n",
        "  running_loss = 0\n",
        "  \n",
        "  for batch in trainloader:\n",
        "    data, targets = batch\n",
        "    \n",
        "    optimizer.zero_grad()\n",
        "    \n",
        "    output1, output2  = model(data)\n",
        "    \n",
        "    loss = loss_function(output1 , targets.float()) + loss_function(output2, targets.float())  + lmbda * sl.forward(model.fc1.weight, model.fc2.weight)\n",
        "    \n",
        "    loss.backward()\n",
        "    \n",
        "    optimizer.step()\n",
        "    \n",
        "#     print(model.fc1.weight)\n",
        "#     print(model.fc2.weight)\n",
        "\n",
        "    running_loss += loss.item()\n",
        "  print(running_loss)    "
      ],
      "execution_count": 37,
      "outputs": [
        {
          "output_type": "stream",
          "text": [
            "/usr/local/lib/python3.6/dist-packages/torch/nn/modules/loss.py:512: UserWarning: Using a target size (torch.Size([64])) that is different to the input size (torch.Size([64, 1])) is deprecated. Please ensure they have the same size.\n",
            "  return F.binary_cross_entropy(input, target, weight=self.weight, reduction=self.reduction)\n"
          ],
          "name": "stderr"
        },
        {
          "output_type": "stream",
          "text": [
            "1.499555246467935\n"
          ],
          "name": "stdout"
        },
        {
          "output_type": "stream",
          "text": [
            "/usr/local/lib/python3.6/dist-packages/torch/nn/modules/loss.py:512: UserWarning: Using a target size (torch.Size([32])) that is different to the input size (torch.Size([32, 1])) is deprecated. Please ensure they have the same size.\n",
            "  return F.binary_cross_entropy(input, target, weight=self.weight, reduction=self.reduction)\n"
          ],
          "name": "stderr"
        },
        {
          "output_type": "stream",
          "text": [
            "1.4586977515937178\n",
            "1.3070891713141464\n",
            "1.5460873328629532\n",
            "1.4083360830700258\n",
            "1.3895689551936812\n",
            "1.2406812926201383\n",
            "1.5231380978657398\n",
            "1.3492382352633285\n",
            "1.3274478768216795\n"
          ],
          "name": "stdout"
        }
      ]
    },
    {
      "cell_type": "code",
      "metadata": {
        "id": "vw70O2IwtZRQ",
        "colab_type": "code",
        "outputId": "c324258b-73bc-4ca1-8389-7dd6c2877fe1",
        "colab": {
          "base_uri": "https://localhost:8080/",
          "height": 34
        }
      },
      "source": [
        "# Test performance on the entire test set\n",
        "correct = 0\n",
        "total = 0\n",
        "with torch.no_grad():\n",
        "  for data in testloader:\n",
        "    images, labels = data\n",
        "    outputs = model(images)\n",
        "#    _, predicted = torch.max(outputs, 1)\n",
        "    predicted = outputs[1] > 0.5\n",
        "#   predicted = predicted.view(predicted.size(0))\n",
        "    total += labels.size(0)\n",
        "    matches = 0\n",
        "    for i in range(len(predicted)):\n",
        "      if predicted[i].item() == labels[i].item():\n",
        "        matches += 1\n",
        "    correct += matches#(predicted == labels).sum().item()\n",
        "  print('Accuracy of the network on the entire data set is : %d %%' %(100 * correct/ total))"
      ],
      "execution_count": 41,
      "outputs": [
        {
          "output_type": "stream",
          "text": [
            "Accuracy of the network on the entire data set is : 50 %\n"
          ],
          "name": "stdout"
        }
      ]
    },
    {
      "cell_type": "code",
      "metadata": {
        "id": "ynBtC5Pz5hgQ",
        "colab_type": "code",
        "outputId": "4c1d1a3f-af69-490b-bfd7-e6b2ae2499b2",
        "colab": {
          "base_uri": "https://localhost:8080/",
          "height": 34
        }
      },
      "source": [
        "# Compute the similarity between the weight vectors\n",
        "sl(model.fc1.weight, model.fc2.weight)"
      ],
      "execution_count": 0,
      "outputs": [
        {
          "output_type": "execute_result",
          "data": {
            "text/plain": [
              "tensor([[0.0208]], grad_fn=<AbsBackward>)"
            ]
          },
          "metadata": {
            "tags": []
          },
          "execution_count": 185
        }
      ]
    }
  ]
}