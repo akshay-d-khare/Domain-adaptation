{
  "nbformat": 4,
  "nbformat_minor": 0,
  "metadata": {
    "colab": {
      "name": "Experiment3_LinearModel.ipynb",
      "provenance": [],
      "collapsed_sections": []
    },
    "kernelspec": {
      "name": "python3",
      "display_name": "Python 3"
    },
    "accelerator": "GPU"
  },
  "cells": [
    {
      "cell_type": "code",
      "metadata": {
        "id": "adnk4VUAYtIg",
        "colab_type": "code",
        "colab": {}
      },
      "source": [
        "# Experiment 3 \n",
        "# Linear Classifier (no hidden layer)\n",
        "# Develop two orthogonal classifiers\n",
        "\n",
        "# Observations\n",
        "# Linear model with absolute dot product custom loss (2 classifiers)\n",
        "\n",
        "# For 0 vs. 1:\n",
        "# For a fairly big white patch (say larger than 4*4, o.w. random classification on patches), as the size of the patch increases, the accuracy on digits reduces and that on the patches remains 100%. \n",
        "# If the labels reversed for the patch, accuracy is 0 as expected.\n",
        "\n",
        "# For odd vs. even:\n",
        "# In this case, the classifiers don’t learn the patches pattern well (49% accuracy). Instead, the classifiers learn the digits better with the accuracy on the digits data \n",
        "# goes down as compared to 0 v. 1 classification. This applies to training only a single model.\n",
        "# In case of two models (with the custom loss), neither the digits nor the patches are learned well.\n",
        "\n",
        "# Linear model with log absolute dot product custom loss (2 classifiers)\n"
      ],
      "execution_count": 0,
      "outputs": []
    },
    {
      "cell_type": "code",
      "metadata": {
        "id": "XEf3OcwYCZe-",
        "colab_type": "code",
        "colab": {}
      },
      "source": [
        "import numpy as np\n",
        "import torch\n",
        "import torchvision\n",
        "import torchvision.transforms as transforms"
      ],
      "execution_count": 0,
      "outputs": []
    },
    {
      "cell_type": "code",
      "metadata": {
        "id": "M8nG3MsxYzkq",
        "colab_type": "code",
        "colab": {
          "base_uri": "https://localhost:8080/",
          "height": 255
        },
        "outputId": "3e1a09f0-da43-440f-ed89-b7161fb93b9f"
      },
      "source": [
        "transform = transforms.Compose([transforms.ToTensor(), transforms.Normalize((0.5, ), (0.5, ))])\n",
        "\n",
        "trainset = torchvision.datasets.MNIST(root = './data', train = True, download = True, transform = transform)\n",
        "\n",
        "testset = torchvision.datasets.MNIST(root = './data', train = False, download = True, transform = transform)\n",
        "\n",
        "testset1 = torchvision.datasets.MNIST(root = './data', train = False, download = True, transform = transform)\n",
        "\n",
        "#testset2 = torchvision.datasets.MNIST(root = './data', train = False, download = True, transform = transform)"
      ],
      "execution_count": 2,
      "outputs": [
        {
          "output_type": "stream",
          "text": [
            "\r0it [00:00, ?it/s]"
          ],
          "name": "stderr"
        },
        {
          "output_type": "stream",
          "text": [
            "Downloading http://yann.lecun.com/exdb/mnist/train-images-idx3-ubyte.gz to ./data/MNIST/raw/train-images-idx3-ubyte.gz\n"
          ],
          "name": "stdout"
        },
        {
          "output_type": "stream",
          "text": [
            "9920512it [00:01, 8533021.94it/s]                            \n"
          ],
          "name": "stderr"
        },
        {
          "output_type": "stream",
          "text": [
            "Extracting ./data/MNIST/raw/train-images-idx3-ubyte.gz to ./data/MNIST/raw\n"
          ],
          "name": "stdout"
        },
        {
          "output_type": "stream",
          "text": [
            "  0%|          | 0/28881 [00:00<?, ?it/s]"
          ],
          "name": "stderr"
        },
        {
          "output_type": "stream",
          "text": [
            "Downloading http://yann.lecun.com/exdb/mnist/train-labels-idx1-ubyte.gz to ./data/MNIST/raw/train-labels-idx1-ubyte.gz\n"
          ],
          "name": "stdout"
        },
        {
          "output_type": "stream",
          "text": [
            "32768it [00:00, 135673.17it/s]           \n",
            "  0%|          | 0/1648877 [00:00<?, ?it/s]"
          ],
          "name": "stderr"
        },
        {
          "output_type": "stream",
          "text": [
            "Extracting ./data/MNIST/raw/train-labels-idx1-ubyte.gz to ./data/MNIST/raw\n",
            "Downloading http://yann.lecun.com/exdb/mnist/t10k-images-idx3-ubyte.gz to ./data/MNIST/raw/t10k-images-idx3-ubyte.gz\n"
          ],
          "name": "stdout"
        },
        {
          "output_type": "stream",
          "text": [
            "1654784it [00:00, 2213397.98it/s]                            \n",
            "0it [00:00, ?it/s]"
          ],
          "name": "stderr"
        },
        {
          "output_type": "stream",
          "text": [
            "Extracting ./data/MNIST/raw/t10k-images-idx3-ubyte.gz to ./data/MNIST/raw\n",
            "Downloading http://yann.lecun.com/exdb/mnist/t10k-labels-idx1-ubyte.gz to ./data/MNIST/raw/t10k-labels-idx1-ubyte.gz\n"
          ],
          "name": "stdout"
        },
        {
          "output_type": "stream",
          "text": [
            "8192it [00:00, 51084.95it/s]            \n"
          ],
          "name": "stderr"
        },
        {
          "output_type": "stream",
          "text": [
            "Extracting ./data/MNIST/raw/t10k-labels-idx1-ubyte.gz to ./data/MNIST/raw\n",
            "Processing...\n",
            "Done!\n"
          ],
          "name": "stdout"
        }
      ]
    },
    {
      "cell_type": "code",
      "metadata": {
        "id": "yyRO8ThPYzb-",
        "colab_type": "code",
        "colab": {}
      },
      "source": [
        "# # ###### ONE VERSUS ZERO######\n",
        "\n",
        "# indx_train = trainset.targets < 2\n",
        "# indx_test = testset.targets < 2\n",
        "# indx_test1 = testset1.targets < 2\n",
        "\n",
        "\n",
        "# trainset.data = trainset.data[indx_train]\n",
        "# trainset.targets = trainset.targets[indx_train]\n",
        "# testset.data = testset.data[indx_test]\n",
        "# testset.targets = testset.targets[indx_test]\n",
        "# testset1.data = testset1.data[indx_test1]\n",
        "# testset1.targets = testset1.targets[indx_test1]\n",
        "\n",
        "\n",
        "# indx0_train = np.where(trainset.targets % 2 == 0)[0].tolist()\n",
        "# indx1_train = np.where(trainset.targets % 2 != 0)[0].tolist()\n",
        "\n",
        "# # Left patch for zero\n",
        "# for ind in indx0_train:\n",
        "#   for i in range(28):\n",
        "#     for j in range(10):\n",
        "#       trainset.data[ind][i, j] = 255\n",
        "\n",
        "# # Right patch for one\n",
        "# for ind in indx1_train:\n",
        "#   for i in range(28):\n",
        "#     for j in range(18, 28):  \n",
        "#       trainset.data[ind][i, j] = 255\n",
        "\n",
        "# # Testset1 if black images with the patch noise; right patch for odd, left for even\n",
        "# for indx in range(len(testset1)):\n",
        "#   if testset1.targets[indx].item() % 2 == 0:\n",
        "#     testset1.data[indx] = testset1.data[indx] * 0\n",
        "#     for i in range(28):\n",
        "#       for j in range(10):\n",
        "#         testset1.data[indx][i, j] = 255\n",
        "#   else:\n",
        "#     testset1.data[indx] = testset1.data[indx] * 0\n",
        "#     for i in range(28):\n",
        "#       for j in range(18, 28):\n",
        "#         testset1.data[indx][i, j] = 255"
      ],
      "execution_count": 0,
      "outputs": []
    },
    {
      "cell_type": "code",
      "metadata": {
        "id": "WeZ7hfjbuJiV",
        "colab_type": "code",
        "colab": {}
      },
      "source": [
        "##########EVEN (1) VERSUS ODD (0) ###########\n",
        "\n",
        "# Replace odd targets by 1\n",
        "trainset.targets[np.where(trainset.targets % 2 != 0)[0].tolist()] = 1   \n",
        "\n",
        "# Replace even targets by 0\n",
        "trainset.targets[np.where(trainset.targets % 2 == 0)[0].tolist()] = 0   \n",
        "\n",
        "# Replace odd targets by 1\n",
        "testset.targets[np.where(testset.targets % 2 != 0)[0].tolist()] = 1   \n",
        "\n",
        "# Replace even targets by 0\n",
        "testset.targets[np.where(testset.targets % 2 == 0)[0].tolist()] = 0   \n",
        "\n",
        "# Replace odd targets by 1\n",
        "testset1.targets[np.where(testset1.targets % 2 != 0)[0].tolist()] = 1   \n",
        "\n",
        "# Replace even targets by 0\n",
        "testset1.targets[np.where(testset1.targets % 2 == 0)[0].tolist()] = 0   \n",
        "\n",
        "# Right patch for even and left patch for odd    \n",
        "indxe_train = np.where(trainset.targets == 0)[0].tolist()\n",
        "indxo_train = np.where(trainset.targets == 1)[0].tolist()\n",
        "\n",
        "for ind in indxo_train:\n",
        "  for i in range(28):\n",
        "    for j in range(4):\n",
        "      trainset.data[ind][i, j] = 255\n",
        "\n",
        "for ind in indxe_train:\n",
        "  for i in range(28):\n",
        "    for j in range(24, 28):  \n",
        "      trainset.data[ind][i, j] = 255\n",
        "\n",
        "# Testset1 if black images with the patch noise; right patch for odd, left for even\n",
        "for indx in range(len(testset1)):\n",
        "  testset1.data[indx] = testset1.data[indx] * 0\n",
        "  if testset1.targets[indx].item() == 1:\n",
        "    for i in range(28):\n",
        "      for j in range(4):\n",
        "        testset1.data[indx][i, j] = 255\n",
        "  else:\n",
        "    for i in range(28):\n",
        "      for j in range(24, 28):\n",
        "        testset1.data[indx][i, j] = 255"
      ],
      "execution_count": 0,
      "outputs": []
    },
    {
      "cell_type": "code",
      "metadata": {
        "id": "DcCzC-t0eA0O",
        "colab_type": "code",
        "outputId": "b2d1efc8-3fe5-472f-a6b0-7e71ba54b229",
        "colab": {
          "base_uri": "https://localhost:8080/",
          "height": 731
        }
      },
      "source": [
        "import matplotlib.pyplot as plt\n",
        "import numpy as np\n",
        "\n",
        "# Plot random train and test images\n",
        "\n",
        "# Training images\n",
        "fig, axes = plt.subplots(2, 3, figsize=(9, 4),\n",
        "                         subplot_kw={'xticks':[], 'yticks':[]},\n",
        "                         gridspec_kw=dict(hspace=0.1, wspace=0.1))\n",
        "for i, ax in zip([1, 115, 460, 212, 130, 10020], axes.flat):\n",
        "    ax.imshow(trainset.data[i], cmap='bone')\n",
        "    \n",
        "# Test images without patch \n",
        "fig, axes = plt.subplots(2, 3, figsize=(9, 4),\n",
        "                         subplot_kw={'xticks':[], 'yticks':[]},\n",
        "                         gridspec_kw=dict(hspace=0.1, wspace=0.1))\n",
        "for i, ax in zip([201, 115, 1500, 212, 130, 122], axes.flat):\n",
        "    ax.imshow(testset.data[i], cmap='bone')  \n",
        "\n",
        "# Test images with only patch \n",
        "fig, axes = plt.subplots(2, 3, figsize=(9, 4),\n",
        "                         subplot_kw={'xticks':[], 'yticks':[]},\n",
        "                         gridspec_kw=dict(hspace=0.1, wspace=0.1))\n",
        "for i, ax in zip([201, 115, 1500, 212, 130, 122], axes.flat):\n",
        "    ax.imshow(testset1.data[i], cmap='bone')  \n",
        "    \n",
        "    \n",
        "    "
      ],
      "execution_count": 4,
      "outputs": [
        {
          "output_type": "display_data",
          "data": {
            "image/png": "[encoded data removed]",
            "text/plain": [
              "<Figure size 648x288 with 6 Axes>"
            ]
          },
          "metadata": {
            "tags": []
          }
        },
        {
          "output_type": "display_data",
          "data": {
            "image/png": "[encoded data removed]",
            "text/plain": [
              "<Figure size 648x288 with 6 Axes>"
            ]
          },
          "metadata": {
            "tags": []
          }
        },
        {
          "output_type": "display_data",
          "data": {
            "image/png": "[encoded data removed]",
            "text/plain": [
              "<Figure size 648x288 with 6 Axes>"
            ]
          },
          "metadata": {
            "tags": []
          }
        }
      ]
    },
    {
      "cell_type": "code",
      "metadata": {
        "id": "gn1k8YzbZEAc",
        "colab_type": "code",
        "colab": {}
      },
      "source": [
        "# Assign data to data loader\n",
        "\n",
        "trainloader = torch.utils.data.DataLoader(trainset, batch_size = 64, shuffle = True, num_workers = 2)\n",
        "\n",
        "testloader = torch.utils.data.DataLoader(testset, batch_size = 64, shuffle = False, num_workers = 2)\n",
        "\n",
        "testloader1 = torch.utils.data.DataLoader(testset1, batch_size = 64, shuffle = False, num_workers = 2)"
      ],
      "execution_count": 0,
      "outputs": []
    },
    {
      "cell_type": "code",
      "metadata": {
        "id": "BJG4lXVNZYrt",
        "colab_type": "code",
        "colab": {}
      },
      "source": [
        "import torch.nn as nn\n",
        "import torch.nn.functional as F\n",
        "\n",
        "class linear_model(nn.Module):\n",
        "  def __init__(self):\n",
        "    super(linear_model, self).__init__()\n",
        "    self.fc1 = nn.Linear(28*28, 1)\n",
        "    self.fc2 = nn.Linear(28*28, 1)\n",
        "    self.fc3 = nn.Linear(28*28, 1)\n",
        "    \n",
        "  def forward(self, x):\n",
        "    x = x.view(-1, 28*28)\n",
        "    x1 = torch.sigmoid(self.fc1(x))\n",
        "    x2 = torch.sigmoid(self.fc2(x))\n",
        "    x3 = torch.sigmoid(self.fc3(x))\n",
        "    \n",
        "    return x1, x2, x3\n",
        "  \n",
        "model = linear_model()  "
      ],
      "execution_count": 0,
      "outputs": []
    },
    {
      "cell_type": "code",
      "metadata": {
        "id": "V_earDziniOm",
        "colab_type": "code",
        "colab": {}
      },
      "source": [
        "# Define loss function and optimizer\n",
        "import torch.optim as optim\n",
        "\n",
        "loss_function = nn.BCELoss(reduction = 'mean')\n",
        "\n",
        "optimizer = optim.Adam(model.parameters(), lr = 0.001)\n",
        "\n",
        "# def custom_loss(mat1, mat2):\n",
        "#   # Absolute dot product of weights\n",
        "#   #l = torch.abs(torch.mm(mat1, mat2.t()))\n",
        "#   # Sum of squared difference between weights\n",
        "#   #l = torch.sum((mat1 - mat2)*(mat1 - mat2))\n",
        "#   # Log-absolute dot product of weights\n",
        "#   l = torch.log(torch.abs(torch.mm(mat1, mat2.t())))\n",
        "#   return l\n",
        "\n",
        "class custom_loss(torch.nn.Module):\n",
        "\n",
        "  def __init__(self):\n",
        "    super(custom_loss,self).__init__()\n",
        "\n",
        "  def forward(self, mat1, mat2):\n",
        "  # Absolute dot product of weights\n",
        "    l = (torch.mm(mat1, mat2.t()))**2\n",
        "  # Sum of squared difference between weights\n",
        "#    l = torch.sum((mat1 - mat2)*(mat1 - mat2))\n",
        "    return l\n",
        "\n",
        "sl = custom_loss()    "
      ],
      "execution_count": 0,
      "outputs": []
    },
    {
      "cell_type": "code",
      "metadata": {
        "id": "yaqmKDhSn1rI",
        "colab_type": "code",
        "outputId": "9ddc7043-cf75-497a-8d63-2166b2eba5e8",
        "colab": {
          "base_uri": "https://localhost:8080/",
          "height": 275
        }
      },
      "source": [
        "n_epochs = 10\n",
        "lmbda = 0.01\n",
        "\n",
        "\n",
        "for epochs in range(n_epochs):\n",
        " \n",
        "  running_loss = 0\n",
        "  \n",
        "  for batch in trainloader:\n",
        "    data, targets = batch\n",
        "    \n",
        "    optimizer.zero_grad()\n",
        "    \n",
        "    output1, output2, output3  = model(data)\n",
        "    \n",
        "    loss = loss_function(output1 , targets.float()) + loss_function(output2, targets.float()) + loss_function(output3, targets.float()) + \\\n",
        "    lmbda * sl.forward(model.fc1.weight, model.fc2.weight) + lmbda * sl.forward(model.fc1.weight, model.fc3.weight) + \\\n",
        "    lmbda * sl.forward(model.fc2.weight, model.fc3.weight)\n",
        "    \n",
        "    loss.backward()\n",
        "    \n",
        "    optimizer.step()\n",
        "    \n",
        "#     print(model.fc1.weight)\n",
        "#     print(model.fc2.weight)\n",
        "\n",
        "    running_loss += loss.item()\n",
        "  print(running_loss)    "
      ],
      "execution_count": 189,
      "outputs": [
        {
          "output_type": "stream",
          "text": [
            "/usr/local/lib/python3.6/dist-packages/torch/nn/modules/loss.py:498: UserWarning: Using a target size (torch.Size([64])) that is different to the input size (torch.Size([64, 1])) is deprecated. Please ensure they have the same size.\n",
            "  return F.binary_cross_entropy(input, target, weight=self.weight, reduction=self.reduction)\n"
          ],
          "name": "stderr"
        },
        {
          "output_type": "stream",
          "text": [
            "14.49351519549964\n"
          ],
          "name": "stdout"
        },
        {
          "output_type": "stream",
          "text": [
            "/usr/local/lib/python3.6/dist-packages/torch/nn/modules/loss.py:498: UserWarning: Using a target size (torch.Size([32])) that is different to the input size (torch.Size([32, 1])) is deprecated. Please ensure they have the same size.\n",
            "  return F.binary_cross_entropy(input, target, weight=self.weight, reduction=self.reduction)\n"
          ],
          "name": "stderr"
        },
        {
          "output_type": "stream",
          "text": [
            "0.4715794100338826\n",
            "0.14111580298049375\n",
            "0.06386977716829279\n",
            "0.03370052284662961\n",
            "0.019124530671433604\n",
            "0.01129008734733361\n",
            "0.006818045173531573\n",
            "0.004173738396275439\n",
            "0.0025749899436959822\n"
          ],
          "name": "stdout"
        }
      ]
    },
    {
      "cell_type": "code",
      "metadata": {
        "id": "ZMDv3c-TSl6b",
        "colab_type": "code",
        "outputId": "72371a11-f9c3-4504-9f03-8bbbf7824cc2",
        "colab": {
          "base_uri": "https://localhost:8080/",
          "height": 1000
        }
      },
      "source": [
        "W1 = model.fc1.weight.detach().numpy()\n",
        "W1_reshape = np.reshape(W1, (28, 28))\n",
        "plt.imshow(W1_reshape)\n",
        "plt.figure()\n",
        "\n",
        "W2 = model.fc2.weight.detach().numpy()\n",
        "W2_reshape = np.reshape(W2, (28, 28))\n",
        "plt.imshow(W2_reshape)\n",
        "plt.figure()\n",
        "\n",
        "X_0 = np.concatenate([np.ones((28, 6)), np.zeros((28, 22))], axis = 1)\n",
        "plt.imshow(X_0)\n",
        "plt.figure()\n",
        "\n",
        "X_1 = np.concatenate([np.zeros((28, 22)), np.ones((28, 6))], axis = 1)\n",
        "plt.imshow(X_1)\n",
        "\n",
        "print(np.sum(W1_reshape * X_0))\n",
        "print(np.sum(W1_reshape * X_1))\n",
        "\n",
        "print(np.sum(W2_reshape * X_0))\n",
        "print(np.sum(W2_reshape * X_1))"
      ],
      "execution_count": 0,
      "outputs": [
        {
          "output_type": "stream",
          "text": [
            "6.992524764684276\n",
            "-7.31892144610174\n",
            "7.034859091188991\n",
            "-7.298921906185569\n"
          ],
          "name": "stdout"
        },
        {
          "output_type": "display_data",
          "data": {
            "image/png": "[encoded data removed]",
            "text/plain": [
              "<Figure size 432x288 with 1 Axes>"
            ]
          },
          "metadata": {
            "tags": []
          }
        },
        {
          "output_type": "display_data",
          "data": {
            "image/png": "[encoded data removed]",
            "text/plain": [
              "<Figure size 432x288 with 1 Axes>"
            ]
          },
          "metadata": {
            "tags": []
          }
        },
        {
          "output_type": "display_data",
          "data": {
            "image/png": "[encoded data removed]",
            "text/plain": [
              "<Figure size 432x288 with 1 Axes>"
            ]
          },
          "metadata": {
            "tags": []
          }
        },
        {
          "output_type": "display_data",
          "data": {
            "image/png": "[encoded data removed]",
            "text/plain": [
              "<Figure size 432x288 with 1 Axes>"
            ]
          },
          "metadata": {
            "tags": []
          }
        }
      ]
    },
    {
      "cell_type": "code",
      "metadata": {
        "id": "WQPe0QL3d4A-",
        "colab_type": "code",
        "outputId": "13790679-3bd2-47f8-c150-3da1e6f05c49",
        "colab": {
          "base_uri": "https://localhost:8080/",
          "height": 34
        }
      },
      "source": [
        "def sigmoid(x):\n",
        "  return 1/ (1+ np.exp(-x))\n",
        "\n",
        "sigmoid(np.sum(W1_reshape * X_1))"
      ],
      "execution_count": 0,
      "outputs": [
        {
          "output_type": "execute_result",
          "data": {
            "text/plain": [
              "0.0022549354381310093"
            ]
          },
          "metadata": {
            "tags": []
          },
          "execution_count": 111
        }
      ]
    },
    {
      "cell_type": "code",
      "metadata": {
        "id": "vw70O2IwtZRQ",
        "colab_type": "code",
        "outputId": "84b5515d-1f7a-446c-b891-a1a202dd4751",
        "colab": {
          "base_uri": "https://localhost:8080/",
          "height": 34
        }
      },
      "source": [
        "# Test performance on the entire test set\n",
        "correct = 0\n",
        "total = 0\n",
        "with torch.no_grad():\n",
        "  for data in testloader1:\n",
        "    images, labels = data\n",
        "    outputs = model(images)\n",
        "#     _, predicted = torch.max(outputs, 1)\n",
        "    predicted = outputs[0] > 0.5\n",
        "#     predicted = predicted.view(predicted.size(0))\n",
        "    total += labels.size(0)\n",
        "    matches = 0\n",
        "    for i in range(len(predicted)):\n",
        "      if predicted[i].item() == labels[i].item():\n",
        "        matches += 1\n",
        "    correct += matches#(predicted == labels).sum().item()\n",
        "  print('Accuracy of the network on the entire data set is : %d %%' %(100 * correct/ total))"
      ],
      "execution_count": 183,
      "outputs": [
        {
          "output_type": "stream",
          "text": [
            "Accuracy of the network on the entire data set is : 100 %\n"
          ],
          "name": "stdout"
        }
      ]
    },
    {
      "cell_type": "code",
      "metadata": {
        "id": "ynBtC5Pz5hgQ",
        "colab_type": "code",
        "outputId": "49dcfa46-2d87-4325-e657-6d420db5e0ca",
        "colab": {
          "base_uri": "https://localhost:8080/",
          "height": 34
        }
      },
      "source": [
        "# Compute the similarity between the weight vectors\n",
        "np.sqrt(sl(model.fc3.weight, model.fc1.weight)[0].item())"
      ],
      "execution_count": 192,
      "outputs": [
        {
          "output_type": "execute_result",
          "data": {
            "text/plain": [
              "4.540383815765381e-05"
            ]
          },
          "metadata": {
            "tags": []
          },
          "execution_count": 192
        }
      ]
    },
    {
      "cell_type": "code",
      "metadata": {
        "id": "HFbUXRVGjvXl",
        "colab_type": "code",
        "colab": {}
      },
      "source": [
        "# For 28*4 patch and 2 classifiers (odd v even)\n",
        "train_m1 = [1, 1, 1, 1, 1, 1, 1, 1, 1, 1, 1]\n",
        "train_m2 = [1, 1, 1, 1, 1, 1, 1, 1, 1, 1, 1]\n",
        "test_m1 = [0.84, 0.79, 0.79, 0.79, 0.79, 0.83, 0.83, 0.75, 0.72, 0.68, 0.75]\n",
        "test_m2 = [0.83, 0.8, 0.8, 0.81, 0.82, 0.70, 0.81, 0.82, 0.79, 0.77, 0.77]\n",
        "test1_m1 = [1, 1, 1, 1, 1, 1, 1, 1, 1, 1, 1]\n",
        "test1_m2 = [1, 1, 1, 1, 1, 1, 1, 1, 1, 1, 1]\n",
        "dot_prod = [0.92252, 0.01009, 0.000873, 8.88e-05, 2.96e-06, 6.76e-05,0.00539,0.000219, 6.30e-05, 2.92e-06, 5.58e-08]\n",
        "lmbda_list = [0.000001, 0.0001, 0.001, 0.01, 0.1, 0.5, 1, 5, 10, 25, 50]"
      ],
      "execution_count": 0,
      "outputs": []
    },
    {
      "cell_type": "code",
      "metadata": {
        "id": "FbZunrLbx761",
        "colab_type": "code",
        "colab": {
          "base_uri": "https://localhost:8080/",
          "height": 753
        },
        "outputId": "affee5b1-833f-470b-c0fc-91b4242c4102"
      },
      "source": [
        "import matplotlib.pyplot as plt\n",
        "\n",
        "plt.plot(lmbda_list, train_m1, label = 'train_acc1')\n",
        "plt.plot(lmbda_list, train_m2, label = 'train_acc2')\n",
        "plt.plot(lmbda_list, test_m1, label = 'test_acc1')\n",
        "plt.plot(lmbda_list, test_m2, label = 'test_acc2')\n",
        "plt.plot(lmbda_list, test1_m1, label = 'test1_acc1')\n",
        "plt.plot(lmbda_list, test1_m1, label = 'test1_acc2')\n",
        "plt.xticks([0.000001, 0.0001, 0.001, 0.01, 0.1, 0.5, 1, 5, 10, 25, 50])\n",
        "\n",
        "plt.xlabel('Lambda')\n",
        "plt.ylabel('Classification accuracy')\n",
        "plt.legend()\n",
        "plt.figure()\n",
        "plt.plot(lmbda_list[1:], dot_prod[1:], label = 'dot product')\n",
        "plt.xlabel('lambda')\n",
        "plt.ylabel('absolute dot product')\n",
        "plt.xticks([0.000001, 0.0001, 0.001, 0.01, 0.1, 0.5, 1, 5, 10, 25, 50])\n"
      ],
      "execution_count": 225,
      "outputs": [
        {
          "output_type": "execute_result",
          "data": {
            "text/plain": [
              "([<matplotlib.axis.XTick at 0x7f8617c0d780>,\n",
              "  <matplotlib.axis.XTick at 0x7f8617c0d0f0>,\n",
              "  <matplotlib.axis.XTick at 0x7f8617c041d0>,\n",
              "  <matplotlib.axis.XTick at 0x7f8617c157b8>,\n",
              "  <matplotlib.axis.XTick at 0x7f8617c15c88>,\n",
              "  <matplotlib.axis.XTick at 0x7f8617c17198>,\n",
              "  <matplotlib.axis.XTick at 0x7f8617c17668>,\n",
              "  <matplotlib.axis.XTick at 0x7f8617c17b38>,\n",
              "  <matplotlib.axis.XTick at 0x7f8617c17a90>,\n",
              "  <matplotlib.axis.XTick at 0x7f8617c15d68>,\n",
              "  <matplotlib.axis.XTick at 0x7f8617c1a358>],\n",
              " <a list of 11 Text xticklabel objects>)"
            ]
          },
          "metadata": {
            "tags": []
          },
          "execution_count": 225
        },
        {
          "output_type": "display_data",
          "data": {
            "image/png": "[encoded data removed]",
            "text/plain": [
              "<Figure size 432x288 with 1 Axes>"
            ]
          },
          "metadata": {
            "tags": []
          }
        },
        {
          "output_type": "display_data",
          "data": {
            "image/png": "[encoded data removed]",
            "text/plain": [
              "<Figure size 432x288 with 1 Axes>"
            ]
          },
          "metadata": {
            "tags": []
          }
        }
      ]
    },
    {
      "cell_type": "code",
      "metadata": {
        "id": "xRotS2mDy28U",
        "colab_type": "code",
        "colab": {}
      },
      "source": [
        "# For 28*10 patch and 2 classifiers (odd v even)\n",
        "train_m1 = [1, 1, 1, 1, 1, 1, 1, 1, 1, 1, 1]\n",
        "train_m2 = [1, 1, 1, 1, 1, 1, 1, 1, 1, 1, 1]\n",
        "test_m1 = [0.75, 0.54, 0.74, 0.65, 0.74, 0.69, 0.70, 0.68, 0.57, 0.68, 0.72]\n",
        "test_m2 = [0.68, 0.71, 0.57, 0.57, 0.70, 0.61, 0.53, 0.50, 0.72, 0.73, 0.69]\n",
        "test1_m1 = [1, 1, 1, 1, 1, 1, 1, 1, 1, 1, 1]\n",
        "test1_m2 = [1, 1, 1, 1, 1, 1, 1, 1, 1, 1, 1]\n",
        "dot_prod = [0.48, 0.0025,0.00022 , 3.087e-05, 5.83e-06, 0.000347, 0.00047, 1.079e-05, 0.00048, 3.29e-06, 1.004e-05]\n",
        "lmbda_list = [0.000001, 0.0001, 0.001, 0.01, 0.1, 0.5, 1, 5, 10, 25, 50]"
      ],
      "execution_count": 0,
      "outputs": []
    },
    {
      "cell_type": "code",
      "metadata": {
        "id": "RHKDhsfkzNmr",
        "colab_type": "code",
        "colab": {
          "base_uri": "https://localhost:8080/",
          "height": 753
        },
        "outputId": "d45cb344-f69c-44b1-a70d-feb39c5af323"
      },
      "source": [
        "import matplotlib.pyplot as plt\n",
        "\n",
        "plt.plot(lmbda_list, train_m1, label = 'train_acc1')\n",
        "plt.plot(lmbda_list, train_m2, label = 'train_acc2')\n",
        "plt.plot(lmbda_list, test_m1, label = 'test_acc1')\n",
        "plt.plot(lmbda_list, test_m2, label = 'test_acc2')\n",
        "plt.plot(lmbda_list, test1_m1, label = 'test1_acc1')\n",
        "plt.plot(lmbda_list, test1_m1, label = 'test1_acc2')\n",
        "plt.xlabel('Lambda')\n",
        "plt.ylabel('Classification accuracy')\n",
        "plt.xticks([0.000001, 0.0001, 0.001, 0.01, 0.1, 0.5, 1, 5, 10, 25, 50])\n",
        "plt.legend()\n",
        "plt.figure()\n",
        "plt.plot(lmbda_list[1:], dot_prod[1:], label = 'dot product')\n",
        "plt.xlabel('lambda')\n",
        "plt.ylabel('absolute dot product')\n",
        "plt.xticks([0.000001, 0.0001, 0.001, 0.01, 0.1, 0.5, 1, 5, 10, 25, 50])\n"
      ],
      "execution_count": 227,
      "outputs": [
        {
          "output_type": "execute_result",
          "data": {
            "text/plain": [
              "([<matplotlib.axis.XTick at 0x7f861cc829e8>,\n",
              "  <matplotlib.axis.XTick at 0x7f8617c34630>,\n",
              "  <matplotlib.axis.XTick at 0x7f8617c34908>,\n",
              "  <matplotlib.axis.XTick at 0x7f8617c3d198>,\n",
              "  <matplotlib.axis.XTick at 0x7f8617c3d630>,\n",
              "  <matplotlib.axis.XTick at 0x7f8617c3db00>,\n",
              "  <matplotlib.axis.XTick at 0x7f8617c3dd30>,\n",
              "  <matplotlib.axis.XTick at 0x7f8617c034e0>,\n",
              "  <matplotlib.axis.XTick at 0x7f8617c039b0>,\n",
              "  <matplotlib.axis.XTick at 0x7f8617c03e80>,\n",
              "  <matplotlib.axis.XTick at 0x7f8617c03978>],\n",
              " <a list of 11 Text xticklabel objects>)"
            ]
          },
          "metadata": {
            "tags": []
          },
          "execution_count": 227
        },
        {
          "output_type": "display_data",
          "data": {
            "image/png": "[encoded data removed]",
            "text/plain": [
              "<Figure size 432x288 with 1 Axes>"
            ]
          },
          "metadata": {
            "tags": []
          }
        },
        {
          "output_type": "display_data",
          "data": {
            "image/png": "[encoded data removed]",
            "text/plain": [
              "<Figure size 432x288 with 1 Axes>"
            ]
          },
          "metadata": {
            "tags": []
          }
        }
      ]
    },
    {
      "cell_type": "code",
      "metadata": {
        "id": "yaO9mMHpi_tY",
        "colab_type": "code",
        "colab": {}
      },
      "source": [
        "# For 28*4 patch and 3 classifiers (odd v even)\n",
        "train_m1 = [1, 1, 1, 1, 1, 1, 1, 1, 1, 1, 1]\n",
        "train_m2 = [1, 1, 1, 1, 1, 1, 1, 1, 1, 1, 1]\n",
        "train_m3 = [1, 1, 1, 1, 1, 1, 1, 1, 1, 1, 1]\n",
        "\n",
        "test_m1 = [0.84, 0.78, 0.77, 0.78, 0.79, 0.77, 0.74, 0.79, 0.69, 0.74, 0.60]\n",
        "test_m2 = [0.83, 0.69, 0.83, 0.79, 0.74, 0.81, 0.80, 0.73, 0.76, 0.69, 0.73]\n",
        "test_m3 = [0.81, 0.75, 0.76, 0.82, 0.77, 0.77, 0.78, 0.74, 0.77, 0.69, 0.61]\n",
        "\n",
        "test1_m1 = [1, 1, 1, 1, 1, 1, 1, 1, 1, 1, 1]\n",
        "test1_m2 = [1, 1, 1, 1, 1, 1, 1, 1, 1, 1, 1]\n",
        "test1_m3 = [1, 1, 1, 1, 1, 1, 1, 1, 1, 1, 1]\n",
        "\n",
        "dot_prod12 = [0.923, 0.0078, 0.00083,6.492e-05 ,7.215e-06, 0.00010, 0.0018, 0.0002, 0.00091, 0.0002, 4.62e-05]\n",
        "dot_prod13 = [0.935, 0.0089, 0.00069,4.540e-05 ,7.10e-06, 0.00014,0.0009257, 1.202e-05, 0.00137, 0.00014, 0.000101]\n",
        "dot_prod23 = [0.899, 0.0081, 0.00072,5.58e-05 ,5.930e-06,5.587e-05, 0.00039, 3.720e-05, 0.0025, 4.77e-05, 2.591e-05]\n",
        "\n",
        "\n",
        "lmbda_list = [0.000001, 0.0001, 0.001, 0.01, 0.1, 0.5, 1, 5, 10, 25, 50]"
      ],
      "execution_count": 0,
      "outputs": []
    },
    {
      "cell_type": "code",
      "metadata": {
        "id": "UHKIJtNPzYfH",
        "colab_type": "code",
        "colab": {
          "base_uri": "https://localhost:8080/",
          "height": 317
        },
        "outputId": "06da19b2-7a5d-48fd-d5ff-57d5e4af378b"
      },
      "source": [
        "import matplotlib.pyplot as plt\n",
        "\n",
        "plt.plot(lmbda_list, train_m1, label = 'train_acc1')\n",
        "plt.plot(lmbda_list, train_m2, label = 'train_acc2')\n",
        "plt.plot(lmbda_list, train_m3, label = 'train_acc3')\n",
        "\n",
        "plt.plot(lmbda_list, test_m1, label = 'test_acc1')\n",
        "plt.plot(lmbda_list, test_m2, label = 'test_acc2')\n",
        "plt.plot(lmbda_list, test_m3, label = 'test_acc3')\n",
        "\n",
        "plt.plot(lmbda_list, test1_m1, label = 'test1_acc1')\n",
        "plt.plot(lmbda_list, test1_m1, label = 'test1_acc2')\n",
        "plt.plot(lmbda_list, test1_m3, label = 'test1_acc3')\n",
        "\n",
        "plt.xlabel('Lambda')\n",
        "plt.xticks([0.000001, 0.0001, 0.001, 0.01, 0.1, 0.5, 1, 5, 10, 25, 50])\n",
        "\n",
        "plt.ylabel('Classification accuracy')\n",
        "plt.legend()\n",
        "plt.figure()"
      ],
      "execution_count": 229,
      "outputs": [
        {
          "output_type": "execute_result",
          "data": {
            "text/plain": [
              "<Figure size 432x288 with 0 Axes>"
            ]
          },
          "metadata": {
            "tags": []
          },
          "execution_count": 229
        },
        {
          "output_type": "display_data",
          "data": {
            "image/png": "[encoded data removed]",
            "text/plain": [
              "<Figure size 432x288 with 1 Axes>"
            ]
          },
          "metadata": {
            "tags": []
          }
        },
        {
          "output_type": "display_data",
          "data": {
            "text/plain": [
              "<Figure size 432x288 with 0 Axes>"
            ]
          },
          "metadata": {
            "tags": []
          }
        }
      ]
    },
    {
      "cell_type": "code",
      "metadata": {
        "id": "2gJhSsyH1Oh5",
        "colab_type": "code",
        "colab": {
          "base_uri": "https://localhost:8080/",
          "height": 300
        },
        "outputId": "bbde0c8a-2f26-43d2-a0e6-12ab1041c99f"
      },
      "source": [
        "plt.plot(lmbda_list[1:], dot_prod12[1:], label = 'dot product 12')\n",
        "plt.xlabel('lambda')\n",
        "plt.ylabel('absolute dot product 12')\n",
        "plt.xticks([0.0001, 0.001, 0.01, 0.1, 0.5, 1, 5, 10, 25, 50])\n",
        "plt.plot(lmbda_list[1:], dot_prod23[1:], label = 'dot product 23')\n",
        "plt.xlabel('lambda')\n",
        "plt.ylabel('absolute dot product 23')\n",
        "plt.xticks([0.0001, 0.001, 0.01, 0.1, 0.5, 1, 5, 10, 25, 50])\n",
        "plt.plot(lmbda_list[1:], dot_prod13[1:], label = 'dot product 13')\n",
        "plt.xlabel('lambda')\n",
        "plt.ylabel('absolute dot product 13')\n",
        "plt.xticks([0.0001, 0.001, 0.01, 0.1, 0.5, 1, 5, 10, 25, 50])\n",
        "plt.legend()"
      ],
      "execution_count": 223,
      "outputs": [
        {
          "output_type": "execute_result",
          "data": {
            "text/plain": [
              "<matplotlib.legend.Legend at 0x7f861d557da0>"
            ]
          },
          "metadata": {
            "tags": []
          },
          "execution_count": 223
        },
        {
          "output_type": "display_data",
          "data": {
            "image/png": "[encoded data removed]",
            "text/plain": [
              "<Figure size 432x288 with 1 Axes>"
            ]
          },
          "metadata": {
            "tags": []
          }
        }
      ]
    }
  ]
}